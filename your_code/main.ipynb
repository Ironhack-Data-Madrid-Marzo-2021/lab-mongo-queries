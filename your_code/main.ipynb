{
 "cells": [
  {
   "cell_type": "markdown",
   "metadata": {},
   "source": [
    "# Advanced Querying Mongo"
   ]
  },
  {
   "cell_type": "markdown",
   "metadata": {},
   "source": [
    "Importing libraries and setting up connection"
   ]
  },
  {
   "cell_type": "code",
   "execution_count": 1,
   "metadata": {},
   "outputs": [],
   "source": [
    "from pymongo import MongoClient\n",
    "client = MongoClient(\"localhost:27017\")"
   ]
  },
  {
   "cell_type": "code",
   "execution_count": 9,
   "metadata": {},
   "outputs": [
    {
     "data": {
      "text/plain": [
       "['Prueba',\n",
       " 'QuoteAPI',\n",
       " 'Quotes',\n",
       " 'Species',\n",
       " 'admin',\n",
       " 'companies',\n",
       " 'config',\n",
       " 'final',\n",
       " 'geo',\n",
       " 'lab',\n",
       " 'labflask',\n",
       " 'local']"
      ]
     },
     "execution_count": 9,
     "metadata": {},
     "output_type": "execute_result"
    }
   ],
   "source": [
    "client.list_database_names()"
   ]
  },
  {
   "cell_type": "code",
   "execution_count": 14,
   "metadata": {},
   "outputs": [
    {
     "data": {
      "text/plain": [
       "['companies', 'offices']"
      ]
     },
     "execution_count": 14,
     "metadata": {},
     "output_type": "execute_result"
    }
   ],
   "source": [
    "db = client.get_database(\"companies\")\n",
    "db.list_collection_names()"
   ]
  },
  {
   "cell_type": "code",
   "execution_count": 15,
   "metadata": {},
   "outputs": [],
   "source": [
    "c = db.get_collection(\"companies\")"
   ]
  },
  {
   "cell_type": "markdown",
   "metadata": {},
   "source": [
    "### 1. All the companies whose name match 'Babelgum'. Retrieve only their `name` field."
   ]
  },
  {
   "cell_type": "code",
   "execution_count": 16,
   "metadata": {},
   "outputs": [
    {
     "data": {
      "text/plain": [
       "[{'_id': ObjectId('52cdef7c4bab8bd675297da0'), 'name': 'Babelgum'}]"
      ]
     },
     "execution_count": 16,
     "metadata": {},
     "output_type": "execute_result"
    }
   ],
   "source": [
    "condicion = {\"name\":\"Babelgum\"}\n",
    "proj = {\"name\":1}\n",
    "\n",
    "list(c.find(condicion, proj))"
   ]
  },
  {
   "cell_type": "markdown",
   "metadata": {},
   "source": [
    "### 2. All the companies that have more than 5000 employees. Limit the search to 20 companies and sort them by **number of employees**."
   ]
  },
  {
   "cell_type": "code",
   "execution_count": 113,
   "metadata": {},
   "outputs": [
    {
     "data": {
      "text/plain": [
       "[{'_id': ObjectId('52cdef7c4bab8bd675297e49'),\n",
       "  'name': 'Nintendo',\n",
       "  'number_of_employees': 5080},\n",
       " {'_id': ObjectId('52cdef7e4bab8bd67529ba2e'),\n",
       "  'name': 'Hexaware Technologies',\n",
       "  'number_of_employees': 5200},\n",
       " {'_id': ObjectId('52cdef7c4bab8bd675297d8e'),\n",
       "  'name': 'Facebook',\n",
       "  'number_of_employees': 5299},\n",
       " {'_id': ObjectId('52cdef7e4bab8bd67529a453'),\n",
       "  'name': 'OpenText',\n",
       "  'number_of_employees': 5300},\n",
       " {'_id': ObjectId('52cdef7e4bab8bd67529b9dd'),\n",
       "  'name': 'CPM Braxis',\n",
       "  'number_of_employees': 5400},\n",
       " {'_id': ObjectId('52cdef7d4bab8bd675298b89'),\n",
       "  'name': 'LSI',\n",
       "  'number_of_employees': 5400},\n",
       " {'_id': ObjectId('52cdef7e4bab8bd67529b691'),\n",
       "  'name': 'Microchip Technologies',\n",
       "  'number_of_employees': 5500},\n",
       " {'_id': ObjectId('52cdef7e4bab8bd67529a84c'),\n",
       "  'name': 'Mediaset',\n",
       "  'number_of_employees': 5729},\n",
       " {'_id': ObjectId('52cdef7d4bab8bd675299f38'),\n",
       "  'name': 'Mindray Medical International',\n",
       "  'number_of_employees': 5763},\n",
       " {'_id': ObjectId('52cdef7d4bab8bd675298b6f'),\n",
       "  'name': 'Dentsu',\n",
       "  'number_of_employees': 6000},\n",
       " {'_id': ObjectId('52cdef7e4bab8bd67529bd33'),\n",
       "  'name': 'Atmel',\n",
       "  'number_of_employees': 6000},\n",
       " {'_id': ObjectId('52cdef7e4bab8bd67529aeec'),\n",
       "  'name': 'Tata Communications',\n",
       "  'number_of_employees': 6000},\n",
       " {'_id': ObjectId('52cdef7c4bab8bd675298760'),\n",
       "  'name': 'Baidu',\n",
       "  'number_of_employees': 6000},\n",
       " {'_id': ObjectId('52cdef7d4bab8bd675299a81'),\n",
       "  'name': 'Acxiom',\n",
       "  'number_of_employees': 6200},\n",
       " {'_id': ObjectId('52cdef7d4bab8bd6752996f7'),\n",
       "  'name': 'Acxiom',\n",
       "  'number_of_employees': 6200},\n",
       " {'_id': ObjectId('52cdef7d4bab8bd675298e43'),\n",
       "  'name': 'SRA International',\n",
       "  'number_of_employees': 6400},\n",
       " {'_id': ObjectId('52cdef7f4bab8bd67529bd50'),\n",
       "  'name': \"Moody's\",\n",
       "  'number_of_employees': 6800},\n",
       " {'_id': ObjectId('52cdef7f4bab8bd67529c364'),\n",
       "  'name': 'ManTech',\n",
       "  'number_of_employees': 7000},\n",
       " {'_id': ObjectId('52cdef7c4bab8bd675297e5d'),\n",
       "  'name': 'Adobe Systems',\n",
       "  'number_of_employees': 7173},\n",
       " {'_id': ObjectId('52cdef7e4bab8bd67529ac9c'),\n",
       "  'name': 'Broadcom',\n",
       "  'number_of_employees': 7400}]"
      ]
     },
     "execution_count": 113,
     "metadata": {},
     "output_type": "execute_result"
    }
   ],
   "source": [
    "condicion = {\"number_of_employees\": {\"$gt\":5000}}\n",
    "proj = {\"name\":1, \"number_of_employees\":1}\n",
    "\n",
    "list(c.find(condicion,proj).sort(\"number_of_employees\").limit(20))"
   ]
  },
  {
   "cell_type": "markdown",
   "metadata": {},
   "source": [
    "### 3. All the companies founded between 2000 and 2005, both years included. Retrieve only the `name` and `founded_year` fields."
   ]
  },
  {
   "cell_type": "code",
   "execution_count": 33,
   "metadata": {},
   "outputs": [
    {
     "data": {
      "text/plain": [
       "[{'_id': ObjectId('52cdef7c4bab8bd675297d8a'),\n",
       "  'name': 'Wetpaint',\n",
       "  'founded_year': 2005},\n",
       " {'_id': ObjectId('52cdef7c4bab8bd675297d8c'),\n",
       "  'name': 'Zoho',\n",
       "  'founded_year': 2005},\n",
       " {'_id': ObjectId('52cdef7c4bab8bd675297d8d'),\n",
       "  'name': 'Digg',\n",
       "  'founded_year': 2004}]"
      ]
     },
     "execution_count": 33,
     "metadata": {},
     "output_type": "execute_result"
    }
   ],
   "source": [
    "cond1 = {\"founded_year\":{\"$gte\":2000}}\n",
    "cond2 = {\"founded_year\":{\"$lte\":2005}}\n",
    "proj = {\"name\":1, \"founded_year\":1}\n",
    "\n",
    "list(c.find({\"$and\": [cond1,cond2]}, proj).limit(3))"
   ]
  },
  {
   "cell_type": "markdown",
   "metadata": {},
   "source": [
    "### 4. All the companies that had a Valuation Amount of more than 100.000.000 and have been founded before 2010. Retrieve only the `name` and `ipo` fields."
   ]
  },
  {
   "cell_type": "code",
   "execution_count": 34,
   "metadata": {},
   "outputs": [
    {
     "data": {
      "text/plain": [
       "[{'_id': ObjectId('52cdef7c4bab8bd675297d8e'),\n",
       "  'name': 'Facebook',\n",
       "  'ipo': {'valuation_amount': 104000000000,\n",
       "   'valuation_currency_code': 'USD',\n",
       "   'pub_year': 2012,\n",
       "   'pub_month': 5,\n",
       "   'pub_day': 18,\n",
       "   'stock_symbol': 'NASDAQ:FB'}},\n",
       " {'_id': ObjectId('52cdef7c4bab8bd675297d94'),\n",
       "  'name': 'Twitter',\n",
       "  'ipo': {'valuation_amount': 18100000000,\n",
       "   'valuation_currency_code': 'USD',\n",
       "   'pub_year': 2013,\n",
       "   'pub_month': 11,\n",
       "   'pub_day': 7,\n",
       "   'stock_symbol': 'NYSE:TWTR'}},\n",
       " {'_id': ObjectId('52cdef7c4bab8bd675297de0'),\n",
       "  'name': 'Yelp',\n",
       "  'ipo': {'valuation_amount': 1300000000,\n",
       "   'valuation_currency_code': 'USD',\n",
       "   'pub_year': 2012,\n",
       "   'pub_month': 3,\n",
       "   'pub_day': 2,\n",
       "   'stock_symbol': 'NYSE:YELP'}}]"
      ]
     },
     "execution_count": 34,
     "metadata": {},
     "output_type": "execute_result"
    }
   ],
   "source": [
    "q1 = {\"ipo.valuation_amount\":{\"$gt\":100000000}}\n",
    "q2 = {\"founded_year\":{\"$lte\":2010}}\n",
    "proj = {\"name\":1, \"ipo\":1}\n",
    "\n",
    "list(c.find({\"$and\": [q1, q2]}, proj).limit(3))"
   ]
  },
  {
   "cell_type": "markdown",
   "metadata": {},
   "source": [
    "### 5. All the companies that have less than 1000 employees and have been founded before 2005. Order them by the number of employees and limit the search to 10 companies."
   ]
  },
  {
   "cell_type": "code",
   "execution_count": 85,
   "metadata": {},
   "outputs": [
    {
     "data": {
      "text/plain": [
       "[{'_id': ObjectId('52cdef7c4bab8bd675297d93'),\n",
       "  'name': 'Fox Interactive Media',\n",
       "  'number_of_employees': 0},\n",
       " {'_id': ObjectId('52cdef7c4bab8bd675297e12'),\n",
       "  'name': 'Ticketmaster',\n",
       "  'number_of_employees': 0},\n",
       " {'_id': ObjectId('52cdef7c4bab8bd675297eba'),\n",
       "  'name': 'MindTouch',\n",
       "  'number_of_employees': 0},\n",
       " {'_id': ObjectId('52cdef7c4bab8bd675297dbc'),\n",
       "  'name': 'Skype',\n",
       "  'number_of_employees': 0},\n",
       " {'_id': ObjectId('52cdef7c4bab8bd675297dbd'),\n",
       "  'name': 'YouTube',\n",
       "  'number_of_employees': 0},\n",
       " {'_id': ObjectId('52cdef7c4bab8bd675297e2e'),\n",
       "  'name': 'stylediary',\n",
       "  'number_of_employees': 0},\n",
       " {'_id': ObjectId('52cdef7c4bab8bd675297f89'),\n",
       "  'name': 'Attributor',\n",
       "  'number_of_employees': 0},\n",
       " {'_id': ObjectId('52cdef7c4bab8bd675297f20'),\n",
       "  'name': 'Yeigo',\n",
       "  'number_of_employees': 0},\n",
       " {'_id': ObjectId('52cdef7c4bab8bd675297ee8'),\n",
       "  'name': 'PartnerUp',\n",
       "  'number_of_employees': 0},\n",
       " {'_id': ObjectId('52cdef7c4bab8bd675297df7'),\n",
       "  'name': 'Bebo',\n",
       "  'number_of_employees': 0}]"
      ]
     },
     "execution_count": 85,
     "metadata": {},
     "output_type": "execute_result"
    }
   ],
   "source": [
    "# Utilizo el proj para que solo me de los nombres y no me saque todos los datos.\n",
    "proj = {\"name\":1,\"number_of_employees\":1}\n",
    "\n",
    "q1 = {\"number_of_employees\":{\"$lt\":1000}}\n",
    "q2 = {\"founded_year\":{\"$lte\":2005}}\n",
    "\n",
    "list(c.find({\"$and\": [q1, q2]}, proj).sort(\"number_of_employees\").limit(10))"
   ]
  },
  {
   "cell_type": "markdown",
   "metadata": {},
   "source": [
    "### 6. All the companies that don't include the `partners` field."
   ]
  },
  {
   "cell_type": "code",
   "execution_count": 82,
   "metadata": {},
   "outputs": [
    {
     "data": {
      "text/plain": [
       "[{'_id': ObjectId('52cdef7c4bab8bd675297d8a'), 'name': 'Wetpaint'},\n",
       " {'_id': ObjectId('52cdef7c4bab8bd675297d8b'), 'name': 'AdventNet'},\n",
       " {'_id': ObjectId('52cdef7c4bab8bd675297d8c'), 'name': 'Zoho'}]"
      ]
     },
     "execution_count": 82,
     "metadata": {},
     "output_type": "execute_result"
    }
   ],
   "source": [
    "proj = {\"name\":1}\n",
    "\n",
    "list(c.find({\"partners\":{\"$exists\":True}}, proj).limit(3))\n",
    "# Utilizo el proj para que solo me de los nombres y no me saque todos los datos."
   ]
  },
  {
   "cell_type": "markdown",
   "metadata": {},
   "source": [
    "### 7. All the companies that have a null type of value on the `category_code` field."
   ]
  },
  {
   "cell_type": "code",
   "execution_count": 116,
   "metadata": {},
   "outputs": [
    {
     "data": {
      "text/plain": [
       "[]"
      ]
     },
     "execution_count": 116,
     "metadata": {},
     "output_type": "execute_result"
    }
   ],
   "source": [
    "q1 = {\"category_code\": \"null\"}\n",
    "\n",
    "list(c.find(q1).limit(3))"
   ]
  },
  {
   "cell_type": "markdown",
   "metadata": {},
   "source": [
    "### 8. All the companies that have at least 100 employees but less than 1000. Retrieve only the `name` and `number of employees` fields."
   ]
  },
  {
   "cell_type": "code",
   "execution_count": 80,
   "metadata": {},
   "outputs": [
    {
     "data": {
      "text/plain": [
       "[{'_id': ObjectId('52cdef7c4bab8bd675297e44'),\n",
       "  'name': 'hi5',\n",
       "  'number_of_employees': 100},\n",
       " {'_id': ObjectId('52cdef7c4bab8bd675297e27'),\n",
       "  'name': 'Simply Hired',\n",
       "  'number_of_employees': 100},\n",
       " {'_id': ObjectId('52cdef7c4bab8bd675297e19'),\n",
       "  'name': 'Redfin',\n",
       "  'number_of_employees': 100}]"
      ]
     },
     "execution_count": 80,
     "metadata": {},
     "output_type": "execute_result"
    }
   ],
   "source": [
    "q1 = {\"number_of_employees\":{\"$gte\":100}}\n",
    "q2 = {\"number_of_employees\":{\"$lte\":1000}}\n",
    "proj = {\"name\":1,\"number_of_employees\":1}\n",
    "\n",
    "list(c.find({\"$and\": [q1, q2]}, proj).sort(\"number_of_employees\").limit(3))\n",
    "# Utilizo el proj para que solo me de los nombres y no me saque todos los datos."
   ]
  },
  {
   "cell_type": "markdown",
   "metadata": {},
   "source": [
    "### 9. Order all the companies by their IPO price in a descending order."
   ]
  },
  {
   "cell_type": "code",
   "execution_count": 79,
   "metadata": {},
   "outputs": [
    {
     "data": {
      "text/plain": [
       "[]"
      ]
     },
     "execution_count": 79,
     "metadata": {},
     "output_type": "execute_result"
    }
   ],
   "source": [
    "list(c.find({\"ipo.price\":{\"$exists\":True}}).sort(\"ipo.price\", -1).limit(3))\n",
    "# Utilizo el proj para que solo me de los nombres y no me saque todos los datos."
   ]
  },
  {
   "cell_type": "markdown",
   "metadata": {},
   "source": [
    "### 10. Retrieve the 10 companies with more employees, order by the `number of employees`"
   ]
  },
  {
   "cell_type": "code",
   "execution_count": 78,
   "metadata": {},
   "outputs": [
    {
     "data": {
      "text/plain": [
       "[{'_id': ObjectId('52cdef7c4bab8bd675297d92'), 'name': 'Flektor'},\n",
       " {'_id': ObjectId('52cdef7c4bab8bd675297d8f'), 'name': 'Omnidrive'},\n",
       " {'_id': ObjectId('52cdef7c4bab8bd675297d90'), 'name': 'Postini'}]"
      ]
     },
     "execution_count": 78,
     "metadata": {},
     "output_type": "execute_result"
    }
   ],
   "source": [
    "list(c.find({\"number_of_employees\":{\"$exists\":True}},{\"name\":1}).sort(\"number_of_employees\").limit(3))\n",
    "# Utilizo el proj para que solo me de los nombres y no me saque todos los datos."
   ]
  },
  {
   "cell_type": "markdown",
   "metadata": {},
   "source": [
    "### 11. All the companies founded on the second semester of the year. Limit your search to 1000 companies."
   ]
  },
  {
   "cell_type": "code",
   "execution_count": 77,
   "metadata": {},
   "outputs": [
    {
     "data": {
      "text/plain": [
       "[{'_id': ObjectId('52cdef7c4bab8bd675297d8a'), 'name': 'Wetpaint'},\n",
       " {'_id': ObjectId('52cdef7c4bab8bd675297d8c'), 'name': 'Zoho'},\n",
       " {'_id': ObjectId('52cdef7c4bab8bd675297d8d'), 'name': 'Digg'}]"
      ]
     },
     "execution_count": 77,
     "metadata": {},
     "output_type": "execute_result"
    }
   ],
   "source": [
    "q1 = {\"founded_month\":{\"$gte\":6}}\n",
    "proj = {\"name\":1}\n",
    "\n",
    "list(c.find(q1,proj).limit(3))\n",
    "# Utilizo el proj para que solo me de los nombres y no me saque todos los datos."
   ]
  },
  {
   "cell_type": "markdown",
   "metadata": {},
   "source": [
    "### 12. All the companies founded before 2000 that have an acquisition amount of more than 10.000.00"
   ]
  },
  {
   "cell_type": "code",
   "execution_count": 76,
   "metadata": {},
   "outputs": [
    {
     "data": {
      "text/plain": [
       "[{'_id': ObjectId('52cdef7c4bab8bd675297d90'), 'name': 'Postini'},\n",
       " {'_id': ObjectId('52cdef7c4bab8bd675297deb'), 'name': 'SideStep'},\n",
       " {'_id': ObjectId('52cdef7c4bab8bd675297e2c'), 'name': 'Recipezaar'}]"
      ]
     },
     "execution_count": 76,
     "metadata": {},
     "output_type": "execute_result"
    }
   ],
   "source": [
    "q1 = {\"founded_year\":{\"$lt\":2000}}\n",
    "q2 = {\"acquisition.price_amount\":{\"$gt\":10000000}}\n",
    "proj = {\"name\":1}\n",
    "\n",
    "list(c.find({\"$and\": [q1, q2]},proj).limit(3))\n",
    "# Utilizo el proj para que solo me de los nombres y no me saque todos los datos."
   ]
  },
  {
   "cell_type": "markdown",
   "metadata": {},
   "source": [
    "### 13. All the companies that have been acquired after 2010, order by the acquisition amount, and retrieve only their `name` and `acquisition` field."
   ]
  },
  {
   "cell_type": "code",
   "execution_count": 118,
   "metadata": {},
   "outputs": [
    {
     "data": {
      "text/plain": [
       "[{'_id': ObjectId('52cdef7c4bab8bd675297dbf'),\n",
       "  'name': 'blogTV',\n",
       "  'acquisition': {'price_amount': None,\n",
       "   'price_currency_code': 'USD',\n",
       "   'term_code': None,\n",
       "   'source_url': 'http://techcrunch.com/2013/03/13/younow-buys-blogtv/',\n",
       "   'source_description': 'Live Social Video Network YouNow Acquires Streaming Service BlogTV',\n",
       "   'acquired_year': 2013,\n",
       "   'acquired_month': 3,\n",
       "   'acquired_day': 13,\n",
       "   'acquiring_company': {'name': 'YouNow', 'permalink': 'younow'}}},\n",
       " {'_id': ObjectId('52cdef7c4bab8bd675297dab'),\n",
       "  'name': 'Kyte',\n",
       "  'acquisition': {'price_amount': None,\n",
       "   'price_currency_code': 'USD',\n",
       "   'term_code': None,\n",
       "   'source_url': 'http://techcrunch.com/2011/01/31/exclusive-kit-digital-acquires-kickapps-kewego-and-kyte-for-77-2-million/',\n",
       "   'source_description': 'KIT digital Acquires KickApps, Kewego AND Kyte For $77.2 Million',\n",
       "   'acquired_year': 2011,\n",
       "   'acquired_month': 1,\n",
       "   'acquired_day': 31,\n",
       "   'acquiring_company': {'name': 'KIT digital', 'permalink': 'kit-digital'}}},\n",
       " {'_id': ObjectId('52cdef7c4bab8bd675297d91'),\n",
       "  'name': 'Geni',\n",
       "  'acquisition': {'price_amount': None,\n",
       "   'price_currency_code': 'USD',\n",
       "   'term_code': None,\n",
       "   'source_url': 'http://techcrunch.com/2012/11/28/all-in-the-family-myheritage-buys-former-yammer-stablemate-geni-com-raises-25m/',\n",
       "   'source_description': 'MyHeritage acquires Geni and $25M to build family tree of the whole world',\n",
       "   'acquired_year': 2012,\n",
       "   'acquired_month': 11,\n",
       "   'acquired_day': 28,\n",
       "   'acquiring_company': {'name': 'MyHeritage', 'permalink': 'myheritage'}}}]"
      ]
     },
     "execution_count": 118,
     "metadata": {},
     "output_type": "execute_result"
    }
   ],
   "source": [
    "q1 = {\"acquisition.acquired_year\":{\"$gt\":2010}}\n",
    "proj = {\"name\":1,\"acquisition\":1}\n",
    "\n",
    "list(c.find(q1,proj).sort(\"acquisition.price_amount\").limit(3)) \n",
    "# Utilizo el proj para que solo me de los nombres y no me saque todos los datos."
   ]
  },
  {
   "cell_type": "markdown",
   "metadata": {},
   "source": [
    "### 14. Order the companies by their `founded year`, retrieving only their `name` and `founded year`."
   ]
  },
  {
   "cell_type": "code",
   "execution_count": 92,
   "metadata": {},
   "outputs": [
    {
     "data": {
      "text/plain": [
       "[{'_id': ObjectId('52cdef7c4bab8bd6752982d4'),\n",
       "  'name': 'Advaliant',\n",
       "  'founded_year': 2013},\n",
       " {'_id': ObjectId('52cdef7c4bab8bd67529801f'),\n",
       "  'name': 'Wamba',\n",
       "  'founded_year': 2013},\n",
       " {'_id': ObjectId('52cdef7c4bab8bd675297fec'),\n",
       "  'name': 'Fixya',\n",
       "  'founded_year': 2013}]"
      ]
     },
     "execution_count": 92,
     "metadata": {},
     "output_type": "execute_result"
    }
   ],
   "source": [
    "q1 = {\"founded_year\":{\"$exists\":True}}\n",
    "proj = {\"name\":1, \"founded_year\":1}\n",
    "\n",
    "list(c.find(q1, proj).sort(\"founded_year\", -1).limit(3))"
   ]
  },
  {
   "cell_type": "markdown",
   "metadata": {},
   "source": [
    "### 15. All the companies that have been founded on the first seven days of the month, including the seventh. Sort them by their `acquisition price` in a descending order. Limit the search to 10 documents."
   ]
  },
  {
   "cell_type": "code",
   "execution_count": 94,
   "metadata": {},
   "outputs": [
    {
     "data": {
      "text/plain": [
       "[{'_id': ObjectId('52cdef7d4bab8bd6752989a1'),\n",
       "  'name': 'Netscape',\n",
       "  'founded_day': 4,\n",
       "  'acquisition': {'price_amount': 4200000000}},\n",
       " {'_id': ObjectId('52cdef7c4bab8bd675297e89'),\n",
       "  'name': 'PayPal',\n",
       "  'founded_day': 1,\n",
       "  'acquisition': {'price_amount': 1500000000}},\n",
       " {'_id': ObjectId('52cdef7c4bab8bd675297efe'),\n",
       "  'name': 'Zappos',\n",
       "  'founded_day': 1,\n",
       "  'acquisition': {'price_amount': 1200000000}}]"
      ]
     },
     "execution_count": 94,
     "metadata": {},
     "output_type": "execute_result"
    }
   ],
   "source": [
    "q1 = {\"founded_day\":{\"$lte\":7}}\n",
    "proj = {\"name\":1, \"founded_day\":1, \"acquisition.price_amount\":1}\n",
    "\n",
    "list(c.find(q1, proj).sort(\"acquisition.price_amount\", -1).limit(3))"
   ]
  },
  {
   "cell_type": "markdown",
   "metadata": {},
   "source": [
    "### 16. All the companies on the 'web' `category` that have more than 4000 employees. Sort them by the amount of employees in ascending order."
   ]
  },
  {
   "cell_type": "code",
   "execution_count": 101,
   "metadata": {},
   "outputs": [
    {
     "data": {
      "text/plain": [
       "[{'_id': ObjectId('52cdef7c4bab8bd67529822a'),\n",
       "  'name': 'Expedia',\n",
       "  'homepage_url': 'http://www.expedia.com',\n",
       "  'number_of_employees': 4400},\n",
       " {'_id': ObjectId('52cdef7c4bab8bd675297e96'),\n",
       "  'name': 'AOL',\n",
       "  'homepage_url': 'http://www.aol.com',\n",
       "  'number_of_employees': 8000},\n",
       " {'_id': ObjectId('52cdef7c4bab8bd675297ea4'),\n",
       "  'name': 'Webkinz',\n",
       "  'homepage_url': 'http://www.webkinz.com',\n",
       "  'number_of_employees': 8657}]"
      ]
     },
     "execution_count": 101,
     "metadata": {},
     "output_type": "execute_result"
    }
   ],
   "source": [
    "q1 = {\"category_code\":\"web\"}\n",
    "q2 = {\"number_of_employees\":{\"$gt\":4000}}\n",
    "proj = {\"name\":1,\"homepage_url\":1, \"number_of_employees\":1}\n",
    "\n",
    "list(c.find({\"$and\": [q1, q2]},proj).sort(\"number_of_employees\").limit(3))"
   ]
  },
  {
   "cell_type": "markdown",
   "metadata": {},
   "source": [
    "### 17. All the companies whose acquisition amount is more than 10.000.000, and currency is 'EUR'."
   ]
  },
  {
   "cell_type": "code",
   "execution_count": 110,
   "metadata": {},
   "outputs": [
    {
     "data": {
      "text/plain": [
       "[{'_id': ObjectId('52cdef7c4bab8bd675297f02'),\n",
       "  'name': 'ZYB',\n",
       "  'acquisition': {'price_amount': 31500000, 'price_currency_code': 'EUR'}},\n",
       " {'_id': ObjectId('52cdef7d4bab8bd675298bf3'),\n",
       "  'name': 'Apertio',\n",
       "  'acquisition': {'price_amount': 140000000, 'price_currency_code': 'EUR'}},\n",
       " {'_id': ObjectId('52cdef7d4bab8bd675298f47'),\n",
       "  'name': 'Greenfield Online',\n",
       "  'acquisition': {'price_amount': 40000000, 'price_currency_code': 'EUR'}}]"
      ]
     },
     "execution_count": 110,
     "metadata": {},
     "output_type": "execute_result"
    }
   ],
   "source": [
    "q1 = {\"acquisition.price_amount\":{\"$gt\":10_000_000}}\n",
    "q2 = {\"acquisition.price_currency_code\":\"EUR\"}\n",
    "proj = {\"name\":1,\"acquisition.price_amount\":1, \"acquisition.price_currency_code\":1}\n",
    "\n",
    "list(c.find({\"$and\": [q1, q2]},proj).limit(3))\n",
    "\n"
   ]
  },
  {
   "cell_type": "markdown",
   "metadata": {},
   "source": [
    "### 18. All the companies that have been acquired on the first trimester of the year. Limit the search to 10 companies, and retrieve only their `name` and `acquisition` fields."
   ]
  },
  {
   "cell_type": "code",
   "execution_count": 111,
   "metadata": {},
   "outputs": [
    {
     "data": {
      "text/plain": [
       "[{'_id': ObjectId('52cdef7c4bab8bd675297d95'),\n",
       "  'name': 'StumbleUpon',\n",
       "  'acquisition': {'price_amount': 29000000,\n",
       "   'price_currency_code': 'USD',\n",
       "   'term_code': None,\n",
       "   'source_url': 'http://techcrunch.com/2009/04/13/ebay-unacquires-stumbleupon/',\n",
       "   'source_description': \"StumbleUpon Beats Skype In Escaping EBay's Clutches\",\n",
       "   'acquired_year': 2009,\n",
       "   'acquired_month': 4,\n",
       "   'acquired_day': None,\n",
       "   'acquiring_company': {'name': 'StumbleUpon', 'permalink': 'stumbleupon'}}},\n",
       " {'_id': ObjectId('52cdef7c4bab8bd675297dab'),\n",
       "  'name': 'Kyte',\n",
       "  'acquisition': {'price_amount': None,\n",
       "   'price_currency_code': 'USD',\n",
       "   'term_code': None,\n",
       "   'source_url': 'http://techcrunch.com/2011/01/31/exclusive-kit-digital-acquires-kickapps-kewego-and-kyte-for-77-2-million/',\n",
       "   'source_description': 'KIT digital Acquires KickApps, Kewego AND Kyte For $77.2 Million',\n",
       "   'acquired_year': 2011,\n",
       "   'acquired_month': 1,\n",
       "   'acquired_day': 31,\n",
       "   'acquiring_company': {'name': 'KIT digital', 'permalink': 'kit-digital'}}},\n",
       " {'_id': ObjectId('52cdef7c4bab8bd675297dac'),\n",
       "  'name': 'Veoh',\n",
       "  'acquisition': {'price_amount': None,\n",
       "   'price_currency_code': 'USD',\n",
       "   'term_code': None,\n",
       "   'source_url': 'http://techcrunch.com/2010/04/07/qlipso-veoh/',\n",
       "   'source_description': \"Qlipso's CEO Explains Why He Bought Veoh\",\n",
       "   'acquired_year': 2010,\n",
       "   'acquired_month': 4,\n",
       "   'acquired_day': 7,\n",
       "   'acquiring_company': {'name': 'Qlipso', 'permalink': 'qlipso'}}},\n",
       " {'_id': ObjectId('52cdef7c4bab8bd675297daf'),\n",
       "  'name': 'Jingle Networks',\n",
       "  'acquisition': {'price_amount': 62500000,\n",
       "   'price_currency_code': 'USD',\n",
       "   'term_code': 'cash_and_stock',\n",
       "   'source_url': 'http://www.masshightech.com/stories/2011/04/11/daily11-Jingle-Networks-bought-for-up-to-625M.html',\n",
       "   'source_description': 'Jingle Networks bought for up to $62.5M',\n",
       "   'acquired_year': 2011,\n",
       "   'acquired_month': 4,\n",
       "   'acquired_day': 11,\n",
       "   'acquiring_company': {'name': 'Marchex', 'permalink': 'marchex'}}},\n",
       " {'_id': ObjectId('52cdef7c4bab8bd675297db4'),\n",
       "  'name': 'NetRatings',\n",
       "  'acquisition': {'price_amount': 327000000,\n",
       "   'price_currency_code': 'USD',\n",
       "   'term_code': 'cash',\n",
       "   'source_url': 'http://login.vnuemedia.com/hr/login/login_subscribe.jsp?id=0oqDem1gYIfIclz9i2%2Ffqj5NxCp2AC5DPbVnyT2da8GyV2mXjasabE128n69OrmcAh52%2FGE3pSG%2F%0AEKRYD9vh9EhrJrxukmUzh532fSMTZXL42gwPB80UWVtF1NwJ5UZSM%2BCkLU1mpYBoHFgiH%2Fi0f6Ax%0A9yMIVxt47t%2BHamhEQ0nkOEK24L',\n",
       "   'source_description': 'Nielsen buys rest of NetRatings',\n",
       "   'acquired_year': 2007,\n",
       "   'acquired_month': 2,\n",
       "   'acquired_day': None,\n",
       "   'acquiring_company': {'name': 'Nielsen', 'permalink': 'nielsen'}}},\n",
       " {'_id': ObjectId('52cdef7c4bab8bd675297dbf'),\n",
       "  'name': 'blogTV',\n",
       "  'acquisition': {'price_amount': None,\n",
       "   'price_currency_code': 'USD',\n",
       "   'term_code': None,\n",
       "   'source_url': 'http://techcrunch.com/2013/03/13/younow-buys-blogtv/',\n",
       "   'source_description': 'Live Social Video Network YouNow Acquires Streaming Service BlogTV',\n",
       "   'acquired_year': 2013,\n",
       "   'acquired_month': 3,\n",
       "   'acquired_day': 13,\n",
       "   'acquiring_company': {'name': 'YouNow', 'permalink': 'younow'}}},\n",
       " {'_id': ObjectId('52cdef7c4bab8bd675297dc0'),\n",
       "  'name': 'Livestream',\n",
       "  'acquisition': {'price_amount': None,\n",
       "   'price_currency_code': 'USD',\n",
       "   'term_code': 'cash_and_stock',\n",
       "   'source_url': '',\n",
       "   'source_description': 'company',\n",
       "   'acquired_year': 2008,\n",
       "   'acquired_month': 1,\n",
       "   'acquired_day': 1,\n",
       "   'acquiring_company': {'name': 'Adviqo', 'permalink': 'adviqo'}}},\n",
       " {'_id': ObjectId('52cdef7c4bab8bd675297dc7'),\n",
       "  'name': 'delicious',\n",
       "  'acquisition': {'price_amount': None,\n",
       "   'price_currency_code': 'USD',\n",
       "   'term_code': None,\n",
       "   'source_url': 'http://techcrunch.com/2011/04/27/yahoo-sells-delicious-to-youtube-founders/',\n",
       "   'source_description': 'Yahoo Sells Delicious To YouTube Founders',\n",
       "   'acquired_year': 2011,\n",
       "   'acquired_month': 4,\n",
       "   'acquired_day': 27,\n",
       "   'acquiring_company': {'name': 'AVOS Systems', 'permalink': 'avos'}}},\n",
       " {'_id': ObjectId('52cdef7c4bab8bd675297dc9'),\n",
       "  'name': 'Jobster',\n",
       "  'acquisition': {'price_amount': None,\n",
       "   'price_currency_code': 'USD',\n",
       "   'term_code': None,\n",
       "   'source_url': 'http://techcrunch.com/2010/04/05/zapoint-acquires-social-job-search-site-jobster-from-recruiting-com/',\n",
       "   'source_description': 'Zapoint Acquires Social Job Search Site Jobster From Recruiting.com',\n",
       "   'acquired_year': 2010,\n",
       "   'acquired_month': 4,\n",
       "   'acquired_day': 5,\n",
       "   'acquiring_company': {'name': 'Zapoint', 'permalink': 'zapoint'}}},\n",
       " {'_id': ObjectId('52cdef7c4bab8bd675297dcf'),\n",
       "  'name': 'Spock',\n",
       "  'acquisition': {'price_amount': None,\n",
       "   'price_currency_code': 'USD',\n",
       "   'term_code': None,\n",
       "   'source_url': 'http://www.paidcontent.org/entry/419-intelius-buys-people-search-engine-spock/',\n",
       "   'source_description': 'Intelius Buys People Search Engine Spock',\n",
       "   'acquired_year': 2009,\n",
       "   'acquired_month': 4,\n",
       "   'acquired_day': 30,\n",
       "   'acquiring_company': {'name': 'Intelius', 'permalink': 'intelius'}}}]"
      ]
     },
     "execution_count": 111,
     "metadata": {},
     "output_type": "execute_result"
    }
   ],
   "source": [
    "q1 = {\"acquisition.acquired_month\":{\"$lte\":4}}\n",
    "proj = {\"name\":1,\"acquisition\":1}\n",
    "\n",
    "list(c.find(q1,proj).limit(10))\n",
    "\n"
   ]
  },
  {
   "cell_type": "markdown",
   "metadata": {},
   "source": [
    "# Bonus\n",
    "### 19. All the companies that have been founded between 2000 and 2010, but have not been acquired before 2011."
   ]
  },
  {
   "cell_type": "code",
   "execution_count": 112,
   "metadata": {},
   "outputs": [
    {
     "data": {
      "text/plain": [
       "[{'_id': ObjectId('52cdef7d4bab8bd67529a229'),\n",
       "  'name': 'Citizenside',\n",
       "  'founded_year': 2006,\n",
       "  'acquisition': {'acquired_year': 2013}},\n",
       " {'_id': ObjectId('52cdef7e4bab8bd67529a536'),\n",
       "  'name': 'Webedia',\n",
       "  'founded_year': 2007,\n",
       "  'acquisition': {'acquired_year': 2013}},\n",
       " {'_id': ObjectId('52cdef7e4bab8bd67529a5ad'),\n",
       "  'name': 'hybris',\n",
       "  'founded_year': 1997,\n",
       "  'acquisition': {'acquired_year': 2013}}]"
      ]
     },
     "execution_count": 112,
     "metadata": {},
     "output_type": "execute_result"
    }
   ],
   "source": [
    "q1 = {\"founded_year\":{\"$gt\":2000}}\n",
    "q1 = {\"founded_year\":{\"$lt\":2010}}\n",
    "q3 = {\"acquisition.acquired_year\":{\"$gt\":2011}}\n",
    "proj = {\"name\":1,\"founded_year\":1,\"acquisition.acquired_year\":1}\n",
    "\n",
    "list(c.find({\"$and\": [q1, q2, q3]},proj).limit(3))"
   ]
  },
  {
   "cell_type": "markdown",
   "metadata": {},
   "source": [
    "### 20. All the companies that have been 'deadpooled' after the third year."
   ]
  },
  {
   "cell_type": "code",
   "execution_count": 124,
   "metadata": {},
   "outputs": [
    {
     "ename": "TypeError",
     "evalue": "pipeline must be a list",
     "output_type": "error",
     "traceback": [
      "\u001b[1;31m---------------------------------------------------------------------------\u001b[0m",
      "\u001b[1;31mTypeError\u001b[0m                                 Traceback (most recent call last)",
      "\u001b[1;32m<ipython-input-124-f46800d8f548>\u001b[0m in \u001b[0;36m<module>\u001b[1;34m\u001b[0m\n\u001b[1;32m----> 1\u001b[1;33m \u001b[0mdb\u001b[0m\u001b[1;33m.\u001b[0m\u001b[0mcompanies\u001b[0m\u001b[1;33m.\u001b[0m\u001b[0maggregate\u001b[0m\u001b[1;33m(\u001b[0m\u001b[1;33m{\u001b[0m\u001b[1;34m\"years_alive\"\u001b[0m\u001b[1;33m:\u001b[0m\u001b[1;33m{\u001b[0m\u001b[1;34m\"$substract\"\u001b[0m\u001b[1;33m:\u001b[0m\u001b[1;33m[\u001b[0m\u001b[1;34m\"$deadpooled_year\"\u001b[0m\u001b[1;33m,\u001b[0m\u001b[1;34m\"$founded_year\"\u001b[0m\u001b[1;33m]\u001b[0m\u001b[1;33m}\u001b[0m\u001b[1;33m}\u001b[0m\u001b[1;33m)\u001b[0m\u001b[1;33m\u001b[0m\u001b[1;33m\u001b[0m\u001b[0m\n\u001b[0m",
      "\u001b[1;32m~\\anaconda3\\lib\\site-packages\\pymongo\\collection.py\u001b[0m in \u001b[0;36maggregate\u001b[1;34m(self, pipeline, session, **kwargs)\u001b[0m\n\u001b[0;32m   2451\u001b[0m         \"\"\"\n\u001b[0;32m   2452\u001b[0m         \u001b[1;32mwith\u001b[0m \u001b[0mself\u001b[0m\u001b[1;33m.\u001b[0m\u001b[0m__database\u001b[0m\u001b[1;33m.\u001b[0m\u001b[0mclient\u001b[0m\u001b[1;33m.\u001b[0m\u001b[0m_tmp_session\u001b[0m\u001b[1;33m(\u001b[0m\u001b[0msession\u001b[0m\u001b[1;33m,\u001b[0m \u001b[0mclose\u001b[0m\u001b[1;33m=\u001b[0m\u001b[1;32mFalse\u001b[0m\u001b[1;33m)\u001b[0m \u001b[1;32mas\u001b[0m \u001b[0ms\u001b[0m\u001b[1;33m:\u001b[0m\u001b[1;33m\u001b[0m\u001b[1;33m\u001b[0m\u001b[0m\n\u001b[1;32m-> 2453\u001b[1;33m             return self._aggregate(_CollectionAggregationCommand,\n\u001b[0m\u001b[0;32m   2454\u001b[0m                                    \u001b[0mpipeline\u001b[0m\u001b[1;33m,\u001b[0m\u001b[1;33m\u001b[0m\u001b[1;33m\u001b[0m\u001b[0m\n\u001b[0;32m   2455\u001b[0m                                    \u001b[0mCommandCursor\u001b[0m\u001b[1;33m,\u001b[0m\u001b[1;33m\u001b[0m\u001b[1;33m\u001b[0m\u001b[0m\n",
      "\u001b[1;32m~\\anaconda3\\lib\\site-packages\\pymongo\\collection.py\u001b[0m in \u001b[0;36m_aggregate\u001b[1;34m(self, aggregation_command, pipeline, cursor_class, session, explicit_session, **kwargs)\u001b[0m\n\u001b[0;32m   2370\u001b[0m                 \"useCursor\", kwargs.pop(\"useCursor\", True))\n\u001b[0;32m   2371\u001b[0m \u001b[1;33m\u001b[0m\u001b[0m\n\u001b[1;32m-> 2372\u001b[1;33m         cmd = aggregation_command(\n\u001b[0m\u001b[0;32m   2373\u001b[0m             \u001b[0mself\u001b[0m\u001b[1;33m,\u001b[0m \u001b[0mcursor_class\u001b[0m\u001b[1;33m,\u001b[0m \u001b[0mpipeline\u001b[0m\u001b[1;33m,\u001b[0m \u001b[0mkwargs\u001b[0m\u001b[1;33m,\u001b[0m \u001b[0mexplicit_session\u001b[0m\u001b[1;33m,\u001b[0m\u001b[1;33m\u001b[0m\u001b[1;33m\u001b[0m\u001b[0m\n\u001b[0;32m   2374\u001b[0m             user_fields={'cursor': {'firstBatch': 1}}, use_cursor=use_cursor)\n",
      "\u001b[1;32m~\\anaconda3\\lib\\site-packages\\pymongo\\aggregation.py\u001b[0m in \u001b[0;36m__init__\u001b[1;34m(self, *args, **kwargs)\u001b[0m\n\u001b[0;32m    173\u001b[0m         \u001b[1;31m# Pop additional option and initialize parent class.\u001b[0m\u001b[1;33m\u001b[0m\u001b[1;33m\u001b[0m\u001b[1;33m\u001b[0m\u001b[0m\n\u001b[0;32m    174\u001b[0m         \u001b[0muse_cursor\u001b[0m \u001b[1;33m=\u001b[0m \u001b[0mkwargs\u001b[0m\u001b[1;33m.\u001b[0m\u001b[0mpop\u001b[0m\u001b[1;33m(\u001b[0m\u001b[1;34m\"use_cursor\"\u001b[0m\u001b[1;33m,\u001b[0m \u001b[1;32mTrue\u001b[0m\u001b[1;33m)\u001b[0m\u001b[1;33m\u001b[0m\u001b[1;33m\u001b[0m\u001b[0m\n\u001b[1;32m--> 175\u001b[1;33m         \u001b[0msuper\u001b[0m\u001b[1;33m(\u001b[0m\u001b[0m_CollectionAggregationCommand\u001b[0m\u001b[1;33m,\u001b[0m \u001b[0mself\u001b[0m\u001b[1;33m)\u001b[0m\u001b[1;33m.\u001b[0m\u001b[0m__init__\u001b[0m\u001b[1;33m(\u001b[0m\u001b[1;33m*\u001b[0m\u001b[0margs\u001b[0m\u001b[1;33m,\u001b[0m \u001b[1;33m**\u001b[0m\u001b[0mkwargs\u001b[0m\u001b[1;33m)\u001b[0m\u001b[1;33m\u001b[0m\u001b[1;33m\u001b[0m\u001b[0m\n\u001b[0m\u001b[0;32m    176\u001b[0m \u001b[1;33m\u001b[0m\u001b[0m\n\u001b[0;32m    177\u001b[0m         \u001b[1;31m# Remove the cursor document if the user has set use_cursor to False.\u001b[0m\u001b[1;33m\u001b[0m\u001b[1;33m\u001b[0m\u001b[1;33m\u001b[0m\u001b[0m\n",
      "\u001b[1;32m~\\anaconda3\\lib\\site-packages\\pymongo\\aggregation.py\u001b[0m in \u001b[0;36m__init__\u001b[1;34m(self, target, cursor_class, pipeline, options, explicit_session, user_fields, result_processor)\u001b[0m\n\u001b[0;32m     38\u001b[0m         \u001b[0mself\u001b[0m\u001b[1;33m.\u001b[0m\u001b[0m_target\u001b[0m \u001b[1;33m=\u001b[0m \u001b[0mtarget\u001b[0m\u001b[1;33m\u001b[0m\u001b[1;33m\u001b[0m\u001b[0m\n\u001b[0;32m     39\u001b[0m \u001b[1;33m\u001b[0m\u001b[0m\n\u001b[1;32m---> 40\u001b[1;33m         \u001b[0mcommon\u001b[0m\u001b[1;33m.\u001b[0m\u001b[0mvalidate_list\u001b[0m\u001b[1;33m(\u001b[0m\u001b[1;34m'pipeline'\u001b[0m\u001b[1;33m,\u001b[0m \u001b[0mpipeline\u001b[0m\u001b[1;33m)\u001b[0m\u001b[1;33m\u001b[0m\u001b[1;33m\u001b[0m\u001b[0m\n\u001b[0m\u001b[0;32m     41\u001b[0m         \u001b[0mself\u001b[0m\u001b[1;33m.\u001b[0m\u001b[0m_pipeline\u001b[0m \u001b[1;33m=\u001b[0m \u001b[0mpipeline\u001b[0m\u001b[1;33m\u001b[0m\u001b[1;33m\u001b[0m\u001b[0m\n\u001b[0;32m     42\u001b[0m         \u001b[0mself\u001b[0m\u001b[1;33m.\u001b[0m\u001b[0m_performs_write\u001b[0m \u001b[1;33m=\u001b[0m \u001b[1;32mFalse\u001b[0m\u001b[1;33m\u001b[0m\u001b[1;33m\u001b[0m\u001b[0m\n",
      "\u001b[1;32m~\\anaconda3\\lib\\site-packages\\pymongo\\common.py\u001b[0m in \u001b[0;36mvalidate_list\u001b[1;34m(option, value)\u001b[0m\n\u001b[0;32m    470\u001b[0m     \u001b[1;34m\"\"\"Validates that 'value' is a list.\"\"\"\u001b[0m\u001b[1;33m\u001b[0m\u001b[1;33m\u001b[0m\u001b[0m\n\u001b[0;32m    471\u001b[0m     \u001b[1;32mif\u001b[0m \u001b[1;32mnot\u001b[0m \u001b[0misinstance\u001b[0m\u001b[1;33m(\u001b[0m\u001b[0mvalue\u001b[0m\u001b[1;33m,\u001b[0m \u001b[0mlist\u001b[0m\u001b[1;33m)\u001b[0m\u001b[1;33m:\u001b[0m\u001b[1;33m\u001b[0m\u001b[1;33m\u001b[0m\u001b[0m\n\u001b[1;32m--> 472\u001b[1;33m         \u001b[1;32mraise\u001b[0m \u001b[0mTypeError\u001b[0m\u001b[1;33m(\u001b[0m\u001b[1;34m\"%s must be a list\"\u001b[0m \u001b[1;33m%\u001b[0m \u001b[1;33m(\u001b[0m\u001b[0moption\u001b[0m\u001b[1;33m,\u001b[0m\u001b[1;33m)\u001b[0m\u001b[1;33m)\u001b[0m\u001b[1;33m\u001b[0m\u001b[1;33m\u001b[0m\u001b[0m\n\u001b[0m\u001b[0;32m    473\u001b[0m     \u001b[1;32mreturn\u001b[0m \u001b[0mvalue\u001b[0m\u001b[1;33m\u001b[0m\u001b[1;33m\u001b[0m\u001b[0m\n\u001b[0;32m    474\u001b[0m \u001b[1;33m\u001b[0m\u001b[0m\n",
      "\u001b[1;31mTypeError\u001b[0m: pipeline must be a list"
     ]
    }
   ],
   "source": [
    "db.companies.aggregate({\"years_alive\":{\"$substract\":[\"$deadpooled_year\",\"$founded_year\"]}})"
   ]
  },
  {
   "cell_type": "code",
   "execution_count": 122,
   "metadata": {},
   "outputs": [
    {
     "data": {
      "text/plain": [
       "[]"
      ]
     },
     "execution_count": 122,
     "metadata": {},
     "output_type": "execute_result"
    }
   ],
   "source": [
    "q1 = {\"years_alive\":{\"$lte\":3}}\n",
    "proj = {\"name\":1,\"years_alive\":1}\n",
    "\n",
    "list(c.find(q1,proj).limit(10))"
   ]
  },
  {
   "cell_type": "code",
   "execution_count": null,
   "metadata": {},
   "outputs": [],
   "source": []
  }
 ],
 "metadata": {
  "kernelspec": {
   "display_name": "Python 3",
   "language": "python",
   "name": "python3"
  },
  "language_info": {
   "codemirror_mode": {
    "name": "ipython",
    "version": 3
   },
   "file_extension": ".py",
   "mimetype": "text/x-python",
   "name": "python",
   "nbconvert_exporter": "python",
   "pygments_lexer": "ipython3",
   "version": "3.8.5"
  }
 },
 "nbformat": 4,
 "nbformat_minor": 2
}
