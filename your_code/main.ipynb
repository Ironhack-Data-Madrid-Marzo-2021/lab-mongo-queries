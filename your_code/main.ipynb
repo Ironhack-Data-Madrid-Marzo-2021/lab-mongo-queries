{
 "cells": [
  {
   "cell_type": "markdown",
   "metadata": {},
   "source": [
    "# Advanced Querying Mongo"
   ]
  },
  {
   "cell_type": "markdown",
   "metadata": {},
   "source": [
    "Importing libraries and setting up connection"
   ]
  },
  {
   "cell_type": "code",
   "execution_count": 125,
   "metadata": {},
   "outputs": [],
   "source": [
    "from pymongo import MongoClient\n",
    "client = MongoClient(\"localhost:27017\")"
   ]
  },
  {
   "cell_type": "code",
   "execution_count": 126,
   "metadata": {},
   "outputs": [
    {
     "data": {
      "text/plain": [
       "['Quotes',\n",
       " 'Species',\n",
       " 'admin',\n",
       " 'companies',\n",
       " 'config',\n",
       " 'final',\n",
       " 'geo',\n",
       " 'labflask',\n",
       " 'local']"
      ]
     },
     "execution_count": 126,
     "metadata": {},
     "output_type": "execute_result"
    }
   ],
   "source": [
    "client.list_database_names()"
   ]
  },
  {
   "cell_type": "code",
   "execution_count": 127,
   "metadata": {},
   "outputs": [
    {
     "data": {
      "text/plain": [
       "['companies', 'offices']"
      ]
     },
     "execution_count": 127,
     "metadata": {},
     "output_type": "execute_result"
    }
   ],
   "source": [
    "db = client.get_database(\"companies\")\n",
    "db.list_collection_names()"
   ]
  },
  {
   "cell_type": "code",
   "execution_count": 128,
   "metadata": {},
   "outputs": [],
   "source": [
    "c = db.get_collection(\"companies\")"
   ]
  },
  {
   "cell_type": "markdown",
   "metadata": {},
   "source": [
    "### 1. All the companies whose name match 'Babelgum'. Retrieve only their `name` field."
   ]
  },
  {
   "cell_type": "code",
   "execution_count": 16,
   "metadata": {},
   "outputs": [
    {
     "data": {
      "text/plain": [
       "[{'_id': ObjectId('52cdef7c4bab8bd675297da0'), 'name': 'Babelgum'}]"
      ]
     },
     "execution_count": 16,
     "metadata": {},
     "output_type": "execute_result"
    }
   ],
   "source": [
    "condicion = {\"name\":\"Babelgum\"}\n",
    "proj = {\"name\":1}\n",
    "\n",
    "list(c.find(condicion, proj))"
   ]
  },
  {
   "cell_type": "markdown",
   "metadata": {},
   "source": [
    "### 2. All the companies that have more than 5000 employees. Limit the search to 20 companies and sort them by **number of employees**."
   ]
  },
  {
   "cell_type": "code",
   "execution_count": 113,
   "metadata": {},
   "outputs": [
    {
     "data": {
      "text/plain": [
       "[{'_id': ObjectId('52cdef7c4bab8bd675297e49'),\n",
       "  'name': 'Nintendo',\n",
       "  'number_of_employees': 5080},\n",
       " {'_id': ObjectId('52cdef7e4bab8bd67529ba2e'),\n",
       "  'name': 'Hexaware Technologies',\n",
       "  'number_of_employees': 5200},\n",
       " {'_id': ObjectId('52cdef7c4bab8bd675297d8e'),\n",
       "  'name': 'Facebook',\n",
       "  'number_of_employees': 5299},\n",
       " {'_id': ObjectId('52cdef7e4bab8bd67529a453'),\n",
       "  'name': 'OpenText',\n",
       "  'number_of_employees': 5300},\n",
       " {'_id': ObjectId('52cdef7e4bab8bd67529b9dd'),\n",
       "  'name': 'CPM Braxis',\n",
       "  'number_of_employees': 5400},\n",
       " {'_id': ObjectId('52cdef7d4bab8bd675298b89'),\n",
       "  'name': 'LSI',\n",
       "  'number_of_employees': 5400},\n",
       " {'_id': ObjectId('52cdef7e4bab8bd67529b691'),\n",
       "  'name': 'Microchip Technologies',\n",
       "  'number_of_employees': 5500},\n",
       " {'_id': ObjectId('52cdef7e4bab8bd67529a84c'),\n",
       "  'name': 'Mediaset',\n",
       "  'number_of_employees': 5729},\n",
       " {'_id': ObjectId('52cdef7d4bab8bd675299f38'),\n",
       "  'name': 'Mindray Medical International',\n",
       "  'number_of_employees': 5763},\n",
       " {'_id': ObjectId('52cdef7d4bab8bd675298b6f'),\n",
       "  'name': 'Dentsu',\n",
       "  'number_of_employees': 6000},\n",
       " {'_id': ObjectId('52cdef7e4bab8bd67529bd33'),\n",
       "  'name': 'Atmel',\n",
       "  'number_of_employees': 6000},\n",
       " {'_id': ObjectId('52cdef7e4bab8bd67529aeec'),\n",
       "  'name': 'Tata Communications',\n",
       "  'number_of_employees': 6000},\n",
       " {'_id': ObjectId('52cdef7c4bab8bd675298760'),\n",
       "  'name': 'Baidu',\n",
       "  'number_of_employees': 6000},\n",
       " {'_id': ObjectId('52cdef7d4bab8bd675299a81'),\n",
       "  'name': 'Acxiom',\n",
       "  'number_of_employees': 6200},\n",
       " {'_id': ObjectId('52cdef7d4bab8bd6752996f7'),\n",
       "  'name': 'Acxiom',\n",
       "  'number_of_employees': 6200},\n",
       " {'_id': ObjectId('52cdef7d4bab8bd675298e43'),\n",
       "  'name': 'SRA International',\n",
       "  'number_of_employees': 6400},\n",
       " {'_id': ObjectId('52cdef7f4bab8bd67529bd50'),\n",
       "  'name': \"Moody's\",\n",
       "  'number_of_employees': 6800},\n",
       " {'_id': ObjectId('52cdef7f4bab8bd67529c364'),\n",
       "  'name': 'ManTech',\n",
       "  'number_of_employees': 7000},\n",
       " {'_id': ObjectId('52cdef7c4bab8bd675297e5d'),\n",
       "  'name': 'Adobe Systems',\n",
       "  'number_of_employees': 7173},\n",
       " {'_id': ObjectId('52cdef7e4bab8bd67529ac9c'),\n",
       "  'name': 'Broadcom',\n",
       "  'number_of_employees': 7400}]"
      ]
     },
     "execution_count": 113,
     "metadata": {},
     "output_type": "execute_result"
    }
   ],
   "source": [
    "condicion = {\"number_of_employees\": {\"$gt\":5000}}\n",
    "proj = {\"name\":1, \"number_of_employees\":1}\n",
    "\n",
    "list(c.find(condicion,proj).sort(\"number_of_employees\").limit(20))"
   ]
  },
  {
   "cell_type": "markdown",
   "metadata": {},
   "source": [
    "### 3. All the companies founded between 2000 and 2005, both years included. Retrieve only the `name` and `founded_year` fields."
   ]
  },
  {
   "cell_type": "code",
   "execution_count": 33,
   "metadata": {},
   "outputs": [
    {
     "data": {
      "text/plain": [
       "[{'_id': ObjectId('52cdef7c4bab8bd675297d8a'),\n",
       "  'name': 'Wetpaint',\n",
       "  'founded_year': 2005},\n",
       " {'_id': ObjectId('52cdef7c4bab8bd675297d8c'),\n",
       "  'name': 'Zoho',\n",
       "  'founded_year': 2005},\n",
       " {'_id': ObjectId('52cdef7c4bab8bd675297d8d'),\n",
       "  'name': 'Digg',\n",
       "  'founded_year': 2004}]"
      ]
     },
     "execution_count": 33,
     "metadata": {},
     "output_type": "execute_result"
    }
   ],
   "source": [
    "cond1 = {\"founded_year\":{\"$gte\":2000}}\n",
    "cond2 = {\"founded_year\":{\"$lte\":2005}}\n",
    "proj = {\"name\":1, \"founded_year\":1}\n",
    "\n",
    "list(c.find({\"$and\": [cond1,cond2]}, proj).limit(3))"
   ]
  },
  {
   "cell_type": "markdown",
   "metadata": {},
   "source": [
    "### 4. All the companies that had a Valuation Amount of more than 100.000.000 and have been founded before 2010. Retrieve only the `name` and `ipo` fields."
   ]
  },
  {
   "cell_type": "code",
   "execution_count": 34,
   "metadata": {},
   "outputs": [
    {
     "data": {
      "text/plain": [
       "[{'_id': ObjectId('52cdef7c4bab8bd675297d8e'),\n",
       "  'name': 'Facebook',\n",
       "  'ipo': {'valuation_amount': 104000000000,\n",
       "   'valuation_currency_code': 'USD',\n",
       "   'pub_year': 2012,\n",
       "   'pub_month': 5,\n",
       "   'pub_day': 18,\n",
       "   'stock_symbol': 'NASDAQ:FB'}},\n",
       " {'_id': ObjectId('52cdef7c4bab8bd675297d94'),\n",
       "  'name': 'Twitter',\n",
       "  'ipo': {'valuation_amount': 18100000000,\n",
       "   'valuation_currency_code': 'USD',\n",
       "   'pub_year': 2013,\n",
       "   'pub_month': 11,\n",
       "   'pub_day': 7,\n",
       "   'stock_symbol': 'NYSE:TWTR'}},\n",
       " {'_id': ObjectId('52cdef7c4bab8bd675297de0'),\n",
       "  'name': 'Yelp',\n",
       "  'ipo': {'valuation_amount': 1300000000,\n",
       "   'valuation_currency_code': 'USD',\n",
       "   'pub_year': 2012,\n",
       "   'pub_month': 3,\n",
       "   'pub_day': 2,\n",
       "   'stock_symbol': 'NYSE:YELP'}}]"
      ]
     },
     "execution_count": 34,
     "metadata": {},
     "output_type": "execute_result"
    }
   ],
   "source": [
    "q1 = {\"ipo.valuation_amount\":{\"$gt\":100000000}}\n",
    "q2 = {\"founded_year\":{\"$lte\":2010}}\n",
    "proj = {\"name\":1, \"ipo\":1}\n",
    "\n",
    "list(c.find({\"$and\": [q1, q2]}, proj).limit(3))"
   ]
  },
  {
   "cell_type": "markdown",
   "metadata": {},
   "source": [
    "### 5. All the companies that have less than 1000 employees and have been founded before 2005. Order them by the number of employees and limit the search to 10 companies."
   ]
  },
  {
   "cell_type": "code",
   "execution_count": 85,
   "metadata": {},
   "outputs": [
    {
     "data": {
      "text/plain": [
       "[{'_id': ObjectId('52cdef7c4bab8bd675297d93'),\n",
       "  'name': 'Fox Interactive Media',\n",
       "  'number_of_employees': 0},\n",
       " {'_id': ObjectId('52cdef7c4bab8bd675297e12'),\n",
       "  'name': 'Ticketmaster',\n",
       "  'number_of_employees': 0},\n",
       " {'_id': ObjectId('52cdef7c4bab8bd675297eba'),\n",
       "  'name': 'MindTouch',\n",
       "  'number_of_employees': 0},\n",
       " {'_id': ObjectId('52cdef7c4bab8bd675297dbc'),\n",
       "  'name': 'Skype',\n",
       "  'number_of_employees': 0},\n",
       " {'_id': ObjectId('52cdef7c4bab8bd675297dbd'),\n",
       "  'name': 'YouTube',\n",
       "  'number_of_employees': 0},\n",
       " {'_id': ObjectId('52cdef7c4bab8bd675297e2e'),\n",
       "  'name': 'stylediary',\n",
       "  'number_of_employees': 0},\n",
       " {'_id': ObjectId('52cdef7c4bab8bd675297f89'),\n",
       "  'name': 'Attributor',\n",
       "  'number_of_employees': 0},\n",
       " {'_id': ObjectId('52cdef7c4bab8bd675297f20'),\n",
       "  'name': 'Yeigo',\n",
       "  'number_of_employees': 0},\n",
       " {'_id': ObjectId('52cdef7c4bab8bd675297ee8'),\n",
       "  'name': 'PartnerUp',\n",
       "  'number_of_employees': 0},\n",
       " {'_id': ObjectId('52cdef7c4bab8bd675297df7'),\n",
       "  'name': 'Bebo',\n",
       "  'number_of_employees': 0}]"
      ]
     },
     "execution_count": 85,
     "metadata": {},
     "output_type": "execute_result"
    }
   ],
   "source": [
    "# Utilizo el proj para que solo me de los nombres y no me saque todos los datos.\n",
    "proj = {\"name\":1,\"number_of_employees\":1}\n",
    "\n",
    "q1 = {\"number_of_employees\":{\"$lt\":1000}}\n",
    "q2 = {\"founded_year\":{\"$lte\":2005}}\n",
    "\n",
    "list(c.find({\"$and\": [q1, q2]}, proj).sort(\"number_of_employees\").limit(10))"
   ]
  },
  {
   "cell_type": "markdown",
   "metadata": {},
   "source": [
    "### 6. All the companies that don't include the `partners` field."
   ]
  },
  {
   "cell_type": "code",
   "execution_count": 82,
   "metadata": {},
   "outputs": [
    {
     "data": {
      "text/plain": [
       "[{'_id': ObjectId('52cdef7c4bab8bd675297d8a'), 'name': 'Wetpaint'},\n",
       " {'_id': ObjectId('52cdef7c4bab8bd675297d8b'), 'name': 'AdventNet'},\n",
       " {'_id': ObjectId('52cdef7c4bab8bd675297d8c'), 'name': 'Zoho'}]"
      ]
     },
     "execution_count": 82,
     "metadata": {},
     "output_type": "execute_result"
    }
   ],
   "source": [
    "proj = {\"name\":1}\n",
    "\n",
    "list(c.find({\"partners\":{\"$exists\":True}}, proj).limit(3))\n",
    "# Utilizo el proj para que solo me de los nombres y no me saque todos los datos."
   ]
  },
  {
   "cell_type": "markdown",
   "metadata": {},
   "source": [
    "### 7. All the companies that have a null type of value on the `category_code` field."
   ]
  },
  {
   "cell_type": "code",
   "execution_count": 133,
   "metadata": {},
   "outputs": [
    {
     "data": {
      "text/plain": [
       "[{'_id': ObjectId('52cdef7c4bab8bd675297d8a'),\n",
       "  'name': 'Wetpaint',\n",
       "  'permalink': 'abc2',\n",
       "  'crunchbase_url': 'http://www.crunchbase.com/company/wetpaint',\n",
       "  'homepage_url': 'http://wetpaint-inc.com',\n",
       "  'blog_url': 'http://digitalquarters.net/',\n",
       "  'blog_feed_url': 'http://digitalquarters.net/feed/',\n",
       "  'twitter_username': 'BachelrWetpaint',\n",
       "  'category_code': 'web',\n",
       "  'number_of_employees': 47,\n",
       "  'founded_year': 2005,\n",
       "  'founded_month': 10,\n",
       "  'founded_day': 17,\n",
       "  'deadpooled_year': 1,\n",
       "  'tag_list': 'wiki, seattle, elowitz, media-industry, media-platform, social-distribution-system',\n",
       "  'alias_list': '',\n",
       "  'email_address': 'info@wetpaint.com',\n",
       "  'phone_number': '206.859.6300',\n",
       "  'description': 'Technology Platform Company',\n",
       "  'created_at': datetime.datetime(2007, 5, 25, 6, 51, 27),\n",
       "  'updated_at': 'Sun Dec 08 07:15:44 UTC 2013',\n",
       "  'overview': '<p>Wetpaint is a technology platform company that uses its proprietary state-of-the-art technology and expertise in social media to build and monetize audiences for digital publishers. Wetpaint’s own online property, Wetpaint Entertainment, an entertainment news site that attracts more than 12 million unique visitors monthly and has over 2 million Facebook fans, is a proof point to the company’s success in building and engaging audiences. Media companies can license Wetpaint’s platform which includes a dynamic playbook tailored to their individual needs and comprehensive training. Founded by Internet pioneer Ben Elowitz, and with offices in New York and Seattle, Wetpaint is backed by Accel Partners, the investors behind Facebook.</p>',\n",
       "  'image': {'available_sizes': [[[150, 75],\n",
       "     'assets/images/resized/0000/3604/3604v14-max-150x150.jpg'],\n",
       "    [[250, 125], 'assets/images/resized/0000/3604/3604v14-max-250x250.jpg'],\n",
       "    [[450, 225], 'assets/images/resized/0000/3604/3604v14-max-450x450.jpg']]},\n",
       "  'products': [{'name': 'Wikison Wetpaint', 'permalink': 'wetpaint-wiki'},\n",
       "   {'name': 'Wetpaint Social Distribution System',\n",
       "    'permalink': 'wetpaint-social-distribution-system'}],\n",
       "  'relationships': [{'is_past': False,\n",
       "    'title': 'Co-Founder and VP, Social and Audience Development',\n",
       "    'person': {'first_name': 'Michael',\n",
       "     'last_name': 'Howell',\n",
       "     'permalink': 'michael-howell'}},\n",
       "   {'is_past': False,\n",
       "    'title': 'Co-Founder/CEO/Board of Directors',\n",
       "    'person': {'first_name': 'Ben',\n",
       "     'last_name': 'Elowitz',\n",
       "     'permalink': 'ben-elowitz'}},\n",
       "   {'is_past': False,\n",
       "    'title': 'COO/Board of Directors',\n",
       "    'person': {'first_name': 'Rob',\n",
       "     'last_name': 'Grady',\n",
       "     'permalink': 'rob-grady'}},\n",
       "   {'is_past': False,\n",
       "    'title': 'SVP, Strategy and Business Development',\n",
       "    'person': {'first_name': 'Chris',\n",
       "     'last_name': 'Kollas',\n",
       "     'permalink': 'chris-kollas'}},\n",
       "   {'is_past': False,\n",
       "    'title': 'Board',\n",
       "    'person': {'first_name': 'Theresia',\n",
       "     'last_name': 'Ranzetta',\n",
       "     'permalink': 'theresia-ranzetta'}},\n",
       "   {'is_past': False,\n",
       "    'title': 'Board Member',\n",
       "    'person': {'first_name': 'Gus',\n",
       "     'last_name': 'Tai',\n",
       "     'permalink': 'gus-tai'}},\n",
       "   {'is_past': False,\n",
       "    'title': 'Board',\n",
       "    'person': {'first_name': 'Len',\n",
       "     'last_name': 'Jordan',\n",
       "     'permalink': 'len-jordan'}},\n",
       "   {'is_past': False,\n",
       "    'title': 'Head of Technology and Product',\n",
       "    'person': {'first_name': 'Alex',\n",
       "     'last_name': 'Weinstein',\n",
       "     'permalink': 'alex-weinstein'}},\n",
       "   {'is_past': True,\n",
       "    'title': 'CFO',\n",
       "    'person': {'first_name': 'Bert',\n",
       "     'last_name': 'Hogue',\n",
       "     'permalink': 'bert-hogue'}},\n",
       "   {'is_past': True,\n",
       "    'title': 'CFO/ CRO',\n",
       "    'person': {'first_name': 'Brian',\n",
       "     'last_name': 'Watkins',\n",
       "     'permalink': 'brian-watkins'}},\n",
       "   {'is_past': True,\n",
       "    'title': 'Senior Vice President, Marketing',\n",
       "    'person': {'first_name': 'Rob',\n",
       "     'last_name': 'Grady',\n",
       "     'permalink': 'rob-grady'}},\n",
       "   {'is_past': True,\n",
       "    'title': 'VP, Technology and Product',\n",
       "    'person': {'first_name': 'Werner',\n",
       "     'last_name': 'Koepf',\n",
       "     'permalink': 'werner-koepf'}},\n",
       "   {'is_past': True,\n",
       "    'title': 'VP Marketing',\n",
       "    'person': {'first_name': 'Kevin',\n",
       "     'last_name': 'Flaherty',\n",
       "     'permalink': 'kevin-flaherty'}},\n",
       "   {'is_past': True,\n",
       "    'title': 'VP User Experience',\n",
       "    'person': {'first_name': 'Alex',\n",
       "     'last_name': 'Berg',\n",
       "     'permalink': 'alex-berg'}},\n",
       "   {'is_past': True,\n",
       "    'title': 'VP Engineering',\n",
       "    'person': {'first_name': 'Steve',\n",
       "     'last_name': 'McQuade',\n",
       "     'permalink': 'steve-mcquade'}},\n",
       "   {'is_past': True,\n",
       "    'title': 'Executive Editor',\n",
       "    'person': {'first_name': 'Susan',\n",
       "     'last_name': 'Mulcahy',\n",
       "     'permalink': 'susan-mulcahy'}},\n",
       "   {'is_past': True,\n",
       "    'title': 'VP Business Development',\n",
       "    'person': {'first_name': 'Chris',\n",
       "     'last_name': 'Kollas',\n",
       "     'permalink': 'chris-kollas'}}],\n",
       "  'competitions': [{'competitor': {'name': 'Wikia', 'permalink': 'wikia'}},\n",
       "   {'competitor': {'name': 'JotSpot', 'permalink': 'jotspot'}},\n",
       "   {'competitor': {'name': 'Socialtext', 'permalink': 'socialtext'}},\n",
       "   {'competitor': {'name': 'Ning by Glam Media', 'permalink': 'ning'}},\n",
       "   {'competitor': {'name': 'Soceeo', 'permalink': 'soceeo'}},\n",
       "   {'competitor': {'name': 'Yola', 'permalink': 'yola'}},\n",
       "   {'competitor': {'name': 'SocialGO', 'permalink': 'socialgo'}},\n",
       "   {'competitor': {'name': 'IslamNor', 'permalink': 'islamnor'}}],\n",
       "  'providerships': [],\n",
       "  'total_money_raised': '$39.8M',\n",
       "  'funding_rounds': [{'id': 888,\n",
       "    'round_code': 'a',\n",
       "    'source_url': 'http://seattlepi.nwsource.com/business/246734_wiki02.html',\n",
       "    'source_description': '',\n",
       "    'raised_amount': 5250000,\n",
       "    'raised_currency_code': 'USD',\n",
       "    'funded_year': 2005,\n",
       "    'funded_month': 10,\n",
       "    'funded_day': 1,\n",
       "    'investments': [{'company': None,\n",
       "      'financial_org': {'name': 'Frazier Technology Ventures',\n",
       "       'permalink': 'frazier-technology-ventures'},\n",
       "      'person': None},\n",
       "     {'company': None,\n",
       "      'financial_org': {'name': 'Trinity Ventures',\n",
       "       'permalink': 'trinity-ventures'},\n",
       "      'person': None}]},\n",
       "   {'id': 889,\n",
       "    'round_code': 'b',\n",
       "    'source_url': 'http://pulse2.com/2007/01/09/wiki-builder-website-wetpaint-welcomes-95m-funding/',\n",
       "    'source_description': '',\n",
       "    'raised_amount': 9500000,\n",
       "    'raised_currency_code': 'USD',\n",
       "    'funded_year': 2007,\n",
       "    'funded_month': 1,\n",
       "    'funded_day': 1,\n",
       "    'investments': [{'company': None,\n",
       "      'financial_org': {'name': 'Accel Partners',\n",
       "       'permalink': 'accel-partners'},\n",
       "      'person': None},\n",
       "     {'company': None,\n",
       "      'financial_org': {'name': 'Frazier Technology Ventures',\n",
       "       'permalink': 'frazier-technology-ventures'},\n",
       "      'person': None},\n",
       "     {'company': None,\n",
       "      'financial_org': {'name': 'Trinity Ventures',\n",
       "       'permalink': 'trinity-ventures'},\n",
       "      'person': None}]},\n",
       "   {'id': 2312,\n",
       "    'round_code': 'c',\n",
       "    'source_url': 'http://www.accel.com/news/news_one_up.php?news_id=185',\n",
       "    'source_description': 'Accel',\n",
       "    'raised_amount': 25000000,\n",
       "    'raised_currency_code': 'USD',\n",
       "    'funded_year': 2008,\n",
       "    'funded_month': 5,\n",
       "    'funded_day': 19,\n",
       "    'investments': [{'company': None,\n",
       "      'financial_org': {'name': 'DAG Ventures', 'permalink': 'dag-ventures'},\n",
       "      'person': None},\n",
       "     {'company': None,\n",
       "      'financial_org': {'name': 'Accel Partners',\n",
       "       'permalink': 'accel-partners'},\n",
       "      'person': None},\n",
       "     {'company': None,\n",
       "      'financial_org': {'name': 'Trinity Ventures',\n",
       "       'permalink': 'trinity-ventures'},\n",
       "      'person': None},\n",
       "     {'company': None,\n",
       "      'financial_org': {'name': 'Frazier Technology Ventures',\n",
       "       'permalink': 'frazier-technology-ventures'},\n",
       "      'person': None}]}],\n",
       "  'investments': [],\n",
       "  'acquisition': {'price_amount': 30000000,\n",
       "   'price_currency_code': 'USD',\n",
       "   'term_code': 'cash_and_stock',\n",
       "   'source_url': 'http://allthingsd.com/20131216/viggle-tries-to-bulk-up-its-social-tv-business-by-buying-wetpaint/?mod=atdtweet',\n",
       "   'source_description': ' Viggle Tries to Bulk Up Its Social TV Business by Buying Wetpaint',\n",
       "   'acquired_year': 2013,\n",
       "   'acquired_month': 12,\n",
       "   'acquired_day': 16,\n",
       "   'acquiring_company': {'name': 'Viggle', 'permalink': 'viggle'}},\n",
       "  'acquisitions': [],\n",
       "  'offices': [{'description': '',\n",
       "    'address1': '710 - 2nd Avenue',\n",
       "    'address2': 'Suite 1100',\n",
       "    'zip_code': '98104',\n",
       "    'city': 'Seattle',\n",
       "    'state_code': 'WA',\n",
       "    'country_code': 'USA',\n",
       "    'latitude': 47.603122,\n",
       "    'longitude': -122.333253},\n",
       "   {'description': '',\n",
       "    'address1': '270 Lafayette Street',\n",
       "    'address2': 'Suite 505',\n",
       "    'zip_code': '10012',\n",
       "    'city': 'New York',\n",
       "    'state_code': 'NY',\n",
       "    'country_code': 'USA',\n",
       "    'latitude': 40.7237306,\n",
       "    'longitude': -73.9964312}],\n",
       "  'milestones': [{'id': 5869,\n",
       "    'description': \"Wetpaint named in Lead411's Hottest Seattle Companies list\",\n",
       "    'stoned_year': 2010,\n",
       "    'stoned_month': 6,\n",
       "    'stoned_day': 8,\n",
       "    'source_url': 'http://www.lead411.com/seattle-companies.html',\n",
       "    'source_text': None,\n",
       "    'source_description': 'LEAD411 LAUNCHES \"HOTTEST SEATTLE COMPANIES\" AWARDS',\n",
       "    'stoneable_type': 'Company',\n",
       "    'stoned_value': None,\n",
       "    'stoned_value_type': None,\n",
       "    'stoned_acquirer': None,\n",
       "    'stoneable': {'name': 'Wetpaint', 'permalink': 'wetpaint'}},\n",
       "   {'id': 8702,\n",
       "    'description': 'Site-Builder Wetpaint Makes One For Itself, Using the Demand Media Playbook',\n",
       "    'stoned_year': 2010,\n",
       "    'stoned_month': 9,\n",
       "    'stoned_day': 6,\n",
       "    'source_url': 'http://mediamemo.allthingsd.com/20100906/site-builder-wetpaint-makes-one-for-itself-using-the-demand-media-playbook/',\n",
       "    'source_text': None,\n",
       "    'source_description': 'All Things D',\n",
       "    'stoneable_type': 'Company',\n",
       "    'stoned_value': None,\n",
       "    'stoned_value_type': None,\n",
       "    'stoned_acquirer': None,\n",
       "    'stoneable': {'name': 'Wetpaint', 'permalink': 'wetpaint'}}],\n",
       "  'video_embeds': [],\n",
       "  'screenshots': [{'available_sizes': [[[150, 86],\n",
       "      'assets/images/resized/0016/0929/160929v2-max-150x150.png'],\n",
       "     [[250, 143], 'assets/images/resized/0016/0929/160929v2-max-250x250.png'],\n",
       "     [[450, 258], 'assets/images/resized/0016/0929/160929v2-max-450x450.png']],\n",
       "    'attribution': None}],\n",
       "  'external_links': [{'external_url': 'http://www.geekwire.com/2011/rewind-ben-elowitz-wetpaint-ceo-building-type-media-company',\n",
       "    'title': 'GeekWire interview: Rewind - Ben Elowitz, Wetpaint CEO, on building a new type of media company'},\n",
       "   {'external_url': 'http://techcrunch.com/2012/06/17/search-and-social-how-two-will-soon-become-one/',\n",
       "    'title': 'Guest post by CEO Ben Elowitz in TechCrunch'},\n",
       "   {'external_url': 'http://allthingsd.com/20120516/what-to-expect-when-facebook-is-expecting-five-predictions-for-facebooks-first-public-year/',\n",
       "    'title': 'Guest post by CEO Ben Elowitz in AllThingsD'},\n",
       "   {'external_url': 'http://adage.com/article/digitalnext/facebook-biggest-player-advertising-s-540-billion-world/235708/',\n",
       "    'title': 'Guest post by CEO Ben Elowitz in AdAge'},\n",
       "   {'external_url': 'http://www.businessinsider.com/facebook-captures-14-percent-of-our-online-attention-but-only-4-percent-of-ad-spending-online-2012-6',\n",
       "    'title': 'Guest post by CEO Ben Elowitz in Business Insider'},\n",
       "   {'external_url': 'http://allfacebook.com/wetpaint-media-data_b75963',\n",
       "    'title': 'AllFacebook coverage of Wetpaint'},\n",
       "   {'external_url': 'http://adage.com/article/digital/celeb-site-wetpaint-shows-media-profit-facebook/237828/',\n",
       "    'title': 'Profile of Wetpaint in Ad Age'},\n",
       "   {'external_url': 'http://allthingsd.com/20121018/how-to-boost-your-facebook-traffic-tips-and-tricks-from-wetpaint/',\n",
       "    'title': 'Interview with Wetpaint CEO Ben Elowitz in All Things D'},\n",
       "   {'external_url': 'http://www.xconomy.com/seattle/2012/10/19/wetpaint-starts-licensing-its-facebook-based-media-distribution-tech/',\n",
       "    'title': 'Profile of Wetpaint in Xconomy'}],\n",
       "  'partners': []},\n",
       " {'_id': ObjectId('52cdef7c4bab8bd675297d8b'),\n",
       "  'name': 'AdventNet',\n",
       "  'permalink': 'abc3',\n",
       "  'crunchbase_url': 'http://www.crunchbase.com/company/adventnet',\n",
       "  'homepage_url': 'http://adventnet.com',\n",
       "  'blog_url': '',\n",
       "  'blog_feed_url': '',\n",
       "  'twitter_username': 'manageengine',\n",
       "  'category_code': 'enterprise',\n",
       "  'number_of_employees': 600,\n",
       "  'founded_year': 1996,\n",
       "  'deadpooled_year': 2,\n",
       "  'tag_list': '',\n",
       "  'alias_list': 'Zoho ManageEngine ',\n",
       "  'email_address': 'pr@adventnet.com',\n",
       "  'phone_number': '925-924-9500',\n",
       "  'description': 'Server Management Software',\n",
       "  'created_at': datetime.datetime(2007, 5, 25, 19, 24, 22),\n",
       "  'updated_at': 'Wed Oct 31 18:26:09 UTC 2012',\n",
       "  'overview': '<p>AdventNet is now <a href=\"/company/zoho-manageengine\" title=\"Zoho ManageEngine\" rel=\"nofollow\">Zoho ManageEngine</a>.</p>\\n\\n<p>Founded in 1996, AdventNet has served a diverse range of enterprise IT, networking and telecom customers.</p>\\n\\n<p>AdventNet supplies server and network management software.</p>',\n",
       "  'image': {'available_sizes': [[[150, 55],\n",
       "     'assets/images/resized/0001/9732/19732v1-max-150x150.png'],\n",
       "    [[150, 55], 'assets/images/resized/0001/9732/19732v1-max-250x250.png'],\n",
       "    [[150, 55], 'assets/images/resized/0001/9732/19732v1-max-450x450.png']]},\n",
       "  'products': [],\n",
       "  'relationships': [{'is_past': True,\n",
       "    'title': 'CEO and Co-Founder',\n",
       "    'person': {'first_name': 'Sridhar',\n",
       "     'last_name': 'Vembu',\n",
       "     'permalink': 'sridhar-vembu'}},\n",
       "   {'is_past': True,\n",
       "    'title': 'VP of Business Dev',\n",
       "    'person': {'first_name': 'Neil',\n",
       "     'last_name': 'Butani',\n",
       "     'permalink': 'neil-butani'}},\n",
       "   {'is_past': True,\n",
       "    'title': 'Usabiliy Engineer',\n",
       "    'person': {'first_name': 'Bharath',\n",
       "     'last_name': 'Balasubramanian',\n",
       "     'permalink': 'bharath-balasibramanian'}},\n",
       "   {'is_past': True,\n",
       "    'title': 'Director of Engineering',\n",
       "    'person': {'first_name': 'Rajendran',\n",
       "     'last_name': 'Dandapani',\n",
       "     'permalink': 'rajendran-dandapani'}},\n",
       "   {'is_past': True,\n",
       "    'title': 'Market Analyst',\n",
       "    'person': {'first_name': 'Aravind',\n",
       "     'last_name': 'Natarajan',\n",
       "     'permalink': 'aravind-natarajan'}},\n",
       "   {'is_past': True,\n",
       "    'title': 'Director of Product Management',\n",
       "    'person': {'first_name': 'Hyther',\n",
       "     'last_name': 'Nizam',\n",
       "     'permalink': 'hyther-nizam'}},\n",
       "   {'is_past': True,\n",
       "    'title': 'Western Regional OEM Sales Manager',\n",
       "    'person': {'first_name': 'Ian',\n",
       "     'last_name': 'Wenig',\n",
       "     'permalink': 'ian-wenig'}}],\n",
       "  'competitions': [],\n",
       "  'providerships': [{'title': 'DHFH',\n",
       "    'is_past': True,\n",
       "    'provider': {'name': 'A Small Orange', 'permalink': 'a-small-orange'}}],\n",
       "  'total_money_raised': '$0',\n",
       "  'funding_rounds': [],\n",
       "  'investments': [],\n",
       "  'acquisition': None,\n",
       "  'acquisitions': [],\n",
       "  'offices': [{'description': 'Headquarters',\n",
       "    'address1': '4900 Hopyard Rd.',\n",
       "    'address2': 'Suite 310',\n",
       "    'zip_code': '94588',\n",
       "    'city': 'Pleasanton',\n",
       "    'state_code': 'CA',\n",
       "    'country_code': 'USA',\n",
       "    'latitude': 37.692934,\n",
       "    'longitude': -121.904945}],\n",
       "  'milestones': [],\n",
       "  'video_embeds': [],\n",
       "  'screenshots': [{'available_sizes': [[[150, 94],\n",
       "      'assets/images/resized/0004/3400/43400v1-max-150x150.png'],\n",
       "     [[250, 156], 'assets/images/resized/0004/3400/43400v1-max-250x250.png'],\n",
       "     [[450, 282], 'assets/images/resized/0004/3400/43400v1-max-450x450.png']],\n",
       "    'attribution': None}],\n",
       "  'external_links': [],\n",
       "  'partners': []},\n",
       " {'_id': ObjectId('52cdef7c4bab8bd675297d8c'),\n",
       "  'name': 'Zoho',\n",
       "  'permalink': 'abc4',\n",
       "  'crunchbase_url': 'http://www.crunchbase.com/company/zoho',\n",
       "  'homepage_url': 'http://zoho.com',\n",
       "  'blog_url': 'http://blogs.zoho.com/',\n",
       "  'blog_feed_url': 'http://blogs.zoho.com/feed',\n",
       "  'twitter_username': 'zoho',\n",
       "  'category_code': 'software',\n",
       "  'number_of_employees': 1600,\n",
       "  'founded_year': 2005,\n",
       "  'founded_month': 9,\n",
       "  'founded_day': 15,\n",
       "  'deadpooled_year': 3,\n",
       "  'tag_list': 'zoho, officesuite, spreadsheet, writer, projects, sheet, crm, show, creator, wiki, planner, suite, notebook, chat, meeting, mail',\n",
       "  'alias_list': '',\n",
       "  'email_address': 'info@zohocorp.com',\n",
       "  'phone_number': '1-888-204-3539',\n",
       "  'description': 'Online Business Apps Suite',\n",
       "  'created_at': 'Fri May 25 19:30:28 UTC 2007',\n",
       "  'updated_at': 'Wed Oct 30 00:07:05 UTC 2013',\n",
       "  'overview': '<p>Zoho offers a suite of Business, Collaboration &amp; Productivity applications. Apps include CRM, Customer Support, Office Suite, Email Hosting, Project Management, Accounting, App Creator among many others. </p>\\n\\n<p>Zoho&#8217;s parent company is Zoho Corp (previously AdventNet), &#8220;a software company started in 1996 focusing on building quality and affordable software for businesses.&#8221; </p>\\n\\n<p>Zoho&#8217;s main competitors are <a href=\"/company/google\" title=\"Google\" rel=\"nofollow\">Google</a> Docs &amp; Spreadsheets, Salesforce as well as <a href=\"/company/microsoft\" title=\"Microsoft\" rel=\"nofollow\">Microsoft</a> Office.</p>',\n",
       "  'image': {'available_sizes': [[[150, 55],\n",
       "     'assets/images/resized/0000/3946/3946v12-max-150x150.png'],\n",
       "    [[250, 92], 'assets/images/resized/0000/3946/3946v12-max-250x250.png'],\n",
       "    [[435, 161], 'assets/images/resized/0000/3946/3946v12-max-450x450.png']]},\n",
       "  'products': [{'name': 'Zoho Office Suite', 'permalink': 'zoho-office-suite'},\n",
       "   {'name': 'Zoho CRM', 'permalink': 'zoho-crm'},\n",
       "   {'name': 'Zoho Assist', 'permalink': 'zoho-assist'}],\n",
       "  'relationships': [{'is_past': False,\n",
       "    'title': 'CEO and Founder',\n",
       "    'person': {'first_name': 'Sridhar',\n",
       "     'last_name': 'Vembu',\n",
       "     'permalink': 'sridhar-vembu'}},\n",
       "   {'is_past': False,\n",
       "    'title': 'VP Product Managment',\n",
       "    'person': {'first_name': 'Hyther',\n",
       "     'last_name': 'Nizam',\n",
       "     'permalink': 'hyther-nizam'}},\n",
       "   {'is_past': False,\n",
       "    'title': 'VP Marketing',\n",
       "    'person': {'first_name': 'Rodrigo',\n",
       "     'last_name': 'Vaca',\n",
       "     'permalink': 'rodrigo-vaca'}},\n",
       "   {'is_past': False,\n",
       "    'title': 'Evangelist',\n",
       "    'person': {'first_name': 'Raju',\n",
       "     'last_name': 'Vegesna',\n",
       "     'permalink': 'raju-vegesna'}},\n",
       "   {'is_past': False,\n",
       "    'title': 'Director of Product Managment',\n",
       "    'person': {'first_name': 'Gibu',\n",
       "     'last_name': 'Mathew',\n",
       "     'permalink': 'gibu-mathew'}},\n",
       "   {'is_past': False,\n",
       "    'title': 'VP Opration',\n",
       "    'person': {'first_name': 'Neil',\n",
       "     'last_name': 'Butani',\n",
       "     'permalink': 'neil-butani'}},\n",
       "   {'is_past': False,\n",
       "    'title': 'Director Of Engineering',\n",
       "    'person': {'first_name': 'Rajendran',\n",
       "     'last_name': 'Dandapani',\n",
       "     'permalink': 'rajendran-dandapani'}},\n",
       "   {'is_past': False,\n",
       "    'title': 'President',\n",
       "    'person': {'first_name': 'Raj',\n",
       "     'last_name': 'Sabhlok',\n",
       "     'permalink': 'raj-sabhlok'}},\n",
       "   {'is_past': False,\n",
       "    'title': 'GM Marketing',\n",
       "    'person': {'first_name': 'Mouttou',\n",
       "     'last_name': 'Sidambaram',\n",
       "     'permalink': 'mouttou-sidambaram'}},\n",
       "   {'is_past': False,\n",
       "    'title': 'Director of Product Management',\n",
       "    'person': {'first_name': 'Rajesh',\n",
       "     'last_name': 'Ganesan',\n",
       "     'permalink': 'rajesh-ganesan'}},\n",
       "   {'is_past': False,\n",
       "    'title': 'Marketing / Business Development Executive',\n",
       "    'person': {'first_name': 'Aravind',\n",
       "     'last_name': 'Natarajan',\n",
       "     'permalink': 'aravind-natarajan'}},\n",
       "   {'is_past': True,\n",
       "    'title': 'Senior Director Strategic Alliances',\n",
       "    'person': {'first_name': 'Ian',\n",
       "     'last_name': 'Wenig',\n",
       "     'permalink': 'ian-wenig'}},\n",
       "   {'is_past': True,\n",
       "    'title': 'Project Manager',\n",
       "    'person': {'first_name': 'Rajkumar',\n",
       "     'last_name': 'Radhakrishnan',\n",
       "     'permalink': 'rajkumar-radhakrishnan'}},\n",
       "   {'is_past': True,\n",
       "    'title': 'Technical Architect',\n",
       "    'person': {'first_name': 'KP',\n",
       "     'last_name': 'Saravanan',\n",
       "     'permalink': 'kp-saravanan'}},\n",
       "   {'is_past': True,\n",
       "    'title': 'Member, Technical Staff',\n",
       "    'person': {'first_name': 'Thiyagarajan',\n",
       "     'last_name': 'T',\n",
       "     'permalink': 'thiyagarajan-t'}},\n",
       "   {'is_past': True,\n",
       "    'title': 'Software Architect & Project Manager',\n",
       "    'person': {'first_name': 'Rajkumar',\n",
       "     'last_name': 'Radhakrishnan',\n",
       "     'permalink': 'rajkumar-radhakrishnan'}},\n",
       "   {'is_past': True,\n",
       "    'title': 'Director, Professional Services',\n",
       "    'person': {'first_name': 'Thomas',\n",
       "     'last_name': 'DiGrazia',\n",
       "     'permalink': 'thomas-digrazia'}},\n",
       "   {'is_past': True,\n",
       "    'title': 'Technical Architect',\n",
       "    'person': {'first_name': 'Rajaraman',\n",
       "     'last_name': 'S',\n",
       "     'permalink': 'rajaraman-s'}}],\n",
       "  'competitions': [{'competitor': {'name': 'Empressr',\n",
       "     'permalink': 'empressr'}},\n",
       "   {'competitor': {'name': 'Transmedia Corporation',\n",
       "     'permalink': 'transmedia'}},\n",
       "   {'competitor': {'name': 'Live Documents', 'permalink': 'livedocuments'}},\n",
       "   {'competitor': {'name': 'LongJump', 'permalink': 'longjump'}},\n",
       "   {'competitor': {'name': 'Phuser', 'permalink': 'phuser'}},\n",
       "   {'competitor': {'name': 'NetSuite', 'permalink': 'netsuite'}},\n",
       "   {'competitor': {'name': 'Google', 'permalink': 'google'}},\n",
       "   {'competitor': {'name': 'Flypaper', 'permalink': 'flypaper'}},\n",
       "   {'competitor': {'name': 'MovingLabs', 'permalink': 'movinglabs'}},\n",
       "   {'competitor': {'name': 'Ephox', 'permalink': 'ephox'}},\n",
       "   {'competitor': {'name': 'Coghead', 'permalink': 'coghead'}},\n",
       "   {'competitor': {'name': 'SlideRocket', 'permalink': 'sliderocket'}},\n",
       "   {'competitor': {'name': 'Cozimo', 'permalink': 'cozimo'}},\n",
       "   {'competitor': {'name': 'Nordic River', 'permalink': 'textflow'}},\n",
       "   {'competitor': {'name': 'Iceberg', 'permalink': 'iceberg'}},\n",
       "   {'competitor': {'name': 'Thinkfree', 'permalink': 'thinkfree'}},\n",
       "   {'competitor': {'name': 'Bizroof', 'permalink': 'bizroof'}},\n",
       "   {'competitor': {'name': 'Wolf Frameworks', 'permalink': 'wolf-frameworks'}},\n",
       "   {'competitor': {'name': '280 North', 'permalink': '280-north'}},\n",
       "   {'competitor': {'name': 'Workday', 'permalink': 'workday'}},\n",
       "   {'competitor': {'name': 'coAction.com', 'permalink': 'coaction-com'}},\n",
       "   {'competitor': {'name': 'INES CRM', 'permalink': 'ines-crm'}},\n",
       "   {'competitor': {'name': 'OpenERP', 'permalink': 'openerp'}},\n",
       "   {'competitor': {'name': 'Gurron', 'permalink': 'gurron'}},\n",
       "   {'competitor': {'name': 'LiquidPlanner', 'permalink': 'liquidplanner'}},\n",
       "   {'competitor': {'name': 'Helpshift, Inc.', 'permalink': 'helpshift-inc'}}],\n",
       "  'providerships': [],\n",
       "  'total_money_raised': '$0',\n",
       "  'funding_rounds': [],\n",
       "  'investments': [],\n",
       "  'acquisition': None,\n",
       "  'acquisitions': [],\n",
       "  'offices': [{'description': 'Headquarters',\n",
       "    'address1': '4900 Hopyard Rd',\n",
       "    'address2': 'Suite 310',\n",
       "    'zip_code': '94588',\n",
       "    'city': 'Pleasanton',\n",
       "    'state_code': 'CA',\n",
       "    'country_code': 'USA',\n",
       "    'latitude': 37.692934,\n",
       "    'longitude': -121.904945}],\n",
       "  'milestones': [{'id': 388,\n",
       "    'description': 'Zoho Reaches 2 Million Users',\n",
       "    'stoned_year': 2008,\n",
       "    'stoned_month': 8,\n",
       "    'stoned_day': 7,\n",
       "    'source_url': '',\n",
       "    'source_text': \"Mike,\\r\\n\\r\\nTomorrow @ 6AM PST, we are announcing that we now have 1 Million users. User registration stats are attached.\\r\\n\\r\\nIt took us 1 Year to get the first 100K users, 6 Months to get the second 100K, 4 Months to get the third etc. In the last 1 year we added 700K new users. The pace has been increasing.\\r\\n\\r\\nThe registration numbers really jumped after we added support for Google & Yahoo users. Currently over 30% of our users are coming from Google/Yahoo accounts (with more Google users than Yahoo users).\\r\\n\\r\\nI'd love to provide more information on this.\\r\\n\\r\\nRaju\\r\\n\\r\\n\",\n",
       "    'source_description': '',\n",
       "    'stoneable_type': 'Company',\n",
       "    'stoned_value': None,\n",
       "    'stoned_value_type': None,\n",
       "    'stoned_acquirer': None,\n",
       "    'stoneable': {'name': 'Zoho', 'permalink': 'zoho'}},\n",
       "   {'id': 6577,\n",
       "    'description': 'Zoho Calendar Steps Out Of Beta With Sharing, Subscribing And More',\n",
       "    'stoned_year': 2010,\n",
       "    'stoned_month': 7,\n",
       "    'stoned_day': 7,\n",
       "    'source_url': 'http://techcrunch.com/2010/07/07/zoho-calendar-steps-out-of-beta-with-sharing-subscribing-and-more/',\n",
       "    'source_text': '',\n",
       "    'source_description': 'Zoho Calendar Steps Out Of Beta With Sharing, Subscribing And More',\n",
       "    'stoneable_type': 'Company',\n",
       "    'stoned_value': None,\n",
       "    'stoned_value_type': None,\n",
       "    'stoned_acquirer': None,\n",
       "    'stoneable': {'name': 'Zoho', 'permalink': 'zoho'}},\n",
       "   {'id': 7360,\n",
       "    'description': 'Zoho Reports Steps Out Of Beta With Pricing Model And New Features',\n",
       "    'stoned_year': 2009,\n",
       "    'stoned_month': 12,\n",
       "    'stoned_day': 15,\n",
       "    'source_url': 'http://techcrunch.com/2009/12/15/zoho-reports-steps-out-of-beta-with-pricing-model-and-new-features/',\n",
       "    'source_text': None,\n",
       "    'source_description': 'Zoho Reports Steps Out Of Beta',\n",
       "    'stoneable_type': 'Company',\n",
       "    'stoned_value': None,\n",
       "    'stoned_value_type': None,\n",
       "    'stoned_acquirer': None,\n",
       "    'stoneable': {'name': 'Zoho', 'permalink': 'zoho'}}],\n",
       "  'video_embeds': [{'embed_code': '<object width=\"430\" height=\"270\"><param name=\"movie\" value=\"http://www.youtube.com/v/KgNcHyuo2MU&hl=en\"></param><param name=\"wmode\" value=\"transparent\"></param><embed src=\"http://www.youtube.com/v/KgNcHyuo2MU&hl=en\" type=\"application/x-shockwave-flash\" wmode=\"transparent\" width=\"430\" height=\"270\"></embed></object>',\n",
       "    'description': '<p><a href=\"http://pitches.techcrunch.com/pitch/10-zoho\" title=\"Zoho&#8217;s pitch\">Zoho&#8217;s pitch</a> from TechCrunch Elevator Pitches</p>'},\n",
       "   {'embed_code': '<embed src=\"http://blip.tv/play/hRbO5CAA\" type=\"application/x-shockwave-flash\" width=\"430\" height=\"270\" allowscriptaccess=\"always\" allowfullscreen=\"true\"></embed>',\n",
       "    'description': '<p>This video was originally published on <a href=\"http://www.beet.tv/2008/09/zoho-web-apps-c.html\" title=\"Beet.TV\" rel=\"nofollow\">Beet.TV</a></p>'},\n",
       "   {'embed_code': '<object width=\"430\" height=\"270\"><param name=\"movie\" value=\"http://www.youtube.com/v/3RD_3wooRjI&color1=0xb1b1b1&color2=0xcfcfcf&hl=en_US&feature=player_embedded&fs=1\"></param><param name=\"allowFullScreen\" value=\"true\"></param><param name=\"allowScriptAccess\" value=\"always\"></param><embed src=\"http://www.youtube.com/v/3RD_3wooRjI&color1=0xb1b1b1&color2=0xcfcfcf&hl=en_US&feature=player_embedded&fs=1\" type=\"application/x-shockwave-flash\" allowfullscreen=\"true\" allowScriptAccess=\"always\" width=\"430\" height=\"270\"></embed></object>',\n",
       "    'description': ''}],\n",
       "  'screenshots': [],\n",
       "  'external_links': [{'external_url': 'http://www.online-tech-tips.com/cool-websites/zoho-free-online-office-applications-word-processor-spreadsheets-etc/',\n",
       "    'title': 'Zoho Overview'},\n",
       "   {'external_url': 'http://www.online-tech-tips.com/cool-websites/free-online-web-meetings/',\n",
       "    'title': 'Zoho Meeting Review'},\n",
       "   {'external_url': 'http://mashpedia.com/Zoho', 'title': 'Zoho at Mashpedia'},\n",
       "   {'external_url': 'http://www.sitebuilderreport.com/reviews/zoho-sites/our-review',\n",
       "    'title': 'Zoho Sites Review'},\n",
       "   {'external_url': 'http://www.sitebuilderreport.com/reviews/zoho-sites/our-review',\n",
       "    'title': 'Zoho Sites Review'},\n",
       "   {'external_url': 'http://www.sitebuilderreport.com/reviews/zoho-sites/our-review',\n",
       "    'title': 'Zoho Sites Review'}],\n",
       "  'partners': []}]"
      ]
     },
     "execution_count": 133,
     "metadata": {},
     "output_type": "execute_result"
    }
   ],
   "source": [
    "q1 = {\"category_code\":{\"$ne\":\"null\"}}\n",
    "\n",
    "\n",
    "list(c.find(q1).limit(3))"
   ]
  },
  {
   "cell_type": "markdown",
   "metadata": {},
   "source": [
    "### 8. All the companies that have at least 100 employees but less than 1000. Retrieve only the `name` and `number of employees` fields."
   ]
  },
  {
   "cell_type": "code",
   "execution_count": 80,
   "metadata": {},
   "outputs": [
    {
     "data": {
      "text/plain": [
       "[{'_id': ObjectId('52cdef7c4bab8bd675297e44'),\n",
       "  'name': 'hi5',\n",
       "  'number_of_employees': 100},\n",
       " {'_id': ObjectId('52cdef7c4bab8bd675297e27'),\n",
       "  'name': 'Simply Hired',\n",
       "  'number_of_employees': 100},\n",
       " {'_id': ObjectId('52cdef7c4bab8bd675297e19'),\n",
       "  'name': 'Redfin',\n",
       "  'number_of_employees': 100}]"
      ]
     },
     "execution_count": 80,
     "metadata": {},
     "output_type": "execute_result"
    }
   ],
   "source": [
    "q1 = {\"number_of_employees\":{\"$gte\":100}}\n",
    "q2 = {\"number_of_employees\":{\"$lte\":1000}}\n",
    "proj = {\"name\":1,\"number_of_employees\":1}\n",
    "\n",
    "list(c.find({\"$and\": [q1, q2]}, proj).sort(\"number_of_employees\").limit(3))\n",
    "# Utilizo el proj para que solo me de los nombres y no me saque todos los datos."
   ]
  },
  {
   "cell_type": "markdown",
   "metadata": {},
   "source": [
    "### 9. Order all the companies by their IPO price in a descending order."
   ]
  },
  {
   "cell_type": "code",
   "execution_count": 79,
   "metadata": {},
   "outputs": [
    {
     "data": {
      "text/plain": [
       "[]"
      ]
     },
     "execution_count": 79,
     "metadata": {},
     "output_type": "execute_result"
    }
   ],
   "source": [
    "list(c.find({\"ipo.price\":{\"$exists\":True}}).sort(\"ipo.price\", -1).limit(3))\n",
    "# Utilizo el proj para que solo me de los nombres y no me saque todos los datos."
   ]
  },
  {
   "cell_type": "markdown",
   "metadata": {},
   "source": [
    "### 10. Retrieve the 10 companies with more employees, order by the `number of employees`"
   ]
  },
  {
   "cell_type": "code",
   "execution_count": 78,
   "metadata": {},
   "outputs": [
    {
     "data": {
      "text/plain": [
       "[{'_id': ObjectId('52cdef7c4bab8bd675297d92'), 'name': 'Flektor'},\n",
       " {'_id': ObjectId('52cdef7c4bab8bd675297d8f'), 'name': 'Omnidrive'},\n",
       " {'_id': ObjectId('52cdef7c4bab8bd675297d90'), 'name': 'Postini'}]"
      ]
     },
     "execution_count": 78,
     "metadata": {},
     "output_type": "execute_result"
    }
   ],
   "source": [
    "list(c.find({\"number_of_employees\":{\"$exists\":True}},{\"name\":1}).sort(\"number_of_employees\").limit(3))\n",
    "# Utilizo el proj para que solo me de los nombres y no me saque todos los datos."
   ]
  },
  {
   "cell_type": "markdown",
   "metadata": {},
   "source": [
    "### 11. All the companies founded on the second semester of the year. Limit your search to 1000 companies."
   ]
  },
  {
   "cell_type": "code",
   "execution_count": 77,
   "metadata": {},
   "outputs": [
    {
     "data": {
      "text/plain": [
       "[{'_id': ObjectId('52cdef7c4bab8bd675297d8a'), 'name': 'Wetpaint'},\n",
       " {'_id': ObjectId('52cdef7c4bab8bd675297d8c'), 'name': 'Zoho'},\n",
       " {'_id': ObjectId('52cdef7c4bab8bd675297d8d'), 'name': 'Digg'}]"
      ]
     },
     "execution_count": 77,
     "metadata": {},
     "output_type": "execute_result"
    }
   ],
   "source": [
    "q1 = {\"founded_month\":{\"$gte\":6}}\n",
    "proj = {\"name\":1}\n",
    "\n",
    "list(c.find(q1,proj).limit(3))\n",
    "# Utilizo el proj para que solo me de los nombres y no me saque todos los datos."
   ]
  },
  {
   "cell_type": "markdown",
   "metadata": {},
   "source": [
    "### 12. All the companies founded before 2000 that have an acquisition amount of more than 10.000.00"
   ]
  },
  {
   "cell_type": "code",
   "execution_count": 76,
   "metadata": {},
   "outputs": [
    {
     "data": {
      "text/plain": [
       "[{'_id': ObjectId('52cdef7c4bab8bd675297d90'), 'name': 'Postini'},\n",
       " {'_id': ObjectId('52cdef7c4bab8bd675297deb'), 'name': 'SideStep'},\n",
       " {'_id': ObjectId('52cdef7c4bab8bd675297e2c'), 'name': 'Recipezaar'}]"
      ]
     },
     "execution_count": 76,
     "metadata": {},
     "output_type": "execute_result"
    }
   ],
   "source": [
    "q1 = {\"founded_year\":{\"$lt\":2000}}\n",
    "q2 = {\"acquisition.price_amount\":{\"$gt\":10000000}}\n",
    "proj = {\"name\":1}\n",
    "\n",
    "list(c.find({\"$and\": [q1, q2]},proj).limit(3))\n",
    "# Utilizo el proj para que solo me de los nombres y no me saque todos los datos."
   ]
  },
  {
   "cell_type": "markdown",
   "metadata": {},
   "source": [
    "### 13. All the companies that have been acquired after 2010, order by the acquisition amount, and retrieve only their `name` and `acquisition` field."
   ]
  },
  {
   "cell_type": "code",
   "execution_count": 118,
   "metadata": {},
   "outputs": [
    {
     "data": {
      "text/plain": [
       "[{'_id': ObjectId('52cdef7c4bab8bd675297dbf'),\n",
       "  'name': 'blogTV',\n",
       "  'acquisition': {'price_amount': None,\n",
       "   'price_currency_code': 'USD',\n",
       "   'term_code': None,\n",
       "   'source_url': 'http://techcrunch.com/2013/03/13/younow-buys-blogtv/',\n",
       "   'source_description': 'Live Social Video Network YouNow Acquires Streaming Service BlogTV',\n",
       "   'acquired_year': 2013,\n",
       "   'acquired_month': 3,\n",
       "   'acquired_day': 13,\n",
       "   'acquiring_company': {'name': 'YouNow', 'permalink': 'younow'}}},\n",
       " {'_id': ObjectId('52cdef7c4bab8bd675297dab'),\n",
       "  'name': 'Kyte',\n",
       "  'acquisition': {'price_amount': None,\n",
       "   'price_currency_code': 'USD',\n",
       "   'term_code': None,\n",
       "   'source_url': 'http://techcrunch.com/2011/01/31/exclusive-kit-digital-acquires-kickapps-kewego-and-kyte-for-77-2-million/',\n",
       "   'source_description': 'KIT digital Acquires KickApps, Kewego AND Kyte For $77.2 Million',\n",
       "   'acquired_year': 2011,\n",
       "   'acquired_month': 1,\n",
       "   'acquired_day': 31,\n",
       "   'acquiring_company': {'name': 'KIT digital', 'permalink': 'kit-digital'}}},\n",
       " {'_id': ObjectId('52cdef7c4bab8bd675297d91'),\n",
       "  'name': 'Geni',\n",
       "  'acquisition': {'price_amount': None,\n",
       "   'price_currency_code': 'USD',\n",
       "   'term_code': None,\n",
       "   'source_url': 'http://techcrunch.com/2012/11/28/all-in-the-family-myheritage-buys-former-yammer-stablemate-geni-com-raises-25m/',\n",
       "   'source_description': 'MyHeritage acquires Geni and $25M to build family tree of the whole world',\n",
       "   'acquired_year': 2012,\n",
       "   'acquired_month': 11,\n",
       "   'acquired_day': 28,\n",
       "   'acquiring_company': {'name': 'MyHeritage', 'permalink': 'myheritage'}}}]"
      ]
     },
     "execution_count": 118,
     "metadata": {},
     "output_type": "execute_result"
    }
   ],
   "source": [
    "q1 = {\"acquisition.acquired_year\":{\"$gt\":2010}}\n",
    "proj = {\"name\":1,\"acquisition\":1}\n",
    "\n",
    "list(c.find(q1,proj).sort(\"acquisition.price_amount\").limit(3)) \n",
    "# Utilizo el proj para que solo me de los nombres y no me saque todos los datos."
   ]
  },
  {
   "cell_type": "markdown",
   "metadata": {},
   "source": [
    "### 14. Order the companies by their `founded year`, retrieving only their `name` and `founded year`."
   ]
  },
  {
   "cell_type": "code",
   "execution_count": 92,
   "metadata": {},
   "outputs": [
    {
     "data": {
      "text/plain": [
       "[{'_id': ObjectId('52cdef7c4bab8bd6752982d4'),\n",
       "  'name': 'Advaliant',\n",
       "  'founded_year': 2013},\n",
       " {'_id': ObjectId('52cdef7c4bab8bd67529801f'),\n",
       "  'name': 'Wamba',\n",
       "  'founded_year': 2013},\n",
       " {'_id': ObjectId('52cdef7c4bab8bd675297fec'),\n",
       "  'name': 'Fixya',\n",
       "  'founded_year': 2013}]"
      ]
     },
     "execution_count": 92,
     "metadata": {},
     "output_type": "execute_result"
    }
   ],
   "source": [
    "q1 = {\"founded_year\":{\"$exists\":True}}\n",
    "proj = {\"name\":1, \"founded_year\":1}\n",
    "\n",
    "list(c.find(q1, proj).sort(\"founded_year\", -1).limit(3))"
   ]
  },
  {
   "cell_type": "markdown",
   "metadata": {},
   "source": [
    "### 15. All the companies that have been founded on the first seven days of the month, including the seventh. Sort them by their `acquisition price` in a descending order. Limit the search to 10 documents."
   ]
  },
  {
   "cell_type": "code",
   "execution_count": 94,
   "metadata": {},
   "outputs": [
    {
     "data": {
      "text/plain": [
       "[{'_id': ObjectId('52cdef7d4bab8bd6752989a1'),\n",
       "  'name': 'Netscape',\n",
       "  'founded_day': 4,\n",
       "  'acquisition': {'price_amount': 4200000000}},\n",
       " {'_id': ObjectId('52cdef7c4bab8bd675297e89'),\n",
       "  'name': 'PayPal',\n",
       "  'founded_day': 1,\n",
       "  'acquisition': {'price_amount': 1500000000}},\n",
       " {'_id': ObjectId('52cdef7c4bab8bd675297efe'),\n",
       "  'name': 'Zappos',\n",
       "  'founded_day': 1,\n",
       "  'acquisition': {'price_amount': 1200000000}}]"
      ]
     },
     "execution_count": 94,
     "metadata": {},
     "output_type": "execute_result"
    }
   ],
   "source": [
    "q1 = {\"founded_day\":{\"$lte\":7}}\n",
    "proj = {\"name\":1, \"founded_day\":1, \"acquisition.price_amount\":1}\n",
    "\n",
    "list(c.find(q1, proj).sort(\"acquisition.price_amount\", -1).limit(3))"
   ]
  },
  {
   "cell_type": "markdown",
   "metadata": {},
   "source": [
    "### 16. All the companies on the 'web' `category` that have more than 4000 employees. Sort them by the amount of employees in ascending order."
   ]
  },
  {
   "cell_type": "code",
   "execution_count": 101,
   "metadata": {},
   "outputs": [
    {
     "data": {
      "text/plain": [
       "[{'_id': ObjectId('52cdef7c4bab8bd67529822a'),\n",
       "  'name': 'Expedia',\n",
       "  'homepage_url': 'http://www.expedia.com',\n",
       "  'number_of_employees': 4400},\n",
       " {'_id': ObjectId('52cdef7c4bab8bd675297e96'),\n",
       "  'name': 'AOL',\n",
       "  'homepage_url': 'http://www.aol.com',\n",
       "  'number_of_employees': 8000},\n",
       " {'_id': ObjectId('52cdef7c4bab8bd675297ea4'),\n",
       "  'name': 'Webkinz',\n",
       "  'homepage_url': 'http://www.webkinz.com',\n",
       "  'number_of_employees': 8657}]"
      ]
     },
     "execution_count": 101,
     "metadata": {},
     "output_type": "execute_result"
    }
   ],
   "source": [
    "q1 = {\"category_code\":\"web\"}\n",
    "q2 = {\"number_of_employees\":{\"$gt\":4000}}\n",
    "proj = {\"name\":1,\"homepage_url\":1, \"number_of_employees\":1}\n",
    "\n",
    "list(c.find({\"$and\": [q1, q2]},proj).sort(\"number_of_employees\").limit(3))"
   ]
  },
  {
   "cell_type": "markdown",
   "metadata": {},
   "source": [
    "### 17. All the companies whose acquisition amount is more than 10.000.000, and currency is 'EUR'."
   ]
  },
  {
   "cell_type": "code",
   "execution_count": 110,
   "metadata": {},
   "outputs": [
    {
     "data": {
      "text/plain": [
       "[{'_id': ObjectId('52cdef7c4bab8bd675297f02'),\n",
       "  'name': 'ZYB',\n",
       "  'acquisition': {'price_amount': 31500000, 'price_currency_code': 'EUR'}},\n",
       " {'_id': ObjectId('52cdef7d4bab8bd675298bf3'),\n",
       "  'name': 'Apertio',\n",
       "  'acquisition': {'price_amount': 140000000, 'price_currency_code': 'EUR'}},\n",
       " {'_id': ObjectId('52cdef7d4bab8bd675298f47'),\n",
       "  'name': 'Greenfield Online',\n",
       "  'acquisition': {'price_amount': 40000000, 'price_currency_code': 'EUR'}}]"
      ]
     },
     "execution_count": 110,
     "metadata": {},
     "output_type": "execute_result"
    }
   ],
   "source": [
    "q1 = {\"acquisition.price_amount\":{\"$gt\":10_000_000}}\n",
    "q2 = {\"acquisition.price_currency_code\":\"EUR\"}\n",
    "proj = {\"name\":1,\"acquisition.price_amount\":1, \"acquisition.price_currency_code\":1}\n",
    "\n",
    "list(c.find({\"$and\": [q1, q2]},proj).limit(3))\n",
    "\n"
   ]
  },
  {
   "cell_type": "markdown",
   "metadata": {},
   "source": [
    "### 18. All the companies that have been acquired on the first trimester of the year. Limit the search to 10 companies, and retrieve only their `name` and `acquisition` fields."
   ]
  },
  {
   "cell_type": "code",
   "execution_count": 111,
   "metadata": {},
   "outputs": [
    {
     "data": {
      "text/plain": [
       "[{'_id': ObjectId('52cdef7c4bab8bd675297d95'),\n",
       "  'name': 'StumbleUpon',\n",
       "  'acquisition': {'price_amount': 29000000,\n",
       "   'price_currency_code': 'USD',\n",
       "   'term_code': None,\n",
       "   'source_url': 'http://techcrunch.com/2009/04/13/ebay-unacquires-stumbleupon/',\n",
       "   'source_description': \"StumbleUpon Beats Skype In Escaping EBay's Clutches\",\n",
       "   'acquired_year': 2009,\n",
       "   'acquired_month': 4,\n",
       "   'acquired_day': None,\n",
       "   'acquiring_company': {'name': 'StumbleUpon', 'permalink': 'stumbleupon'}}},\n",
       " {'_id': ObjectId('52cdef7c4bab8bd675297dab'),\n",
       "  'name': 'Kyte',\n",
       "  'acquisition': {'price_amount': None,\n",
       "   'price_currency_code': 'USD',\n",
       "   'term_code': None,\n",
       "   'source_url': 'http://techcrunch.com/2011/01/31/exclusive-kit-digital-acquires-kickapps-kewego-and-kyte-for-77-2-million/',\n",
       "   'source_description': 'KIT digital Acquires KickApps, Kewego AND Kyte For $77.2 Million',\n",
       "   'acquired_year': 2011,\n",
       "   'acquired_month': 1,\n",
       "   'acquired_day': 31,\n",
       "   'acquiring_company': {'name': 'KIT digital', 'permalink': 'kit-digital'}}},\n",
       " {'_id': ObjectId('52cdef7c4bab8bd675297dac'),\n",
       "  'name': 'Veoh',\n",
       "  'acquisition': {'price_amount': None,\n",
       "   'price_currency_code': 'USD',\n",
       "   'term_code': None,\n",
       "   'source_url': 'http://techcrunch.com/2010/04/07/qlipso-veoh/',\n",
       "   'source_description': \"Qlipso's CEO Explains Why He Bought Veoh\",\n",
       "   'acquired_year': 2010,\n",
       "   'acquired_month': 4,\n",
       "   'acquired_day': 7,\n",
       "   'acquiring_company': {'name': 'Qlipso', 'permalink': 'qlipso'}}},\n",
       " {'_id': ObjectId('52cdef7c4bab8bd675297daf'),\n",
       "  'name': 'Jingle Networks',\n",
       "  'acquisition': {'price_amount': 62500000,\n",
       "   'price_currency_code': 'USD',\n",
       "   'term_code': 'cash_and_stock',\n",
       "   'source_url': 'http://www.masshightech.com/stories/2011/04/11/daily11-Jingle-Networks-bought-for-up-to-625M.html',\n",
       "   'source_description': 'Jingle Networks bought for up to $62.5M',\n",
       "   'acquired_year': 2011,\n",
       "   'acquired_month': 4,\n",
       "   'acquired_day': 11,\n",
       "   'acquiring_company': {'name': 'Marchex', 'permalink': 'marchex'}}},\n",
       " {'_id': ObjectId('52cdef7c4bab8bd675297db4'),\n",
       "  'name': 'NetRatings',\n",
       "  'acquisition': {'price_amount': 327000000,\n",
       "   'price_currency_code': 'USD',\n",
       "   'term_code': 'cash',\n",
       "   'source_url': 'http://login.vnuemedia.com/hr/login/login_subscribe.jsp?id=0oqDem1gYIfIclz9i2%2Ffqj5NxCp2AC5DPbVnyT2da8GyV2mXjasabE128n69OrmcAh52%2FGE3pSG%2F%0AEKRYD9vh9EhrJrxukmUzh532fSMTZXL42gwPB80UWVtF1NwJ5UZSM%2BCkLU1mpYBoHFgiH%2Fi0f6Ax%0A9yMIVxt47t%2BHamhEQ0nkOEK24L',\n",
       "   'source_description': 'Nielsen buys rest of NetRatings',\n",
       "   'acquired_year': 2007,\n",
       "   'acquired_month': 2,\n",
       "   'acquired_day': None,\n",
       "   'acquiring_company': {'name': 'Nielsen', 'permalink': 'nielsen'}}},\n",
       " {'_id': ObjectId('52cdef7c4bab8bd675297dbf'),\n",
       "  'name': 'blogTV',\n",
       "  'acquisition': {'price_amount': None,\n",
       "   'price_currency_code': 'USD',\n",
       "   'term_code': None,\n",
       "   'source_url': 'http://techcrunch.com/2013/03/13/younow-buys-blogtv/',\n",
       "   'source_description': 'Live Social Video Network YouNow Acquires Streaming Service BlogTV',\n",
       "   'acquired_year': 2013,\n",
       "   'acquired_month': 3,\n",
       "   'acquired_day': 13,\n",
       "   'acquiring_company': {'name': 'YouNow', 'permalink': 'younow'}}},\n",
       " {'_id': ObjectId('52cdef7c4bab8bd675297dc0'),\n",
       "  'name': 'Livestream',\n",
       "  'acquisition': {'price_amount': None,\n",
       "   'price_currency_code': 'USD',\n",
       "   'term_code': 'cash_and_stock',\n",
       "   'source_url': '',\n",
       "   'source_description': 'company',\n",
       "   'acquired_year': 2008,\n",
       "   'acquired_month': 1,\n",
       "   'acquired_day': 1,\n",
       "   'acquiring_company': {'name': 'Adviqo', 'permalink': 'adviqo'}}},\n",
       " {'_id': ObjectId('52cdef7c4bab8bd675297dc7'),\n",
       "  'name': 'delicious',\n",
       "  'acquisition': {'price_amount': None,\n",
       "   'price_currency_code': 'USD',\n",
       "   'term_code': None,\n",
       "   'source_url': 'http://techcrunch.com/2011/04/27/yahoo-sells-delicious-to-youtube-founders/',\n",
       "   'source_description': 'Yahoo Sells Delicious To YouTube Founders',\n",
       "   'acquired_year': 2011,\n",
       "   'acquired_month': 4,\n",
       "   'acquired_day': 27,\n",
       "   'acquiring_company': {'name': 'AVOS Systems', 'permalink': 'avos'}}},\n",
       " {'_id': ObjectId('52cdef7c4bab8bd675297dc9'),\n",
       "  'name': 'Jobster',\n",
       "  'acquisition': {'price_amount': None,\n",
       "   'price_currency_code': 'USD',\n",
       "   'term_code': None,\n",
       "   'source_url': 'http://techcrunch.com/2010/04/05/zapoint-acquires-social-job-search-site-jobster-from-recruiting-com/',\n",
       "   'source_description': 'Zapoint Acquires Social Job Search Site Jobster From Recruiting.com',\n",
       "   'acquired_year': 2010,\n",
       "   'acquired_month': 4,\n",
       "   'acquired_day': 5,\n",
       "   'acquiring_company': {'name': 'Zapoint', 'permalink': 'zapoint'}}},\n",
       " {'_id': ObjectId('52cdef7c4bab8bd675297dcf'),\n",
       "  'name': 'Spock',\n",
       "  'acquisition': {'price_amount': None,\n",
       "   'price_currency_code': 'USD',\n",
       "   'term_code': None,\n",
       "   'source_url': 'http://www.paidcontent.org/entry/419-intelius-buys-people-search-engine-spock/',\n",
       "   'source_description': 'Intelius Buys People Search Engine Spock',\n",
       "   'acquired_year': 2009,\n",
       "   'acquired_month': 4,\n",
       "   'acquired_day': 30,\n",
       "   'acquiring_company': {'name': 'Intelius', 'permalink': 'intelius'}}}]"
      ]
     },
     "execution_count": 111,
     "metadata": {},
     "output_type": "execute_result"
    }
   ],
   "source": [
    "q1 = {\"acquisition.acquired_month\":{\"$lte\":4}}\n",
    "proj = {\"name\":1,\"acquisition\":1}\n",
    "\n",
    "list(c.find(q1,proj).limit(10))\n",
    "\n"
   ]
  },
  {
   "cell_type": "markdown",
   "metadata": {},
   "source": [
    "# Bonus\n",
    "### 19. All the companies that have been founded between 2000 and 2010, but have not been acquired before 2011."
   ]
  },
  {
   "cell_type": "code",
   "execution_count": 112,
   "metadata": {},
   "outputs": [
    {
     "data": {
      "text/plain": [
       "[{'_id': ObjectId('52cdef7d4bab8bd67529a229'),\n",
       "  'name': 'Citizenside',\n",
       "  'founded_year': 2006,\n",
       "  'acquisition': {'acquired_year': 2013}},\n",
       " {'_id': ObjectId('52cdef7e4bab8bd67529a536'),\n",
       "  'name': 'Webedia',\n",
       "  'founded_year': 2007,\n",
       "  'acquisition': {'acquired_year': 2013}},\n",
       " {'_id': ObjectId('52cdef7e4bab8bd67529a5ad'),\n",
       "  'name': 'hybris',\n",
       "  'founded_year': 1997,\n",
       "  'acquisition': {'acquired_year': 2013}}]"
      ]
     },
     "execution_count": 112,
     "metadata": {},
     "output_type": "execute_result"
    }
   ],
   "source": [
    "q1 = {\"founded_year\":{\"$gt\":2000}}\n",
    "q1 = {\"founded_year\":{\"$lt\":2010}}\n",
    "q3 = {\"acquisition.acquired_year\":{\"$gt\":2011}}\n",
    "proj = {\"name\":1,\"founded_year\":1,\"acquisition.acquired_year\":1}\n",
    "\n",
    "list(c.find({\"$and\": [q1, q2, q3]},proj).limit(3))"
   ]
  },
  {
   "cell_type": "markdown",
   "metadata": {},
   "source": [
    "### 20. All the companies that have been 'deadpooled' after the third year."
   ]
  },
  {
   "cell_type": "code",
   "execution_count": 124,
   "metadata": {},
   "outputs": [
    {
     "ename": "TypeError",
     "evalue": "pipeline must be a list",
     "output_type": "error",
     "traceback": [
      "\u001b[1;31m---------------------------------------------------------------------------\u001b[0m",
      "\u001b[1;31mTypeError\u001b[0m                                 Traceback (most recent call last)",
      "\u001b[1;32m<ipython-input-124-f46800d8f548>\u001b[0m in \u001b[0;36m<module>\u001b[1;34m\u001b[0m\n\u001b[1;32m----> 1\u001b[1;33m \u001b[0mdb\u001b[0m\u001b[1;33m.\u001b[0m\u001b[0mcompanies\u001b[0m\u001b[1;33m.\u001b[0m\u001b[0maggregate\u001b[0m\u001b[1;33m(\u001b[0m\u001b[1;33m{\u001b[0m\u001b[1;34m\"years_alive\"\u001b[0m\u001b[1;33m:\u001b[0m\u001b[1;33m{\u001b[0m\u001b[1;34m\"$substract\"\u001b[0m\u001b[1;33m:\u001b[0m\u001b[1;33m[\u001b[0m\u001b[1;34m\"$deadpooled_year\"\u001b[0m\u001b[1;33m,\u001b[0m\u001b[1;34m\"$founded_year\"\u001b[0m\u001b[1;33m]\u001b[0m\u001b[1;33m}\u001b[0m\u001b[1;33m}\u001b[0m\u001b[1;33m)\u001b[0m\u001b[1;33m\u001b[0m\u001b[1;33m\u001b[0m\u001b[0m\n\u001b[0m",
      "\u001b[1;32m~\\anaconda3\\lib\\site-packages\\pymongo\\collection.py\u001b[0m in \u001b[0;36maggregate\u001b[1;34m(self, pipeline, session, **kwargs)\u001b[0m\n\u001b[0;32m   2451\u001b[0m         \"\"\"\n\u001b[0;32m   2452\u001b[0m         \u001b[1;32mwith\u001b[0m \u001b[0mself\u001b[0m\u001b[1;33m.\u001b[0m\u001b[0m__database\u001b[0m\u001b[1;33m.\u001b[0m\u001b[0mclient\u001b[0m\u001b[1;33m.\u001b[0m\u001b[0m_tmp_session\u001b[0m\u001b[1;33m(\u001b[0m\u001b[0msession\u001b[0m\u001b[1;33m,\u001b[0m \u001b[0mclose\u001b[0m\u001b[1;33m=\u001b[0m\u001b[1;32mFalse\u001b[0m\u001b[1;33m)\u001b[0m \u001b[1;32mas\u001b[0m \u001b[0ms\u001b[0m\u001b[1;33m:\u001b[0m\u001b[1;33m\u001b[0m\u001b[1;33m\u001b[0m\u001b[0m\n\u001b[1;32m-> 2453\u001b[1;33m             return self._aggregate(_CollectionAggregationCommand,\n\u001b[0m\u001b[0;32m   2454\u001b[0m                                    \u001b[0mpipeline\u001b[0m\u001b[1;33m,\u001b[0m\u001b[1;33m\u001b[0m\u001b[1;33m\u001b[0m\u001b[0m\n\u001b[0;32m   2455\u001b[0m                                    \u001b[0mCommandCursor\u001b[0m\u001b[1;33m,\u001b[0m\u001b[1;33m\u001b[0m\u001b[1;33m\u001b[0m\u001b[0m\n",
      "\u001b[1;32m~\\anaconda3\\lib\\site-packages\\pymongo\\collection.py\u001b[0m in \u001b[0;36m_aggregate\u001b[1;34m(self, aggregation_command, pipeline, cursor_class, session, explicit_session, **kwargs)\u001b[0m\n\u001b[0;32m   2370\u001b[0m                 \"useCursor\", kwargs.pop(\"useCursor\", True))\n\u001b[0;32m   2371\u001b[0m \u001b[1;33m\u001b[0m\u001b[0m\n\u001b[1;32m-> 2372\u001b[1;33m         cmd = aggregation_command(\n\u001b[0m\u001b[0;32m   2373\u001b[0m             \u001b[0mself\u001b[0m\u001b[1;33m,\u001b[0m \u001b[0mcursor_class\u001b[0m\u001b[1;33m,\u001b[0m \u001b[0mpipeline\u001b[0m\u001b[1;33m,\u001b[0m \u001b[0mkwargs\u001b[0m\u001b[1;33m,\u001b[0m \u001b[0mexplicit_session\u001b[0m\u001b[1;33m,\u001b[0m\u001b[1;33m\u001b[0m\u001b[1;33m\u001b[0m\u001b[0m\n\u001b[0;32m   2374\u001b[0m             user_fields={'cursor': {'firstBatch': 1}}, use_cursor=use_cursor)\n",
      "\u001b[1;32m~\\anaconda3\\lib\\site-packages\\pymongo\\aggregation.py\u001b[0m in \u001b[0;36m__init__\u001b[1;34m(self, *args, **kwargs)\u001b[0m\n\u001b[0;32m    173\u001b[0m         \u001b[1;31m# Pop additional option and initialize parent class.\u001b[0m\u001b[1;33m\u001b[0m\u001b[1;33m\u001b[0m\u001b[1;33m\u001b[0m\u001b[0m\n\u001b[0;32m    174\u001b[0m         \u001b[0muse_cursor\u001b[0m \u001b[1;33m=\u001b[0m \u001b[0mkwargs\u001b[0m\u001b[1;33m.\u001b[0m\u001b[0mpop\u001b[0m\u001b[1;33m(\u001b[0m\u001b[1;34m\"use_cursor\"\u001b[0m\u001b[1;33m,\u001b[0m \u001b[1;32mTrue\u001b[0m\u001b[1;33m)\u001b[0m\u001b[1;33m\u001b[0m\u001b[1;33m\u001b[0m\u001b[0m\n\u001b[1;32m--> 175\u001b[1;33m         \u001b[0msuper\u001b[0m\u001b[1;33m(\u001b[0m\u001b[0m_CollectionAggregationCommand\u001b[0m\u001b[1;33m,\u001b[0m \u001b[0mself\u001b[0m\u001b[1;33m)\u001b[0m\u001b[1;33m.\u001b[0m\u001b[0m__init__\u001b[0m\u001b[1;33m(\u001b[0m\u001b[1;33m*\u001b[0m\u001b[0margs\u001b[0m\u001b[1;33m,\u001b[0m \u001b[1;33m**\u001b[0m\u001b[0mkwargs\u001b[0m\u001b[1;33m)\u001b[0m\u001b[1;33m\u001b[0m\u001b[1;33m\u001b[0m\u001b[0m\n\u001b[0m\u001b[0;32m    176\u001b[0m \u001b[1;33m\u001b[0m\u001b[0m\n\u001b[0;32m    177\u001b[0m         \u001b[1;31m# Remove the cursor document if the user has set use_cursor to False.\u001b[0m\u001b[1;33m\u001b[0m\u001b[1;33m\u001b[0m\u001b[1;33m\u001b[0m\u001b[0m\n",
      "\u001b[1;32m~\\anaconda3\\lib\\site-packages\\pymongo\\aggregation.py\u001b[0m in \u001b[0;36m__init__\u001b[1;34m(self, target, cursor_class, pipeline, options, explicit_session, user_fields, result_processor)\u001b[0m\n\u001b[0;32m     38\u001b[0m         \u001b[0mself\u001b[0m\u001b[1;33m.\u001b[0m\u001b[0m_target\u001b[0m \u001b[1;33m=\u001b[0m \u001b[0mtarget\u001b[0m\u001b[1;33m\u001b[0m\u001b[1;33m\u001b[0m\u001b[0m\n\u001b[0;32m     39\u001b[0m \u001b[1;33m\u001b[0m\u001b[0m\n\u001b[1;32m---> 40\u001b[1;33m         \u001b[0mcommon\u001b[0m\u001b[1;33m.\u001b[0m\u001b[0mvalidate_list\u001b[0m\u001b[1;33m(\u001b[0m\u001b[1;34m'pipeline'\u001b[0m\u001b[1;33m,\u001b[0m \u001b[0mpipeline\u001b[0m\u001b[1;33m)\u001b[0m\u001b[1;33m\u001b[0m\u001b[1;33m\u001b[0m\u001b[0m\n\u001b[0m\u001b[0;32m     41\u001b[0m         \u001b[0mself\u001b[0m\u001b[1;33m.\u001b[0m\u001b[0m_pipeline\u001b[0m \u001b[1;33m=\u001b[0m \u001b[0mpipeline\u001b[0m\u001b[1;33m\u001b[0m\u001b[1;33m\u001b[0m\u001b[0m\n\u001b[0;32m     42\u001b[0m         \u001b[0mself\u001b[0m\u001b[1;33m.\u001b[0m\u001b[0m_performs_write\u001b[0m \u001b[1;33m=\u001b[0m \u001b[1;32mFalse\u001b[0m\u001b[1;33m\u001b[0m\u001b[1;33m\u001b[0m\u001b[0m\n",
      "\u001b[1;32m~\\anaconda3\\lib\\site-packages\\pymongo\\common.py\u001b[0m in \u001b[0;36mvalidate_list\u001b[1;34m(option, value)\u001b[0m\n\u001b[0;32m    470\u001b[0m     \u001b[1;34m\"\"\"Validates that 'value' is a list.\"\"\"\u001b[0m\u001b[1;33m\u001b[0m\u001b[1;33m\u001b[0m\u001b[0m\n\u001b[0;32m    471\u001b[0m     \u001b[1;32mif\u001b[0m \u001b[1;32mnot\u001b[0m \u001b[0misinstance\u001b[0m\u001b[1;33m(\u001b[0m\u001b[0mvalue\u001b[0m\u001b[1;33m,\u001b[0m \u001b[0mlist\u001b[0m\u001b[1;33m)\u001b[0m\u001b[1;33m:\u001b[0m\u001b[1;33m\u001b[0m\u001b[1;33m\u001b[0m\u001b[0m\n\u001b[1;32m--> 472\u001b[1;33m         \u001b[1;32mraise\u001b[0m \u001b[0mTypeError\u001b[0m\u001b[1;33m(\u001b[0m\u001b[1;34m\"%s must be a list\"\u001b[0m \u001b[1;33m%\u001b[0m \u001b[1;33m(\u001b[0m\u001b[0moption\u001b[0m\u001b[1;33m,\u001b[0m\u001b[1;33m)\u001b[0m\u001b[1;33m)\u001b[0m\u001b[1;33m\u001b[0m\u001b[1;33m\u001b[0m\u001b[0m\n\u001b[0m\u001b[0;32m    473\u001b[0m     \u001b[1;32mreturn\u001b[0m \u001b[0mvalue\u001b[0m\u001b[1;33m\u001b[0m\u001b[1;33m\u001b[0m\u001b[0m\n\u001b[0;32m    474\u001b[0m \u001b[1;33m\u001b[0m\u001b[0m\n",
      "\u001b[1;31mTypeError\u001b[0m: pipeline must be a list"
     ]
    }
   ],
   "source": [
    "db.companies.aggregate({\"years_alive\":{\"$substract\":[\"$deadpooled_year\",\"$founded_year\"]}})"
   ]
  },
  {
   "cell_type": "code",
   "execution_count": 122,
   "metadata": {},
   "outputs": [
    {
     "data": {
      "text/plain": [
       "[]"
      ]
     },
     "execution_count": 122,
     "metadata": {},
     "output_type": "execute_result"
    }
   ],
   "source": [
    "q1 = {\"years_alive\":{\"$lte\":3}}\n",
    "proj = {\"name\":1,\"years_alive\":1}\n",
    "\n",
    "list(c.find(q1,proj).limit(10))"
   ]
  },
  {
   "cell_type": "code",
   "execution_count": null,
   "metadata": {},
   "outputs": [],
   "source": []
  }
 ],
 "metadata": {
  "kernelspec": {
   "display_name": "Python 3",
   "language": "python",
   "name": "python3"
  },
  "language_info": {
   "codemirror_mode": {
    "name": "ipython",
    "version": 3
   },
   "file_extension": ".py",
   "mimetype": "text/x-python",
   "name": "python",
   "nbconvert_exporter": "python",
   "pygments_lexer": "ipython3",
   "version": "3.8.5"
  }
 },
 "nbformat": 4,
 "nbformat_minor": 2
}
