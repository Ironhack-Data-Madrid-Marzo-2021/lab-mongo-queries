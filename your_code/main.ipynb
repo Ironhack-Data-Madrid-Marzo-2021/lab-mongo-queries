{
 "cells": [
  {
   "cell_type": "markdown",
   "metadata": {},
   "source": [
    "# Advanced Querying Mongo"
   ]
  },
  {
   "cell_type": "markdown",
   "metadata": {},
   "source": [
    "Importing libraries and setting up connection"
   ]
  },
  {
   "cell_type": "code",
   "execution_count": null,
   "metadata": {},
   "outputs": [],
   "source": [
    "from pymongo import MongoClient\n",
    "client = MongoClient(\"localhost:27017\")"
   ]
  },
  {
   "cell_type": "code",
   "execution_count": null,
   "metadata": {},
   "outputs": [],
   "source": [
    "client.list_database_names()"
   ]
  },
  {
   "cell_type": "code",
   "execution_count": null,
   "metadata": {},
   "outputs": [],
   "source": [
    "db = client.get_database(\"lab\")"
   ]
  },
  {
   "cell_type": "code",
   "execution_count": null,
   "metadata": {},
   "outputs": [],
   "source": [
    "db.list_collection_names()"
   ]
  },
  {
   "cell_type": "code",
   "execution_count": null,
   "metadata": {},
   "outputs": [],
   "source": [
    "companies = db.get_collection(\"oficinas\")"
   ]
  },
  {
   "cell_type": "markdown",
   "metadata": {},
   "source": [
    "### 1. All the companies whose name match 'Babelgum'. Retrieve only their `name` field."
   ]
  },
  {
   "cell_type": "code",
   "execution_count": null,
   "metadata": {},
   "outputs": [],
   "source": [
    "proj = {\"_id\": 0, \"name\": 1}\n",
    "name_companies = list(companies.find({\"name\": \"Babelgum\"}, proj))\n",
    "name_companies"
   ]
  },
  {
   "cell_type": "markdown",
   "metadata": {},
   "source": [
    "### 2. All the companies that have more than 5000 employees. Limit the search to 20 companies and sort them by **number of employees**."
   ]
  },
  {
   "cell_type": "code",
   "execution_count": null,
   "metadata": {},
   "outputs": [],
   "source": [
    "employees_companies = list(companies.find({\"number_of_employees\": {\"$gt\": 5000}}).sort(\"number_of_employees\", 1).limit(20))\n",
    "employees_companies"
   ]
  },
  {
   "cell_type": "markdown",
   "metadata": {},
   "source": [
    "### 3. All the companies founded between 2000 and 2005, both years included. Retrieve only the `name` and `founded_year` fields."
   ]
  },
  {
   "cell_type": "code",
   "execution_count": null,
   "metadata": {},
   "outputs": [],
   "source": [
    "foundation_proj = {\"_id\": 0, \"name\": 1, \"founded_year\": 1}\n",
    "foundation_companies = list(companies.find({\"founded_year\": {\"$gte\": 2000}, \"founded_year\": {\"$lte\": 2005}}, foundation_proj))"
   ]
  },
  {
   "cell_type": "markdown",
   "metadata": {},
   "source": [
    "### 4. All the companies that had a Valuation Amount of more than 100.000.000 and have been founded before 2010. Retrieve only the `name` and `ipo` fields."
   ]
  },
  {
   "cell_type": "code",
   "execution_count": null,
   "metadata": {},
   "outputs": [],
   "source": [
    "valam_proj = {\"_id\": 0, \"name\": 1, \"ipo\": 1}\n",
    "valam_companies = list(companies.find({\"ipo.valuation_amount\": {\"$gt\": 100000000}, \"founded_year\": {\"$lt\": 2010}}, valam_proj))"
   ]
  },
  {
   "cell_type": "code",
   "execution_count": null,
   "metadata": {},
   "outputs": [],
   "source": [
    "valam_companies"
   ]
  },
  {
   "cell_type": "markdown",
   "metadata": {},
   "source": [
    "### 5. All the companies that have less than 1000 employees and have been founded before 2005. Order them by the number of employees and limit the search to 10 companies."
   ]
  },
  {
   "cell_type": "code",
   "execution_count": null,
   "metadata": {},
   "outputs": [],
   "source": [
    "small_companies = list(companies.find({\"number_of_employees\": {\"$lt\": 1000}, \"founded_year\": {\"$lt\": 2005}}).sort(\"number_of_employees\", 1).limit(10))\n",
    "small_companies"
   ]
  },
  {
   "cell_type": "markdown",
   "metadata": {},
   "source": [
    "### 6. All the companies that don't include the `partners` field."
   ]
  },
  {
   "cell_type": "code",
   "execution_count": null,
   "metadata": {},
   "outputs": [],
   "source": [
    "lista = [\"None\"]\n",
    "not_partners_companies = list(companies.find({\"partners\": {\"$nin\": lista}}))\n",
    "len(not_partners_companies)"
   ]
  },
  {
   "cell_type": "markdown",
   "metadata": {},
   "source": [
    "### 7. All the companies that have a null type of value on the `category_code` field."
   ]
  },
  {
   "cell_type": "code",
   "execution_count": null,
   "metadata": {},
   "outputs": [],
   "source": [
    "lista = [\"None\"]\n",
    "code_companies = list(companies.find({\"category_code\": {\"$nin\": lista}}))\n",
    "len(code_companies)"
   ]
  },
  {
   "cell_type": "markdown",
   "metadata": {},
   "source": [
    "### 8. All the companies that have at least 100 employees but less than 1000. Retrieve only the `name` and `number of employees` fields."
   ]
  },
  {
   "cell_type": "code",
   "execution_count": null,
   "metadata": {},
   "outputs": [],
   "source": [
    "med_proj = {\"_id\": 0, \"name\": 1, \"number_of_employees\": 1}\n",
    "med_companies = list(companies.find({\"$and\": [{\"number_of_employees\": {\"$gte\": 100}}, {\"number_of_employees\": {\"$lt\": 1000}}]}, med_proj))        \n",
    "len(med_companies)"
   ]
  },
  {
   "cell_type": "markdown",
   "metadata": {},
   "source": [
    "### 9. Order all the companies by their IPO price in a descending order."
   ]
  },
  {
   "cell_type": "code",
   "execution_count": null,
   "metadata": {},
   "outputs": [],
   "source": [
    "med_proj = {\"_id\": 0, \"name\": 1}\n",
    "med_companies = list(companies.find({\"ipo.valuation_amount\":{\"%exists\": True}}).sort(\"ipo.valuation_amount\", -1))\n",
    "med_companies\n",
    "\n",
    "#No entiendo por qué me da mal, si el código en sí creo que está bien. "
   ]
  },
  {
   "cell_type": "markdown",
   "metadata": {},
   "source": [
    "### 10. Retrieve the 10 companies with more employees, order by the `number of employees`"
   ]
  },
  {
   "cell_type": "code",
   "execution_count": null,
   "metadata": {},
   "outputs": [],
   "source": [
    "max_companies = list(companies.find().sort(\"number_of_employees\", -1).limit(10))\n",
    "max_companies"
   ]
  },
  {
   "cell_type": "markdown",
   "metadata": {},
   "source": [
    "### 11. All the companies founded on the second semester of the year. Limit your search to 1000 companies."
   ]
  },
  {
   "cell_type": "code",
   "execution_count": null,
   "metadata": {},
   "outputs": [],
   "source": [
    "sem_proj = {\"_id\": 0, \"name\": 1}\n",
    "sem_companies = list(companies.find({\"founded_month\": {\"$gt\": 6}}, sem_proj).limit(1000))\n",
    "sem_companies"
   ]
  },
  {
   "cell_type": "markdown",
   "metadata": {},
   "source": [
    "### 12. All the companies founded before 2000 that have an acquisition amount of more than 10.000.00"
   ]
  },
  {
   "cell_type": "code",
   "execution_count": null,
   "metadata": {},
   "outputs": [],
   "source": [
    "cent_proj = {\"_id\": 0, \"name\": 1, \"founded_year\": 1}\n",
    "cent_companies = list(companies.find({\"founded_year\": {\"$lt\": 2000}, \"acquisition.price_amount\": {\"$gt\": 10000000}}, cent_proj))\n",
    "cent_companies"
   ]
  },
  {
   "cell_type": "markdown",
   "metadata": {},
   "source": [
    "### 13. All the companies that have been acquired after 2010, order by the acquisition amount, and retrieve only their `name` and `acquisition` field."
   ]
  },
  {
   "cell_type": "code",
   "execution_count": null,
   "metadata": {},
   "outputs": [],
   "source": [
    "acq_proj = {\"_id\": 0, \"name\": 1, \"acquisition\": 1}\n",
    "acq_companies = list(companies.find({\"acquisition.acquired_year\": {\"$gt\": 2010}},acq_proj).sort(\"acquisition.acquired_year\", 1))\n",
    "acq_companies"
   ]
  },
  {
   "cell_type": "markdown",
   "metadata": {},
   "source": [
    "### 14. Order the companies by their `founded year`, retrieving only their `name` and `founded year`."
   ]
  },
  {
   "cell_type": "code",
   "execution_count": 118,
   "metadata": {},
   "outputs": [
    {
     "data": {
      "text/plain": [
       "[]"
      ]
     },
     "execution_count": 118,
     "metadata": {},
     "output_type": "execute_result"
    }
   ],
   "source": [
    "##FALTA\n",
    "\n",
    "found_proj = {\"_id\": 0, \"name\": 1, \"founded_year\": 1}\n",
    "found_companies = list(companies.find(found_proj).sort(\"founded_year\", -1))\n",
    "found_companies"
   ]
  },
  {
   "cell_type": "markdown",
   "metadata": {},
   "source": [
    "### 15. All the companies that have been founded on the first seven days of the month, including the seventh. Sort them by their `acquisition price` in a descending order. Limit the search to 10 documents."
   ]
  },
  {
   "cell_type": "code",
   "execution_count": null,
   "metadata": {},
   "outputs": [],
   "source": [
    "month_proj = {\"_id\": 0, \"name\": 1, \"founded_year\": 1}\n",
    "month_companies = list(companies.find({\"founded_day\": {\"$lte\": 7}}, month_proj).sort(\"acquisition.price_amount\", -1).limit(10))\n",
    "month_companies"
   ]
  },
  {
   "cell_type": "markdown",
   "metadata": {},
   "source": [
    "### 16. All the companies on the 'web' `category` that have more than 4000 employees. Sort them by the amount of employees in ascending order."
   ]
  },
  {
   "cell_type": "code",
   "execution_count": null,
   "metadata": {},
   "outputs": [],
   "source": [
    "web_proj = {\"_id\": 0, \"name\": 1, \"number_of_employees\": 1}\n",
    "web_companies = list(companies.find({\"category_code\":\"web\", \"number_of_employees\": {\"$gt\": 4000}}, web_proj).sort(\"number_of_employees\", -1))\n",
    "web_companies"
   ]
  },
  {
   "cell_type": "markdown",
   "metadata": {},
   "source": [
    "### 17. All the companies whose acquisition amount is more than 10.000.000, and currency is 'EUR'."
   ]
  },
  {
   "cell_type": "code",
   "execution_count": 116,
   "metadata": {},
   "outputs": [
    {
     "data": {
      "text/plain": [
       "[]"
      ]
     },
     "execution_count": 116,
     "metadata": {},
     "output_type": "execute_result"
    }
   ],
   "source": [
    "#FALTA ALGO RELACIONADO CON EXISTS O ASÍ\n",
    "\n",
    "curr_proj = {\"_id\": 0, \"name\": 1}\n",
    "curr_companies = list(companies.find({\"acquisition.price_amount\": {\"$gt\": 10000000}, \"ipo.valuation_currency_code\": \"EUR\"}, curr_proj))\n",
    "curr_companies"
   ]
  },
  {
   "cell_type": "markdown",
   "metadata": {},
   "source": [
    "### 18. All the companies that have been acquired on the first trimester of the year. Limit the search to 10 companies, and retrieve only their `name` and `acquisition` fields."
   ]
  },
  {
   "cell_type": "code",
   "execution_count": 115,
   "metadata": {},
   "outputs": [
    {
     "data": {
      "text/plain": [
       "[{'acquisition': {'acquired_day': 31,\n",
       "   'acquired_month': 1,\n",
       "   'acquired_year': 2011,\n",
       "   'acquiring_company': {'name': 'KIT digital', 'permalink': 'kit-digital'},\n",
       "   'price_amount': None,\n",
       "   'price_currency_code': 'USD',\n",
       "   'source_description': 'KIT digital Acquires KickApps, Kewego AND Kyte For $77.2 Million',\n",
       "   'source_url': 'http://techcrunch.com/2011/01/31/exclusive-kit-digital-acquires-kickapps-kewego-and-kyte-for-77-2-million/',\n",
       "   'term_code': None},\n",
       "  'name': 'Kyte'},\n",
       " {'acquisition': {'acquired_day': None,\n",
       "   'acquired_month': 2,\n",
       "   'acquired_year': 2007,\n",
       "   'acquiring_company': {'name': 'Nielsen', 'permalink': 'nielsen'},\n",
       "   'price_amount': 327000000,\n",
       "   'price_currency_code': 'USD',\n",
       "   'source_description': 'Nielsen buys rest of NetRatings',\n",
       "   'source_url': 'http://login.vnuemedia.com/hr/login/login_subscribe.jsp?id=0oqDem1gYIfIclz9i2%2Ffqj5NxCp2AC5DPbVnyT2da8GyV2mXjasabE128n69OrmcAh52%2FGE3pSG%2F%0AEKRYD9vh9EhrJrxukmUzh532fSMTZXL42gwPB80UWVtF1NwJ5UZSM%2BCkLU1mpYBoHFgiH%2Fi0f6Ax%0A9yMIVxt47t%2BHamhEQ0nkOEK24L',\n",
       "   'term_code': 'cash'},\n",
       "  'name': 'NetRatings'},\n",
       " {'acquisition': {'acquired_day': 13,\n",
       "   'acquired_month': 3,\n",
       "   'acquired_year': 2013,\n",
       "   'acquiring_company': {'name': 'YouNow', 'permalink': 'younow'},\n",
       "   'price_amount': None,\n",
       "   'price_currency_code': 'USD',\n",
       "   'source_description': 'Live Social Video Network YouNow Acquires Streaming Service BlogTV',\n",
       "   'source_url': 'http://techcrunch.com/2013/03/13/younow-buys-blogtv/',\n",
       "   'term_code': None},\n",
       "  'name': 'blogTV'},\n",
       " {'acquisition': {'acquired_day': 1,\n",
       "   'acquired_month': 1,\n",
       "   'acquired_year': 2008,\n",
       "   'acquiring_company': {'name': 'Adviqo', 'permalink': 'adviqo'},\n",
       "   'price_amount': None,\n",
       "   'price_currency_code': 'USD',\n",
       "   'source_description': 'company',\n",
       "   'source_url': '',\n",
       "   'term_code': 'cash_and_stock'},\n",
       "  'name': 'Livestream'},\n",
       " {'acquisition': {'acquired_day': 28,\n",
       "   'acquired_month': 2,\n",
       "   'acquired_year': 2012,\n",
       "   'acquiring_company': {'name': 'Vocus', 'permalink': 'vocus'},\n",
       "   'price_amount': 169000000,\n",
       "   'price_currency_code': 'USD',\n",
       "   'source_description': 'Vocus Buys Email Marketing Company iContact For $169 Million',\n",
       "   'source_url': 'http://techcrunch.com/2012/02/28/vocus-buys-email-marketing-company-icontact-for-169-million/',\n",
       "   'term_code': 'cash_and_stock'},\n",
       "  'name': 'iContact'},\n",
       " {'acquisition': {'acquired_day': 19,\n",
       "   'acquired_month': 2,\n",
       "   'acquired_year': 2009,\n",
       "   'acquiring_company': {'name': 'SAP', 'permalink': 'sap'},\n",
       "   'price_amount': None,\n",
       "   'price_currency_code': 'USD',\n",
       "   'source_description': 'SAP Acquires Cogheadâ€™s Technology As It Looks Towards The Cloud',\n",
       "   'source_url': 'http://www.techcrunch.com/2009/02/19/sap-acquires-cogheads-technology-as-it-looks-towards-the-cloud/',\n",
       "   'term_code': None},\n",
       "  'name': 'Coghead'},\n",
       " {'acquisition': {'acquired_day': 22,\n",
       "   'acquired_month': 2,\n",
       "   'acquired_year': 2013,\n",
       "   'acquiring_company': {'name': 'Orange', 'permalink': 'orange'},\n",
       "   'price_amount': 168000000,\n",
       "   'price_currency_code': 'USD',\n",
       "   'source_description': 'Orange Acquired Dailymotion For $168 Million By Buying Out Remaining 51% Stake [Update: Orange Confirms]',\n",
       "   'source_url': 'http://techcrunch.com/2013/02/22/orange-acquired-dailymotion-for-168-million-by-buying-out-the-remaining-51-stake/',\n",
       "   'term_code': None},\n",
       "  'name': 'Dailymotion'},\n",
       " {'acquisition': {'acquired_day': 9,\n",
       "   'acquired_month': 2,\n",
       "   'acquired_year': 2012,\n",
       "   'acquiring_company': {'name': 'Dassault Systemes', 'permalink': 'dassault'},\n",
       "   'price_amount': None,\n",
       "   'price_currency_code': 'USD',\n",
       "   'source_description': 'Dassault Systemes Acquires Netvibes',\n",
       "   'source_url': 'http://www.marketwatch.com/story/dassault-systemes-acquires-netvibes-2012-02-09',\n",
       "   'term_code': None},\n",
       "  'name': 'Netvibes'},\n",
       " {'acquisition': {'acquired_day': None,\n",
       "   'acquired_month': 3,\n",
       "   'acquired_year': 2005,\n",
       "   'acquiring_company': {'name': 'Yahoo!', 'permalink': 'yahoo'},\n",
       "   'price_amount': None,\n",
       "   'price_currency_code': 'USD',\n",
       "   'source_description': 'CNET',\n",
       "   'source_url': 'http://news.cnet.com/Yahoo-buys-photo-sharing-site-Flickr/2100-1038_3-5627640.html?tag=mncol;txt',\n",
       "   'term_code': 'cash_and_stock'},\n",
       "  'name': 'Flickr'},\n",
       " {'acquisition': {'acquired_day': 2,\n",
       "   'acquired_month': 3,\n",
       "   'acquired_year': 2001,\n",
       "   'acquiring_company': {'name': 'Johnson & Johnson',\n",
       "    'permalink': 'johnson-johnson'},\n",
       "   'price_amount': None,\n",
       "   'price_currency_code': 'USD',\n",
       "   'source_description': 'Johnson & Johnson Acquires BabyCenter From eToys, Inc. Leading Online Destination for Parents Plans for Continued Expansion of Operations',\n",
       "   'source_url': 'http://www.investor.jnj.com/releasedetail.cfm?releaseid=63836',\n",
       "   'term_code': None},\n",
       "  'name': 'BabyCenter'}]"
      ]
     },
     "execution_count": 115,
     "metadata": {},
     "output_type": "execute_result"
    }
   ],
   "source": [
    "trim_proj = {\"_id\": 0, \"name\": 1, \"acquisition\": 1}\n",
    "trim_companies = list(companies.find({\"acquisition.acquired_month\": {\"$lte\": 3}}, trim_proj).limit(10))\n",
    "trim_companies"
   ]
  },
  {
   "cell_type": "markdown",
   "metadata": {},
   "source": [
    "# Bonus\n",
    "### 19. All the companies that have been founded between 2000 and 2010, but have not been acquired before 2011."
   ]
  },
  {
   "cell_type": "code",
   "execution_count": null,
   "metadata": {},
   "outputs": [],
   "source": [
    "acq_proj = {\"_id\": 0, \"name\": 1}\n",
    "acq_companies = companies.find({\"$and\": [{\"founded_year\": {\"$gte\": 2000}}, {\"founded_year\": {\"$lt\": 2010}}, {\"acquisition.acquired_year\": {\"$\"}}]}, med_proj))        \"})"
   ]
  },
  {
   "cell_type": "markdown",
   "metadata": {},
   "source": [
    "### 20. All the companies that have been 'deadpooled' after the third year."
   ]
  },
  {
   "cell_type": "code",
   "execution_count": null,
   "metadata": {},
   "outputs": [],
   "source": [
    "# Your Code"
   ]
  }
 ],
 "metadata": {
  "kernelspec": {
   "display_name": "Python 3",
   "language": "python",
   "name": "python3"
  },
  "language_info": {
   "codemirror_mode": {
    "name": "ipython",
    "version": 3
   },
   "file_extension": ".py",
   "mimetype": "text/x-python",
   "name": "python",
   "nbconvert_exporter": "python",
   "pygments_lexer": "ipython3",
   "version": "3.6.9"
  }
 },
 "nbformat": 4,
 "nbformat_minor": 2
}
