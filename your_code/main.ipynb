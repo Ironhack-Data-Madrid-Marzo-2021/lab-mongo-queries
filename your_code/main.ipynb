{
 "cells": [
  {
   "cell_type": "markdown",
   "metadata": {},
   "source": [
    "# Advanced Querying Mongo"
   ]
  },
  {
   "cell_type": "markdown",
   "metadata": {},
   "source": [
    "Importing libraries and setting up connection"
   ]
  },
  {
   "cell_type": "code",
   "execution_count": 1,
   "metadata": {
    "collapsed": true
   },
   "outputs": [],
   "source": [
    "# !pip install pymongo"
   ]
  },
  {
   "cell_type": "code",
   "execution_count": 2,
   "metadata": {
    "collapsed": true
   },
   "outputs": [],
   "source": [
    "from pymongo import MongoClient\n",
    "import json"
   ]
  },
  {
   "cell_type": "code",
   "execution_count": 3,
   "metadata": {
    "collapsed": true
   },
   "outputs": [],
   "source": [
    "# Server connection\n",
    "client = MongoClient(\"localhost:27017\")"
   ]
  },
  {
   "cell_type": "code",
   "execution_count": 4,
   "metadata": {},
   "outputs": [
    {
     "data": {
      "text/plain": [
       "MongoClient(host=['localhost:27017'], document_class=dict, tz_aware=False, connect=True)"
      ]
     },
     "execution_count": 4,
     "metadata": {},
     "output_type": "execute_result"
    }
   ],
   "source": [
    "client"
   ]
  },
  {
   "cell_type": "code",
   "execution_count": 5,
   "metadata": {},
   "outputs": [
    {
     "data": {
      "text/plain": [
       "['Ironhack', 'admin', 'config', 'ironhacktest', 'local']"
      ]
     },
     "execution_count": 5,
     "metadata": {},
     "output_type": "execute_result"
    }
   ],
   "source": [
    "# Mostrar los nombres de las bases de datos existentes\n",
    "client.list_database_names()"
   ]
  },
  {
   "cell_type": "code",
   "execution_count": 6,
   "metadata": {
    "collapsed": true
   },
   "outputs": [],
   "source": [
    "# Connection to the database\n",
    "\n",
    "# Para crear una conexión con la base de datos en la que vayamos a trabajar\n",
    "db = client.get_database(\"Ironhack\")"
   ]
  },
  {
   "cell_type": "code",
   "execution_count": 7,
   "metadata": {},
   "outputs": [
    {
     "data": {
      "text/plain": [
       "Database(MongoClient(host=['localhost:27017'], document_class=dict, tz_aware=False, connect=True), 'Ironhack')"
      ]
     },
     "execution_count": 7,
     "metadata": {},
     "output_type": "execute_result"
    }
   ],
   "source": [
    "db"
   ]
  },
  {
   "cell_type": "code",
   "execution_count": 8,
   "metadata": {},
   "outputs": [
    {
     "data": {
      "text/plain": [
       "['companies']"
      ]
     },
     "execution_count": 8,
     "metadata": {},
     "output_type": "execute_result"
    }
   ],
   "source": [
    "db.list_collection_names()"
   ]
  },
  {
   "cell_type": "code",
   "execution_count": 9,
   "metadata": {
    "collapsed": true
   },
   "outputs": [],
   "source": [
    "collection = db.get_collection(\"companies\")"
   ]
  },
  {
   "cell_type": "code",
   "execution_count": 10,
   "metadata": {},
   "outputs": [
    {
     "data": {
      "text/plain": [
       "{'_id': ObjectId('52cdef7c4bab8bd675297d8a'),\n",
       " 'acquisition': {'acquired_day': 16,\n",
       "  'acquired_month': 12,\n",
       "  'acquired_year': 2013,\n",
       "  'acquiring_company': {'name': 'Viggle', 'permalink': 'viggle'},\n",
       "  'price_amount': 30000000,\n",
       "  'price_currency_code': 'USD',\n",
       "  'source_description': ' Viggle Tries to Bulk Up Its Social TV Business by Buying Wetpaint',\n",
       "  'source_url': 'http://allthingsd.com/20131216/viggle-tries-to-bulk-up-its-social-tv-business-by-buying-wetpaint/?mod=atdtweet',\n",
       "  'term_code': 'cash_and_stock'},\n",
       " 'acquisitions': [],\n",
       " 'alias_list': '',\n",
       " 'blog_feed_url': 'http://digitalquarters.net/feed/',\n",
       " 'blog_url': 'http://digitalquarters.net/',\n",
       " 'category_code': 'web',\n",
       " 'competitions': [{'competitor': {'name': 'Wikia', 'permalink': 'wikia'}},\n",
       "  {'competitor': {'name': 'JotSpot', 'permalink': 'jotspot'}},\n",
       "  {'competitor': {'name': 'Socialtext', 'permalink': 'socialtext'}},\n",
       "  {'competitor': {'name': 'Ning by Glam Media', 'permalink': 'ning'}},\n",
       "  {'competitor': {'name': 'Soceeo', 'permalink': 'soceeo'}},\n",
       "  {'competitor': {'name': 'Yola', 'permalink': 'yola'}},\n",
       "  {'competitor': {'name': 'SocialGO', 'permalink': 'socialgo'}},\n",
       "  {'competitor': {'name': 'IslamNor', 'permalink': 'islamnor'}}],\n",
       " 'created_at': datetime.datetime(2007, 5, 25, 6, 51, 27),\n",
       " 'crunchbase_url': 'http://www.crunchbase.com/company/wetpaint',\n",
       " 'deadpooled_year': 1,\n",
       " 'description': 'Technology Platform Company',\n",
       " 'email_address': 'info@wetpaint.com',\n",
       " 'external_links': [{'external_url': 'http://www.geekwire.com/2011/rewind-ben-elowitz-wetpaint-ceo-building-type-media-company',\n",
       "   'title': 'GeekWire interview: Rewind - Ben Elowitz, Wetpaint CEO, on building a new type of media company'},\n",
       "  {'external_url': 'http://techcrunch.com/2012/06/17/search-and-social-how-two-will-soon-become-one/',\n",
       "   'title': 'Guest post by CEO Ben Elowitz in TechCrunch'},\n",
       "  {'external_url': 'http://allthingsd.com/20120516/what-to-expect-when-facebook-is-expecting-five-predictions-for-facebooks-first-public-year/',\n",
       "   'title': 'Guest post by CEO Ben Elowitz in AllThingsD'},\n",
       "  {'external_url': 'http://adage.com/article/digitalnext/facebook-biggest-player-advertising-s-540-billion-world/235708/',\n",
       "   'title': 'Guest post by CEO Ben Elowitz in AdAge'},\n",
       "  {'external_url': 'http://www.businessinsider.com/facebook-captures-14-percent-of-our-online-attention-but-only-4-percent-of-ad-spending-online-2012-6',\n",
       "   'title': 'Guest post by CEO Ben Elowitz in Business Insider'},\n",
       "  {'external_url': 'http://allfacebook.com/wetpaint-media-data_b75963',\n",
       "   'title': 'AllFacebook coverage of Wetpaint'},\n",
       "  {'external_url': 'http://adage.com/article/digital/celeb-site-wetpaint-shows-media-profit-facebook/237828/',\n",
       "   'title': 'Profile of Wetpaint in Ad Age'},\n",
       "  {'external_url': 'http://allthingsd.com/20121018/how-to-boost-your-facebook-traffic-tips-and-tricks-from-wetpaint/',\n",
       "   'title': 'Interview with Wetpaint CEO Ben Elowitz in All Things D'},\n",
       "  {'external_url': 'http://www.xconomy.com/seattle/2012/10/19/wetpaint-starts-licensing-its-facebook-based-media-distribution-tech/',\n",
       "   'title': 'Profile of Wetpaint in Xconomy'}],\n",
       " 'founded_day': 17,\n",
       " 'founded_month': 10,\n",
       " 'founded_year': 2005,\n",
       " 'funding_rounds': [{'funded_day': 1,\n",
       "   'funded_month': 10,\n",
       "   'funded_year': 2005,\n",
       "   'id': 888,\n",
       "   'investments': [{'company': None,\n",
       "     'financial_org': {'name': 'Frazier Technology Ventures',\n",
       "      'permalink': 'frazier-technology-ventures'},\n",
       "     'person': None},\n",
       "    {'company': None,\n",
       "     'financial_org': {'name': 'Trinity Ventures',\n",
       "      'permalink': 'trinity-ventures'},\n",
       "     'person': None}],\n",
       "   'raised_amount': 5250000,\n",
       "   'raised_currency_code': 'USD',\n",
       "   'round_code': 'a',\n",
       "   'source_description': '',\n",
       "   'source_url': 'http://seattlepi.nwsource.com/business/246734_wiki02.html'},\n",
       "  {'funded_day': 1,\n",
       "   'funded_month': 1,\n",
       "   'funded_year': 2007,\n",
       "   'id': 889,\n",
       "   'investments': [{'company': None,\n",
       "     'financial_org': {'name': 'Accel Partners',\n",
       "      'permalink': 'accel-partners'},\n",
       "     'person': None},\n",
       "    {'company': None,\n",
       "     'financial_org': {'name': 'Frazier Technology Ventures',\n",
       "      'permalink': 'frazier-technology-ventures'},\n",
       "     'person': None},\n",
       "    {'company': None,\n",
       "     'financial_org': {'name': 'Trinity Ventures',\n",
       "      'permalink': 'trinity-ventures'},\n",
       "     'person': None}],\n",
       "   'raised_amount': 9500000,\n",
       "   'raised_currency_code': 'USD',\n",
       "   'round_code': 'b',\n",
       "   'source_description': '',\n",
       "   'source_url': 'http://pulse2.com/2007/01/09/wiki-builder-website-wetpaint-welcomes-95m-funding/'},\n",
       "  {'funded_day': 19,\n",
       "   'funded_month': 5,\n",
       "   'funded_year': 2008,\n",
       "   'id': 2312,\n",
       "   'investments': [{'company': None,\n",
       "     'financial_org': {'name': 'DAG Ventures', 'permalink': 'dag-ventures'},\n",
       "     'person': None},\n",
       "    {'company': None,\n",
       "     'financial_org': {'name': 'Accel Partners',\n",
       "      'permalink': 'accel-partners'},\n",
       "     'person': None},\n",
       "    {'company': None,\n",
       "     'financial_org': {'name': 'Trinity Ventures',\n",
       "      'permalink': 'trinity-ventures'},\n",
       "     'person': None},\n",
       "    {'company': None,\n",
       "     'financial_org': {'name': 'Frazier Technology Ventures',\n",
       "      'permalink': 'frazier-technology-ventures'},\n",
       "     'person': None}],\n",
       "   'raised_amount': 25000000,\n",
       "   'raised_currency_code': 'USD',\n",
       "   'round_code': 'c',\n",
       "   'source_description': 'Accel',\n",
       "   'source_url': 'http://www.accel.com/news/news_one_up.php?news_id=185'}],\n",
       " 'homepage_url': 'http://wetpaint-inc.com',\n",
       " 'image': {'available_sizes': [[[150, 75],\n",
       "    'assets/images/resized/0000/3604/3604v14-max-150x150.jpg'],\n",
       "   [[250, 125], 'assets/images/resized/0000/3604/3604v14-max-250x250.jpg'],\n",
       "   [[450, 225], 'assets/images/resized/0000/3604/3604v14-max-450x450.jpg']]},\n",
       " 'investments': [],\n",
       " 'milestones': [{'description': \"Wetpaint named in Lead411's Hottest Seattle Companies list\",\n",
       "   'id': 5869,\n",
       "   'source_description': 'LEAD411 LAUNCHES \"HOTTEST SEATTLE COMPANIES\" AWARDS',\n",
       "   'source_text': None,\n",
       "   'source_url': 'http://www.lead411.com/seattle-companies.html',\n",
       "   'stoneable': {'name': 'Wetpaint', 'permalink': 'wetpaint'},\n",
       "   'stoneable_type': 'Company',\n",
       "   'stoned_acquirer': None,\n",
       "   'stoned_day': 8,\n",
       "   'stoned_month': 6,\n",
       "   'stoned_value': None,\n",
       "   'stoned_value_type': None,\n",
       "   'stoned_year': 2010},\n",
       "  {'description': 'Site-Builder Wetpaint Makes One For Itself, Using the Demand Media Playbook',\n",
       "   'id': 8702,\n",
       "   'source_description': 'All Things D',\n",
       "   'source_text': None,\n",
       "   'source_url': 'http://mediamemo.allthingsd.com/20100906/site-builder-wetpaint-makes-one-for-itself-using-the-demand-media-playbook/',\n",
       "   'stoneable': {'name': 'Wetpaint', 'permalink': 'wetpaint'},\n",
       "   'stoneable_type': 'Company',\n",
       "   'stoned_acquirer': None,\n",
       "   'stoned_day': 6,\n",
       "   'stoned_month': 9,\n",
       "   'stoned_value': None,\n",
       "   'stoned_value_type': None,\n",
       "   'stoned_year': 2010}],\n",
       " 'name': 'Wetpaint',\n",
       " 'number_of_employees': 47,\n",
       " 'offices': [{'address1': '710 - 2nd Avenue',\n",
       "   'address2': 'Suite 1100',\n",
       "   'city': 'Seattle',\n",
       "   'country_code': 'USA',\n",
       "   'description': '',\n",
       "   'latitude': 47.603122,\n",
       "   'longitude': -122.333253,\n",
       "   'state_code': 'WA',\n",
       "   'zip_code': '98104'},\n",
       "  {'address1': '270 Lafayette Street',\n",
       "   'address2': 'Suite 505',\n",
       "   'city': 'New York',\n",
       "   'country_code': 'USA',\n",
       "   'description': '',\n",
       "   'latitude': 40.7237306,\n",
       "   'longitude': -73.9964312,\n",
       "   'state_code': 'NY',\n",
       "   'zip_code': '10012'}],\n",
       " 'overview': '<p>Wetpaint is a technology platform company that uses its proprietary state-of-the-art technology and expertise in social media to build and monetize audiences for digital publishers. Wetpaint’s own online property, Wetpaint Entertainment, an entertainment news site that attracts more than 12 million unique visitors monthly and has over 2 million Facebook fans, is a proof point to the company’s success in building and engaging audiences. Media companies can license Wetpaint’s platform which includes a dynamic playbook tailored to their individual needs and comprehensive training. Founded by Internet pioneer Ben Elowitz, and with offices in New York and Seattle, Wetpaint is backed by Accel Partners, the investors behind Facebook.</p>',\n",
       " 'partners': [],\n",
       " 'permalink': 'abc2',\n",
       " 'phone_number': '206.859.6300',\n",
       " 'products': [{'name': 'Wikison Wetpaint', 'permalink': 'wetpaint-wiki'},\n",
       "  {'name': 'Wetpaint Social Distribution System',\n",
       "   'permalink': 'wetpaint-social-distribution-system'}],\n",
       " 'providerships': [],\n",
       " 'relationships': [{'is_past': False,\n",
       "   'person': {'first_name': 'Michael',\n",
       "    'last_name': 'Howell',\n",
       "    'permalink': 'michael-howell'},\n",
       "   'title': 'Co-Founder and VP, Social and Audience Development'},\n",
       "  {'is_past': False,\n",
       "   'person': {'first_name': 'Ben',\n",
       "    'last_name': 'Elowitz',\n",
       "    'permalink': 'ben-elowitz'},\n",
       "   'title': 'Co-Founder/CEO/Board of Directors'},\n",
       "  {'is_past': False,\n",
       "   'person': {'first_name': 'Rob',\n",
       "    'last_name': 'Grady',\n",
       "    'permalink': 'rob-grady'},\n",
       "   'title': 'COO/Board of Directors'},\n",
       "  {'is_past': False,\n",
       "   'person': {'first_name': 'Chris',\n",
       "    'last_name': 'Kollas',\n",
       "    'permalink': 'chris-kollas'},\n",
       "   'title': 'SVP, Strategy and Business Development'},\n",
       "  {'is_past': False,\n",
       "   'person': {'first_name': 'Theresia',\n",
       "    'last_name': 'Ranzetta',\n",
       "    'permalink': 'theresia-ranzetta'},\n",
       "   'title': 'Board'},\n",
       "  {'is_past': False,\n",
       "   'person': {'first_name': 'Gus', 'last_name': 'Tai', 'permalink': 'gus-tai'},\n",
       "   'title': 'Board Member'},\n",
       "  {'is_past': False,\n",
       "   'person': {'first_name': 'Len',\n",
       "    'last_name': 'Jordan',\n",
       "    'permalink': 'len-jordan'},\n",
       "   'title': 'Board'},\n",
       "  {'is_past': False,\n",
       "   'person': {'first_name': 'Alex',\n",
       "    'last_name': 'Weinstein',\n",
       "    'permalink': 'alex-weinstein'},\n",
       "   'title': 'Head of Technology and Product'},\n",
       "  {'is_past': True,\n",
       "   'person': {'first_name': 'Bert',\n",
       "    'last_name': 'Hogue',\n",
       "    'permalink': 'bert-hogue'},\n",
       "   'title': 'CFO'},\n",
       "  {'is_past': True,\n",
       "   'person': {'first_name': 'Brian',\n",
       "    'last_name': 'Watkins',\n",
       "    'permalink': 'brian-watkins'},\n",
       "   'title': 'CFO/ CRO'},\n",
       "  {'is_past': True,\n",
       "   'person': {'first_name': 'Rob',\n",
       "    'last_name': 'Grady',\n",
       "    'permalink': 'rob-grady'},\n",
       "   'title': 'Senior Vice President, Marketing'},\n",
       "  {'is_past': True,\n",
       "   'person': {'first_name': 'Werner',\n",
       "    'last_name': 'Koepf',\n",
       "    'permalink': 'werner-koepf'},\n",
       "   'title': 'VP, Technology and Product'},\n",
       "  {'is_past': True,\n",
       "   'person': {'first_name': 'Kevin',\n",
       "    'last_name': 'Flaherty',\n",
       "    'permalink': 'kevin-flaherty'},\n",
       "   'title': 'VP Marketing'},\n",
       "  {'is_past': True,\n",
       "   'person': {'first_name': 'Alex',\n",
       "    'last_name': 'Berg',\n",
       "    'permalink': 'alex-berg'},\n",
       "   'title': 'VP User Experience'},\n",
       "  {'is_past': True,\n",
       "   'person': {'first_name': 'Steve',\n",
       "    'last_name': 'McQuade',\n",
       "    'permalink': 'steve-mcquade'},\n",
       "   'title': 'VP Engineering'},\n",
       "  {'is_past': True,\n",
       "   'person': {'first_name': 'Susan',\n",
       "    'last_name': 'Mulcahy',\n",
       "    'permalink': 'susan-mulcahy'},\n",
       "   'title': 'Executive Editor'},\n",
       "  {'is_past': True,\n",
       "   'person': {'first_name': 'Chris',\n",
       "    'last_name': 'Kollas',\n",
       "    'permalink': 'chris-kollas'},\n",
       "   'title': 'VP Business Development'}],\n",
       " 'screenshots': [{'attribution': None,\n",
       "   'available_sizes': [[[150, 86],\n",
       "     'assets/images/resized/0016/0929/160929v2-max-150x150.png'],\n",
       "    [[250, 143], 'assets/images/resized/0016/0929/160929v2-max-250x250.png'],\n",
       "    [[450, 258],\n",
       "     'assets/images/resized/0016/0929/160929v2-max-450x450.png']]}],\n",
       " 'tag_list': 'wiki, seattle, elowitz, media-industry, media-platform, social-distribution-system',\n",
       " 'total_money_raised': '$39.8M',\n",
       " 'twitter_username': 'BachelrWetpaint',\n",
       " 'updated_at': 'Sun Dec 08 07:15:44 UTC 2013',\n",
       " 'video_embeds': []}"
      ]
     },
     "execution_count": 10,
     "metadata": {},
     "output_type": "execute_result"
    }
   ],
   "source": [
    "collection.find_one()"
   ]
  },
  {
   "cell_type": "code",
   "execution_count": 11,
   "metadata": {},
   "outputs": [
    {
     "data": {
      "text/plain": [
       "dict_keys(['_id', 'name', 'permalink', 'crunchbase_url', 'homepage_url', 'blog_url', 'blog_feed_url', 'twitter_username', 'category_code', 'number_of_employees', 'founded_year', 'founded_month', 'founded_day', 'deadpooled_year', 'tag_list', 'alias_list', 'email_address', 'phone_number', 'description', 'created_at', 'updated_at', 'overview', 'image', 'products', 'relationships', 'competitions', 'providerships', 'total_money_raised', 'funding_rounds', 'investments', 'acquisition', 'acquisitions', 'offices', 'milestones', 'video_embeds', 'screenshots', 'external_links', 'partners'])"
      ]
     },
     "execution_count": 11,
     "metadata": {},
     "output_type": "execute_result"
    }
   ],
   "source": [
    "collection.find_one().keys()"
   ]
  },
  {
   "cell_type": "markdown",
   "metadata": {},
   "source": [
    "### 1. All the companies whose name match 'Babelgum'. Retrieve only their `name` field."
   ]
  },
  {
   "cell_type": "code",
   "execution_count": 20,
   "metadata": {},
   "outputs": [
    {
     "name": "stdout",
     "output_type": "stream",
     "text": [
      "1\n"
     ]
    }
   ],
   "source": [
    "res = list(collection.find({'name': 'Babelgum'}))\n",
    "print(len(res))"
   ]
  },
  {
   "cell_type": "markdown",
   "metadata": {},
   "source": [
    "### 2. All the companies that have more than 5000 employees. Limit the search to 20 companies and sort them by **number of employees**."
   ]
  },
  {
   "cell_type": "code",
   "execution_count": 21,
   "metadata": {},
   "outputs": [
    {
     "name": "stdout",
     "output_type": "stream",
     "text": [
      "20\n",
      "{'_id': ObjectId('52cdef7c4bab8bd675297e49'), 'name': 'Nintendo', 'permalink': 'nintendo', 'crunchbase_url': 'http://www.crunchbase.com/company/nintendo', 'homepage_url': 'http://nintendo.com', 'blog_url': '', 'blog_feed_url': '', 'twitter_username': 'NintendoAmerica', 'category_code': 'games_video', 'number_of_employees': 5080, 'founded_year': 1889, 'founded_month': 9, 'founded_day': 23, 'deadpooled_year': None, 'deadpooled_month': None, 'deadpooled_day': None, 'deadpooled_url': None, 'tag_list': 'games, console', 'alias_list': '', 'email_address': 'noalegal@noa.nintendo.com', 'phone_number': '1-800-255-3700 ', 'description': '', 'created_at': 'Sat Dec 22 13:27:00 UTC 2007', 'updated_at': 'Thu Sep 05 12:41:16 UTC 2013', 'overview': '<p>Nintendo, a technology company widely known for its line of game consoles, was actually founded in 1889 by Fusajiro Yamauchi. It began as a card game company and evolved into one of the largest Japanese companies with a Market Capitalization of over $85 billion.</p>', 'image': {'available_sizes': [[[150, 41], 'assets/images/resized/0000/2869/2869v3-max-150x150.jpg'], [[250, 69], 'assets/images/resized/0000/2869/2869v3-max-250x250.jpg'], [[450, 125], 'assets/images/resized/0000/2869/2869v3-max-450x450.jpg']], 'attribution': None}, 'products': [{'name': 'Wii', 'permalink': 'wii'}], 'relationships': [{'is_past': False, 'title': 'President', 'person': {'first_name': 'Satoru', 'last_name': 'Iwata', 'permalink': 'satoru-iwata'}}, {'is_past': True, 'title': 'Executive Vice President', 'person': {'first_name': 'John', 'last_name': 'H. Bauer', 'permalink': 'john-h-bauer'}}, {'is_past': True, 'title': '', 'person': {'first_name': 'Mark', 'last_name': 'Proffit', 'permalink': 'mark-frazier'}}, {'is_past': True, 'title': 'European Brand Manager', 'person': {'first_name': 'Cornelius', 'last_name': 'Rost', 'permalink': 'cornelius-rost'}}, {'is_past': True, 'title': '', 'person': {'first_name': 'Roger', 'last_name': 'Pavane', 'permalink': 'roger-pavane'}}, {'is_past': True, 'title': 'Training Coordinator / Lead / Developer', 'person': {'first_name': 'Scott', 'last_name': 'Sullivan', 'permalink': 'scott-sullivan'}}, {'is_past': True, 'title': 'Lead Tester', 'person': {'first_name': 'Jesse', 'last_name': 'Hayes', 'permalink': 'jesse-hayes'}}, {'is_past': True, 'title': 'Consultant', 'person': {'first_name': 'John', 'last_name': 'H. Bauer', 'permalink': 'john-h-bauer'}}], 'competitions': [], 'providerships': [], 'total_money_raised': '$0', 'funding_rounds': [], 'investments': [], 'acquisition': None, 'acquisitions': [], 'offices': [{'description': None, 'address1': None, 'address2': None, 'zip_code': None, 'city': None, 'state_code': None, 'country_code': 'JPN', 'latitude': 36.204824, 'longitude': 138.252924}], 'milestones': [{'id': 17591, 'description': '3D For Everyone! Get The Nintendo 3DS For $150', 'stoned_year': 2011, 'stoned_month': 8, 'stoned_day': 29, 'source_url': 'http://techcrunch.com/2011/08/29/get-the-nintendo-3ds-150/', 'source_text': '', 'source_description': '3D For Everyone! Get The Nintendo 3DS For $150', 'stoneable_type': 'Company', 'stoned_value': None, 'stoned_value_type': None, 'stoned_acquirer': None, 'stoneable': {'name': 'Nintendo', 'permalink': 'nintendo'}}], 'ipo': None, 'video_embeds': [], 'screenshots': [], 'external_links': [], 'partners': []}\n"
     ]
    }
   ],
   "source": [
    "res = list(collection.find({'number_of_employees': { '$gt': 5000 } } ).sort('number_of_employees',1).limit(20))\n",
    "\n",
    "print(len(res))\n",
    "print(res[0])"
   ]
  },
  {
   "cell_type": "markdown",
   "metadata": {},
   "source": [
    "### 3. All the companies founded between 2000 and 2005, both years included. Retrieve only the `name` and `founded_year` fields."
   ]
  },
  {
   "cell_type": "code",
   "execution_count": 22,
   "metadata": {},
   "outputs": [
    {
     "name": "stdout",
     "output_type": "stream",
     "text": [
      "3734\n",
      "{\n",
      "    \"founded_year\": 2005,\n",
      "    \"name\": \"Wetpaint\"\n",
      "}\n"
     ]
    }
   ],
   "source": [
    "proj = {'_id': 0,'name': 1, 'founded_year': 1}\n",
    "res = list(collection.find( { 'founded_year': { '$gte': 2000, '$lte': 2005 } },proj ))\n",
    "\n",
    "print(len(res))\n",
    "print(json.dumps(res[0], indent=4, sort_keys=True))"
   ]
  },
  {
   "cell_type": "markdown",
   "metadata": {},
   "source": [
    "### 4. All the companies that had a Valuation Amount of more than 100.000.000 and have been founded before 2010. Retrieve only the `name` and `ipo` fields."
   ]
  },
  {
   "cell_type": "code",
   "execution_count": 23,
   "metadata": {},
   "outputs": [
    {
     "name": "stdout",
     "output_type": "stream",
     "text": [
      "28\n",
      "{\n",
      "    \"ipo\": {\n",
      "        \"pub_day\": 2,\n",
      "        \"pub_month\": 3,\n",
      "        \"pub_year\": 2012,\n",
      "        \"stock_symbol\": \"NYSE:YELP\",\n",
      "        \"valuation_amount\": 1300000000,\n",
      "        \"valuation_currency_code\": \"USD\"\n",
      "    },\n",
      "    \"name\": \"Yelp\"\n",
      "}\n"
     ]
    }
   ],
   "source": [
    "proj = {'_id': 0,'name': 1, 'ipo': 1}\n",
    "res = list(collection.find( {'ipo': {'$exists': 'true' },\n",
    "                             'ipo.valuation_amount': {'$exists': 'true' , '$type': 'int', '$gte': 100000000},\n",
    "                             'founded_year': { '$lte': 2010 } }, proj ))\n",
    "print(len(res))\n",
    "print(json.dumps(res[0], indent=4, sort_keys=True))"
   ]
  },
  {
   "cell_type": "markdown",
   "metadata": {},
   "source": [
    "### 5. All the companies that have less than 1000 employees and have been founded before 2005. Order them by the number of employees and limit the search to 10 companies."
   ]
  },
  {
   "cell_type": "code",
   "execution_count": 24,
   "metadata": {},
   "outputs": [
    {
     "name": "stdout",
     "output_type": "stream",
     "text": [
      "10\n",
      "{'_id': ObjectId('52cdef7c4bab8bd675297d93'), 'name': 'Fox Interactive Media', 'permalink': 'fox-interactive-media', 'crunchbase_url': 'http://www.crunchbase.com/company/fox-interactive-media', 'homepage_url': 'http://www.newscorp.com', 'blog_url': '', 'blog_feed_url': '', 'twitter_username': 'twitterapi', 'category_code': 'web', 'number_of_employees': 0, 'founded_year': 1979, 'founded_month': 6, 'founded_day': 1, 'deadpooled_year': None, 'deadpooled_month': None, 'deadpooled_day': None, 'deadpooled_url': '', 'tag_list': '', 'alias_list': None, 'email_address': '', 'phone_number': '', 'description': '', 'created_at': 'Thu May 31 21:46:57 UTC 2007', 'updated_at': 'Mon Aug 19 17:13:27 UTC 2013', 'overview': '<p>Fox Interactive Media (FIM) oversees <a href=\"http://www.crunchbase.com/company/newscorporation\" title=\"News Corporation\">News Corporation</a>&#8217;s Internet business operations.</p>', 'image': {'available_sizes': [[[150, 71], 'assets/images/resized/0001/0824/10824v1-max-150x150.png'], [[232, 111], 'assets/images/resized/0001/0824/10824v1-max-250x250.png'], [[232, 111], 'assets/images/resized/0001/0824/10824v1-max-450x450.png']], 'attribution': None}, 'products': [], 'relationships': [{'is_past': False, 'title': '', 'person': {'first_name': 'Don', 'last_name': 'Synstelien', 'permalink': 'don-synstelien-2'}}, {'is_past': False, 'title': 'Supervising Sound Editor', 'person': {'first_name': 'Jake', 'last_name': 'Allston', 'permalink': 'jake-allston'}}, {'is_past': False, 'title': 'President', 'person': {'first_name': 'Peter', 'last_name': 'Levinsohn', 'permalink': 'peter-levinsohn'}}, {'is_past': True, 'title': 'Chairman / CEO', 'person': {'first_name': 'Barry', 'last_name': 'Diller', 'permalink': 'barry-diller'}}, {'is_past': True, 'title': 'CTO', 'person': {'first_name': 'Ken', 'last_name': 'Keller', 'permalink': 'ken-keller'}}, {'is_past': True, 'title': 'CIO and Senior Vice President', 'person': {'first_name': 'Ian', 'last_name': 'Hurlock-Jones', 'permalink': 'ian-hurlock-jones'}}, {'is_past': True, 'title': 'COO, International', 'person': {'first_name': 'Antoine', 'last_name': 'Theysset', 'permalink': 'antoine-theysset'}}, {'is_past': True, 'title': 'Chief Strategy Officer', 'person': {'first_name': 'James', 'last_name': 'Heckman', 'permalink': 'jim-heckman'}}, {'is_past': True, 'title': 'EVP, Chief Revenue Officer,', 'person': {'first_name': 'Michael', 'last_name': 'Barrett', 'permalink': 'michael-barrett'}}, {'is_past': True, 'title': 'EVP & GM, IGN', 'person': {'first_name': 'Dale', 'last_name': 'Strang', 'permalink': 'dale-strang'}}, {'is_past': True, 'title': 'Vice President of Advertising Sales', 'person': {'first_name': 'Kym', 'last_name': 'Nelson', 'permalink': 'kym-nelson'}}, {'is_past': True, 'title': 'Vice President, Strategy and Corporate Development', 'person': {'first_name': 'Walter', 'last_name': 'Delph', 'permalink': 'walter-delph'}}, {'is_past': True, 'title': 'VP, Ad Solutions', 'person': {'first_name': 'Chris', 'last_name': 'George', 'permalink': 'chris-george'}}, {'is_past': True, 'title': 'SVP Finance', 'person': {'first_name': 'Bruce', 'last_name': 'Wiseman', 'permalink': 'bruce-wiseman'}}, {'is_past': True, 'title': 'Vice President, Product for Myspace Music', 'person': {'first_name': 'Roberto', 'last_name': 'Fisher', 'permalink': 'roberto-fisher'}}, {'is_past': True, 'title': 'Vice President of Applications', 'person': {'first_name': 'Chris', 'last_name': 'M. George', 'permalink': 'chris-m-george'}}, {'is_past': True, 'title': 'Vice President of Sales, MySpace', 'person': {'first_name': 'Tony', 'last_name': 'Siconolfi', 'permalink': 'tony-siconolfi'}}, {'is_past': True, 'title': 'Vice President, Marketing', 'person': {'first_name': 'Alice', 'last_name': 'Lankester', 'permalink': 'alice-lankester'}}, {'is_past': True, 'title': 'VP/GM Newroo', 'person': {'first_name': 'Brian', 'last_name': 'Norgard', 'permalink': 'brian-norgard'}}, {'is_past': True, 'title': 'SVP & GM, Mobile', 'person': {'first_name': 'John', 'last_name': 'Smelzer', 'permalink': 'john-smelzer'}}, {'is_past': True, 'title': 'Vice President, Editorial', 'person': {'first_name': 'Steven', 'last_name': 'Horn', 'permalink': 'steven-horn'}}, {'is_past': True, 'title': 'VP, Technology', 'person': {'first_name': 'Dan', 'last_name': 'Gould', 'permalink': 'dan-gould'}}, {'is_past': True, 'title': 'Vice President', 'person': {'first_name': 'Jason', 'last_name': 'Knapp', 'permalink': 'jason-knapp'}}, {'is_past': True, 'title': 'SVP, Client Solutions', 'person': {'first_name': 'David', 'last_name': 'Tokheim', 'permalink': 'david-tokheim'}}, {'is_past': True, 'title': 'SVP Human Resources', 'person': {'first_name': 'Dustin', 'last_name': 'Finer', 'permalink': 'dustin-finer'}}, {'is_past': True, 'title': 'EVP, Product & Technology', 'person': {'first_name': 'Adam', 'last_name': 'Bain', 'permalink': 'adam-bain'}}, {'is_past': True, 'title': 'Senior Advisor', 'person': {'first_name': 'Ariel', 'last_name': 'Arrieta', 'permalink': 'ariel-arrieta'}}, {'is_past': True, 'title': 'VP Products', 'person': {'first_name': 'Mark', 'last_name': 'Stieglitz', 'permalink': 'mark-stieglitz'}}, {'is_past': True, 'title': 'Senior Director, Publisher Development', 'person': {'first_name': 'Matt', 'last_name': 'Barash', 'permalink': 'matt-barash'}}, {'is_past': True, 'title': 'Director Integrated Sales', 'person': {'first_name': 'Steve', 'last_name': 'Sarner', 'permalink': 'steve-sarner'}}, {'is_past': True, 'title': 'Vice President', 'person': {'first_name': 'Josh', 'last_name': 'Yguado', 'permalink': 'josh-yguado'}}, {'is_past': True, 'title': 'Director', 'person': {'first_name': 'Adrian', 'last_name': 'Aoun', 'permalink': 'adrian-aoun'}}, {'is_past': True, 'title': 'Director of Audience & Business Development', 'person': {'first_name': 'Barry', 'last_name': 'Flanigan', 'permalink': 'barry-flanigan'}}, {'is_past': True, 'title': 'V.P. Finance', 'person': {'first_name': 'Greg', 'last_name': 'Wimmer', 'permalink': 'greg-wimmer'}}, {'is_past': True, 'title': 'Director of Marketing & Content, MySpace', 'person': {'first_name': 'Dominic', 'last_name': 'Cook', 'permalink': 'dominic-cook'}}, {'is_past': True, 'title': 'Sales Development & Strategy', 'person': {'first_name': 'Ross', 'last_name': 'Siegel', 'permalink': 'ross-siegel-2'}}, {'is_past': True, 'title': 'Senior Software Engineer', 'person': {'first_name': 'Jeff', 'last_name': 'Mellen', 'permalink': 'jeff-mellen'}}, {'is_past': True, 'title': 'Vice President, Human Resources', 'person': {'first_name': 'John', 'last_name': 'K Anderson', 'permalink': 'john-k-anderson'}}, {'is_past': True, 'title': 'Web Developer, New Products Group', 'person': {'first_name': 'Joshua', 'last_name': 'Samberg', 'permalink': 'joshua-samberg'}}, {'is_past': True, 'title': 'Executive Director of Revenue & Corporate Controller for two Entities', 'person': {'first_name': 'Tony', 'last_name': 'Cheung', 'permalink': 'tony-cheung'}}, {'is_past': True, 'title': 'Director of Product', 'person': {'first_name': 'Peter', 'last_name': 'Everett', 'permalink': 'peter-everett'}}, {'is_past': True, 'title': 'SVP, Business Development', 'person': {'first_name': 'John', 'last_name': 'Smelzer', 'permalink': 'john-smelzer'}}, {'is_past': True, 'title': 'Business Development / Sponsoring & Special Projects', 'person': {'first_name': 'Jean-Robert', 'last_name': 'BELLANGER', 'permalink': 'jean-robert-bellanger'}}, {'is_past': True, 'title': 'Vice President of National Brand Sales - IGN Entertainment', 'person': {'first_name': 'Scott', 'last_name': 'Bender', 'permalink': 'scott-bender'}}, {'is_past': True, 'title': 'National Sales Director', 'person': {'first_name': 'Andrew', 'last_name': 'Saunders', 'permalink': 'andrew-saunders-2'}}, {'is_past': True, 'title': 'Director, Consumer Insights', 'person': {'first_name': 'Jane', 'last_name': 'Collins', 'permalink': 'jane-collins'}}, {'is_past': True, 'title': 'President, Audience Network', 'person': {'first_name': 'Adam', 'last_name': 'Bain', 'permalink': 'adam-bain'}}, {'is_past': True, 'title': 'Creative Director, Entertainment', 'person': {'first_name': 'Steve', 'last_name': 'Mummolo', 'permalink': 'steve-mummolo'}}, {'is_past': True, 'title': 'Principal Interaction Designer', 'person': {'first_name': 'Eston', 'last_name': 'Bond', 'permalink': 'eston-bond'}}, {'is_past': True, 'title': 'Director, Business & Legal Affairs', 'person': {'first_name': 'Antone', 'last_name': 'Johnson', 'permalink': 'antone-johnson'}}, {'is_past': True, 'title': 'President', 'person': {'first_name': 'Ross', 'last_name': 'Levinsohn', 'permalink': 'ross-levinsohn'}}, {'is_past': True, 'title': 'Technology Manager', 'person': {'first_name': 'Zach', 'last_name': 'Greenberger', 'permalink': 'zach-greenberger'}}, {'is_past': True, 'title': 'Vice President, Product Management', 'person': {'first_name': 'Arnie', 'last_name': 'Gullov-Singh', 'permalink': 'arnie-gullov-singh'}}, {'is_past': True, 'title': 'Vice President & General Manager', 'person': {'first_name': 'Jeff', 'last_name': 'King', 'permalink': 'jeff-king'}}, {'is_past': True, 'title': 'Director', 'person': {'first_name': 'Patricia', 'last_name': 'Clark', 'permalink': 'patricia-clark'}}, {'is_past': True, 'title': 'Sr. Software Engineer', 'person': {'first_name': 'David', 'last_name': 'Pedowitz', 'permalink': 'david-pedowitz'}}, {'is_past': True, 'title': 'Vice President of Business and Legal Affairs', 'person': {'first_name': 'Chadwick', 'last_name': 'Ho', 'permalink': 'chadwick-ho'}}, {'is_past': True, 'title': 'Senior Director, Mobile Business Development', 'person': {'first_name': 'Bjorn', 'last_name': 'Laurin', 'permalink': 'bjorn-laurin'}}, {'is_past': True, 'title': 'Executive Director', 'person': {'first_name': 'Ram', 'last_name': 'Reddy', 'permalink': 'ram-reddy'}}, {'is_past': True, 'title': 'SVP, Northeast Sales', 'person': {'first_name': 'Robert', 'last_name': 'Palma', 'permalink': 'robert-palma'}}, {'is_past': True, 'title': 'Software Development Manager', 'person': {'first_name': 'Arthur', 'last_name': 'Svider', 'permalink': 'arthur-svider'}}, {'is_past': True, 'title': 'Director of Content, Entertainment', 'person': {'first_name': 'Jeff', 'last_name': 'King', 'permalink': 'jeff-king'}}, {'is_past': True, 'title': 'Sr. Territory Manger, Sales', 'person': {'first_name': 'Amy', 'last_name': 'Bonforte', 'permalink': 'amy-bonforte'}}, {'is_past': True, 'title': 'Managing Director of 3D Gamers Business and Operations', 'person': {'first_name': 'Piotr', 'last_name': 'Kapiszewski', 'permalink': 'piotr-kapiszewski'}}, {'is_past': True, 'title': 'Sales Director, Texas Region', 'person': {'first_name': 'Derek', 'last_name': 'Zabbia', 'permalink': 'derek-zabbia'}}, {'is_past': True, 'title': 'Advertising Products (online inventory) Management', 'person': {'first_name': 'Sunayana', 'last_name': 'Bedi', 'permalink': 'sunayana-bedi'}}], 'competitions': [], 'providerships': [], 'total_money_raised': '$0', 'funding_rounds': [], 'investments': [{'funding_round': {'round_code': 'b', 'source_url': 'http://www.techcrunch.com/2006/04/18/simply-hired-takes-135m-from-fox-and-foundation-capital/', 'source_description': '', 'raised_amount': 13500000, 'raised_currency_code': 'USD', 'funded_year': 2006, 'funded_month': 3, 'funded_day': 1, 'company': {'name': 'Simply Hired', 'permalink': 'simply-hired'}}}, {'funding_round': {'round_code': 'unattributed', 'source_url': 'http://techcrunch.com/2013/08/16/vice-fox/', 'source_description': 'Fox Invests In Vice, A Media Company That Makes Money Being Terrible And Brilliant', 'raised_amount': 70000000, 'raised_currency_code': 'USD', 'funded_year': 2013, 'funded_month': 8, 'funded_day': 19, 'company': {'name': 'Vice Media Group', 'permalink': 'vice-media-group'}}}], 'acquisition': None, 'acquisitions': [{'price_amount': 20000000, 'price_currency_code': 'USD', 'term_code': None, 'source_url': 'http://venturebeat.com/2007/05/30/fox-interactive-confirms-purchase-of-photobucket-and-flektor/', 'source_description': 'Fox Interactive confirms purchase of Photobucket and Flektor', 'acquired_year': 2007, 'acquired_month': 5, 'acquired_day': 30, 'company': {'name': 'Flektor', 'permalink': 'flektor'}}, {'price_amount': 700000000, 'price_currency_code': 'USD', 'term_code': 'cash', 'source_url': None, 'source_description': None, 'acquired_year': 2005, 'acquired_month': 9, 'acquired_day': 1, 'company': {'name': 'IGN Entertainment', 'permalink': 'ignentertainment'}}, {'price_amount': None, 'price_currency_code': 'USD', 'term_code': None, 'source_url': 'http://www.socaltech.com/fox_interactive_acquires_newroo_ksolo_com/s-0003870.html', 'source_description': 'Fox Interactive Acquires Newroo, kSolo.com', 'acquired_year': 2006, 'acquired_month': 5, 'acquired_day': 1, 'company': {'name': 'Newroo', 'permalink': 'newroo'}}, {'price_amount': None, 'price_currency_code': 'USD', 'term_code': None, 'source_url': 'http://www.scout.com/2/430453.html', 'source_description': 'Scout Acquired by Fox', 'acquired_year': 2005, 'acquired_month': 8, 'acquired_day': 5, 'company': {'name': 'Scout.com', 'permalink': 'scout-com'}}, {'price_amount': None, 'price_currency_code': 'USD', 'term_code': None, 'source_url': 'http://www.zdnet.com/blog/btl/fox-interactive-acquires-photobucket-flektor/5191', 'source_description': 'Fox Interactive acquires Photobucket, Flektor', 'acquired_year': 2007, 'acquired_month': 5, 'acquired_day': 30, 'company': {'name': 'Photobucket', 'permalink': 'photobucket'}}], 'offices': [{'description': '', 'address1': '407 N Maple Dr', 'address2': '', 'zip_code': '90210', 'city': 'Beverly Hills', 'state_code': 'CA', 'country_code': 'USA', 'latitude': 34.076179, 'longitude': -118.39417}], 'milestones': [], 'ipo': None, 'video_embeds': [{'embed_code': '<embed src=\"http://blip.tv/play/goRrgcGtFQI%2Em4v\" type=\"application/x-shockwave-flash\" width=\"370\" height=\"240\" allowscriptaccess=\"always\" allowfullscreen=\"true\"></embed> ', 'description': '<p>This video was originally posted on <a href=\"http://www.beet.tv/2010/01/producers-for-foxs-super-popular-freshman-hit-glee-will-host-an-open-casting-call-online-for-a-few-new-roles-in-the-glee-club.html\" title=\"Beet.TV\" rel=\"nofollow\">Beet.TV</a> </p>'}, {'embed_code': '<embed src=\"http://blip.tv/play/goRrgcvTCAI%2Em4v\" type=\"application/x-shockwave-flash\" width=\"370\" height=\"240\" allowscriptaccess=\"always\" allowfullscreen=\"true\"></embed>', 'description': '<p>This video was originally posted on <a href=\"http://www.beet.tv/2010/03/fox-readying-hululike-mobile-content-site-called-bitbot.html\" title=\"Beet.TV\" rel=\"nofollow\">Beet.TV</a></p>'}, {'embed_code': '<embed src=\"http://blip.tv/play/goRrgc6MQQI%2Em4v\" type=\"application/x-shockwave-flash\" width=\"370\" height=\"240\" allowscriptaccess=\"always\" allowfullscreen=\"true\"></embed>', 'description': '<p>This video was originally posted on <a href=\"http://www.beet.tv/2010/03/foxtv-partners-with-black20.html\" title=\"Beet.TV\" rel=\"nofollow\">Beet.TV</a></p>'}], 'screenshots': [{'available_sizes': [[[150, 94], 'assets/images/resized/0004/3402/43402v1-max-150x150.png'], [[250, 158], 'assets/images/resized/0004/3402/43402v1-max-250x250.png'], [[450, 284], 'assets/images/resized/0004/3402/43402v1-max-450x450.png']], 'attribution': None}, {'available_sizes': [[[150, 94], 'assets/images/resized/0004/3403/43403v1-max-150x150.png'], [[250, 158], 'assets/images/resized/0004/3403/43403v1-max-250x250.png'], [[450, 284], 'assets/images/resized/0004/3403/43403v1-max-450x450.png']], 'attribution': None}, {'available_sizes': [[[150, 94], 'assets/images/resized/0004/3404/43404v1-max-150x150.png'], [[250, 158], 'assets/images/resized/0004/3404/43404v1-max-250x250.png'], [[450, 284], 'assets/images/resized/0004/3404/43404v1-max-450x450.png']], 'attribution': None}], 'external_links': [], 'partners': []}\n"
     ]
    }
   ],
   "source": [
    "res = list(collection.find({'number_of_employees': { '$lte': 1000 } , \n",
    "                           'founded_year': { '$lte': 2005 }} ).sort('number_of_employees',1).limit(10))\n",
    "\n",
    "print(len(res))\n",
    "print(res[0])"
   ]
  },
  {
   "cell_type": "markdown",
   "metadata": {},
   "source": [
    "### 6. All the companies that don't include the `partners` field."
   ]
  },
  {
   "cell_type": "code",
   "execution_count": 46,
   "metadata": {},
   "outputs": [
    {
     "name": "stdout",
     "output_type": "stream",
     "text": [
      "0\n"
     ]
    }
   ],
   "source": [
    "res = list(collection.find({'partners': {'$exists': False}}))\n",
    "print(len(res))"
   ]
  },
  {
   "cell_type": "markdown",
   "metadata": {},
   "source": [
    "### 7. All the companies that have a null type of value on the `category_code` field."
   ]
  },
  {
   "cell_type": "code",
   "execution_count": 47,
   "metadata": {},
   "outputs": [
    {
     "name": "stdout",
     "output_type": "stream",
     "text": [
      "0\n",
      "Same query in MongoDB Compass shows 2751 document\n"
     ]
    }
   ],
   "source": [
    "res = list(collection.find({ 'category_code' : 'null'}) )\n",
    "# res = list(collection.find({ 'category_code' : { '$type': 10 } })\n",
    "# res = list(collection.find({ 'category_code' : { '$eq': null } } )\n",
    "# res = list(collection.find({ 'category_code' : { '$ne': null } } )           \n",
    "\n",
    "print(len(res))\n",
    "print('Same query in MongoDB Compass shows 2751 document')"
   ]
  },
  {
   "cell_type": "markdown",
   "metadata": {},
   "source": [
    "### 8. All the companies that have at least 100 employees but less than 1000. Retrieve only the `name` and `number of employees` fields."
   ]
  },
  {
   "cell_type": "code",
   "execution_count": 32,
   "metadata": {},
   "outputs": [
    {
     "name": "stdout",
     "output_type": "stream",
     "text": [
      "917\n",
      "{\n",
      "    \"name\": \"AdventNet\",\n",
      "    \"number_of_employees\": 600\n",
      "}\n"
     ]
    }
   ],
   "source": [
    "proj = {'_id': 0,'name': 1, 'number_of_employees': 1}\n",
    "res = list(collection.find( { 'number_of_employees': { '$gte': 100, '$lt': 1000 } },proj ))\n",
    "\n",
    "print(len(res))\n",
    "print(json.dumps(res[0], indent=4, sort_keys=True))\n"
   ]
  },
  {
   "cell_type": "markdown",
   "metadata": {},
   "source": [
    "### 9. Order all the companies by their IPO price in a descending order."
   ]
  },
  {
   "cell_type": "code",
   "execution_count": 33,
   "metadata": {},
   "outputs": [
    {
     "name": "stdout",
     "output_type": "stream",
     "text": [
      "47\n",
      "{'_id': ObjectId('52cdef7c4bab8bd675297f15'), 'name': 'Nielsen', 'permalink': 'nielsen', 'crunchbase_url': 'http://www.crunchbase.com/company/nielsen', 'homepage_url': 'http://nielsen.com', 'blog_url': 'http://blog.nielsen.com/nielsenwire', 'blog_feed_url': '', 'twitter_username': 'nielsenwire', 'category_code': 'web', 'number_of_employees': None, 'founded_year': 1922, 'founded_month': None, 'founded_day': None, 'deadpooled_year': None, 'deadpooled_month': None, 'deadpooled_day': None, 'deadpooled_url': None, 'tag_list': '', 'alias_list': '', 'email_address': 'ContactCommunications@nielsen.com', 'phone_number': ' 800.864.1224', 'description': '', 'created_at': 'Wed Aug 22 10:57:37 UTC 2007', 'updated_at': 'Tue Nov 26 03:11:23 UTC 2013', 'overview': '<p>Nielsen is a leading global provider of information and insights into what consumers watch and buy.</p>\\n\\n<p>Nielsen is a information and measurement company with leading market positions in marketing and consumer information, television and other media measurement, online intelligence, mobile measurement, trade shows and related properties. Nielsen has a presence in approximately 100 countries, with headquarters in New York, USA and Diemen, the Netherlands.</p>', 'image': {'available_sizes': [[[150, 68], 'assets/images/resized/0001/9309/19309v2-max-150x150.png'], [[157, 72], 'assets/images/resized/0001/9309/19309v2-max-250x250.png'], [[157, 72], 'assets/images/resized/0001/9309/19309v2-max-450x450.png']], 'attribution': None}, 'products': [], 'relationships': [{'is_past': False, 'title': 'Chairman of the Board - Supervisory Board', 'person': {'first_name': 'James', 'last_name': 'M. Kilts', 'permalink': 'james-m-kilts'}}, {'is_past': False, 'title': 'Executive Vice President and Chief Research Officer', 'person': {'first_name': 'Paul', 'last_name': 'Donato', 'permalink': 'paul-donato'}}, {'is_past': False, 'title': 'Chief Strategy Officer', 'person': {'first_name': 'Mark', 'last_name': 'Leiter', 'permalink': 'mark-leiter'}}, {'is_past': False, 'title': 'Chief Legal Officer', 'person': {'first_name': 'James', 'last_name': 'Cuminale', 'permalink': 'james-cuminale'}}, {'is_past': False, 'title': 'Chief Financial Officer', 'person': {'first_name': 'Brian', 'last_name': 'West', 'permalink': 'brian-west'}}, {'is_past': False, 'title': 'Chief Executive Officer', 'person': {'first_name': 'David', 'last_name': 'Calhoun', 'permalink': 'david-calhoun'}}, {'is_past': False, 'title': 'Chief Human Resources Officer', 'person': {'first_name': 'Mary', 'last_name': 'Liz Finn', 'permalink': 'mary-liz-finn'}}, {'is_past': False, 'title': 'SVP, Investor Relations', 'person': {'first_name': 'Kate', 'last_name': 'Vanek', 'permalink': 'kate-vanek'}}, {'is_past': False, 'title': 'Executive Vice President, Global Business Development', 'person': {'first_name': 'Itzhak', 'last_name': 'Fisher', 'permalink': 'itzhak-fisher'}}, {'is_past': False, 'title': 'Vice Chair', 'person': {'first_name': 'Susan', 'last_name': 'Whiting', 'permalink': 'susan-whiting'}}, {'is_past': False, 'title': 'Region Vice President, Consumer Retail Division', 'person': {'first_name': 'JoAnn', 'last_name': 'Piedmont', 'permalink': 'joann-piedmont'}}, {'is_past': False, 'title': 'Communications Analyst', 'person': {'first_name': 'Matthew', 'last_name': 'Hurst', 'permalink': 'matthew-hurst'}}, {'is_past': False, 'title': 'leadership', 'person': {'first_name': 'Lane', 'last_name': 'Cochrane', 'permalink': 'lane-cochrane'}}, {'is_past': False, 'title': 'Vice Chair', 'person': {'first_name': 'Rick', 'last_name': 'Kash', 'permalink': 'rick-kash'}}, {'is_past': False, 'title': 'President, Global Client Service', 'person': {'first_name': 'Mitch', 'last_name': 'Barns', 'permalink': 'mitch-barns'}}, {'is_past': False, 'title': 'Chief Provocateur', 'person': {'first_name': 'Dr.', 'last_name': 'A. K. Pradeep', 'permalink': 'dr-a-k-pradeep-3'}}, {'is_past': False, 'title': 'President, Consumer Products', 'person': {'first_name': 'Susan', 'last_name': 'Dunn', 'permalink': 'susan-dunn-2'}}, {'is_past': False, 'title': 'President, India', 'person': {'first_name': 'Piyush', 'last_name': 'Mathurs', 'permalink': 'piyush-mathurs'}}, {'is_past': False, 'title': 'President, Southeast Asia, North Asia and Pacific', 'person': {'first_name': 'Cheong-Tai', 'last_name': 'Leung', 'permalink': 'cheong-tai-leung'}}, {'is_past': False, 'title': 'Managing Director, Sub-Sahara and South Africa', 'person': {'first_name': 'Dwight', 'last_name': 'Watson', 'permalink': 'dwight-watson'}}, {'is_past': False, 'title': 'Consultant', 'person': {'first_name': 'Gale', 'last_name': 'Bowman', 'permalink': 'gale-bowman'}}, {'is_past': False, 'title': 'Tech Manager', 'person': {'first_name': 'Federico', 'last_name': 'Bucchi', 'permalink': 'federico-bucchi'}}, {'is_past': False, 'title': 'Board of Directors', 'person': {'first_name': 'Robert', 'last_name': 'Pozen', 'permalink': 'robert-pozen'}}, {'is_past': False, 'title': 'Chief Operating Officer', 'person': {'first_name': 'Mitchell', 'last_name': 'Habib', 'permalink': 'mitchell-habib'}}, {'is_past': False, 'title': 'President, Global Product Leadership', 'person': {'first_name': 'Steve', 'last_name': 'Hasker', 'permalink': 'steve-hasker'}}, {'is_past': False, 'title': 'President, Strategic Initiatives', 'person': {'first_name': 'John', 'last_name': 'Burbank', 'permalink': 'john-burbank'}}, {'is_past': False, 'title': '', 'person': {'first_name': 'John', 'last_name': 'Lewis', 'permalink': 'john-lewis-4'}}, {'is_past': False, 'title': 'President, Europe', 'person': {'first_name': 'Christophe', 'last_name': 'Cambournac', 'permalink': 'christophe-cambournac'}}, {'is_past': False, 'title': 'President, Greater China', 'person': {'first_name': 'Yan', 'last_name': 'Xuan', 'permalink': 'yan-xuan'}}, {'is_past': False, 'title': 'Managing Director, Middle East, North Africa, Pakistan', 'person': {'first_name': 'Nick', 'last_name': 'Papagregoriou', 'permalink': 'nick-papagregoriou'}}, {'is_past': True, 'title': 'CEO, Digital', 'person': {'first_name': 'Jonathan', 'last_name': 'Carson', 'permalink': 'jonathan-carson'}}, {'is_past': True, 'title': 'CEO, NielsenConnect', 'person': {'first_name': 'Jon', 'last_name': 'Mandel', 'permalink': 'jon-mandel'}}, {'is_past': True, 'title': 'SVP and Chief Human Resources Officer, ACNielsen', 'person': {'first_name': 'Jim', 'last_name': 'Cravens', 'permalink': 'jim-cravens'}}, {'is_past': True, 'title': 'CFO / SVP, Nielsen Media Emerging Businesses', 'person': {'first_name': 'Jane', 'last_name': 'Rode', 'permalink': 'jane-rode'}}, {'is_past': True, 'title': 'VP, Research, Local People Meter team', 'person': {'first_name': 'Jane', 'last_name': 'Collins', 'permalink': 'jane-collins'}}, {'is_past': True, 'title': 'SVP', 'person': {'first_name': 'Mary', 'last_name': 'Liz Finn', 'permalink': 'mary-liz-finn'}}, {'is_past': True, 'title': 'Executive Vice President, Product Leadership', 'person': {'first_name': 'Ari', 'last_name': 'Paparo', 'permalink': 'ari-paparo'}}, {'is_past': True, 'title': 'Vice President, Business Director', 'person': {'first_name': 'Robert', 'last_name': 'Kovalesky', 'permalink': 'robert-kovalesky'}}, {'is_past': True, 'title': 'VP, Sales & Client Services (BuzzMetrics & NetRatings)', 'person': {'first_name': 'Jay', 'last_name': 'Rampuria', 'permalink': 'jay-rampuria'}}, {'is_past': True, 'title': 'Senior Vice President for Investor Relations', 'person': {'first_name': 'Liz', 'last_name': 'Zale', 'permalink': 'liz-zale'}}, {'is_past': True, 'title': 'Associate Marketing Director', 'person': {'first_name': 'Nicole', 'last_name': 'Alexander', 'permalink': 'nicole-alexander'}}, {'is_past': True, 'title': 'Vice President', 'person': {'first_name': 'John', 'last_name': 'Tantum', 'permalink': 'john-tantum'}}, {'is_past': True, 'title': 'Vice President & Practice Head', 'person': {'first_name': 'Richard', 'last_name': 'Sussman', 'permalink': 'richard-sussman'}}, {'is_past': True, 'title': 'Application Developer, Student', 'person': {'first_name': 'Amir', 'last_name': 'Sharif', 'permalink': 'amir-sharif'}}, {'is_past': True, 'title': 'VP Consumer Insights, Product Management, VP, Production and Operations, Nielsen/Telephia', 'person': {'first_name': 'Linda', 'last_name': 'Shaffer', 'permalink': 'linda-shaffer'}}, {'is_past': True, 'title': 'Client Service Team', 'person': {'first_name': 'Maureen', 'last_name': 'Calabrese', 'permalink': 'maureen-calabrese'}}, {'is_past': True, 'title': 'Publishing Director', 'person': {'first_name': 'Phil', 'last_name': 'Ripperger', 'permalink': 'phil-ripperger'}}, {'is_past': True, 'title': 'Vice President, Sales', 'person': {'first_name': 'Gary', 'last_name': 'Cohen', 'permalink': 'gary-cohen'}}, {'is_past': True, 'title': 'Corporate Strategy and New Business Development', 'person': {'first_name': 'Sid', 'last_name': 'Gorham', 'permalink': 'sid-gorham'}}, {'is_past': True, 'title': 'Vice President, Group Client Director', 'person': {'first_name': 'Patrick', 'last_name': 'Venker', 'permalink': 'patrick-venker'}}, {'is_past': True, 'title': 'Emerging Leaders Intern', 'person': {'first_name': 'Todd', 'last_name': 'Goldberg', 'permalink': 'todd-goldberg'}}, {'is_past': True, 'title': 'Sales and Marketing Positions', 'person': {'first_name': 'John', 'last_name': 'Jarrell', 'permalink': 'john-jarrell'}}], 'competitions': [], 'providerships': [{'title': '', 'is_past': False, 'provider': {'name': 'Spark Public Relations', 'permalink': 'spark-public-relations'}}, {'title': '', 'is_past': False, 'provider': {'name': 'Meteor PR', 'permalink': 'meteor-pr'}}], 'total_money_raised': '$0', 'funding_rounds': [], 'investments': [{'funding_round': {'round_code': 'seed', 'source_url': '', 'source_description': '', 'raised_amount': None, 'raised_currency_code': None, 'funded_year': 2013, 'funded_month': 2, 'funded_day': 1, 'company': {'name': 'eDealya', 'permalink': 'edealya'}}}], 'acquisition': None, 'acquisitions': [{'price_amount': 327000000, 'price_currency_code': 'USD', 'term_code': 'cash', 'source_url': 'http://login.vnuemedia.com/hr/login/login_subscribe.jsp?id=0oqDem1gYIfIclz9i2%2Ffqj5NxCp2AC5DPbVnyT2da8GyV2mXjasabE128n69OrmcAh52%2FGE3pSG%2F%0AEKRYD9vh9EhrJrxukmUzh532fSMTZXL42gwPB80UWVtF1NwJ5UZSM%2BCkLU1mpYBoHFgiH%2Fi0f6Ax%0A9yMIVxt47t%2BHamhEQ0nkOEK24L', 'source_description': 'Nielsen buys rest of NetRatings', 'acquired_year': 2007, 'acquired_month': 2, 'acquired_day': None, 'company': {'name': 'NetRatings', 'permalink': 'netratings'}}, {'price_amount': None, 'price_currency_code': 'USD', 'term_code': 'cash', 'source_url': None, 'source_description': None, 'acquired_year': 2006, 'acquired_month': 1, 'acquired_day': 1, 'company': {'name': 'Buzzmetrics', 'permalink': 'buzzmetrics'}}, {'price_amount': None, 'price_currency_code': 'USD', 'term_code': None, 'source_url': 'http://venturebeat.com/2007/06/29/nielsen-buys-telephia-for-mobile-phone-traffic-measurement-service/', 'source_description': 'Nielsen buys Telephia, for mobile phone traffic measurement service', 'acquired_year': 2007, 'acquired_month': 6, 'acquired_day': 29, 'company': {'name': 'Telephia', 'permalink': 'telephia'}}, {'price_amount': None, 'price_currency_code': 'USD', 'term_code': None, 'source_url': 'http://paidcontent.org/article/419-nielsen-buys-online-audience-measurement-firm-koreanclick/', 'source_description': 'Nielsen Buys Online Audience Measurement Firm Koreanclick', 'acquired_year': 2009, 'acquired_month': 9, 'acquired_day': 9, 'company': {'name': 'Koreanclick', 'permalink': 'koreanclick'}}, {'price_amount': None, 'price_currency_code': 'USD', 'term_code': None, 'source_url': 'http://techcrunch.com/2010/05/04/nielsen-acquires-online-video-analytics-company-glanceguide/', 'source_description': 'Nielsen Acquires Online Video Analytics Company GlanceGuide', 'acquired_year': 2010, 'acquired_month': 5, 'acquired_day': 4, 'company': {'name': 'GlanceGuide', 'permalink': 'glanceguide'}}, {'price_amount': None, 'price_currency_code': 'USD', 'term_code': None, 'source_url': 'http://techcrunch.com/2011/08/09/nielsen-acquires-marketing-analytics-inc/', 'source_description': 'Nielsen Acquires Marketing Analytics, Inc.', 'acquired_year': 2011, 'acquired_month': 8, 'acquired_day': 10, 'company': {'name': 'Marketing Analytics', 'permalink': 'marketing-analytics'}}, {'price_amount': None, 'price_currency_code': 'USD', 'term_code': None, 'source_url': 'http://techcrunch.com/2012/07/02/nielsen-acquires-vizu/', 'source_description': 'Nielsen Acquires Vizu To Measure Online Ad Effectiveness', 'acquired_year': 2012, 'acquired_month': 7, 'acquired_day': 2, 'company': {'name': 'Vizu Corporation', 'permalink': 'vizu'}}, {'price_amount': 1300000000, 'price_currency_code': 'USD', 'term_code': None, 'source_url': 'http://www.bizjournals.com/baltimore/news/2013/09/30/nielsen-closes-13b-acquistion-arbiton.html?ana=twt', 'source_description': 'Nielsen closes $1.3B acquisition of Columbia-based Arbitron', 'acquired_year': 2013, 'acquired_month': 9, 'acquired_day': 30, 'company': {'name': 'Arbitron', 'permalink': 'arbitron'}}, {'price_amount': 117000000, 'price_currency_code': 'USD', 'term_code': None, 'source_url': 'http://phys.org/news/2013-11-nielsen-harris-interactive-117m.html', 'source_description': 'Nielsen buying Harris Interactive for about $117M', 'acquired_year': 2013, 'acquired_month': 11, 'acquired_day': 25, 'company': {'name': 'Harris Interactive', 'permalink': 'harris-interactive'}}], 'offices': [{'description': '', 'address1': '85 Broad Street', 'address2': '', 'zip_code': '10004', 'city': 'New York', 'state_code': 'NY', 'country_code': 'USA', 'latitude': 40.731118, 'longitude': -73.991933}], 'milestones': [], 'ipo': {'valuation_amount': 1600000000, 'valuation_currency_code': 'USD', 'pub_year': 2011, 'pub_month': 1, 'pub_day': 26, 'stock_symbol': 'NYSE:NLSN'}, 'video_embeds': [{'embed_code': '<embed src=\"http://blip.tv/play/goRrgqHUKgI%2Em4v\" type=\"application/x-shockwave-flash\" width=\"430\" height=\"270\" allowscriptaccess=\"always\" allowfullscreen=\"true\"></embed>', 'description': '<p>This video was originally published on <a href=\"http://www.beet.tv/2011/02/nielsenyume.html\" title=\"Beet.TV\" rel=\"nofollow\">Beet.TV</a></p>'}, {'embed_code': '<embed src=\"http://blip.tv/play/goRrgqOccwI%2Em4v\" type=\"application/x-shockwave-flash\" width=\"430\" height=\"270\" allowscriptaccess=\"always\" allowfullscreen=\"true\"></embed>', 'description': '<p>This video was originally published on <a href=\"http://www.beet.tv/2011/02/nielsen-tv-internet-data-fusion.html\" title=\"Beet.TV\" rel=\"nofollow\">Beet.TV</a></p>'}, {'embed_code': '<iframe src=\"http://blip.tv/play/goRrgs_CFQI.html\" width=\"430\" height=\"270\" frameborder=\"0\" allowfullscreen></iframe><embed type=\"application/x-shockwave-flash\" src=\"http://a.blip.tv/api.swf#goRrgs_CFQI\" style=\"display:none\"></embed>', 'description': '<p>This video was originally published on <a href=\"http://www.beet.tv/2011/08/nielsen-rolls-out-grp-measurement-for-online-video-.html\" title=\"Beet.TV\" rel=\"nofollow\">Beet.TV</a></p>'}, {'embed_code': '<iframe src=\"http://blip.tv/play/goRrgs_XTQI.html\" width=\"430\" height=\"270\" frameborder=\"0\" allowfullscreen></iframe><embed type=\"application/x-shockwave-flash\" src=\"http://a.blip.tv/api.swf#goRrgs_XTQI\" style=\"display:none\"></embed>', 'description': '<p>This video was originally published on <a href=\"http://www.beet.tv/2011/09/nielsen-says-cable-subs-rising-online-video-viewing-by-recent-grads-rising-too.html\" title=\"Beet.TV\" rel=\"nofollow\">Beet.TV</a></p>'}, {'embed_code': '<iframe src=\"http://blip.tv/play/goRrgtCNZQI.html\" width=\"430\" height=\"270\" frameborder=\"0\" allowfullscreen></iframe><embed type=\"application/x-shockwave-flash\" src=\"http://a.blip.tv/api.swf#goRrgtCNZQI\" style=\"display:none\"></embed>', 'description': '<p>This video was originally published on <a href=\"http://www.beet.tv/2011/09/hulu-investing-in-web-originals-cbs-says-web-series-still-strong-too.html\" title=\"Beet.TV\" rel=\"nofollow\">Beet.TV</a></p>'}, {'embed_code': '<iframe src=\"http://blip.tv/play/goRrgs_XYwI.html\" width=\"430\" height=\"270\" frameborder=\"0\" allowfullscreen></iframe><embed type=\"application/x-shockwave-flash\" src=\"http://a.blip.tv/api.swf#goRrgs_XYwI\" style=\"display:none\"></embed>', 'description': '<p>This video was originally posted on <a href=\"http://www.beet.tv/2011/09/media-buyers-crave-online-video-grp-nielsen-rolls-out-online-grp-measurement.html\" title=\"Beet.TV\" rel=\"nofollow\">Beet.TV</a></p>'}, {'embed_code': '<iframe src=\"http://blip.tv/play/goRrgtvnJAI.html\" width=\"430\" height=\"270\" frameborder=\"0\" allowfullscreen></iframe><embed type=\"application/x-shockwave-flash\" src=\"http://a.blip.tv/api.swf#goRrgtvnJAI\" style=\"display:none\"></embed>', 'description': '<p>This video was originally posted on <a href=\"http://www.beet.tv/2011/11/nielsen-industry-eager-to-know-pricing-models-for-apps-content-portals-on-connected-tvs.html\" title=\"Beet.TV\" rel=\"nofollow\">Beet.TV</a></p>'}, {'embed_code': '<iframe src=\"http://blip.tv/play/goRrgtvmKQI.html\" width=\"430\" height=\"270\" frameborder=\"0\" allowfullscreen></iframe><embed type=\"application/x-shockwave-flash\" src=\"http://a.blip.tv/api.swf#goRrgtvmKQI\" style=\"display:none\"></embed>', 'description': '<p>This video was originally posted on <a href=\"http://www.beet.tv/2011/11/nielsenmultiscreens.html\" title=\"Beet.TV\" rel=\"nofollow\">Beet.TV</a></p>'}, {'embed_code': '<iframe src=\"http://blip.tv/play/goRrg4SgRgI.x?p=1\" width=\"430\" height=\"270\" frameborder=\"0\" allowfullscreen></iframe><embed type=\"application/x-shockwave-flash\" src=\"http://a.blip.tv/api.swf#goRrg4SgRgI\" style=\"display:none\"></embed>', 'description': '<p>This video was originally published on <a href=\"http://www.beet.tv/2012/09/nielsen-online.html\" title=\"Beet.TV\" rel=\"nofollow\">Beet.TV</a></p>'}, {'embed_code': '<iframe src=\"http://blip.tv/play/goRrg4asCAI.x?p=1\" width=\"430\" height=\"270\" frameborder=\"0\" allowfullscreen></iframe><embed type=\"application/x-shockwave-flash\" src=\"http://a.blip.tv/api.swf#goRrg4asCAI\" style=\"display:none\"></embed>', 'description': '<p>This video was originally published on <a href=\"http://www.beet.tv/2012/10/dan-beltramo.html\" title=\"Beet.TV\" rel=\"nofollow\">Beet.TV</a></p>'}, {'embed_code': '<iframe src=\"http://blip.tv/play/goRrg4W8bgI.x?p=1\" width=\"430\" height=\"270\" frameborder=\"0\" allowfullscreen></iframe><embed type=\"application/x-shockwave-flash\" src=\"http://a.blip.tv/api.swf#goRrg4W8bgI\" style=\"display:none\"></embed>', 'description': '<p>This video was originally published on <a href=\"http://www.beet.tv/2012/10/nielsenfacebook.html\" title=\"Beet.TV\" rel=\"nofollow\">Beet.TV</a></p>'}, {'embed_code': '<iframe src=\"http://blip.tv/play/goRrg4bnUQI.x?p=1\" width=\"430\" height=\"270\" frameborder=\"0\" allowfullscreen></iframe><embed type=\"application/x-shockwave-flash\" src=\"http://a.blip.tv/api.swf#goRrg4bnUQI\" style=\"display:none\"></embed>', 'description': '<p>This video was originally published on <a href=\"http://www.beet.tv/2012/10/andrew-feigenson-rtb.html\" title=\"Beet.TV\" rel=\"nofollow\">Beet.TV</a></p>'}, {'embed_code': '<iframe src=\"http://blip.tv/play/goRrg47QIAA.html?p=1\" width=\"430\" height=\"270\" frameborder=\"0\" allowfullscreen></iframe><embed type=\"application/x-shockwave-flash\" src=\"http://a.blip.tv/api.swf#goRrg47QIAA\" style=\"display:none\"></embed>', 'description': '<p>This video was originally published on <a href=\"http://www.beet.tv/2013/02/andrew-feigenson.html\" title=\"Beet.TV\" rel=\"nofollow\">Beet.TV</a></p>'}, {'embed_code': '<iframe src=\"http://blip.tv/play/goRrg4%2BfWQA.html?p=1\" width=\"430\" height=\"270\" frameborder=\"0\" allowfullscreen></iframe><embed type=\"application/x-shockwave-flash\" src=\"http://a.blip.tv/api.swf#goRrg4+fWQA\" style=\"display:none\"></embed>', 'description': '<p>This video was originally published on <a href=\"http://www.beet.tv/2013/02/amit-seth.html\" title=\"Beet.TV\" rel=\"nofollow\">Beet.TV</a></p>'}, {'embed_code': \"<script type='text/javascript' src='http://pshared.5min.com/Scripts/PlayerSeed.js?sid=815&width=430&height=242&playList=517763610'></script>\", 'description': '<p>This video was originally published <a href=\"http://www.beet.tv/2013/04/nielsenaol.html\" title=\"on Beet.TV\" rel=\"nofollow\">on Beet.TV</a></p>'}, {'embed_code': \"<script type='text/javascript' src='http://pshared.5min.com/Scripts/PlayerSeed.js?sid=815&width=430&height=242&playList=517758456'></script>\", 'description': '<p>This video was originally published <a href=\"http://www.beet.tv/2013/05/videologyonnielsen.html\" title=\"on Beet.TV\" rel=\"nofollow\">on Beet.TV</a></p>'}, {'embed_code': \"<script type='text/javascript' src='http://pshared.5min.com/Scripts/PlayerSeed.js?sid=815&width=430&height=242&playList=517763916'></script>\", 'description': '<p>This video was originally published <a href=\"http://www.beet.tv/2013/05/nielsen-uk-xcr.html\" title=\"on Beet.TV\" rel=\"nofollow\">on Beet.TV</a></p>'}, {'embed_code': \"<script type='text/javascript' src='http://pshared.5min.com/Scripts/PlayerSeed.js?sid=815&width=430&height=242&playList=517775629'></script>\", 'description': '<p>This video was originally published <a href=\"http://www.beet.tv/2013/05/nielsen-bradford-people.html\" title=\"on Beet.TV\" rel=\"nofollow\">on Beet.TV</a></p>'}], 'screenshots': [], 'external_links': [], 'partners': []}\n"
     ]
    }
   ],
   "source": [
    "res = list(collection.find( {'ipo': {'$exists': 'true' },\n",
    "                             'ipo.valuation_amount': {'$exists': 'true' , '$type': 'int'} }).sort('ipo.valuation_amount',-1))\n",
    "print(len(res))\n",
    "print(res[0])"
   ]
  },
  {
   "cell_type": "markdown",
   "metadata": {},
   "source": [
    "### 10. Retrieve the 10 companies with more employees, order by the `number of employees`"
   ]
  },
  {
   "cell_type": "code",
   "execution_count": 34,
   "metadata": {},
   "outputs": [
    {
     "name": "stdout",
     "output_type": "stream",
     "text": [
      "[\n",
      "    {\n",
      "        \"name\": \"Siemens\",\n",
      "        \"number_of_employees\": 405000\n",
      "    },\n",
      "    {\n",
      "        \"name\": \"IBM\",\n",
      "        \"number_of_employees\": 388000\n",
      "    },\n",
      "    {\n",
      "        \"name\": \"Toyota\",\n",
      "        \"number_of_employees\": 320000\n",
      "    },\n",
      "    {\n",
      "        \"name\": \"PayPal\",\n",
      "        \"number_of_employees\": 300000\n",
      "    },\n",
      "    {\n",
      "        \"name\": \"Nippon Telegraph and Telephone Corporation\",\n",
      "        \"number_of_employees\": 227000\n",
      "    },\n",
      "    {\n",
      "        \"name\": \"Samsung Electronics\",\n",
      "        \"number_of_employees\": 221726\n",
      "    },\n",
      "    {\n",
      "        \"name\": \"Accenture\",\n",
      "        \"number_of_employees\": 205000\n",
      "    },\n",
      "    {\n",
      "        \"name\": \"Tata Consultancy Services\",\n",
      "        \"number_of_employees\": 200300\n",
      "    },\n",
      "    {\n",
      "        \"name\": \"Flextronics International\",\n",
      "        \"number_of_employees\": 200000\n",
      "    },\n",
      "    {\n",
      "        \"name\": \"Safeway\",\n",
      "        \"number_of_employees\": 186000\n",
      "    }\n",
      "]\n"
     ]
    }
   ],
   "source": [
    "proj = {'_id': 0,'name': 1, 'number_of_employees': 1}\n",
    "res = list(collection.find({'number_of_employees' : { '$exists': 'true' }},proj).sort('number_of_employees', -1).limit(10))\n",
    "\n",
    "print(json.dumps(res, indent=4, sort_keys=True))"
   ]
  },
  {
   "cell_type": "markdown",
   "metadata": {},
   "source": [
    "### 11. All the companies founded on the second semester of the year. Limit your search to 1000 companies."
   ]
  },
  {
   "cell_type": "code",
   "execution_count": 35,
   "metadata": {},
   "outputs": [
    {
     "name": "stdout",
     "output_type": "stream",
     "text": [
      "1000\n",
      "{'_id': ObjectId('52cdef7c4bab8bd675297d8a'), 'name': 'Wetpaint', 'permalink': 'abc2', 'crunchbase_url': 'http://www.crunchbase.com/company/wetpaint', 'homepage_url': 'http://wetpaint-inc.com', 'blog_url': 'http://digitalquarters.net/', 'blog_feed_url': 'http://digitalquarters.net/feed/', 'twitter_username': 'BachelrWetpaint', 'category_code': 'web', 'number_of_employees': 47, 'founded_year': 2005, 'founded_month': 10, 'founded_day': 17, 'deadpooled_year': 1, 'tag_list': 'wiki, seattle, elowitz, media-industry, media-platform, social-distribution-system', 'alias_list': '', 'email_address': 'info@wetpaint.com', 'phone_number': '206.859.6300', 'description': 'Technology Platform Company', 'created_at': datetime.datetime(2007, 5, 25, 6, 51, 27), 'updated_at': 'Sun Dec 08 07:15:44 UTC 2013', 'overview': '<p>Wetpaint is a technology platform company that uses its proprietary state-of-the-art technology and expertise in social media to build and monetize audiences for digital publishers. Wetpaint’s own online property, Wetpaint Entertainment, an entertainment news site that attracts more than 12 million unique visitors monthly and has over 2 million Facebook fans, is a proof point to the company’s success in building and engaging audiences. Media companies can license Wetpaint’s platform which includes a dynamic playbook tailored to their individual needs and comprehensive training. Founded by Internet pioneer Ben Elowitz, and with offices in New York and Seattle, Wetpaint is backed by Accel Partners, the investors behind Facebook.</p>', 'image': {'available_sizes': [[[150, 75], 'assets/images/resized/0000/3604/3604v14-max-150x150.jpg'], [[250, 125], 'assets/images/resized/0000/3604/3604v14-max-250x250.jpg'], [[450, 225], 'assets/images/resized/0000/3604/3604v14-max-450x450.jpg']]}, 'products': [{'name': 'Wikison Wetpaint', 'permalink': 'wetpaint-wiki'}, {'name': 'Wetpaint Social Distribution System', 'permalink': 'wetpaint-social-distribution-system'}], 'relationships': [{'is_past': False, 'title': 'Co-Founder and VP, Social and Audience Development', 'person': {'first_name': 'Michael', 'last_name': 'Howell', 'permalink': 'michael-howell'}}, {'is_past': False, 'title': 'Co-Founder/CEO/Board of Directors', 'person': {'first_name': 'Ben', 'last_name': 'Elowitz', 'permalink': 'ben-elowitz'}}, {'is_past': False, 'title': 'COO/Board of Directors', 'person': {'first_name': 'Rob', 'last_name': 'Grady', 'permalink': 'rob-grady'}}, {'is_past': False, 'title': 'SVP, Strategy and Business Development', 'person': {'first_name': 'Chris', 'last_name': 'Kollas', 'permalink': 'chris-kollas'}}, {'is_past': False, 'title': 'Board', 'person': {'first_name': 'Theresia', 'last_name': 'Ranzetta', 'permalink': 'theresia-ranzetta'}}, {'is_past': False, 'title': 'Board Member', 'person': {'first_name': 'Gus', 'last_name': 'Tai', 'permalink': 'gus-tai'}}, {'is_past': False, 'title': 'Board', 'person': {'first_name': 'Len', 'last_name': 'Jordan', 'permalink': 'len-jordan'}}, {'is_past': False, 'title': 'Head of Technology and Product', 'person': {'first_name': 'Alex', 'last_name': 'Weinstein', 'permalink': 'alex-weinstein'}}, {'is_past': True, 'title': 'CFO', 'person': {'first_name': 'Bert', 'last_name': 'Hogue', 'permalink': 'bert-hogue'}}, {'is_past': True, 'title': 'CFO/ CRO', 'person': {'first_name': 'Brian', 'last_name': 'Watkins', 'permalink': 'brian-watkins'}}, {'is_past': True, 'title': 'Senior Vice President, Marketing', 'person': {'first_name': 'Rob', 'last_name': 'Grady', 'permalink': 'rob-grady'}}, {'is_past': True, 'title': 'VP, Technology and Product', 'person': {'first_name': 'Werner', 'last_name': 'Koepf', 'permalink': 'werner-koepf'}}, {'is_past': True, 'title': 'VP Marketing', 'person': {'first_name': 'Kevin', 'last_name': 'Flaherty', 'permalink': 'kevin-flaherty'}}, {'is_past': True, 'title': 'VP User Experience', 'person': {'first_name': 'Alex', 'last_name': 'Berg', 'permalink': 'alex-berg'}}, {'is_past': True, 'title': 'VP Engineering', 'person': {'first_name': 'Steve', 'last_name': 'McQuade', 'permalink': 'steve-mcquade'}}, {'is_past': True, 'title': 'Executive Editor', 'person': {'first_name': 'Susan', 'last_name': 'Mulcahy', 'permalink': 'susan-mulcahy'}}, {'is_past': True, 'title': 'VP Business Development', 'person': {'first_name': 'Chris', 'last_name': 'Kollas', 'permalink': 'chris-kollas'}}], 'competitions': [{'competitor': {'name': 'Wikia', 'permalink': 'wikia'}}, {'competitor': {'name': 'JotSpot', 'permalink': 'jotspot'}}, {'competitor': {'name': 'Socialtext', 'permalink': 'socialtext'}}, {'competitor': {'name': 'Ning by Glam Media', 'permalink': 'ning'}}, {'competitor': {'name': 'Soceeo', 'permalink': 'soceeo'}}, {'competitor': {'name': 'Yola', 'permalink': 'yola'}}, {'competitor': {'name': 'SocialGO', 'permalink': 'socialgo'}}, {'competitor': {'name': 'IslamNor', 'permalink': 'islamnor'}}], 'providerships': [], 'total_money_raised': '$39.8M', 'funding_rounds': [{'id': 888, 'round_code': 'a', 'source_url': 'http://seattlepi.nwsource.com/business/246734_wiki02.html', 'source_description': '', 'raised_amount': 5250000, 'raised_currency_code': 'USD', 'funded_year': 2005, 'funded_month': 10, 'funded_day': 1, 'investments': [{'company': None, 'financial_org': {'name': 'Frazier Technology Ventures', 'permalink': 'frazier-technology-ventures'}, 'person': None}, {'company': None, 'financial_org': {'name': 'Trinity Ventures', 'permalink': 'trinity-ventures'}, 'person': None}]}, {'id': 889, 'round_code': 'b', 'source_url': 'http://pulse2.com/2007/01/09/wiki-builder-website-wetpaint-welcomes-95m-funding/', 'source_description': '', 'raised_amount': 9500000, 'raised_currency_code': 'USD', 'funded_year': 2007, 'funded_month': 1, 'funded_day': 1, 'investments': [{'company': None, 'financial_org': {'name': 'Accel Partners', 'permalink': 'accel-partners'}, 'person': None}, {'company': None, 'financial_org': {'name': 'Frazier Technology Ventures', 'permalink': 'frazier-technology-ventures'}, 'person': None}, {'company': None, 'financial_org': {'name': 'Trinity Ventures', 'permalink': 'trinity-ventures'}, 'person': None}]}, {'id': 2312, 'round_code': 'c', 'source_url': 'http://www.accel.com/news/news_one_up.php?news_id=185', 'source_description': 'Accel', 'raised_amount': 25000000, 'raised_currency_code': 'USD', 'funded_year': 2008, 'funded_month': 5, 'funded_day': 19, 'investments': [{'company': None, 'financial_org': {'name': 'DAG Ventures', 'permalink': 'dag-ventures'}, 'person': None}, {'company': None, 'financial_org': {'name': 'Accel Partners', 'permalink': 'accel-partners'}, 'person': None}, {'company': None, 'financial_org': {'name': 'Trinity Ventures', 'permalink': 'trinity-ventures'}, 'person': None}, {'company': None, 'financial_org': {'name': 'Frazier Technology Ventures', 'permalink': 'frazier-technology-ventures'}, 'person': None}]}], 'investments': [], 'acquisition': {'price_amount': 30000000, 'price_currency_code': 'USD', 'term_code': 'cash_and_stock', 'source_url': 'http://allthingsd.com/20131216/viggle-tries-to-bulk-up-its-social-tv-business-by-buying-wetpaint/?mod=atdtweet', 'source_description': ' Viggle Tries to Bulk Up Its Social TV Business by Buying Wetpaint', 'acquired_year': 2013, 'acquired_month': 12, 'acquired_day': 16, 'acquiring_company': {'name': 'Viggle', 'permalink': 'viggle'}}, 'acquisitions': [], 'offices': [{'description': '', 'address1': '710 - 2nd Avenue', 'address2': 'Suite 1100', 'zip_code': '98104', 'city': 'Seattle', 'state_code': 'WA', 'country_code': 'USA', 'latitude': 47.603122, 'longitude': -122.333253}, {'description': '', 'address1': '270 Lafayette Street', 'address2': 'Suite 505', 'zip_code': '10012', 'city': 'New York', 'state_code': 'NY', 'country_code': 'USA', 'latitude': 40.7237306, 'longitude': -73.9964312}], 'milestones': [{'id': 5869, 'description': \"Wetpaint named in Lead411's Hottest Seattle Companies list\", 'stoned_year': 2010, 'stoned_month': 6, 'stoned_day': 8, 'source_url': 'http://www.lead411.com/seattle-companies.html', 'source_text': None, 'source_description': 'LEAD411 LAUNCHES \"HOTTEST SEATTLE COMPANIES\" AWARDS', 'stoneable_type': 'Company', 'stoned_value': None, 'stoned_value_type': None, 'stoned_acquirer': None, 'stoneable': {'name': 'Wetpaint', 'permalink': 'wetpaint'}}, {'id': 8702, 'description': 'Site-Builder Wetpaint Makes One For Itself, Using the Demand Media Playbook', 'stoned_year': 2010, 'stoned_month': 9, 'stoned_day': 6, 'source_url': 'http://mediamemo.allthingsd.com/20100906/site-builder-wetpaint-makes-one-for-itself-using-the-demand-media-playbook/', 'source_text': None, 'source_description': 'All Things D', 'stoneable_type': 'Company', 'stoned_value': None, 'stoned_value_type': None, 'stoned_acquirer': None, 'stoneable': {'name': 'Wetpaint', 'permalink': 'wetpaint'}}], 'video_embeds': [], 'screenshots': [{'available_sizes': [[[150, 86], 'assets/images/resized/0016/0929/160929v2-max-150x150.png'], [[250, 143], 'assets/images/resized/0016/0929/160929v2-max-250x250.png'], [[450, 258], 'assets/images/resized/0016/0929/160929v2-max-450x450.png']], 'attribution': None}], 'external_links': [{'external_url': 'http://www.geekwire.com/2011/rewind-ben-elowitz-wetpaint-ceo-building-type-media-company', 'title': 'GeekWire interview: Rewind - Ben Elowitz, Wetpaint CEO, on building a new type of media company'}, {'external_url': 'http://techcrunch.com/2012/06/17/search-and-social-how-two-will-soon-become-one/', 'title': 'Guest post by CEO Ben Elowitz in TechCrunch'}, {'external_url': 'http://allthingsd.com/20120516/what-to-expect-when-facebook-is-expecting-five-predictions-for-facebooks-first-public-year/', 'title': 'Guest post by CEO Ben Elowitz in AllThingsD'}, {'external_url': 'http://adage.com/article/digitalnext/facebook-biggest-player-advertising-s-540-billion-world/235708/', 'title': 'Guest post by CEO Ben Elowitz in AdAge'}, {'external_url': 'http://www.businessinsider.com/facebook-captures-14-percent-of-our-online-attention-but-only-4-percent-of-ad-spending-online-2012-6', 'title': 'Guest post by CEO Ben Elowitz in Business Insider'}, {'external_url': 'http://allfacebook.com/wetpaint-media-data_b75963', 'title': 'AllFacebook coverage of Wetpaint'}, {'external_url': 'http://adage.com/article/digital/celeb-site-wetpaint-shows-media-profit-facebook/237828/', 'title': 'Profile of Wetpaint in Ad Age'}, {'external_url': 'http://allthingsd.com/20121018/how-to-boost-your-facebook-traffic-tips-and-tricks-from-wetpaint/', 'title': 'Interview with Wetpaint CEO Ben Elowitz in All Things D'}, {'external_url': 'http://www.xconomy.com/seattle/2012/10/19/wetpaint-starts-licensing-its-facebook-based-media-distribution-tech/', 'title': 'Profile of Wetpaint in Xconomy'}], 'partners': []}\n"
     ]
    }
   ],
   "source": [
    "res = list(collection.find({'founded_month': { '$gte': 7 }} ).limit(1000))\n",
    "\n",
    "print(len(res))\n",
    "print(res[0])"
   ]
  },
  {
   "cell_type": "markdown",
   "metadata": {},
   "source": [
    "### 12. All the companies founded before 2000 that have an acquisition amount of more than 10.000.00"
   ]
  },
  {
   "cell_type": "code",
   "execution_count": 36,
   "metadata": {},
   "outputs": [
    {
     "name": "stdout",
     "output_type": "stream",
     "text": [
      "196\n",
      "{\n",
      "    \"acquisition\": {\n",
      "        \"acquired_day\": 9,\n",
      "        \"acquired_month\": 7,\n",
      "        \"acquired_year\": 2007,\n",
      "        \"acquiring_company\": {\n",
      "            \"name\": \"Google\",\n",
      "            \"permalink\": \"google\"\n",
      "        },\n",
      "        \"price_amount\": 625000000,\n",
      "        \"price_currency_code\": \"USD\",\n",
      "        \"source_description\": \"http://www.techcrunch.com/2007/07/09/google-acquires-postini-for-625-million/\",\n",
      "        \"source_url\": \"http://www.techcrunch.com/2007/07/09/google-acquires-postini-for-625-million/\",\n",
      "        \"term_code\": \"cash\"\n",
      "    },\n",
      "    \"founded_year\": 1999,\n",
      "    \"name\": \"Postini\"\n",
      "}\n"
     ]
    }
   ],
   "source": [
    "proj = {'_id': 0,'name': 1, 'founded_year': 1, 'acquisition': 1}\n",
    "res = list(collection.find( {'acquisition': {'$exists': 'true' },\n",
    "                             'acquisition.price_amount': {'$exists': 'true' , '$type': 'int', '$gte': 1000000},\n",
    "                             'founded_year': { '$lt': 2000 } }, proj ))\n",
    "\n",
    "\n",
    "print(len(res))\n",
    "print(json.dumps(res[0], indent=4, sort_keys=True))"
   ]
  },
  {
   "cell_type": "markdown",
   "metadata": {},
   "source": [
    "### 13. All the companies that have been acquired after 2010, order by the acquisition amount, and retrieve only their `name` and `acquisition` field."
   ]
  },
  {
   "cell_type": "code",
   "execution_count": 37,
   "metadata": {},
   "outputs": [
    {
     "name": "stdout",
     "output_type": "stream",
     "text": [
      "1100\n",
      "{\n",
      "    \"acquisition\": {\n",
      "        \"acquired_day\": 28,\n",
      "        \"acquired_month\": 11,\n",
      "        \"acquired_year\": 2012,\n",
      "        \"acquiring_company\": {\n",
      "            \"name\": \"MyHeritage\",\n",
      "            \"permalink\": \"myheritage\"\n",
      "        },\n",
      "        \"price_amount\": null,\n",
      "        \"price_currency_code\": \"USD\",\n",
      "        \"source_description\": \"MyHeritage acquires Geni and $25M to build family tree of the whole world\",\n",
      "        \"source_url\": \"http://techcrunch.com/2012/11/28/all-in-the-family-myheritage-buys-former-yammer-stablemate-geni-com-raises-25m/\",\n",
      "        \"term_code\": null\n",
      "    },\n",
      "    \"name\": \"Geni\"\n",
      "}\n"
     ]
    }
   ],
   "source": [
    "proj = {'_id': 0,'name': 1, 'acquisition': 1}\n",
    "res = list(collection.find( {'acquisition': {'$exists': 'true' },\n",
    "                             'acquisition.acquired_year': {'$exists': 'true' , '$type': 'int', '$gte': 2010}},\n",
    "                             proj ).sort('acquisition.price_amount', 1))\n",
    "\n",
    "\n",
    "print(len(res))\n",
    "print(json.dumps(res[0], indent=4, sort_keys=True))"
   ]
  },
  {
   "cell_type": "markdown",
   "metadata": {},
   "source": [
    "### 14. Order the companies by their `founded year`, retrieving only their `name` and `founded year`."
   ]
  },
  {
   "cell_type": "code",
   "execution_count": 48,
   "metadata": {},
   "outputs": [
    {
     "name": "stdout",
     "output_type": "stream",
     "text": [
      "18801\n",
      "{\n",
      "    \"founded_year\": null,\n",
      "    \"name\": \"Flektor\"\n",
      "}\n"
     ]
    }
   ],
   "source": [
    "proj = {'_id': 0,'name': 1, 'founded_year': 1}\n",
    "res = list(collection.find({'founded_year' : { '$exists': 'true' }},proj).sort('founded_year', 1))\n",
    "\n",
    "print(len(res))\n",
    "print(json.dumps(res[0], indent=4, sort_keys=True))"
   ]
  },
  {
   "cell_type": "markdown",
   "metadata": {},
   "source": [
    "### 15. All the companies that have been founded on the first seven days of the month, including the seventh. Sort them by their `acquisition price` in a descending order. Limit the search to 10 documents."
   ]
  },
  {
   "cell_type": "code",
   "execution_count": 39,
   "metadata": {},
   "outputs": [
    {
     "name": "stdout",
     "output_type": "stream",
     "text": [
      "10\n",
      "[\n",
      "    {\n",
      "        \"acquisition\": {\n",
      "            \"acquired_day\": 28,\n",
      "            \"acquired_month\": 11,\n",
      "            \"acquired_year\": 1998,\n",
      "            \"acquiring_company\": {\n",
      "                \"name\": \"AOL\",\n",
      "                \"permalink\": \"aol\"\n",
      "            },\n",
      "            \"price_amount\": 4200000000,\n",
      "            \"price_currency_code\": \"USD\",\n",
      "            \"source_description\": \"AOL buys Netscape for $4.2 billion\",\n",
      "            \"source_url\": \"http://news.cnet.com/2100-1023-218360.html\",\n",
      "            \"term_code\": \"stock\"\n",
      "        },\n",
      "        \"founded_day\": 4,\n",
      "        \"name\": \"Netscape\"\n",
      "    },\n",
      "    {\n",
      "        \"acquisition\": {\n",
      "            \"acquired_day\": 8,\n",
      "            \"acquired_month\": 7,\n",
      "            \"acquired_year\": 2002,\n",
      "            \"acquiring_company\": {\n",
      "                \"name\": \"eBay\",\n",
      "                \"permalink\": \"ebay\"\n",
      "            },\n",
      "            \"price_amount\": 1500000000,\n",
      "            \"price_currency_code\": \"USD\",\n",
      "            \"source_description\": \"eBay picks up PayPal for $1.5 billion\",\n",
      "            \"source_url\": \"http://news.cnet.com/2100-1017-941964.html\",\n",
      "            \"term_code\": \"stock\"\n",
      "        },\n",
      "        \"founded_day\": 1,\n",
      "        \"name\": \"PayPal\"\n",
      "    },\n",
      "    {\n",
      "        \"acquisition\": {\n",
      "            \"acquired_day\": 22,\n",
      "            \"acquired_month\": 7,\n",
      "            \"acquired_year\": 2009,\n",
      "            \"acquiring_company\": {\n",
      "                \"name\": \"Amazon\",\n",
      "                \"permalink\": \"amazon\"\n",
      "            },\n",
      "            \"price_amount\": 1200000000,\n",
      "            \"price_currency_code\": \"USD\",\n",
      "            \"source_description\": \"TechCrunch: Amazon Buys Zappos\",\n",
      "            \"source_url\": \"http://techcrunch.com/2009/07/22/amazon-buys-zappos/\",\n",
      "            \"term_code\": \"stock\"\n",
      "        },\n",
      "        \"founded_day\": 1,\n",
      "        \"name\": \"Zappos\"\n",
      "    },\n",
      "    {\n",
      "        \"acquisition\": {\n",
      "            \"acquired_day\": 11,\n",
      "            \"acquired_month\": 8,\n",
      "            \"acquired_year\": 2005,\n",
      "            \"acquiring_company\": {\n",
      "                \"name\": \"Yahoo!\",\n",
      "                \"permalink\": \"yahoo\"\n",
      "            },\n",
      "            \"price_amount\": 1000000000,\n",
      "            \"price_currency_code\": \"USD\",\n",
      "            \"source_description\": \"YAHOO! AND ALIBABA.COM FORM STRATEGIC PARTNERSHIP IN CHINA \",\n",
      "            \"source_url\": \"http://docs.yahoo.com/docs/pr/release1256.html\",\n",
      "            \"term_code\": \"cash_and_stock\"\n",
      "        },\n",
      "        \"founded_day\": 1,\n",
      "        \"name\": \"Alibaba\"\n",
      "    },\n",
      "    {\n",
      "        \"acquisition\": {\n",
      "            \"acquired_day\": 9,\n",
      "            \"acquired_month\": 7,\n",
      "            \"acquired_year\": 2007,\n",
      "            \"acquiring_company\": {\n",
      "                \"name\": \"Google\",\n",
      "                \"permalink\": \"google\"\n",
      "            },\n",
      "            \"price_amount\": 625000000,\n",
      "            \"price_currency_code\": \"USD\",\n",
      "            \"source_description\": \"http://www.techcrunch.com/2007/07/09/google-acquires-postini-for-625-million/\",\n",
      "            \"source_url\": \"http://www.techcrunch.com/2007/07/09/google-acquires-postini-for-625-million/\",\n",
      "            \"term_code\": \"cash\"\n",
      "        },\n",
      "        \"founded_day\": 2,\n",
      "        \"name\": \"Postini\"\n",
      "    },\n",
      "    {\n",
      "        \"acquisition\": {\n",
      "            \"acquired_day\": 11,\n",
      "            \"acquired_month\": 2,\n",
      "            \"acquired_year\": 2008,\n",
      "            \"acquiring_company\": {\n",
      "                \"name\": \"Microsoft\",\n",
      "                \"permalink\": \"microsoft\"\n",
      "            },\n",
      "            \"price_amount\": 500000000,\n",
      "            \"price_currency_code\": \"USD\",\n",
      "            \"source_description\": \"Meanwhile, Microsoft Buys Danger For $500 Million\",\n",
      "            \"source_url\": \"http://www.techcrunch.com/2008/02/11/meanwhile-microsoft-buys-danger/\",\n",
      "            \"term_code\": \"cash\"\n",
      "        },\n",
      "        \"founded_day\": 1,\n",
      "        \"name\": \"Danger\"\n",
      "    },\n",
      "    {\n",
      "        \"acquisition\": {\n",
      "            \"acquired_day\": 11,\n",
      "            \"acquired_month\": 7,\n",
      "            \"acquired_year\": 2011,\n",
      "            \"acquiring_company\": {\n",
      "                \"name\": \"Symantec\",\n",
      "                \"permalink\": \"symantec\"\n",
      "            },\n",
      "            \"price_amount\": 410000000,\n",
      "            \"price_currency_code\": \"USD\",\n",
      "            \"source_description\": \"Symantec Completes Acquisition of Clearwell Systems\",\n",
      "            \"source_url\": \"http://www.marketwire.com/press-release/symantec-completes-acquisition-of-clearwell-systems-nasdaq-symc-1536339.htm\",\n",
      "            \"term_code\": \"cash\"\n",
      "        },\n",
      "        \"founded_day\": 6,\n",
      "        \"name\": \"Clearwell Systems\"\n",
      "    },\n",
      "    {\n",
      "        \"acquisition\": {\n",
      "            \"acquired_day\": 18,\n",
      "            \"acquired_month\": 7,\n",
      "            \"acquired_year\": 2013,\n",
      "            \"acquiring_company\": {\n",
      "                \"name\": \"Apple\",\n",
      "                \"permalink\": \"apple\"\n",
      "            },\n",
      "            \"price_amount\": 345000000,\n",
      "            \"price_currency_code\": \"USD\",\n",
      "            \"source_description\": \" Apple buys Israeli 3D sensor outfit PrimeSense for a reported $350M \",\n",
      "            \"source_url\": \"http://gigaom.com/2013/11/25/apple-buys-israeli-3d-sensor-outfit-primesense-for-a-reported-350m/\",\n",
      "            \"term_code\": null\n",
      "        },\n",
      "        \"founded_day\": 1,\n",
      "        \"name\": \"PrimeSense\"\n",
      "    },\n",
      "    {\n",
      "        \"acquisition\": {\n",
      "            \"acquired_day\": 5,\n",
      "            \"acquired_month\": 3,\n",
      "            \"acquired_year\": 2012,\n",
      "            \"acquiring_company\": {\n",
      "                \"name\": \"SingTel\",\n",
      "                \"permalink\": \"singtel\"\n",
      "            },\n",
      "            \"price_amount\": 321000000,\n",
      "            \"price_currency_code\": \"USD\",\n",
      "            \"source_description\": \"More Mobile Ad Consolidation: Carrier SingTel Buys Amobee For $321 Million\",\n",
      "            \"source_url\": \"http://techcrunch.com/2012/03/05/more-mobile-ad-consolidation-carrier-singtel-buys-amobee-for-321-million/\",\n",
      "            \"term_code\": null\n",
      "        },\n",
      "        \"founded_day\": 1,\n",
      "        \"name\": \"Amobee\"\n",
      "    },\n",
      "    {\n",
      "        \"acquisition\": {\n",
      "            \"acquired_day\": 4,\n",
      "            \"acquired_month\": 9,\n",
      "            \"acquired_year\": 2007,\n",
      "            \"acquiring_company\": {\n",
      "                \"name\": \"Yahoo!\",\n",
      "                \"permalink\": \"yahoo\"\n",
      "            },\n",
      "            \"price_amount\": 300000000,\n",
      "            \"price_currency_code\": \"USD\",\n",
      "            \"source_description\": \"Yahoo Acquires Ad Network BlueLithium\",\n",
      "            \"source_url\": \"http://zpwjnbkofczw.com/\",\n",
      "            \"term_code\": \"cash\"\n",
      "        },\n",
      "        \"founded_day\": 1,\n",
      "        \"name\": \"BlueLithium\"\n",
      "    }\n",
      "]\n"
     ]
    }
   ],
   "source": [
    "proj = {'_id': 0,'name': 1, 'founded_day': 1, 'acquisition': 1}\n",
    "res = list(collection.find({'founded_day': { '$lte': 7 } },proj ).sort('acquisition.price_amount', -1).limit(10))\n",
    "\n",
    "\n",
    "print(len(res))\n",
    "print(json.dumps(res, indent=4, sort_keys=True))"
   ]
  },
  {
   "cell_type": "markdown",
   "metadata": {},
   "source": [
    "### 16. All the companies on the 'web' `category` that have more than 4000 employees. Sort them by the amount of employees in ascending order."
   ]
  },
  {
   "cell_type": "code",
   "execution_count": 40,
   "metadata": {},
   "outputs": [
    {
     "name": "stdout",
     "output_type": "stream",
     "text": [
      "9\n",
      "[\n",
      "    {\n",
      "        \"category_code\": \"web\",\n",
      "        \"name\": \"Expedia\",\n",
      "        \"number_of_employees\": 4400\n",
      "    },\n",
      "    {\n",
      "        \"category_code\": \"web\",\n",
      "        \"name\": \"AOL\",\n",
      "        \"number_of_employees\": 8000\n",
      "    },\n",
      "    {\n",
      "        \"category_code\": \"web\",\n",
      "        \"name\": \"Webkinz\",\n",
      "        \"number_of_employees\": 8657\n",
      "    },\n",
      "    {\n",
      "        \"category_code\": \"web\",\n",
      "        \"name\": \"Rakuten\",\n",
      "        \"number_of_employees\": 10000\n",
      "    },\n",
      "    {\n",
      "        \"category_code\": \"web\",\n",
      "        \"name\": \"Los Angeles Times Media Group\",\n",
      "        \"number_of_employees\": 10000\n",
      "    },\n",
      "    {\n",
      "        \"category_code\": \"web\",\n",
      "        \"name\": \"Groupon\",\n",
      "        \"number_of_employees\": 10000\n",
      "    },\n",
      "    {\n",
      "        \"category_code\": \"web\",\n",
      "        \"name\": \"Yahoo!\",\n",
      "        \"number_of_employees\": 13600\n",
      "    },\n",
      "    {\n",
      "        \"category_code\": \"web\",\n",
      "        \"name\": \"eBay\",\n",
      "        \"number_of_employees\": 15000\n",
      "    },\n",
      "    {\n",
      "        \"category_code\": \"web\",\n",
      "        \"name\": \"Experian\",\n",
      "        \"number_of_employees\": 15500\n",
      "    }\n",
      "]\n"
     ]
    }
   ],
   "source": [
    "proj = {'_id': 0,'name': 1, 'category_code': 1, 'number_of_employees': 1}\n",
    "res = list(collection.find({'category_code': 'web', \n",
    "                            'number_of_employees': { '$gte': 4000 } },proj ).sort('number_of_employees',1))\n",
    "\n",
    "print(len(res))\n",
    "print(json.dumps(res, indent=4, sort_keys=True))"
   ]
  },
  {
   "cell_type": "markdown",
   "metadata": {},
   "source": [
    "### 17. All the companies whose acquisition amount is more than 10.000.000, and currency is 'EUR'."
   ]
  },
  {
   "cell_type": "code",
   "execution_count": 41,
   "metadata": {},
   "outputs": [
    {
     "name": "stdout",
     "output_type": "stream",
     "text": [
      "11\n",
      "[\n",
      "    {\n",
      "        \"acquisition\": {\n",
      "            \"acquired_day\": 16,\n",
      "            \"acquired_month\": 5,\n",
      "            \"acquired_year\": 2008,\n",
      "            \"acquiring_company\": {\n",
      "                \"name\": \"Vodafone\",\n",
      "                \"permalink\": \"vodafone\"\n",
      "            },\n",
      "            \"price_amount\": 31500000,\n",
      "            \"price_currency_code\": \"EUR\",\n",
      "            \"source_description\": \"Danish Network ZYB Acquired By Vodafone For \\u00e2\\u201a\\u00ac31.5 million\",\n",
      "            \"source_url\": \"http://www.techcrunch.com/2008/05/16/danish-mobile-social-network-zyb-acquired-by-vodafone-for-e315-million/\",\n",
      "            \"term_code\": \"cash\"\n",
      "        },\n",
      "        \"name\": \"ZYB\"\n",
      "    },\n",
      "    {\n",
      "        \"acquisition\": {\n",
      "            \"acquired_day\": 3,\n",
      "            \"acquired_month\": 1,\n",
      "            \"acquired_year\": 2008,\n",
      "            \"acquiring_company\": {\n",
      "                \"name\": \"Nokia Siemens Networks\",\n",
      "                \"permalink\": \"nokia-siemens-networks\"\n",
      "            },\n",
      "            \"price_amount\": 140000000,\n",
      "            \"price_currency_code\": \"EUR\",\n",
      "            \"source_description\": \"Nokia Siemens Acquires Apertio For \\u00e2\\u201a\\u00ac140m\",\n",
      "            \"source_url\": \"http://www.techcrunch.com/2008/01/03/nokia-siemens-acquires-apertio-for-e140m/\",\n",
      "            \"term_code\": null\n",
      "        },\n",
      "        \"name\": \"Apertio\"\n",
      "    },\n",
      "    {\n",
      "        \"acquisition\": {\n",
      "            \"acquired_day\": 26,\n",
      "            \"acquired_month\": 6,\n",
      "            \"acquired_year\": 2009,\n",
      "            \"acquiring_company\": {\n",
      "                \"name\": \"Toluna\",\n",
      "                \"permalink\": \"toluna\"\n",
      "            },\n",
      "            \"price_amount\": 40000000,\n",
      "            \"price_currency_code\": \"EUR\",\n",
      "            \"source_description\": \"Toluna buys Greenfield Online survey business for $40m\",\n",
      "            \"source_url\": \"http://www.research-live.com/news/m-and-a/toluna-buys-greenfield-online-survey-business-for-$40m/4000346.article\",\n",
      "            \"term_code\": null\n",
      "        },\n",
      "        \"name\": \"Greenfield Online\"\n",
      "    },\n",
      "    {\n",
      "        \"acquisition\": {\n",
      "            \"acquired_day\": 25,\n",
      "            \"acquired_month\": 6,\n",
      "            \"acquired_year\": 2008,\n",
      "            \"acquiring_company\": {\n",
      "                \"name\": \"Hi-media\",\n",
      "                \"permalink\": \"hi-media\"\n",
      "            },\n",
      "            \"price_amount\": 7000000,\n",
      "            \"price_currency_code\": \"EUR\",\n",
      "            \"source_description\": \"France\\u00e2\\u20ac\\u2122s Hi-Media Buys Mobile Marketing Firm Mobile Trend For Euro 7 Million\",\n",
      "            \"source_url\": \"http://www.moconews.net/entry/419-frances-hi-media-buys-mobile-marketing-firm-mobile-trend-for-euro-7-mil/\",\n",
      "            \"term_code\": \"cash\"\n",
      "        },\n",
      "        \"name\": \"Mobile Trend\"\n",
      "    },\n",
      "    {\n",
      "        \"acquisition\": {\n",
      "            \"acquired_day\": null,\n",
      "            \"acquired_month\": 10,\n",
      "            \"acquired_year\": 2007,\n",
      "            \"acquiring_company\": {\n",
      "                \"name\": \"Populis\",\n",
      "                \"permalink\": \"populis\"\n",
      "            },\n",
      "            \"price_amount\": 2500000,\n",
      "            \"price_currency_code\": \"EUR\",\n",
      "            \"source_description\": \"Excite's Back And This Time It Makes Sense\",\n",
      "            \"source_url\": \"http://technology.timesonline.co.uk/tol/news/tech_and_web/the_web/article2780006.ece\",\n",
      "            \"term_code\": null\n",
      "        },\n",
      "        \"name\": \"Excite Europe\"\n",
      "    },\n",
      "    {\n",
      "        \"acquisition\": {\n",
      "            \"acquired_day\": 10,\n",
      "            \"acquired_month\": 12,\n",
      "            \"acquired_year\": 2008,\n",
      "            \"acquiring_company\": {\n",
      "                \"name\": \"Truvo\",\n",
      "                \"permalink\": \"truvo\"\n",
      "            },\n",
      "            \"price_amount\": 2500000,\n",
      "            \"price_currency_code\": \"EUR\",\n",
      "            \"source_description\": \"Truvo 2008 Annual Report (see page 29)\",\n",
      "            \"source_url\": \"http://info.truvo.com/fileadmin/downloads/downloads%20wdgroup/20090424_Truvo_FY08_Results-24_April_2009.pdf\",\n",
      "            \"term_code\": \"cash\"\n",
      "        },\n",
      "        \"name\": \"YelloYello\"\n",
      "    },\n",
      "    {\n",
      "        \"acquisition\": {\n",
      "            \"acquired_day\": 12,\n",
      "            \"acquired_month\": 9,\n",
      "            \"acquired_year\": 2013,\n",
      "            \"acquiring_company\": {\n",
      "                \"name\": \"Fimalac Group\",\n",
      "                \"permalink\": \"fimalac-group\"\n",
      "            },\n",
      "            \"price_amount\": 70000000,\n",
      "            \"price_currency_code\": \"EUR\",\n",
      "            \"source_description\": \"Webedia, one of the leading digital media groups in France, is acquired by Fimalac Group in a \\u20ac70m+ transaction.\",\n",
      "            \"source_url\": \"http://www.clipperton.net/transactions/webedia/\",\n",
      "            \"term_code\": null\n",
      "        },\n",
      "        \"name\": \"Webedia\"\n",
      "    },\n",
      "    {\n",
      "        \"acquisition\": {\n",
      "            \"acquired_day\": 8,\n",
      "            \"acquired_month\": 12,\n",
      "            \"acquired_year\": 2008,\n",
      "            \"acquiring_company\": {\n",
      "                \"name\": \"Vodafone\",\n",
      "                \"permalink\": \"vodafone\"\n",
      "            },\n",
      "            \"price_amount\": 24000000,\n",
      "            \"price_currency_code\": \"EUR\",\n",
      "            \"source_description\": \"Vodafone Acquires Sweden's WayFinder For \\u00e2\\u201a\\u00ac24 Million\",\n",
      "            \"source_url\": \"http://www.techcrunch.com/2008/12/08/vodafone-acquires-swedens-wayfinder-for-e24-million/\",\n",
      "            \"term_code\": null\n",
      "        },\n",
      "        \"name\": \"Wayfinder\"\n",
      "    },\n",
      "    {\n",
      "        \"acquisition\": {\n",
      "            \"acquired_day\": 23,\n",
      "            \"acquired_month\": 5,\n",
      "            \"acquired_year\": 2012,\n",
      "            \"acquiring_company\": {\n",
      "                \"name\": \"Planet Payment\",\n",
      "                \"permalink\": \"planet-payment\"\n",
      "            },\n",
      "            \"price_amount\": 3100000,\n",
      "            \"price_currency_code\": \"EUR\",\n",
      "            \"source_description\": \"Planet Payment Acquires Branded Payment Solutions Ltd\",\n",
      "            \"source_url\": \"http://globenewswire.com/news-release/2012/05/24/477664/257141/en/Planet-Payment-Acquires-Branded-Payment-Solutions-Ltd.html\",\n",
      "            \"term_code\": \"cash_and_stock\"\n",
      "        },\n",
      "        \"name\": \"Branded Payment Solutions\"\n",
      "    },\n",
      "    {\n",
      "        \"acquisition\": {\n",
      "            \"acquired_day\": 7,\n",
      "            \"acquired_month\": 7,\n",
      "            \"acquired_year\": 1974,\n",
      "            \"acquiring_company\": {\n",
      "                \"name\": \"Telefonica\",\n",
      "                \"permalink\": \"telefonica\"\n",
      "            },\n",
      "            \"price_amount\": 70000000,\n",
      "            \"price_currency_code\": \"EUR\",\n",
      "            \"source_description\": \"'Telefonica confirms Tuenti stake acquisition'\",\n",
      "            \"source_url\": \"http://financial.tmcnet.com/mergers-acquisitions/news/2010/08/05/4940696.htm\",\n",
      "            \"term_code\": \"cash\"\n",
      "        },\n",
      "        \"name\": \"Tuenti Technologies\"\n",
      "    },\n",
      "    {\n",
      "        \"acquisition\": {\n",
      "            \"acquired_day\": 6,\n",
      "            \"acquired_month\": 10,\n",
      "            \"acquired_year\": 2008,\n",
      "            \"acquiring_company\": {\n",
      "                \"name\": \"Springer\",\n",
      "                \"permalink\": \"springer\"\n",
      "            },\n",
      "            \"price_amount\": 43400000,\n",
      "            \"price_currency_code\": \"EUR\",\n",
      "            \"source_description\": \"Springer to acquire BioMed Central Group \",\n",
      "            \"source_url\": \"http://www.springer-sbm.com/index.php?id=291&backPID=131&L=0&tx_tnc_news=4970&cHash=56b1d882b2\",\n",
      "            \"term_code\": null\n",
      "        },\n",
      "        \"name\": \"BioMed Central\"\n",
      "    }\n",
      "]\n"
     ]
    }
   ],
   "source": [
    "proj = {'_id': 0,'name': 1, 'acquisition': 1}\n",
    "res = list(collection.find({'acquisition.price_currency_code': 'EUR',\n",
    "                            'acquisition': {'$exists': 'true' },\n",
    "                            'acquisition.price_amount': {'$exists': 'true' , '$type': 'int', '$gte': 1000000}\n",
    "                             }, proj ))\n",
    "\n",
    "\n",
    "print(len(res))\n",
    "print(json.dumps(res, indent=4, sort_keys=True))\n"
   ]
  },
  {
   "cell_type": "markdown",
   "metadata": {},
   "source": [
    "### 18. All the companies that have been acquired on the first trimester of the year. Limit the search to 10 companies, and retrieve only their `name` and `acquisition` fields."
   ]
  },
  {
   "cell_type": "code",
   "execution_count": 42,
   "metadata": {},
   "outputs": [
    {
     "name": "stdout",
     "output_type": "stream",
     "text": [
      "10\n",
      "[\n",
      "    {\n",
      "        \"acquisition\": {\n",
      "            \"acquired_day\": 31,\n",
      "            \"acquired_month\": 1,\n",
      "            \"acquired_year\": 2011,\n",
      "            \"acquiring_company\": {\n",
      "                \"name\": \"KIT digital\",\n",
      "                \"permalink\": \"kit-digital\"\n",
      "            },\n",
      "            \"price_amount\": null,\n",
      "            \"price_currency_code\": \"USD\",\n",
      "            \"source_description\": \"KIT digital Acquires KickApps, Kewego AND Kyte For $77.2 Million\",\n",
      "            \"source_url\": \"http://techcrunch.com/2011/01/31/exclusive-kit-digital-acquires-kickapps-kewego-and-kyte-for-77-2-million/\",\n",
      "            \"term_code\": null\n",
      "        },\n",
      "        \"name\": \"Kyte\"\n",
      "    },\n",
      "    {\n",
      "        \"acquisition\": {\n",
      "            \"acquired_day\": null,\n",
      "            \"acquired_month\": 2,\n",
      "            \"acquired_year\": 2007,\n",
      "            \"acquiring_company\": {\n",
      "                \"name\": \"Nielsen\",\n",
      "                \"permalink\": \"nielsen\"\n",
      "            },\n",
      "            \"price_amount\": 327000000,\n",
      "            \"price_currency_code\": \"USD\",\n",
      "            \"source_description\": \"Nielsen buys rest of NetRatings\",\n",
      "            \"source_url\": \"http://login.vnuemedia.com/hr/login/login_subscribe.jsp?id=0oqDem1gYIfIclz9i2%2Ffqj5NxCp2AC5DPbVnyT2da8GyV2mXjasabE128n69OrmcAh52%2FGE3pSG%2F%0AEKRYD9vh9EhrJrxukmUzh532fSMTZXL42gwPB80UWVtF1NwJ5UZSM%2BCkLU1mpYBoHFgiH%2Fi0f6Ax%0A9yMIVxt47t%2BHamhEQ0nkOEK24L\",\n",
      "            \"term_code\": \"cash\"\n",
      "        },\n",
      "        \"name\": \"NetRatings\"\n",
      "    },\n",
      "    {\n",
      "        \"acquisition\": {\n",
      "            \"acquired_day\": 13,\n",
      "            \"acquired_month\": 3,\n",
      "            \"acquired_year\": 2013,\n",
      "            \"acquiring_company\": {\n",
      "                \"name\": \"YouNow\",\n",
      "                \"permalink\": \"younow\"\n",
      "            },\n",
      "            \"price_amount\": null,\n",
      "            \"price_currency_code\": \"USD\",\n",
      "            \"source_description\": \"Live Social Video Network YouNow Acquires Streaming Service BlogTV\",\n",
      "            \"source_url\": \"http://techcrunch.com/2013/03/13/younow-buys-blogtv/\",\n",
      "            \"term_code\": null\n",
      "        },\n",
      "        \"name\": \"blogTV\"\n",
      "    },\n",
      "    {\n",
      "        \"acquisition\": {\n",
      "            \"acquired_day\": 1,\n",
      "            \"acquired_month\": 1,\n",
      "            \"acquired_year\": 2008,\n",
      "            \"acquiring_company\": {\n",
      "                \"name\": \"Adviqo\",\n",
      "                \"permalink\": \"adviqo\"\n",
      "            },\n",
      "            \"price_amount\": null,\n",
      "            \"price_currency_code\": \"USD\",\n",
      "            \"source_description\": \"company\",\n",
      "            \"source_url\": \"\",\n",
      "            \"term_code\": \"cash_and_stock\"\n",
      "        },\n",
      "        \"name\": \"Livestream\"\n",
      "    },\n",
      "    {\n",
      "        \"acquisition\": {\n",
      "            \"acquired_day\": 28,\n",
      "            \"acquired_month\": 2,\n",
      "            \"acquired_year\": 2012,\n",
      "            \"acquiring_company\": {\n",
      "                \"name\": \"Vocus\",\n",
      "                \"permalink\": \"vocus\"\n",
      "            },\n",
      "            \"price_amount\": 169000000,\n",
      "            \"price_currency_code\": \"USD\",\n",
      "            \"source_description\": \"Vocus Buys Email Marketing Company iContact For $169 Million\",\n",
      "            \"source_url\": \"http://techcrunch.com/2012/02/28/vocus-buys-email-marketing-company-icontact-for-169-million/\",\n",
      "            \"term_code\": \"cash_and_stock\"\n",
      "        },\n",
      "        \"name\": \"iContact\"\n",
      "    },\n",
      "    {\n",
      "        \"acquisition\": {\n",
      "            \"acquired_day\": 19,\n",
      "            \"acquired_month\": 2,\n",
      "            \"acquired_year\": 2009,\n",
      "            \"acquiring_company\": {\n",
      "                \"name\": \"SAP\",\n",
      "                \"permalink\": \"sap\"\n",
      "            },\n",
      "            \"price_amount\": null,\n",
      "            \"price_currency_code\": \"USD\",\n",
      "            \"source_description\": \"SAP Acquires Coghead\\u00e2\\u20ac\\u2122s Technology As It Looks Towards The Cloud\",\n",
      "            \"source_url\": \"http://www.techcrunch.com/2009/02/19/sap-acquires-cogheads-technology-as-it-looks-towards-the-cloud/\",\n",
      "            \"term_code\": null\n",
      "        },\n",
      "        \"name\": \"Coghead\"\n",
      "    },\n",
      "    {\n",
      "        \"acquisition\": {\n",
      "            \"acquired_day\": 22,\n",
      "            \"acquired_month\": 2,\n",
      "            \"acquired_year\": 2013,\n",
      "            \"acquiring_company\": {\n",
      "                \"name\": \"Orange\",\n",
      "                \"permalink\": \"orange\"\n",
      "            },\n",
      "            \"price_amount\": 168000000,\n",
      "            \"price_currency_code\": \"USD\",\n",
      "            \"source_description\": \"Orange Acquired Dailymotion For $168 Million By Buying Out Remaining 51% Stake [Update: Orange Confirms]\",\n",
      "            \"source_url\": \"http://techcrunch.com/2013/02/22/orange-acquired-dailymotion-for-168-million-by-buying-out-the-remaining-51-stake/\",\n",
      "            \"term_code\": null\n",
      "        },\n",
      "        \"name\": \"Dailymotion\"\n",
      "    },\n",
      "    {\n",
      "        \"acquisition\": {\n",
      "            \"acquired_day\": 9,\n",
      "            \"acquired_month\": 2,\n",
      "            \"acquired_year\": 2012,\n",
      "            \"acquiring_company\": {\n",
      "                \"name\": \"Dassault Systemes\",\n",
      "                \"permalink\": \"dassault\"\n",
      "            },\n",
      "            \"price_amount\": null,\n",
      "            \"price_currency_code\": \"USD\",\n",
      "            \"source_description\": \"Dassault Systemes Acquires Netvibes\",\n",
      "            \"source_url\": \"http://www.marketwatch.com/story/dassault-systemes-acquires-netvibes-2012-02-09\",\n",
      "            \"term_code\": null\n",
      "        },\n",
      "        \"name\": \"Netvibes\"\n",
      "    },\n",
      "    {\n",
      "        \"acquisition\": {\n",
      "            \"acquired_day\": null,\n",
      "            \"acquired_month\": 3,\n",
      "            \"acquired_year\": 2005,\n",
      "            \"acquiring_company\": {\n",
      "                \"name\": \"Yahoo!\",\n",
      "                \"permalink\": \"yahoo\"\n",
      "            },\n",
      "            \"price_amount\": null,\n",
      "            \"price_currency_code\": \"USD\",\n",
      "            \"source_description\": \"CNET\",\n",
      "            \"source_url\": \"http://news.cnet.com/Yahoo-buys-photo-sharing-site-Flickr/2100-1038_3-5627640.html?tag=mncol;txt\",\n",
      "            \"term_code\": \"cash_and_stock\"\n",
      "        },\n",
      "        \"name\": \"Flickr\"\n",
      "    },\n",
      "    {\n",
      "        \"acquisition\": {\n",
      "            \"acquired_day\": 2,\n",
      "            \"acquired_month\": 3,\n",
      "            \"acquired_year\": 2001,\n",
      "            \"acquiring_company\": {\n",
      "                \"name\": \"Johnson & Johnson\",\n",
      "                \"permalink\": \"johnson-johnson\"\n",
      "            },\n",
      "            \"price_amount\": null,\n",
      "            \"price_currency_code\": \"USD\",\n",
      "            \"source_description\": \"Johnson & Johnson Acquires BabyCenter From eToys, Inc. Leading Online Destination for Parents Plans for Continued Expansion of Operations\",\n",
      "            \"source_url\": \"http://www.investor.jnj.com/releasedetail.cfm?releaseid=63836\",\n",
      "            \"term_code\": null\n",
      "        },\n",
      "        \"name\": \"BabyCenter\"\n",
      "    }\n",
      "]\n"
     ]
    }
   ],
   "source": [
    "proj = {'_id': 0,'name': 1, 'acquisition': 1}\n",
    "res = list(collection.find({'acquisition': {'$exists': 'true' },\n",
    "                            'acquisition.acquired_month': {'$exists': 'true' , '$type': 'int', '$lte': 3}\n",
    "                             }, proj ).limit(10))\n",
    "\n",
    "print(len(res))\n",
    "print(json.dumps(res, indent=4, sort_keys=True))"
   ]
  },
  {
   "cell_type": "markdown",
   "metadata": {},
   "source": [
    "# Bonus\n",
    "### 19. All the companies that have been founded between 2000 and 2010, but have not been acquired before 2011."
   ]
  },
  {
   "cell_type": "code",
   "execution_count": 43,
   "metadata": {},
   "outputs": [
    {
     "name": "stdout",
     "output_type": "stream",
     "text": [
      "486\n",
      "{\n",
      "    \"acquisition\": {\n",
      "        \"acquired_day\": 16,\n",
      "        \"acquired_month\": 12,\n",
      "        \"acquired_year\": 2013,\n",
      "        \"acquiring_company\": {\n",
      "            \"name\": \"Viggle\",\n",
      "            \"permalink\": \"viggle\"\n",
      "        },\n",
      "        \"price_amount\": 30000000,\n",
      "        \"price_currency_code\": \"USD\",\n",
      "        \"source_description\": \" Viggle Tries to Bulk Up Its Social TV Business by Buying Wetpaint\",\n",
      "        \"source_url\": \"http://allthingsd.com/20131216/viggle-tries-to-bulk-up-its-social-tv-business-by-buying-wetpaint/?mod=atdtweet\",\n",
      "        \"term_code\": \"cash_and_stock\"\n",
      "    },\n",
      "    \"founded_year\": 2005,\n",
      "    \"name\": \"Wetpaint\"\n",
      "}\n"
     ]
    }
   ],
   "source": [
    "proj = {'_id': 0,'name': 1, 'founded_year': 1, 'acquisition': 1}\n",
    "res = list(collection.find( { 'founded_year': { '$gte': 2000, '$lte': 2010 },\n",
    "                            'acquisition': {'$exists': 'true' },\n",
    "                            'acquisition.acquired_year': {'$exists': 'true' , '$type': 'int', '$gte': 2011}\n",
    "                            },proj ))\n",
    "\n",
    "\n",
    "print(len(res))\n",
    "print(json.dumps(res[0], indent=4, sort_keys=True))"
   ]
  },
  {
   "cell_type": "markdown",
   "metadata": {},
   "source": [
    "### 20. All the companies that have been 'deadpooled' after the third year."
   ]
  },
  {
   "cell_type": "code",
   "execution_count": 96,
   "metadata": {},
   "outputs": [
    {
     "name": "stdout",
     "output_type": "stream",
     "text": [
      "541\n",
      "{'name': 'Omnidrive', 'founded_year': 2005, 'deadpooled_year': 2008}\n"
     ]
    }
   ],
   "source": [
    "proj = {'_id': 0,'name': 1, 'founded_year':1, 'deadpooled_year': 1}\n",
    "res = list(collection.find({'founded_year': {'$exists': True  },'deadpooled_year': { '$exists': True } }, proj ))\n",
    "res1 = list()\n",
    "\n",
    "for element in res:\n",
    "    \n",
    "    if type(element['deadpooled_year']) == int and type(element['founded_year']) == int:\n",
    "        subs = element['deadpooled_year'] - element['founded_year']\n",
    "        \n",
    "        if subs >= 3:\n",
    "            res1.append(element)\n",
    "            \n",
    "print(len(res1))\n",
    "print(res1[0])          \n"
   ]
  }
 ],
 "metadata": {
  "kernelspec": {
   "display_name": "Python 3",
   "language": "python",
   "name": "python3"
  },
  "language_info": {
   "codemirror_mode": {
    "name": "ipython",
    "version": 3
   },
   "file_extension": ".py",
   "mimetype": "text/x-python",
   "name": "python",
   "nbconvert_exporter": "python",
   "pygments_lexer": "ipython3",
   "version": "3.6.2"
  }
 },
 "nbformat": 4,
 "nbformat_minor": 2
}
