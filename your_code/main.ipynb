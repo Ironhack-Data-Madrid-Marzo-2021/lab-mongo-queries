{
 "cells": [
  {
   "cell_type": "markdown",
   "metadata": {},
   "source": [
    "# Advanced Querying Mongo"
   ]
  },
  {
   "cell_type": "markdown",
   "metadata": {},
   "source": [
    "Importing libraries and setting up connection"
   ]
  },
  {
   "cell_type": "code",
   "execution_count": 3,
   "metadata": {},
   "outputs": [],
   "source": [
    "from pymongo import MongoClient\n",
    "client = MongoClient(\"localhost:27017\")"
   ]
  },
  {
   "cell_type": "code",
   "execution_count": 4,
   "metadata": {},
   "outputs": [],
   "source": [
    "client.*list*?\n"
   ]
  },
  {
   "cell_type": "code",
   "execution_count": 5,
   "metadata": {},
   "outputs": [
    {
     "data": {
      "text/plain": [
       "['Ironhack', 'admin', 'config', 'local']"
      ]
     },
     "execution_count": 5,
     "metadata": {},
     "output_type": "execute_result"
    }
   ],
   "source": [
    "client.list_database_names()"
   ]
  },
  {
   "cell_type": "code",
   "execution_count": 9,
   "metadata": {},
   "outputs": [],
   "source": [
    "db = client.get_database(\"Ironhack\")"
   ]
  },
  {
   "cell_type": "code",
   "execution_count": 10,
   "metadata": {},
   "outputs": [
    {
     "data": {
      "text/plain": [
       "Database(MongoClient(host=['localhost:27017'], document_class=dict, tz_aware=False, connect=True), 'Ironhack')"
      ]
     },
     "execution_count": 10,
     "metadata": {},
     "output_type": "execute_result"
    }
   ],
   "source": [
    "db"
   ]
  },
  {
   "cell_type": "code",
   "execution_count": 11,
   "metadata": {},
   "outputs": [
    {
     "data": {
      "text/plain": [
       "['companies']"
      ]
     },
     "execution_count": 11,
     "metadata": {},
     "output_type": "execute_result"
    }
   ],
   "source": [
    "db.list_collection_names()"
   ]
  },
  {
   "cell_type": "code",
   "execution_count": 12,
   "metadata": {},
   "outputs": [],
   "source": [
    "collection = db.get_collection(\"companies\")"
   ]
  },
  {
   "cell_type": "markdown",
   "metadata": {},
   "source": [
    "### 1. All the companies whose name match 'Babelgum'. Retrieve only their `name` field."
   ]
  },
  {
   "cell_type": "code",
   "execution_count": 74,
   "metadata": {},
   "outputs": [],
   "source": [
    "proj1 = {\"_id\": 0,\"name\": 1}"
   ]
  },
  {
   "cell_type": "code",
   "execution_count": 75,
   "metadata": {},
   "outputs": [
    {
     "data": {
      "text/plain": [
       "[{'name': 'Babelgum'}]"
      ]
     },
     "execution_count": 75,
     "metadata": {},
     "output_type": "execute_result"
    }
   ],
   "source": [
    "list(collection.find({\"name\":'Babelgum'}, proj1))"
   ]
  },
  {
   "cell_type": "code",
   "execution_count": null,
   "metadata": {},
   "outputs": [],
   "source": [
    "# Your Code\n"
   ]
  },
  {
   "cell_type": "markdown",
   "metadata": {},
   "source": [
    "### 2. All the companies that have more than 5000 employees. Limit the search to 20 companies and sort them by **number of employees**."
   ]
  },
  {
   "cell_type": "code",
   "execution_count": 76,
   "metadata": {},
   "outputs": [],
   "source": [
    "proj2 = {\"_id\": 0,\"name\": 1, \"number_of_employees\": 1}"
   ]
  },
  {
   "cell_type": "code",
   "execution_count": 77,
   "metadata": {},
   "outputs": [
    {
     "data": {
      "text/plain": [
       "[{'name': 'Siemens', 'number_of_employees': 405000},\n",
       " {'name': 'IBM', 'number_of_employees': 388000},\n",
       " {'name': 'Toyota', 'number_of_employees': 320000},\n",
       " {'name': 'PayPal', 'number_of_employees': 300000},\n",
       " {'name': 'Nippon Telegraph and Telephone Corporation',\n",
       "  'number_of_employees': 227000},\n",
       " {'name': 'Samsung Electronics', 'number_of_employees': 221726},\n",
       " {'name': 'Accenture', 'number_of_employees': 205000},\n",
       " {'name': 'Tata Consultancy Services', 'number_of_employees': 200300},\n",
       " {'name': 'Flextronics International', 'number_of_employees': 200000},\n",
       " {'name': 'Safeway', 'number_of_employees': 186000},\n",
       " {'name': 'Sony', 'number_of_employees': 180500},\n",
       " {'name': 'LG', 'number_of_employees': 177000},\n",
       " {'name': 'Ford', 'number_of_employees': 171000},\n",
       " {'name': 'Boeing', 'number_of_employees': 160000},\n",
       " {'name': 'Digital Equipment Corporation', 'number_of_employees': 140000},\n",
       " {'name': 'Nokia', 'number_of_employees': 125000},\n",
       " {'name': 'MItsubishi Electric', 'number_of_employees': 107000},\n",
       " {'name': 'MItsubishi Electric', 'number_of_employees': 107000},\n",
       " {'name': 'Comcast', 'number_of_employees': 100000},\n",
       " {'name': 'Bertelsmann', 'number_of_employees': 100000}]"
      ]
     },
     "execution_count": 77,
     "metadata": {},
     "output_type": "execute_result"
    }
   ],
   "source": [
    "list((collection.find({\"number_of_employees\": {\"$gte\": 5000}}, proj2).limit(20)).sort(\"number_of_employees\",-1))"
   ]
  },
  {
   "cell_type": "markdown",
   "metadata": {},
   "source": [
    "### 3. All the companies founded between 2000 and 2005, both years included. Retrieve only the `name` and `founded_year` fields."
   ]
  },
  {
   "cell_type": "code",
   "execution_count": 78,
   "metadata": {},
   "outputs": [],
   "source": [
    "proj3 = {\"_id\": 0,\"name\": 1, \"founded_year\": 1}"
   ]
  },
  {
   "cell_type": "code",
   "execution_count": 79,
   "metadata": {},
   "outputs": [
    {
     "data": {
      "text/plain": [
       "[{'name': 'Digg', 'founded_year': 2004},\n",
       " {'name': 'Facebook', 'founded_year': 2004},\n",
       " {'name': 'StumbleUpon', 'founded_year': 2002},\n",
       " {'name': 'Gizmoz', 'founded_year': 2003},\n",
       " {'name': 'Plaxo', 'founded_year': 2002}]"
      ]
     },
     "execution_count": 79,
     "metadata": {},
     "output_type": "execute_result"
    }
   ],
   "source": [
    "list(collection.find({\"$and\": [{\"founded_year\": {\"$gt\": 2000}}, {\"founded_year\": {\"$lt\":2005}}]}, proj3).limit(5))"
   ]
  },
  {
   "cell_type": "markdown",
   "metadata": {},
   "source": [
    "### 4. All the companies that had a Valuation Amount of more than 100.000.000 and have been founded before 2010. Retrieve only the `name` and `ipo` fields."
   ]
  },
  {
   "cell_type": "code",
   "execution_count": 107,
   "metadata": {},
   "outputs": [],
   "source": [
    "proj4 = {\"_id\": 0,\"name\": 1, \"ipo.valuation_amount\": 1}"
   ]
  },
  {
   "cell_type": "code",
   "execution_count": 109,
   "metadata": {},
   "outputs": [
    {
     "data": {
      "text/plain": [
       "[{'name': 'Facebook', 'ipo': {'valuation_amount': 104000000000}},\n",
       " {'name': 'Twitter', 'ipo': {'valuation_amount': 18100000000}},\n",
       " {'name': 'Yelp', 'ipo': {'valuation_amount': 1300000000}},\n",
       " {'name': 'LinkedIn', 'ipo': {'valuation_amount': 9310000000}},\n",
       " {'name': 'Amazon', 'ipo': {'valuation_amount': 100000000000}}]"
      ]
     },
     "execution_count": 109,
     "metadata": {},
     "output_type": "execute_result"
    }
   ],
   "source": [
    "list(collection.find({\"$and\": [{\"ipo.valuation_amount\": {\"$gt\": 100000000}}, {\"founded_year\": {\"$lt\":2010}}]}, proj4).limit(5))"
   ]
  },
  {
   "cell_type": "markdown",
   "metadata": {},
   "source": [
    "### 5. All the companies that have less than 1000 employees and have been founded before 2005. Order them by the number of employees and limit the search to 10 companies."
   ]
  },
  {
   "cell_type": "code",
   "execution_count": 82,
   "metadata": {},
   "outputs": [],
   "source": [
    "proj5 = {\"_id\": 0,\"name\": 1, \"number_of_employees\": 1}"
   ]
  },
  {
   "cell_type": "code",
   "execution_count": 83,
   "metadata": {},
   "outputs": [
    {
     "data": {
      "text/plain": [
       "[{'name': 'Infinera Corporation', 'number_of_employees': 974},\n",
       " {'name': 'NorthPoint Communications Group', 'number_of_employees': 948},\n",
       " {'name': '888 Holdings', 'number_of_employees': 931},\n",
       " {'name': 'Forrester Research', 'number_of_employees': 903},\n",
       " {'name': 'SonicWALL', 'number_of_employees': 900},\n",
       " {'name': 'Webmetrics', 'number_of_employees': 900},\n",
       " {'name': 'Cornerstone OnDemand', 'number_of_employees': 881},\n",
       " {'name': 'Mozilla', 'number_of_employees': 800},\n",
       " {'name': 'Buongiorno', 'number_of_employees': 800},\n",
       " {'name': 'Yelp', 'number_of_employees': 800}]"
      ]
     },
     "execution_count": 83,
     "metadata": {},
     "output_type": "execute_result"
    }
   ],
   "source": [
    "list((collection.find({\"$and\": [{\"number_of_employees\": {\"$lt\":1000}}, {\"founded_year\": {\"$lt\": 2005}}]}, proj5).limit(10)).sort(\"number_of_employees\",-1))"
   ]
  },
  {
   "cell_type": "markdown",
   "metadata": {},
   "source": [
    "### 6. All the companies that don't include the `partners` field."
   ]
  },
  {
   "cell_type": "code",
   "execution_count": 56,
   "metadata": {},
   "outputs": [
    {
     "data": {
      "text/plain": [
       "[]"
      ]
     },
     "execution_count": 56,
     "metadata": {},
     "output_type": "execute_result"
    }
   ],
   "source": [
    "list(collection.find({\"partners\": {\"$exists\":False}}).limit(3))"
   ]
  },
  {
   "cell_type": "markdown",
   "metadata": {},
   "source": [
    "### 7. All the companies that have a null type of value on the `category_code` field."
   ]
  },
  {
   "cell_type": "code",
   "execution_count": 87,
   "metadata": {},
   "outputs": [],
   "source": [
    "proj7 = {\"_id\": 0, \"name\":1, \"category_code\":1}"
   ]
  },
  {
   "cell_type": "code",
   "execution_count": 88,
   "metadata": {},
   "outputs": [
    {
     "data": {
      "text/plain": [
       "[{'name': 'Collective', 'category_code': None},\n",
       " {'name': 'Snimmer', 'category_code': None},\n",
       " {'name': 'KoolIM', 'category_code': None},\n",
       " {'name': 'Level9 Media', 'category_code': None},\n",
       " {'name': 'VidKing', 'category_code': None},\n",
       " {'name': 'Drigg', 'category_code': None},\n",
       " {'name': 'SpaceTime', 'category_code': None},\n",
       " {'name': 'Touch Clarity', 'category_code': None},\n",
       " {'name': 'MMDAYS', 'category_code': None},\n",
       " {'name': 'Inside Group', 'category_code': None}]"
      ]
     },
     "execution_count": 88,
     "metadata": {},
     "output_type": "execute_result"
    }
   ],
   "source": [
    "list((collection.find({\"category_code\": None}, proj7)).limit(10))"
   ]
  },
  {
   "cell_type": "markdown",
   "metadata": {},
   "source": [
    "### 8. All the companies that have at least 100 employees but less than 1000. Retrieve only the `name` and `number of employees` fields."
   ]
  },
  {
   "cell_type": "code",
   "execution_count": 89,
   "metadata": {},
   "outputs": [],
   "source": [
    "proj8 = {\"_id\": 0, \"name\":1, \"number_of_employees\":1}"
   ]
  },
  {
   "cell_type": "code",
   "execution_count": 95,
   "metadata": {},
   "outputs": [
    {
     "data": {
      "text/plain": [
       "[{'name': 'AdventNet', 'number_of_employees': 600},\n",
       " {'name': 'AddThis', 'number_of_employees': 120},\n",
       " {'name': 'OpenX', 'number_of_employees': 305},\n",
       " {'name': 'LifeLock', 'number_of_employees': 644},\n",
       " {'name': 'Jajah', 'number_of_employees': 110},\n",
       " {'name': 'Livestream', 'number_of_employees': 120},\n",
       " {'name': 'Ustream', 'number_of_employees': 250},\n",
       " {'name': 'iContact', 'number_of_employees': 300},\n",
       " {'name': 'Yelp', 'number_of_employees': 800},\n",
       " {'name': 'Dailymotion', 'number_of_employees': 120}]"
      ]
     },
     "execution_count": 95,
     "metadata": {},
     "output_type": "execute_result"
    }
   ],
   "source": [
    "list(collection.find({\"$and\": [{\"number_of_employees\": {\"$gte\": 100}}, {\"number_of_employees\": {\"$lt\":1000}}]}, proj8).limit(10))"
   ]
  },
  {
   "cell_type": "markdown",
   "metadata": {},
   "source": [
    "### 9. Order all the companies by their IPO price in a descending order."
   ]
  },
  {
   "cell_type": "code",
   "execution_count": 105,
   "metadata": {},
   "outputs": [],
   "source": [
    "proj9 = {\"_id\": 0,\"name\": 1, \"ipo.valuation_amount\": 1}"
   ]
  },
  {
   "cell_type": "code",
   "execution_count": 106,
   "metadata": {},
   "outputs": [
    {
     "data": {
      "text/plain": [
       "[{'name': 'GREE', 'ipo': {'valuation_amount': 108960000000}},\n",
       " {'name': 'Facebook', 'ipo': {'valuation_amount': 104000000000}},\n",
       " {'name': 'Amazon', 'ipo': {'valuation_amount': 100000000000}},\n",
       " {'name': 'Twitter', 'ipo': {'valuation_amount': 18100000000}},\n",
       " {'name': 'Groupon', 'ipo': {'valuation_amount': 12800000000}},\n",
       " {'name': 'Tencent', 'ipo': {'valuation_amount': 11000000000}},\n",
       " {'name': 'Western Digital', 'ipo': {'valuation_amount': 9430000000}},\n",
       " {'name': 'LinkedIn', 'ipo': {'valuation_amount': 9310000000}},\n",
       " {'name': 'BMC Software', 'ipo': {'valuation_amount': 6000000000}},\n",
       " {'name': 'Rackspace', 'ipo': {'valuation_amount': 5440000000}}]"
      ]
     },
     "execution_count": 106,
     "metadata": {},
     "output_type": "execute_result"
    }
   ],
   "source": [
    "list((collection.find({}, proj9).limit(10)).sort(\"ipo.valuation_amount\",-1))"
   ]
  },
  {
   "cell_type": "markdown",
   "metadata": {},
   "source": [
    "### 10. Retrieve the 10 companies with more employees, order by the `number of employees`"
   ]
  },
  {
   "cell_type": "code",
   "execution_count": 125,
   "metadata": {},
   "outputs": [],
   "source": [
    "proj10 = {\"_id\": 0,\"name\": 1, \"number_of_employees\": 1}"
   ]
  },
  {
   "cell_type": "code",
   "execution_count": 126,
   "metadata": {},
   "outputs": [
    {
     "data": {
      "text/plain": [
       "[{'name': 'Siemens', 'number_of_employees': 405000},\n",
       " {'name': 'IBM', 'number_of_employees': 388000},\n",
       " {'name': 'Toyota', 'number_of_employees': 320000},\n",
       " {'name': 'PayPal', 'number_of_employees': 300000},\n",
       " {'name': 'Nippon Telegraph and Telephone Corporation',\n",
       "  'number_of_employees': 227000},\n",
       " {'name': 'Samsung Electronics', 'number_of_employees': 221726},\n",
       " {'name': 'Accenture', 'number_of_employees': 205000},\n",
       " {'name': 'Tata Consultancy Services', 'number_of_employees': 200300},\n",
       " {'name': 'Flextronics International', 'number_of_employees': 200000},\n",
       " {'name': 'Safeway', 'number_of_employees': 186000}]"
      ]
     },
     "execution_count": 126,
     "metadata": {},
     "output_type": "execute_result"
    }
   ],
   "source": [
    "list((collection.find({}, proj10).limit(10)).sort(\"number_of_employees\",-1))"
   ]
  },
  {
   "cell_type": "markdown",
   "metadata": {},
   "source": [
    "### 11. All the companies founded on the second semester of the year. Limit your search to 1000 companies."
   ]
  },
  {
   "cell_type": "code",
   "execution_count": 127,
   "metadata": {},
   "outputs": [],
   "source": [
    "proj11 = {\"_id\": 0,\"name\": 1, \"founded_month\": 1}"
   ]
  },
  {
   "cell_type": "code",
   "execution_count": 128,
   "metadata": {},
   "outputs": [
    {
     "data": {
      "text/plain": [
       "[{'name': 'Wetpaint', 'founded_month': 10},\n",
       " {'name': 'Zoho', 'founded_month': 9},\n",
       " {'name': 'Digg', 'founded_month': 10},\n",
       " {'name': 'Omnidrive', 'founded_month': 11},\n",
       " {'name': 'eBay', 'founded_month': 9},\n",
       " {'name': 'Joost', 'founded_month': 10},\n",
       " {'name': 'Plaxo', 'founded_month': 11},\n",
       " {'name': 'Powerset', 'founded_month': 10},\n",
       " {'name': 'Kyte', 'founded_month': 12},\n",
       " {'name': 'Thoof', 'founded_month': 12}]"
      ]
     },
     "execution_count": 128,
     "metadata": {},
     "output_type": "execute_result"
    }
   ],
   "source": [
    "list(collection.find({\"founded_month\": {\"$gt\": 6}}, proj11).limit(10))"
   ]
  },
  {
   "cell_type": "markdown",
   "metadata": {},
   "source": [
    "### 12. All the companies founded before 2000 that have an acquisition amount of more than 10.000.00"
   ]
  },
  {
   "cell_type": "code",
   "execution_count": 129,
   "metadata": {},
   "outputs": [],
   "source": [
    "proj12 = {\"_id\": 0,\"name\": 1, \"founded_year\":1, \"acquisition.price_amount\": 1}"
   ]
  },
  {
   "cell_type": "code",
   "execution_count": 130,
   "metadata": {},
   "outputs": [
    {
     "data": {
      "text/plain": [
       "[{'name': 'Postini',\n",
       "  'founded_year': 1999,\n",
       "  'acquisition': {'price_amount': 625000000}},\n",
       " {'name': 'SideStep',\n",
       "  'founded_year': 1999,\n",
       "  'acquisition': {'price_amount': 180000000}},\n",
       " {'name': 'Recipezaar',\n",
       "  'founded_year': 1999,\n",
       "  'acquisition': {'price_amount': 25000000}},\n",
       " {'name': 'Cyworld',\n",
       "  'founded_year': 1999,\n",
       "  'acquisition': {'price_amount': 7140000}},\n",
       " {'name': 'PayPal',\n",
       "  'founded_year': 1998,\n",
       "  'acquisition': {'price_amount': 1500000000}},\n",
       " {'name': 'Snapfish',\n",
       "  'founded_year': 1999,\n",
       "  'acquisition': {'price_amount': 300000000}},\n",
       " {'name': 'Neopets',\n",
       "  'founded_year': 1999,\n",
       "  'acquisition': {'price_amount': 160000000}},\n",
       " {'name': 'Sun Microsystems',\n",
       "  'founded_year': 1982,\n",
       "  'acquisition': {'price_amount': 7400000000}},\n",
       " {'name': 'Zappos',\n",
       "  'founded_year': 1999,\n",
       "  'acquisition': {'price_amount': 1200000000}},\n",
       " {'name': 'Alibaba',\n",
       "  'founded_year': 1999,\n",
       "  'acquisition': {'price_amount': 1000000000}}]"
      ]
     },
     "execution_count": 130,
     "metadata": {},
     "output_type": "execute_result"
    }
   ],
   "source": [
    "list(collection.find({\"$and\": [{\"founded_year\": {\"$lt\": 2000}}, {\"acquisition.price_amount\": {\"$gt\":100000}}]}, proj12).limit(10))"
   ]
  },
  {
   "cell_type": "markdown",
   "metadata": {},
   "source": [
    "### 13. All the companies that have been acquired after 2010, order by the acquisition amount, and retrieve only their `name` and `acquisition` field."
   ]
  },
  {
   "cell_type": "code",
   "execution_count": 137,
   "metadata": {},
   "outputs": [],
   "source": [
    "proj13 = {\"_id\": 0,\"name\": 1, \"acquisition\": 1}"
   ]
  },
  {
   "cell_type": "code",
   "execution_count": 139,
   "metadata": {},
   "outputs": [
    {
     "data": {
      "text/plain": [
       "[{'name': 'T-Mobile',\n",
       "  'acquisition': {'price_amount': 39000000000,\n",
       "   'price_currency_code': 'USD',\n",
       "   'term_code': None,\n",
       "   'source_url': 'http://techcrunch.com/2011/03/20/in-the-race-for-more-spectrum-att-is-acquiring-t-mobile-for-39-billion/',\n",
       "   'source_description': 'In The Race For More Spectrum, AT&T Is Acquiring T-Mobile For $39 Billion',\n",
       "   'acquired_year': 2011,\n",
       "   'acquired_month': 3,\n",
       "   'acquired_day': 20,\n",
       "   'acquiring_company': {'name': 'AT&T', 'permalink': 'at-t'}}},\n",
       " {'name': 'Goodrich Corporation',\n",
       "  'acquisition': {'price_amount': 18400000000,\n",
       "   'price_currency_code': 'USD',\n",
       "   'term_code': None,\n",
       "   'source_url': 'http://www.masshightech.com/stories/2011/09/19/daily37-UTC-shells-out-184-billion-for-Goodrich.html',\n",
       "   'source_description': 'UTC shells out $18.4 billion for Goodrich',\n",
       "   'acquired_year': 2011,\n",
       "   'acquired_month': 9,\n",
       "   'acquired_day': 22,\n",
       "   'acquiring_company': {'name': 'United Technologies',\n",
       "    'permalink': 'united-technologies'}}},\n",
       " {'name': 'LSI',\n",
       "  'acquisition': {'price_amount': 6600000000,\n",
       "   'price_currency_code': 'USD',\n",
       "   'term_code': 'cash',\n",
       "   'source_url': 'http://dealbook.nytimes.com/2013/12/16/avago-to-buy-lsi-for-6-6-billion/?_r=0',\n",
       "   'source_description': 'Avago to Buy LSI for $6.6 Billion',\n",
       "   'acquired_year': 2013,\n",
       "   'acquired_month': 12,\n",
       "   'acquired_day': 16,\n",
       "   'acquiring_company': {'name': 'Avago Technologies',\n",
       "    'permalink': 'avago-technologies'}}},\n",
       " {'name': 'National Semiconductor',\n",
       "  'acquisition': {'price_amount': 6500000000,\n",
       "   'price_currency_code': 'USD',\n",
       "   'term_code': 'cash',\n",
       "   'source_url': 'http://www.national.com/news/item/0,1735,1522,00.html',\n",
       "   'source_description': 'TI to acquire National Semiconductor Complementary portfolios are foundation for growth',\n",
       "   'acquired_year': 2011,\n",
       "   'acquired_month': 4,\n",
       "   'acquired_day': 4,\n",
       "   'acquiring_company': {'name': 'Texas Instruments',\n",
       "    'permalink': 'texas-instruments'}}},\n",
       " {'name': 'Ariba',\n",
       "  'acquisition': {'price_amount': 4300000000,\n",
       "   'price_currency_code': 'USD',\n",
       "   'term_code': None,\n",
       "   'source_url': 'http://techcrunch.com/2012/05/22/sap-to-acquire-ariba-for-4-3-billion/',\n",
       "   'source_description': 'SAP To Acquire Ariba For $4.3 Billion',\n",
       "   'acquired_year': 2012,\n",
       "   'acquired_month': 5,\n",
       "   'acquired_day': 22,\n",
       "   'acquiring_company': {'name': 'SAP', 'permalink': 'sap'}}}]"
      ]
     },
     "execution_count": 139,
     "metadata": {},
     "output_type": "execute_result"
    }
   ],
   "source": [
    "list((collection.find({\"acquisition.acquired_year\": {\"$gt\": 2010}}, proj13).sort(\"acquisition.price_amount\",-1)).limit(5))"
   ]
  },
  {
   "cell_type": "markdown",
   "metadata": {},
   "source": [
    "### 14. Order the companies by their `founded year`, retrieving only their `name` and `founded year`."
   ]
  },
  {
   "cell_type": "code",
   "execution_count": 133,
   "metadata": {},
   "outputs": [],
   "source": [
    "proj14 = {\"_id\": 0,\"name\": 1, \"founded_year\": 1}"
   ]
  },
  {
   "cell_type": "code",
   "execution_count": 135,
   "metadata": {},
   "outputs": [
    {
     "data": {
      "text/plain": [
       "[{'name': 'Fixya', 'founded_year': 2013},\n",
       " {'name': 'WhosCall', 'founded_year': 2013},\n",
       " {'name': 'Tongxue', 'founded_year': 2013},\n",
       " {'name': 'Fluc', 'founded_year': 2013},\n",
       " {'name': 'Advaliant', 'founded_year': 2013},\n",
       " {'name': 'Shopseen', 'founded_year': 2013},\n",
       " {'name': 'Pikk', 'founded_year': 2013},\n",
       " {'name': 'VistaGen Therapeutics', 'founded_year': 2013},\n",
       " {'name': 'Gimigo', 'founded_year': 2013},\n",
       " {'name': 'SEOGroup', 'founded_year': 2013},\n",
       " {'name': 'Clowdy', 'founded_year': 2013},\n",
       " {'name': 'iBazar', 'founded_year': 2013},\n",
       " {'name': 'Wamba', 'founded_year': 2013},\n",
       " {'name': 'headr', 'founded_year': 2012},\n",
       " {'name': 'PeekYou', 'founded_year': 2012}]"
      ]
     },
     "execution_count": 135,
     "metadata": {},
     "output_type": "execute_result"
    }
   ],
   "source": [
    "list((collection.find({}, proj14).limit(15)).sort(\"founded_year\",-1))"
   ]
  },
  {
   "cell_type": "markdown",
   "metadata": {},
   "source": [
    "### 15. All the companies that have been founded on the first seven days of the month, including the seventh. Sort them by their `acquisition price` in a descending order. Limit the search to 10 documents."
   ]
  },
  {
   "cell_type": "code",
   "execution_count": 140,
   "metadata": {},
   "outputs": [],
   "source": [
    "proj15 = {\"_id\": 0,\"name\": 1, \"founded_day\": 1}"
   ]
  },
  {
   "cell_type": "code",
   "execution_count": 143,
   "metadata": {},
   "outputs": [
    {
     "data": {
      "text/plain": [
       "[{'name': 'Facebook', 'founded_day': 1},\n",
       " {'name': 'Omnidrive', 'founded_day': 1},\n",
       " {'name': 'Postini', 'founded_day': 2},\n",
       " {'name': 'Geni', 'founded_day': 1},\n",
       " {'name': 'Fox Interactive Media', 'founded_day': 1},\n",
       " {'name': 'StumbleUpon', 'founded_day': 1},\n",
       " {'name': 'Gizmoz', 'founded_day': 1},\n",
       " {'name': 'Helio', 'founded_day': 1},\n",
       " {'name': 'eBay', 'founded_day': 1},\n",
       " {'name': 'Joost', 'founded_day': 1}]"
      ]
     },
     "execution_count": 143,
     "metadata": {},
     "output_type": "execute_result"
    }
   ],
   "source": [
    "list(collection.find({\"founded_day\": {\"$lte\": 7}}, proj15).limit(10))"
   ]
  },
  {
   "cell_type": "markdown",
   "metadata": {},
   "source": [
    "### 16. All the companies on the 'web' `category` that have more than 4000 employees. Sort them by the amount of employees in ascending order."
   ]
  },
  {
   "cell_type": "code",
   "execution_count": 147,
   "metadata": {},
   "outputs": [],
   "source": [
    "proj16 = {\"_id\": 0,\"name\": 1, \"category_code\": 1, \"number_of_employees\": 1}"
   ]
  },
  {
   "cell_type": "code",
   "execution_count": 152,
   "metadata": {
    "scrolled": true
   },
   "outputs": [
    {
     "data": {
      "text/plain": [
       "[{'name': 'Experian', 'category_code': 'web', 'number_of_employees': 15500},\n",
       " {'name': 'eBay', 'category_code': 'web', 'number_of_employees': 15000},\n",
       " {'name': 'Yahoo!', 'category_code': 'web', 'number_of_employees': 13600},\n",
       " {'name': 'Rakuten', 'category_code': 'web', 'number_of_employees': 10000},\n",
       " {'name': 'Los Angeles Times Media Group',\n",
       "  'category_code': 'web',\n",
       "  'number_of_employees': 10000},\n",
       " {'name': 'Groupon', 'category_code': 'web', 'number_of_employees': 10000},\n",
       " {'name': 'Webkinz', 'category_code': 'web', 'number_of_employees': 8657},\n",
       " {'name': 'AOL', 'category_code': 'web', 'number_of_employees': 8000},\n",
       " {'name': 'Expedia', 'category_code': 'web', 'number_of_employees': 4400}]"
      ]
     },
     "execution_count": 152,
     "metadata": {},
     "output_type": "execute_result"
    }
   ],
   "source": [
    "list(collection.find({\"$and\": [{\"category_code\": \"web\"}, {\"number_of_employees\": {\"$gt\":4000}}]}, proj16).sort(\"number_of_employees\",-1))"
   ]
  },
  {
   "cell_type": "markdown",
   "metadata": {},
   "source": [
    "### 17. All the companies whose acquisition amount is more than 10.000.000, and currency is 'EUR'."
   ]
  },
  {
   "cell_type": "code",
   "execution_count": 153,
   "metadata": {},
   "outputs": [],
   "source": [
    "proj17 = {\"_id\": 0,\"name\": 1, \"acquisition.price_amount\": 1, \"acquisition.price_currency_code\": 1}"
   ]
  },
  {
   "cell_type": "code",
   "execution_count": 157,
   "metadata": {
    "scrolled": false
   },
   "outputs": [
    {
     "data": {
      "text/plain": [
       "[{'name': 'ZYB',\n",
       "  'acquisition': {'price_amount': 31500000, 'price_currency_code': 'EUR'}},\n",
       " {'name': 'Apertio',\n",
       "  'acquisition': {'price_amount': 140000000, 'price_currency_code': 'EUR'}},\n",
       " {'name': 'Greenfield Online',\n",
       "  'acquisition': {'price_amount': 40000000, 'price_currency_code': 'EUR'}},\n",
       " {'name': 'Webedia',\n",
       "  'acquisition': {'price_amount': 70000000, 'price_currency_code': 'EUR'}},\n",
       " {'name': 'Wayfinder',\n",
       "  'acquisition': {'price_amount': 24000000, 'price_currency_code': 'EUR'}},\n",
       " {'name': 'Tuenti Technologies',\n",
       "  'acquisition': {'price_amount': 70000000, 'price_currency_code': 'EUR'}},\n",
       " {'name': 'BioMed Central',\n",
       "  'acquisition': {'price_amount': 43400000, 'price_currency_code': 'EUR'}}]"
      ]
     },
     "execution_count": 157,
     "metadata": {},
     "output_type": "execute_result"
    }
   ],
   "source": [
    "list(collection.find({\"$and\": [{\"acquisition.price_amount\": {\"$gt\":10000000}}, {\"acquisition.price_currency_code\": \"EUR\"}]}, proj17).limit(10))"
   ]
  },
  {
   "cell_type": "markdown",
   "metadata": {},
   "source": [
    "### 18. All the companies that have been acquired on the first trimester of the year. Limit the search to 10 companies, and retrieve only their `name` and `acquisition` fields."
   ]
  },
  {
   "cell_type": "code",
   "execution_count": 158,
   "metadata": {},
   "outputs": [],
   "source": [
    "proj18 = {\"_id\": 0,\"name\": 1, \"acquisition\": 1}"
   ]
  },
  {
   "cell_type": "code",
   "execution_count": 160,
   "metadata": {},
   "outputs": [
    {
     "data": {
      "text/plain": [
       "[{'name': 'Kyte',\n",
       "  'acquisition': {'price_amount': None,\n",
       "   'price_currency_code': 'USD',\n",
       "   'term_code': None,\n",
       "   'source_url': 'http://techcrunch.com/2011/01/31/exclusive-kit-digital-acquires-kickapps-kewego-and-kyte-for-77-2-million/',\n",
       "   'source_description': 'KIT digital Acquires KickApps, Kewego AND Kyte For $77.2 Million',\n",
       "   'acquired_year': 2011,\n",
       "   'acquired_month': 1,\n",
       "   'acquired_day': 31,\n",
       "   'acquiring_company': {'name': 'KIT digital', 'permalink': 'kit-digital'}}},\n",
       " {'name': 'NetRatings',\n",
       "  'acquisition': {'price_amount': 327000000,\n",
       "   'price_currency_code': 'USD',\n",
       "   'term_code': 'cash',\n",
       "   'source_url': 'http://login.vnuemedia.com/hr/login/login_subscribe.jsp?id=0oqDem1gYIfIclz9i2%2Ffqj5NxCp2AC5DPbVnyT2da8GyV2mXjasabE128n69OrmcAh52%2FGE3pSG%2F%0AEKRYD9vh9EhrJrxukmUzh532fSMTZXL42gwPB80UWVtF1NwJ5UZSM%2BCkLU1mpYBoHFgiH%2Fi0f6Ax%0A9yMIVxt47t%2BHamhEQ0nkOEK24L',\n",
       "   'source_description': 'Nielsen buys rest of NetRatings',\n",
       "   'acquired_year': 2007,\n",
       "   'acquired_month': 2,\n",
       "   'acquired_day': None,\n",
       "   'acquiring_company': {'name': 'Nielsen', 'permalink': 'nielsen'}}},\n",
       " {'name': 'blogTV',\n",
       "  'acquisition': {'price_amount': None,\n",
       "   'price_currency_code': 'USD',\n",
       "   'term_code': None,\n",
       "   'source_url': 'http://techcrunch.com/2013/03/13/younow-buys-blogtv/',\n",
       "   'source_description': 'Live Social Video Network YouNow Acquires Streaming Service BlogTV',\n",
       "   'acquired_year': 2013,\n",
       "   'acquired_month': 3,\n",
       "   'acquired_day': 13,\n",
       "   'acquiring_company': {'name': 'YouNow', 'permalink': 'younow'}}},\n",
       " {'name': 'Livestream',\n",
       "  'acquisition': {'price_amount': None,\n",
       "   'price_currency_code': 'USD',\n",
       "   'term_code': 'cash_and_stock',\n",
       "   'source_url': '',\n",
       "   'source_description': 'company',\n",
       "   'acquired_year': 2008,\n",
       "   'acquired_month': 1,\n",
       "   'acquired_day': 1,\n",
       "   'acquiring_company': {'name': 'Adviqo', 'permalink': 'adviqo'}}},\n",
       " {'name': 'iContact',\n",
       "  'acquisition': {'price_amount': 169000000,\n",
       "   'price_currency_code': 'USD',\n",
       "   'term_code': 'cash_and_stock',\n",
       "   'source_url': 'http://techcrunch.com/2012/02/28/vocus-buys-email-marketing-company-icontact-for-169-million/',\n",
       "   'source_description': 'Vocus Buys Email Marketing Company iContact For $169 Million',\n",
       "   'acquired_year': 2012,\n",
       "   'acquired_month': 2,\n",
       "   'acquired_day': 28,\n",
       "   'acquiring_company': {'name': 'Vocus', 'permalink': 'vocus'}}},\n",
       " {'name': 'Coghead',\n",
       "  'acquisition': {'price_amount': None,\n",
       "   'price_currency_code': 'USD',\n",
       "   'term_code': None,\n",
       "   'source_url': 'http://www.techcrunch.com/2009/02/19/sap-acquires-cogheads-technology-as-it-looks-towards-the-cloud/',\n",
       "   'source_description': 'SAP Acquires Cogheadâ€™s Technology As It Looks Towards The Cloud',\n",
       "   'acquired_year': 2009,\n",
       "   'acquired_month': 2,\n",
       "   'acquired_day': 19,\n",
       "   'acquiring_company': {'name': 'SAP', 'permalink': 'sap'}}},\n",
       " {'name': 'Dailymotion',\n",
       "  'acquisition': {'price_amount': 168000000,\n",
       "   'price_currency_code': 'USD',\n",
       "   'term_code': None,\n",
       "   'source_url': 'http://techcrunch.com/2013/02/22/orange-acquired-dailymotion-for-168-million-by-buying-out-the-remaining-51-stake/',\n",
       "   'source_description': 'Orange Acquired Dailymotion For $168 Million By Buying Out Remaining 51% Stake [Update: Orange Confirms]',\n",
       "   'acquired_year': 2013,\n",
       "   'acquired_month': 2,\n",
       "   'acquired_day': 22,\n",
       "   'acquiring_company': {'name': 'Orange', 'permalink': 'orange'}}},\n",
       " {'name': 'Netvibes',\n",
       "  'acquisition': {'price_amount': None,\n",
       "   'price_currency_code': 'USD',\n",
       "   'term_code': None,\n",
       "   'source_url': 'http://www.marketwatch.com/story/dassault-systemes-acquires-netvibes-2012-02-09',\n",
       "   'source_description': 'Dassault Systemes Acquires Netvibes',\n",
       "   'acquired_year': 2012,\n",
       "   'acquired_month': 2,\n",
       "   'acquired_day': 9,\n",
       "   'acquiring_company': {'name': 'Dassault Systemes',\n",
       "    'permalink': 'dassault'}}},\n",
       " {'name': 'Flickr',\n",
       "  'acquisition': {'price_amount': None,\n",
       "   'price_currency_code': 'USD',\n",
       "   'term_code': 'cash_and_stock',\n",
       "   'source_url': 'http://news.cnet.com/Yahoo-buys-photo-sharing-site-Flickr/2100-1038_3-5627640.html?tag=mncol;txt',\n",
       "   'source_description': 'CNET',\n",
       "   'acquired_year': 2005,\n",
       "   'acquired_month': 3,\n",
       "   'acquired_day': None,\n",
       "   'acquiring_company': {'name': 'Yahoo!', 'permalink': 'yahoo'}}},\n",
       " {'name': 'BabyCenter',\n",
       "  'acquisition': {'price_amount': None,\n",
       "   'price_currency_code': 'USD',\n",
       "   'term_code': None,\n",
       "   'source_url': 'http://www.investor.jnj.com/releasedetail.cfm?releaseid=63836',\n",
       "   'source_description': 'Johnson & Johnson Acquires BabyCenter From eToys, Inc. Leading Online Destination for Parents Plans for Continued Expansion of Operations',\n",
       "   'acquired_year': 2001,\n",
       "   'acquired_month': 3,\n",
       "   'acquired_day': 2,\n",
       "   'acquiring_company': {'name': 'Johnson & Johnson',\n",
       "    'permalink': 'johnson-johnson'}}}]"
      ]
     },
     "execution_count": 160,
     "metadata": {},
     "output_type": "execute_result"
    }
   ],
   "source": [
    "list(collection.find({\"acquisition.acquired_month\": {\"$lte\": 3}}, proj18).limit(10))"
   ]
  },
  {
   "cell_type": "markdown",
   "metadata": {},
   "source": [
    "# Bonus\n",
    "### 19. All the companies that have been founded between 2000 and 2010, but have not been acquired before 2011."
   ]
  },
  {
   "cell_type": "code",
   "execution_count": 163,
   "metadata": {},
   "outputs": [],
   "source": [
    "proj19 = {\"_id\": 0,\"name\": 1, \"founded_year\": 1, \"acquisition.acquired_year\": 1}"
   ]
  },
  {
   "cell_type": "code",
   "execution_count": 166,
   "metadata": {},
   "outputs": [
    {
     "data": {
      "text/plain": [
       "[{'name': 'Wetpaint',\n",
       "  'founded_year': 2005,\n",
       "  'acquisition': {'acquired_year': 2013}},\n",
       " {'name': 'Digg',\n",
       "  'founded_year': 2004,\n",
       "  'acquisition': {'acquired_year': 2012}},\n",
       " {'name': 'Geni',\n",
       "  'founded_year': 2006,\n",
       "  'acquisition': {'acquired_year': 2012}},\n",
       " {'name': 'blogTV',\n",
       "  'founded_year': 2006,\n",
       "  'acquisition': {'acquired_year': 2013}},\n",
       " {'name': 'Revision3',\n",
       "  'founded_year': 2005,\n",
       "  'acquisition': {'acquired_year': 2012}},\n",
       " {'name': 'iContact',\n",
       "  'founded_year': 2003,\n",
       "  'acquisition': {'acquired_year': 2012}},\n",
       " {'name': 'Mashery',\n",
       "  'founded_year': 2006,\n",
       "  'acquisition': {'acquired_year': 2013}},\n",
       " {'name': 'Dailymotion',\n",
       "  'founded_year': 2005,\n",
       "  'acquisition': {'acquired_year': 2013}},\n",
       " {'name': 'KickApps',\n",
       "  'founded_year': 2004,\n",
       "  'acquisition': {'acquired_year': 2012}},\n",
       " {'name': 'Netvibes',\n",
       "  'founded_year': 2005,\n",
       "  'acquisition': {'acquired_year': 2012}}]"
      ]
     },
     "execution_count": 166,
     "metadata": {},
     "output_type": "execute_result"
    }
   ],
   "source": [
    "list(collection.find({\"$and\": [{\"founded_year\": {\"$gt\": 2000}}, {\"founded_year\": {\"$lt\":2010}}, {\"acquisition.acquired_year\": {\"$gt\":2011}} ]}, proj19).limit(10))"
   ]
  },
  {
   "cell_type": "markdown",
   "metadata": {},
   "source": [
    "### 20. All the companies that have been 'deadpooled' after the third year."
   ]
  },
  {
   "cell_type": "code",
   "execution_count": 167,
   "metadata": {},
   "outputs": [],
   "source": [
    "proj20 = {\"_id\": 0,\"name\": 1, \"deadpooled_year\": 1}"
   ]
  },
  {
   "cell_type": "code",
   "execution_count": 172,
   "metadata": {},
   "outputs": [
    {
     "data": {
      "text/plain": [
       "[{'name': 'Omnidrive', 'deadpooled_year': 2008},\n",
       " {'name': 'Babelgum', 'deadpooled_year': 2013},\n",
       " {'name': 'Sparter', 'deadpooled_year': 2008},\n",
       " {'name': 'Thoof', 'deadpooled_year': 2013},\n",
       " {'name': 'Mercora', 'deadpooled_year': 2008},\n",
       " {'name': 'Wesabe', 'deadpooled_year': 2010},\n",
       " {'name': 'Jangl SMS', 'deadpooled_year': 2008},\n",
       " {'name': 'Stickam', 'deadpooled_year': 2013},\n",
       " {'name': 'AllPeers', 'deadpooled_year': 2008},\n",
       " {'name': 'EQO', 'deadpooled_year': 2012},\n",
       " {'name': 'AllofMP3', 'deadpooled_year': 2007},\n",
       " {'name': 'SellABand', 'deadpooled_year': 2010},\n",
       " {'name': 'Zlio', 'deadpooled_year': 2011},\n",
       " {'name': 'Jaiku', 'deadpooled_year': 2012},\n",
       " {'name': 'Spotplex', 'deadpooled_year': 2008}]"
      ]
     },
     "execution_count": 172,
     "metadata": {},
     "output_type": "execute_result"
    }
   ],
   "source": [
    "list((collection.find({\"deadpooled_year\": {\"$ne\":None}}, proj20)).limit(15).skip(3))"
   ]
  }
 ],
 "metadata": {
  "kernelspec": {
   "display_name": "Python 3",
   "language": "python",
   "name": "python3"
  },
  "language_info": {
   "codemirror_mode": {
    "name": "ipython",
    "version": 3
   },
   "file_extension": ".py",
   "mimetype": "text/x-python",
   "name": "python",
   "nbconvert_exporter": "python",
   "pygments_lexer": "ipython3",
   "version": "3.8.5"
  }
 },
 "nbformat": 4,
 "nbformat_minor": 2
}
