{
 "cells": [
  {
   "cell_type": "markdown",
   "metadata": {},
   "source": [
    "# Advanced Querying Mongo"
   ]
  },
  {
   "cell_type": "markdown",
   "metadata": {},
   "source": [
    "Importing libraries and setting up connection"
   ]
  },
  {
   "cell_type": "code",
   "execution_count": null,
   "metadata": {},
   "outputs": [],
   "source": [
    "from pymongo import MongoClient\n",
    "client = MongoClient(\"localhost:27017\")"
   ]
  },
  {
   "cell_type": "code",
   "execution_count": null,
   "metadata": {},
   "outputs": [],
   "source": [
    "client.list_database_names()"
   ]
  },
  {
   "cell_type": "code",
   "execution_count": null,
   "metadata": {},
   "outputs": [],
   "source": [
    "db = client.get_database(\"lab\")"
   ]
  },
  {
   "cell_type": "code",
   "execution_count": null,
   "metadata": {},
   "outputs": [],
   "source": [
    "db.list_collection_names()"
   ]
  },
  {
   "cell_type": "code",
   "execution_count": null,
   "metadata": {},
   "outputs": [],
   "source": [
    "companies = db.get_collection(\"oficinas\")"
   ]
  },
  {
   "cell_type": "markdown",
   "metadata": {},
   "source": [
    "### 1. All the companies whose name match 'Babelgum'. Retrieve only their `name` field."
   ]
  },
  {
   "cell_type": "code",
   "execution_count": null,
   "metadata": {},
   "outputs": [],
   "source": [
    "proj = {\"_id\": 0, \"name\": 1}\n",
    "name_companies = list(companies.find({\"name\": \"Babelgum\"}, proj))\n",
    "name_companies"
   ]
  },
  {
   "cell_type": "markdown",
   "metadata": {},
   "source": [
    "### 2. All the companies that have more than 5000 employees. Limit the search to 20 companies and sort them by **number of employees**."
   ]
  },
  {
   "cell_type": "code",
   "execution_count": null,
   "metadata": {},
   "outputs": [],
   "source": [
    "employees_companies = list(companies.find({\"number_of_employees\": {\"$gt\": 5000}}).sort(\"number_of_employees\", 1).limit(20))\n",
    "employees_companies"
   ]
  },
  {
   "cell_type": "markdown",
   "metadata": {},
   "source": [
    "### 3. All the companies founded between 2000 and 2005, both years included. Retrieve only the `name` and `founded_year` fields."
   ]
  },
  {
   "cell_type": "code",
   "execution_count": null,
   "metadata": {},
   "outputs": [],
   "source": [
    "foundation_proj = {\"_id\": 0, \"name\": 1, \"founded_year\": 1}\n",
    "foundation_companies = list(companies.find({\"founded_year\": {\"$gte\": 2000}, \"founded_year\": {\"$lte\": 2005}}, foundation_proj))"
   ]
  },
  {
   "cell_type": "markdown",
   "metadata": {},
   "source": [
    "### 4. All the companies that had a Valuation Amount of more than 100.000.000 and have been founded before 2010. Retrieve only the `name` and `ipo` fields."
   ]
  },
  {
   "cell_type": "code",
   "execution_count": null,
   "metadata": {},
   "outputs": [],
   "source": [
    "valam_proj = {\"_id\": 0, \"name\": 1, \"ipo\": 1}\n",
    "valam_companies = list(companies.find({\"ipo.valuation_amount\": {\"$gt\": 100000000}, \"founded_year\": {\"$lt\": 2010}}, valam_proj))"
   ]
  },
  {
   "cell_type": "code",
   "execution_count": 62,
   "metadata": {},
   "outputs": [
    {
     "data": {
      "text/plain": [
       "[{'ipo': {'pub_day': 18,\n",
       "   'pub_month': 5,\n",
       "   'pub_year': 2012,\n",
       "   'stock_symbol': 'NASDAQ:FB',\n",
       "   'valuation_amount': 104000000000,\n",
       "   'valuation_currency_code': 'USD'},\n",
       "  'name': 'Facebook'},\n",
       " {'ipo': {'pub_day': 7,\n",
       "   'pub_month': 11,\n",
       "   'pub_year': 2013,\n",
       "   'stock_symbol': 'NYSE:TWTR',\n",
       "   'valuation_amount': 18100000000,\n",
       "   'valuation_currency_code': 'USD'},\n",
       "  'name': 'Twitter'},\n",
       " {'ipo': {'pub_day': 2,\n",
       "   'pub_month': 3,\n",
       "   'pub_year': 2012,\n",
       "   'stock_symbol': 'NYSE:YELP',\n",
       "   'valuation_amount': 1300000000,\n",
       "   'valuation_currency_code': 'USD'},\n",
       "  'name': 'Yelp'},\n",
       " {'ipo': {'pub_day': 20,\n",
       "   'pub_month': 7,\n",
       "   'pub_year': 2011,\n",
       "   'stock_symbol': 'NYSE:LNKD',\n",
       "   'valuation_amount': 9310000000,\n",
       "   'valuation_currency_code': 'USD'},\n",
       "  'name': 'LinkedIn'},\n",
       " {'ipo': {'pub_day': None,\n",
       "   'pub_month': 5,\n",
       "   'pub_year': 1997,\n",
       "   'stock_symbol': 'NASDAQ:AMZN',\n",
       "   'valuation_amount': 100000000000,\n",
       "   'valuation_currency_code': 'USD'},\n",
       "  'name': 'Amazon'},\n",
       " {'ipo': {'pub_day': 17,\n",
       "   'pub_month': 2,\n",
       "   'pub_year': 2012,\n",
       "   'stock_symbol': 'NASDAQ:BCOV',\n",
       "   'valuation_amount': 290000000,\n",
       "   'valuation_currency_code': 'USD'},\n",
       "  'name': 'Brightcove'},\n",
       " {'ipo': {'pub_day': 27,\n",
       "   'pub_month': 7,\n",
       "   'pub_year': 2010,\n",
       "   'stock_symbol': 'KITD',\n",
       "   'valuation_amount': 235000000,\n",
       "   'valuation_currency_code': 'USD'},\n",
       "  'name': 'KIT digital'},\n",
       " {'ipo': {'pub_day': 26,\n",
       "   'pub_month': 1,\n",
       "   'pub_year': 2011,\n",
       "   'stock_symbol': 'NYSE:NLSN',\n",
       "   'valuation_amount': 1600000000,\n",
       "   'valuation_currency_code': 'USD'},\n",
       "  'name': 'Nielsen'},\n",
       " {'ipo': {'pub_day': 21,\n",
       "   'pub_month': 5,\n",
       "   'pub_year': 2009,\n",
       "   'stock_symbol': 'NASDAQ:OPEN',\n",
       "   'valuation_amount': 1050000000,\n",
       "   'valuation_currency_code': 'USD'},\n",
       "  'name': 'OpenTable'},\n",
       " {'ipo': {'pub_day': 23,\n",
       "   'pub_month': 5,\n",
       "   'pub_year': 2013,\n",
       "   'stock_symbol': 'NYSE:ECOM',\n",
       "   'valuation_amount': 287000000,\n",
       "   'valuation_currency_code': 'USD'},\n",
       "  'name': 'ChannelAdvisor'},\n",
       " {'ipo': {'pub_day': 3,\n",
       "   'pub_month': 2,\n",
       "   'pub_year': 2012,\n",
       "   'stock_symbol': 'NASDAQ:JIVE',\n",
       "   'valuation_amount': 1000000000,\n",
       "   'valuation_currency_code': 'USD'},\n",
       "  'name': 'Jive Software'},\n",
       " {'ipo': {'pub_day': 19,\n",
       "   'pub_month': 7,\n",
       "   'pub_year': 2011,\n",
       "   'stock_symbol': 'NASDAQ:Z',\n",
       "   'valuation_amount': 2550000000,\n",
       "   'valuation_currency_code': 'USD'},\n",
       "  'name': 'Zillow'},\n",
       " {'ipo': {'pub_day': 6,\n",
       "   'pub_month': 11,\n",
       "   'pub_year': 2013,\n",
       "   'stock_symbol': 'NASDAQ:WIX',\n",
       "   'valuation_amount': 750000000,\n",
       "   'valuation_currency_code': 'USD'},\n",
       "  'name': 'Wix'},\n",
       " {'ipo': {'pub_day': 29,\n",
       "   'pub_month': 9,\n",
       "   'pub_year': 2006,\n",
       "   'stock_symbol': 'SFLY',\n",
       "   'valuation_amount': 350000000,\n",
       "   'valuation_currency_code': 'USD'},\n",
       "  'name': 'Shutterfly'},\n",
       " {'ipo': {'pub_day': 21,\n",
       "   'pub_month': 12,\n",
       "   'pub_year': 2011,\n",
       "   'stock_symbol': 'TRIP',\n",
       "   'valuation_amount': 3273770000,\n",
       "   'valuation_currency_code': 'USD'},\n",
       "  'name': 'TripAdvisor'},\n",
       " {'ipo': {'pub_day': 2,\n",
       "   'pub_month': 7,\n",
       "   'pub_year': 2004,\n",
       "   'stock_symbol': 'NYSE:CRM',\n",
       "   'valuation_amount': 110000000,\n",
       "   'valuation_currency_code': 'USD'},\n",
       "  'name': 'Salesforce'},\n",
       " {'ipo': {'pub_day': 29,\n",
       "   'pub_month': 6,\n",
       "   'pub_year': 2011,\n",
       "   'stock_symbol': 'NASDAQ:AWAY',\n",
       "   'valuation_amount': 3000000000,\n",
       "   'valuation_currency_code': 'USD'},\n",
       "  'name': 'HomeAway'},\n",
       " {'ipo': {'pub_day': 11,\n",
       "   'pub_month': 1,\n",
       "   'pub_year': 2010,\n",
       "   'stock_symbol': 'NASDAQ:QNST',\n",
       "   'valuation_amount': 140000000,\n",
       "   'valuation_currency_code': 'USD'},\n",
       "  'name': 'QuinStreet'},\n",
       " {'ipo': {'pub_day': 7,\n",
       "   'pub_month': 11,\n",
       "   'pub_year': 2011,\n",
       "   'stock_symbol': 'RAX',\n",
       "   'valuation_amount': 5440000000,\n",
       "   'valuation_currency_code': 'USD'},\n",
       "  'name': 'Rackspace'},\n",
       " {'ipo': {'pub_day': 12,\n",
       "   'pub_month': 8,\n",
       "   'pub_year': 1988,\n",
       "   'stock_symbol': 'NASDAQ:BMC',\n",
       "   'valuation_amount': 6000000000,\n",
       "   'valuation_currency_code': 'USD'},\n",
       "  'name': 'BMC Software'},\n",
       " {'ipo': {'pub_day': None,\n",
       "   'pub_month': None,\n",
       "   'pub_year': None,\n",
       "   'stock_symbol': 'NYSE:ONE',\n",
       "   'valuation_amount': 1060000000,\n",
       "   'valuation_currency_code': 'USD'},\n",
       "  'name': 'Higher One'},\n",
       " {'ipo': {'pub_day': 20,\n",
       "   'pub_month': 4,\n",
       "   'pub_year': 2012,\n",
       "   'stock_symbol': 'NYSE:BLOX',\n",
       "   'valuation_amount': 824000000,\n",
       "   'valuation_currency_code': 'USD'},\n",
       "  'name': 'Infoblox'},\n",
       " {'ipo': {'pub_day': 16,\n",
       "   'pub_month': 6,\n",
       "   'pub_year': 2004,\n",
       "   'stock_symbol': 'HK:0700',\n",
       "   'valuation_amount': 11000000000,\n",
       "   'valuation_currency_code': 'USD'},\n",
       "  'name': 'Tencent'},\n",
       " {'ipo': {'pub_day': 2,\n",
       "   'pub_month': 4,\n",
       "   'pub_year': 2013,\n",
       "   'stock_symbol': 'NASDAQ:MKTO',\n",
       "   'valuation_amount': 465000000,\n",
       "   'valuation_currency_code': 'USD'},\n",
       "  'name': 'Marketo'},\n",
       " {'ipo': {'pub_day': 5,\n",
       "   'pub_month': 8,\n",
       "   'pub_year': 2005,\n",
       "   'stock_symbol': 'NASDAQ:BIDU',\n",
       "   'valuation_amount': 4000000000,\n",
       "   'valuation_currency_code': 'USD'},\n",
       "  'name': 'Baidu'},\n",
       " {'ipo': {'pub_day': 2,\n",
       "   'pub_month': 11,\n",
       "   'pub_year': 2010,\n",
       "   'stock_symbol': 'GKNT',\n",
       "   'valuation_amount': 134000000,\n",
       "   'valuation_currency_code': 'USD'},\n",
       "  'name': 'Geeknet'},\n",
       " {'ipo': {'pub_day': 9,\n",
       "   'pub_month': 3,\n",
       "   'pub_year': 2001,\n",
       "   'stock_symbol': 'NASDAQ:LDCL',\n",
       "   'valuation_amount': 450000000,\n",
       "   'valuation_currency_code': 'USD'},\n",
       "  'name': 'Opsware'},\n",
       " {'ipo': {'pub_day': 13,\n",
       "   'pub_month': 5,\n",
       "   'pub_year': 2010,\n",
       "   'stock_symbol': 'TNAV',\n",
       "   'valuation_amount': 337000000,\n",
       "   'valuation_currency_code': 'USD'},\n",
       "  'name': 'Telenav'},\n",
       " {'ipo': {'pub_day': 12,\n",
       "   'pub_month': 4,\n",
       "   'pub_year': 2013,\n",
       "   'stock_symbol': 'RALY',\n",
       "   'valuation_amount': 315000000,\n",
       "   'valuation_currency_code': 'USD'},\n",
       "  'name': 'Rally Software'},\n",
       " {'ipo': {'pub_day': 22,\n",
       "   'pub_month': 4,\n",
       "   'pub_year': 2011,\n",
       "   'stock_symbol': 'NASDAQ:BRSE',\n",
       "   'valuation_amount': 1000000000,\n",
       "   'valuation_currency_code': 'USD'},\n",
       "  'name': 'BrightSource Energy'},\n",
       " {'ipo': {'pub_day': 14,\n",
       "   'pub_month': 9,\n",
       "   'pub_year': 2006,\n",
       "   'stock_symbol': 'JP:2121',\n",
       "   'valuation_amount': 970000000,\n",
       "   'valuation_currency_code': 'USD'},\n",
       "  'name': 'Mixi'},\n",
       " {'ipo': {'pub_day': 16,\n",
       "   'pub_month': 7,\n",
       "   'pub_year': 2010,\n",
       "   'stock_symbol': 'QLIK',\n",
       "   'valuation_amount': 1000000000,\n",
       "   'valuation_currency_code': 'USD'},\n",
       "  'name': 'QlikTech'},\n",
       " {'ipo': {'pub_day': 14,\n",
       "   'pub_month': 11,\n",
       "   'pub_year': 2013,\n",
       "   'stock_symbol': 'NYSE:CHGG',\n",
       "   'valuation_amount': 1100000000,\n",
       "   'valuation_currency_code': 'USD'},\n",
       "  'name': 'Chegg'},\n",
       " {'ipo': {'pub_day': 14,\n",
       "   'pub_month': 11,\n",
       "   'pub_year': 2013,\n",
       "   'stock_symbol': 'NYSE:CHGG',\n",
       "   'valuation_amount': 1100000000,\n",
       "   'valuation_currency_code': 'USD'},\n",
       "  'name': 'Chegg'},\n",
       " {'ipo': {'pub_day': 7,\n",
       "   'pub_month': 11,\n",
       "   'pub_year': 2011,\n",
       "   'stock_symbol': 'NASDAQ:GRPN',\n",
       "   'valuation_amount': 12800000000,\n",
       "   'valuation_currency_code': 'USD'},\n",
       "  'name': 'Groupon'},\n",
       " {'ipo': {'pub_day': 20,\n",
       "   'pub_month': 5,\n",
       "   'pub_year': 2009,\n",
       "   'stock_symbol': 'SWI',\n",
       "   'valuation_amount': 803000000,\n",
       "   'valuation_currency_code': 'USD'},\n",
       "  'name': 'SolarWinds'},\n",
       " {'ipo': {'pub_day': 17,\n",
       "   'pub_month': 12,\n",
       "   'pub_year': 2008,\n",
       "   'stock_symbol': '3632',\n",
       "   'valuation_amount': 108960000000,\n",
       "   'valuation_currency_code': 'JPY'},\n",
       "  'name': 'GREE'},\n",
       " {'ipo': {'pub_day': None,\n",
       "   'pub_month': None,\n",
       "   'pub_year': None,\n",
       "   'stock_symbol': 'NASDAQ:TUDO',\n",
       "   'valuation_amount': 174000000,\n",
       "   'valuation_currency_code': 'USD'},\n",
       "  'name': 'Tudou'},\n",
       " {'ipo': {'pub_day': 14,\n",
       "   'pub_month': 2,\n",
       "   'pub_year': 2011,\n",
       "   'stock_symbol': 'NASDAQ:DMAN',\n",
       "   'valuation_amount': 245000000,\n",
       "   'valuation_currency_code': 'USD'},\n",
       "  'name': 'DemandTec'},\n",
       " {'ipo': {'pub_day': 5,\n",
       "   'pub_month': 7,\n",
       "   'pub_year': 2011,\n",
       "   'stock_symbol': 'CSOD',\n",
       "   'valuation_amount': 900000000,\n",
       "   'valuation_currency_code': 'USD'},\n",
       "  'name': 'Cornerstone OnDemand'},\n",
       " {'ipo': {'pub_day': None,\n",
       "   'pub_month': None,\n",
       "   'pub_year': None,\n",
       "   'stock_symbol': 'NYSE:WDC',\n",
       "   'valuation_amount': 9430000000,\n",
       "   'valuation_currency_code': 'USD'},\n",
       "  'name': 'Western Digital'},\n",
       " {'ipo': {'pub_day': 28,\n",
       "   'pub_month': 3,\n",
       "   'pub_year': 2012,\n",
       "   'stock_symbol': 'NYSE:MM',\n",
       "   'valuation_amount': 973500000,\n",
       "   'valuation_currency_code': 'USD'},\n",
       "  'name': 'Millennial Media'}]"
      ]
     },
     "execution_count": 62,
     "metadata": {},
     "output_type": "execute_result"
    }
   ],
   "source": [
    "valam_companies"
   ]
  },
  {
   "cell_type": "markdown",
   "metadata": {},
   "source": [
    "### 5. All the companies that have less than 1000 employees and have been founded before 2005. Order them by the number of employees and limit the search to 10 companies."
   ]
  },
  {
   "cell_type": "code",
   "execution_count": null,
   "metadata": {},
   "outputs": [],
   "source": [
    "small_companies = list(companies.find({\"number_of_employees\": {\"$lt\": 1000}, \"founded_year\": {\"$lt\": 2005}}).sort(\"number_of_employees\", 1).limit(10))\n",
    "small_companies"
   ]
  },
  {
   "cell_type": "markdown",
   "metadata": {},
   "source": [
    "### 6. All the companies that don't include the `partners` field."
   ]
  },
  {
   "cell_type": "code",
   "execution_count": 61,
   "metadata": {},
   "outputs": [
    {
     "data": {
      "text/plain": [
       "18801"
      ]
     },
     "execution_count": 61,
     "metadata": {},
     "output_type": "execute_result"
    }
   ],
   "source": [
    "lista = [\"None\"]\n",
    "not_partners_companies = list(companies.find({\"partners\": {\"$nin\": lista}}))\n",
    "len(not_partners_companies)"
   ]
  },
  {
   "cell_type": "markdown",
   "metadata": {},
   "source": [
    "### 7. All the companies that have a null type of value on the `category_code` field."
   ]
  },
  {
   "cell_type": "code",
   "execution_count": 65,
   "metadata": {},
   "outputs": [
    {
     "data": {
      "text/plain": [
       "18801"
      ]
     },
     "execution_count": 65,
     "metadata": {},
     "output_type": "execute_result"
    }
   ],
   "source": [
    "lista = [\"None\"]\n",
    "code_companies = list(companies.find({\"category_code\": {\"$nin\": lista}}))\n",
    "len(code_companies)"
   ]
  },
  {
   "cell_type": "markdown",
   "metadata": {},
   "source": [
    "### 8. All the companies that have at least 100 employees but less than 1000. Retrieve only the `name` and `number of employees` fields."
   ]
  },
  {
   "cell_type": "code",
   "execution_count": null,
   "metadata": {},
   "outputs": [],
   "source": []
  },
  {
   "cell_type": "markdown",
   "metadata": {},
   "source": [
    "### 9. Order all the companies by their IPO price in a descending order."
   ]
  },
  {
   "cell_type": "code",
   "execution_count": null,
   "metadata": {},
   "outputs": [],
   "source": [
    "# Your Code"
   ]
  },
  {
   "cell_type": "markdown",
   "metadata": {},
   "source": [
    "### 10. Retrieve the 10 companies with more employees, order by the `number of employees`"
   ]
  },
  {
   "cell_type": "code",
   "execution_count": null,
   "metadata": {},
   "outputs": [],
   "source": [
    "# Your Code"
   ]
  },
  {
   "cell_type": "markdown",
   "metadata": {},
   "source": [
    "### 11. All the companies founded on the second semester of the year. Limit your search to 1000 companies."
   ]
  },
  {
   "cell_type": "code",
   "execution_count": null,
   "metadata": {},
   "outputs": [],
   "source": [
    "# Your Code"
   ]
  },
  {
   "cell_type": "markdown",
   "metadata": {},
   "source": [
    "### 12. All the companies founded before 2000 that have an acquisition amount of more than 10.000.00"
   ]
  },
  {
   "cell_type": "code",
   "execution_count": null,
   "metadata": {},
   "outputs": [],
   "source": [
    "# Your Code"
   ]
  },
  {
   "cell_type": "markdown",
   "metadata": {},
   "source": [
    "### 13. All the companies that have been acquired after 2010, order by the acquisition amount, and retrieve only their `name` and `acquisition` field."
   ]
  },
  {
   "cell_type": "code",
   "execution_count": null,
   "metadata": {},
   "outputs": [],
   "source": [
    "# Your Code"
   ]
  },
  {
   "cell_type": "markdown",
   "metadata": {},
   "source": [
    "### 14. Order the companies by their `founded year`, retrieving only their `name` and `founded year`."
   ]
  },
  {
   "cell_type": "code",
   "execution_count": null,
   "metadata": {},
   "outputs": [],
   "source": [
    "# Your Code"
   ]
  },
  {
   "cell_type": "markdown",
   "metadata": {},
   "source": [
    "### 15. All the companies that have been founded on the first seven days of the month, including the seventh. Sort them by their `acquisition price` in a descending order. Limit the search to 10 documents."
   ]
  },
  {
   "cell_type": "code",
   "execution_count": null,
   "metadata": {},
   "outputs": [],
   "source": [
    "# Your Code"
   ]
  },
  {
   "cell_type": "markdown",
   "metadata": {},
   "source": [
    "### 16. All the companies on the 'web' `category` that have more than 4000 employees. Sort them by the amount of employees in ascending order."
   ]
  },
  {
   "cell_type": "code",
   "execution_count": null,
   "metadata": {},
   "outputs": [],
   "source": [
    "# Your Code"
   ]
  },
  {
   "cell_type": "markdown",
   "metadata": {},
   "source": [
    "### 17. All the companies whose acquisition amount is more than 10.000.000, and currency is 'EUR'."
   ]
  },
  {
   "cell_type": "code",
   "execution_count": null,
   "metadata": {},
   "outputs": [],
   "source": [
    "# Your Code"
   ]
  },
  {
   "cell_type": "markdown",
   "metadata": {},
   "source": [
    "### 18. All the companies that have been acquired on the first trimester of the year. Limit the search to 10 companies, and retrieve only their `name` and `acquisition` fields."
   ]
  },
  {
   "cell_type": "code",
   "execution_count": null,
   "metadata": {},
   "outputs": [],
   "source": [
    "# Your Code"
   ]
  },
  {
   "cell_type": "markdown",
   "metadata": {},
   "source": [
    "# Bonus\n",
    "### 19. All the companies that have been founded between 2000 and 2010, but have not been acquired before 2011."
   ]
  },
  {
   "cell_type": "code",
   "execution_count": null,
   "metadata": {},
   "outputs": [],
   "source": [
    "# Your Code"
   ]
  },
  {
   "cell_type": "markdown",
   "metadata": {},
   "source": [
    "### 20. All the companies that have been 'deadpooled' after the third year."
   ]
  },
  {
   "cell_type": "code",
   "execution_count": null,
   "metadata": {},
   "outputs": [],
   "source": [
    "# Your Code"
   ]
  }
 ],
 "metadata": {
  "kernelspec": {
   "display_name": "Python 3",
   "language": "python",
   "name": "python3"
  },
  "language_info": {
   "codemirror_mode": {
    "name": "ipython",
    "version": 3
   },
   "file_extension": ".py",
   "mimetype": "text/x-python",
   "name": "python",
   "nbconvert_exporter": "python",
   "pygments_lexer": "ipython3",
   "version": "3.6.9"
  }
 },
 "nbformat": 4,
 "nbformat_minor": 2
}
