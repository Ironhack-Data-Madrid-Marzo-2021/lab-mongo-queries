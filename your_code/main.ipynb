{
 "cells": [
  {
   "cell_type": "markdown",
   "metadata": {},
   "source": [
    "# Advanced Querying Mongo"
   ]
  },
  {
   "cell_type": "markdown",
   "metadata": {},
   "source": [
    "Importing libraries and setting up connection"
   ]
  },
  {
   "cell_type": "code",
   "execution_count": 1,
   "metadata": {},
   "outputs": [],
   "source": [
    "from pymongo import MongoClient\n",
    "client = MongoClient(\"localhost:27017\")"
   ]
  },
  {
   "cell_type": "code",
   "execution_count": 2,
   "metadata": {},
   "outputs": [],
   "source": [
    "db = client.get_database(\"prueba\")"
   ]
  },
  {
   "cell_type": "code",
   "execution_count": 3,
   "metadata": {},
   "outputs": [
    {
     "data": {
      "text/plain": [
       "['companies']"
      ]
     },
     "execution_count": 3,
     "metadata": {},
     "output_type": "execute_result"
    }
   ],
   "source": [
    "db.list_collection_names()"
   ]
  },
  {
   "cell_type": "code",
   "execution_count": 4,
   "metadata": {},
   "outputs": [],
   "source": [
    "collection = db.get_collection(\"companies\")"
   ]
  },
  {
   "cell_type": "markdown",
   "metadata": {},
   "source": [
    "### 1. All the companies whose name match 'Babelgum'. Retrieve only their `name` field."
   ]
  },
  {
   "cell_type": "code",
   "execution_count": 5,
   "metadata": {},
   "outputs": [],
   "source": [
    "namematch = list(collection.find({\"name\":'Babelgum'}))"
   ]
  },
  {
   "cell_type": "markdown",
   "metadata": {},
   "source": [
    "### 2. All the companies that have more than 5000 employees. Limit the search to 20 companies and sort them by **number of employees**."
   ]
  },
  {
   "cell_type": "code",
   "execution_count": 6,
   "metadata": {},
   "outputs": [],
   "source": [
    "moretwo =list(collection.find({\"number_of_employees\" : {\"$gt\": 5000}}).sort(\"number_of_employees\",-1).limit(20))"
   ]
  },
  {
   "cell_type": "markdown",
   "metadata": {},
   "source": [
    "### 3. All the companies founded between 2000 and 2005, both years included. Retrieve only the `name` and `founded_year` fields."
   ]
  },
  {
   "cell_type": "code",
   "execution_count": 7,
   "metadata": {},
   "outputs": [],
   "source": [
    "proj ={\"name\": 1, \"founded_year\": 1}"
   ]
  },
  {
   "cell_type": "code",
   "execution_count": 8,
   "metadata": {},
   "outputs": [],
   "source": [
    "yearlist=list(collection.find({\"founded_year\": {\"$in\": [2000,2001,2002,2003,2004,2005]}},proj))"
   ]
  },
  {
   "cell_type": "markdown",
   "metadata": {},
   "source": [
    "### 4. All the companies that had a Valuation Amount of more than 100.000.000 and have been founded before 2010. Retrieve only the `name` and `ipo` fields."
   ]
  },
  {
   "cell_type": "code",
   "execution_count": 9,
   "metadata": {},
   "outputs": [],
   "source": [
    "proj2 ={\"name\": 1, \"ipo\": 1}"
   ]
  },
  {
   "cell_type": "code",
   "execution_count": 10,
   "metadata": {},
   "outputs": [],
   "source": [
    "yearlist2 = list(collection.find({\"$and\": [{\"ipo.valuation_amount\": {\"$gt\":100000000}}, {\"founded_year\":{\"$lt\":2010}}]},proj2))"
   ]
  },
  {
   "cell_type": "code",
   "execution_count": 11,
   "metadata": {},
   "outputs": [
    {
     "data": {
      "text/plain": [
       "[{'_id': ObjectId('52cdef7c4bab8bd675297d8e'),\n",
       "  'name': 'Facebook',\n",
       "  'ipo': {'valuation_amount': 104000000000,\n",
       "   'valuation_currency_code': 'USD',\n",
       "   'pub_year': 2012,\n",
       "   'pub_month': 5,\n",
       "   'pub_day': 18,\n",
       "   'stock_symbol': 'NASDAQ:FB'}},\n",
       " {'_id': ObjectId('52cdef7c4bab8bd675297d94'),\n",
       "  'name': 'Twitter',\n",
       "  'ipo': {'valuation_amount': 18100000000,\n",
       "   'valuation_currency_code': 'USD',\n",
       "   'pub_year': 2013,\n",
       "   'pub_month': 11,\n",
       "   'pub_day': 7,\n",
       "   'stock_symbol': 'NYSE:TWTR'}},\n",
       " {'_id': ObjectId('52cdef7c4bab8bd675297de0'),\n",
       "  'name': 'Yelp',\n",
       "  'ipo': {'valuation_amount': 1300000000,\n",
       "   'valuation_currency_code': 'USD',\n",
       "   'pub_year': 2012,\n",
       "   'pub_month': 3,\n",
       "   'pub_day': 2,\n",
       "   'stock_symbol': 'NYSE:YELP'}},\n",
       " {'_id': ObjectId('52cdef7c4bab8bd675297e0c'),\n",
       "  'name': 'LinkedIn',\n",
       "  'ipo': {'valuation_amount': 9310000000,\n",
       "   'valuation_currency_code': 'USD',\n",
       "   'pub_year': 2011,\n",
       "   'pub_month': 7,\n",
       "   'pub_day': 20,\n",
       "   'stock_symbol': 'NYSE:LNKD'}},\n",
       " {'_id': ObjectId('52cdef7c4bab8bd675297e7a'),\n",
       "  'name': 'Amazon',\n",
       "  'ipo': {'valuation_amount': 100000000000,\n",
       "   'valuation_currency_code': 'USD',\n",
       "   'pub_year': 1997,\n",
       "   'pub_month': 5,\n",
       "   'pub_day': None,\n",
       "   'stock_symbol': 'NASDAQ:AMZN'}},\n",
       " {'_id': ObjectId('52cdef7c4bab8bd675297e81'),\n",
       "  'name': 'Brightcove',\n",
       "  'ipo': {'valuation_amount': 290000000,\n",
       "   'valuation_currency_code': 'USD',\n",
       "   'pub_year': 2012,\n",
       "   'pub_month': 2,\n",
       "   'pub_day': 17,\n",
       "   'stock_symbol': 'NASDAQ:BCOV'}},\n",
       " {'_id': ObjectId('52cdef7c4bab8bd675297ee5'),\n",
       "  'name': 'KIT digital',\n",
       "  'ipo': {'valuation_amount': 235000000,\n",
       "   'valuation_currency_code': 'USD',\n",
       "   'pub_year': 2010,\n",
       "   'pub_month': 7,\n",
       "   'pub_day': 27,\n",
       "   'stock_symbol': 'KITD'}},\n",
       " {'_id': ObjectId('52cdef7c4bab8bd675297f15'),\n",
       "  'name': 'Nielsen',\n",
       "  'ipo': {'valuation_amount': 1600000000,\n",
       "   'valuation_currency_code': 'USD',\n",
       "   'pub_year': 2011,\n",
       "   'pub_month': 1,\n",
       "   'pub_day': 26,\n",
       "   'stock_symbol': 'NYSE:NLSN'}},\n",
       " {'_id': ObjectId('52cdef7c4bab8bd675297f36'),\n",
       "  'name': 'OpenTable',\n",
       "  'ipo': {'valuation_amount': 1050000000,\n",
       "   'valuation_currency_code': 'USD',\n",
       "   'pub_year': 2009,\n",
       "   'pub_month': 5,\n",
       "   'pub_day': 21,\n",
       "   'stock_symbol': 'NASDAQ:OPEN'}},\n",
       " {'_id': ObjectId('52cdef7c4bab8bd675297f42'),\n",
       "  'name': 'ChannelAdvisor',\n",
       "  'ipo': {'valuation_amount': 287000000,\n",
       "   'valuation_currency_code': 'USD',\n",
       "   'pub_year': 2013,\n",
       "   'pub_month': 5,\n",
       "   'pub_day': 23,\n",
       "   'stock_symbol': 'NYSE:ECOM'}},\n",
       " {'_id': ObjectId('52cdef7c4bab8bd675297f95'),\n",
       "  'name': 'Jive Software',\n",
       "  'ipo': {'valuation_amount': 1000000000,\n",
       "   'valuation_currency_code': 'USD',\n",
       "   'pub_year': 2012,\n",
       "   'pub_month': 2,\n",
       "   'pub_day': 3,\n",
       "   'stock_symbol': 'NASDAQ:JIVE'}},\n",
       " {'_id': ObjectId('52cdef7c4bab8bd67529800c'),\n",
       "  'name': 'Zillow',\n",
       "  'ipo': {'valuation_amount': 2550000000,\n",
       "   'valuation_currency_code': 'USD',\n",
       "   'pub_year': 2011,\n",
       "   'pub_month': 7,\n",
       "   'pub_day': 19,\n",
       "   'stock_symbol': 'NASDAQ:Z'}},\n",
       " {'_id': ObjectId('52cdef7c4bab8bd67529805d'),\n",
       "  'name': 'Wix',\n",
       "  'ipo': {'valuation_amount': 750000000,\n",
       "   'valuation_currency_code': 'USD',\n",
       "   'pub_year': 2013,\n",
       "   'pub_month': 11,\n",
       "   'pub_day': 6,\n",
       "   'stock_symbol': 'NASDAQ:WIX'}},\n",
       " {'_id': ObjectId('52cdef7c4bab8bd675298112'),\n",
       "  'name': 'Shutterfly',\n",
       "  'ipo': {'valuation_amount': 350000000,\n",
       "   'valuation_currency_code': 'USD',\n",
       "   'pub_year': 2006,\n",
       "   'pub_month': 9,\n",
       "   'pub_day': 29,\n",
       "   'stock_symbol': 'SFLY'}},\n",
       " {'_id': ObjectId('52cdef7c4bab8bd6752981a7'),\n",
       "  'name': 'TripAdvisor',\n",
       "  'ipo': {'valuation_amount': 3273770000,\n",
       "   'valuation_currency_code': 'USD',\n",
       "   'pub_year': 2011,\n",
       "   'pub_month': 12,\n",
       "   'pub_day': 21,\n",
       "   'stock_symbol': 'TRIP'}},\n",
       " {'_id': ObjectId('52cdef7c4bab8bd67529823b'),\n",
       "  'name': 'Salesforce',\n",
       "  'ipo': {'valuation_amount': 110000000,\n",
       "   'valuation_currency_code': 'USD',\n",
       "   'pub_year': 2004,\n",
       "   'pub_month': 7,\n",
       "   'pub_day': 2,\n",
       "   'stock_symbol': 'NYSE:CRM'}},\n",
       " {'_id': ObjectId('52cdef7c4bab8bd6752982f6'),\n",
       "  'name': 'HomeAway',\n",
       "  'ipo': {'valuation_amount': 3000000000,\n",
       "   'valuation_currency_code': 'USD',\n",
       "   'pub_year': 2011,\n",
       "   'pub_month': 6,\n",
       "   'pub_day': 29,\n",
       "   'stock_symbol': 'NASDAQ:AWAY'}},\n",
       " {'_id': ObjectId('52cdef7c4bab8bd6752984e3'),\n",
       "  'name': 'QuinStreet',\n",
       "  'ipo': {'valuation_amount': 140000000,\n",
       "   'valuation_currency_code': 'USD',\n",
       "   'pub_year': 2010,\n",
       "   'pub_month': 1,\n",
       "   'pub_day': 11,\n",
       "   'stock_symbol': 'NASDAQ:QNST'}},\n",
       " {'_id': ObjectId('52cdef7c4bab8bd675298527'),\n",
       "  'name': 'Rackspace',\n",
       "  'ipo': {'valuation_amount': 5440000000,\n",
       "   'valuation_currency_code': 'USD',\n",
       "   'pub_year': 2011,\n",
       "   'pub_month': 11,\n",
       "   'pub_day': 7,\n",
       "   'stock_symbol': 'RAX'}},\n",
       " {'_id': ObjectId('52cdef7c4bab8bd67529859a'),\n",
       "  'name': 'BMC Software',\n",
       "  'ipo': {'valuation_amount': 6000000000,\n",
       "   'valuation_currency_code': 'USD',\n",
       "   'pub_year': 1988,\n",
       "   'pub_month': 8,\n",
       "   'pub_day': 12,\n",
       "   'stock_symbol': 'NASDAQ:BMC'}},\n",
       " {'_id': ObjectId('52cdef7c4bab8bd675298649'),\n",
       "  'name': 'Higher One',\n",
       "  'ipo': {'valuation_amount': 1060000000,\n",
       "   'valuation_currency_code': 'USD',\n",
       "   'pub_year': None,\n",
       "   'pub_month': None,\n",
       "   'pub_day': None,\n",
       "   'stock_symbol': 'NYSE:ONE'}},\n",
       " {'_id': ObjectId('52cdef7c4bab8bd67529865c'),\n",
       "  'name': 'Infoblox',\n",
       "  'ipo': {'valuation_amount': 824000000,\n",
       "   'valuation_currency_code': 'USD',\n",
       "   'pub_year': 2012,\n",
       "   'pub_month': 4,\n",
       "   'pub_day': 20,\n",
       "   'stock_symbol': 'NYSE:BLOX'}},\n",
       " {'_id': ObjectId('52cdef7c4bab8bd675298674'),\n",
       "  'name': 'Tencent',\n",
       "  'ipo': {'valuation_amount': 11000000000,\n",
       "   'valuation_currency_code': 'USD',\n",
       "   'pub_year': 2004,\n",
       "   'pub_month': 6,\n",
       "   'pub_day': 16,\n",
       "   'stock_symbol': 'HK:0700'}},\n",
       " {'_id': ObjectId('52cdef7c4bab8bd675298696'),\n",
       "  'name': 'Marketo',\n",
       "  'ipo': {'valuation_amount': 465000000,\n",
       "   'valuation_currency_code': 'USD',\n",
       "   'pub_year': 2013,\n",
       "   'pub_month': 4,\n",
       "   'pub_day': 2,\n",
       "   'stock_symbol': 'NASDAQ:MKTO'}},\n",
       " {'_id': ObjectId('52cdef7c4bab8bd675298760'),\n",
       "  'name': 'Baidu',\n",
       "  'ipo': {'valuation_amount': 4000000000,\n",
       "   'valuation_currency_code': 'USD',\n",
       "   'pub_year': 2005,\n",
       "   'pub_month': 8,\n",
       "   'pub_day': 5,\n",
       "   'stock_symbol': 'NASDAQ:BIDU'}},\n",
       " {'_id': ObjectId('52cdef7c4bab8bd6752987fe'),\n",
       "  'name': 'Geeknet',\n",
       "  'ipo': {'valuation_amount': 134000000,\n",
       "   'valuation_currency_code': 'USD',\n",
       "   'pub_year': 2010,\n",
       "   'pub_month': 11,\n",
       "   'pub_day': 2,\n",
       "   'stock_symbol': 'GKNT'}},\n",
       " {'_id': ObjectId('52cdef7d4bab8bd6752989a0'),\n",
       "  'name': 'Opsware',\n",
       "  'ipo': {'valuation_amount': 450000000,\n",
       "   'valuation_currency_code': 'USD',\n",
       "   'pub_year': 2001,\n",
       "   'pub_month': 3,\n",
       "   'pub_day': 9,\n",
       "   'stock_symbol': 'NASDAQ:LDCL'}},\n",
       " {'_id': ObjectId('52cdef7d4bab8bd6752989f2'),\n",
       "  'name': 'Telenav',\n",
       "  'ipo': {'valuation_amount': 337000000,\n",
       "   'valuation_currency_code': 'USD',\n",
       "   'pub_year': 2010,\n",
       "   'pub_month': 5,\n",
       "   'pub_day': 13,\n",
       "   'stock_symbol': 'TNAV'}},\n",
       " {'_id': ObjectId('52cdef7d4bab8bd675298d0e'),\n",
       "  'name': 'Rally Software',\n",
       "  'ipo': {'valuation_amount': 315000000,\n",
       "   'valuation_currency_code': 'USD',\n",
       "   'pub_year': 2013,\n",
       "   'pub_month': 4,\n",
       "   'pub_day': 12,\n",
       "   'stock_symbol': 'RALY'}},\n",
       " {'_id': ObjectId('52cdef7d4bab8bd675298d12'),\n",
       "  'name': 'BrightSource Energy',\n",
       "  'ipo': {'valuation_amount': 1000000000,\n",
       "   'valuation_currency_code': 'USD',\n",
       "   'pub_year': 2011,\n",
       "   'pub_month': 4,\n",
       "   'pub_day': 22,\n",
       "   'stock_symbol': 'NASDAQ:BRSE'}},\n",
       " {'_id': ObjectId('52cdef7d4bab8bd675299103'),\n",
       "  'name': 'Mixi',\n",
       "  'ipo': {'valuation_amount': 970000000,\n",
       "   'valuation_currency_code': 'USD',\n",
       "   'pub_year': 2006,\n",
       "   'pub_month': 9,\n",
       "   'pub_day': 14,\n",
       "   'stock_symbol': 'JP:2121'}},\n",
       " {'_id': ObjectId('52cdef7d4bab8bd6752992c1'),\n",
       "  'name': 'QlikTech',\n",
       "  'ipo': {'valuation_amount': 1000000000,\n",
       "   'valuation_currency_code': 'USD',\n",
       "   'pub_year': 2010,\n",
       "   'pub_month': 7,\n",
       "   'pub_day': 16,\n",
       "   'stock_symbol': 'QLIK'}},\n",
       " {'_id': ObjectId('52cdef7d4bab8bd67529984e'),\n",
       "  'name': 'Chegg',\n",
       "  'ipo': {'valuation_amount': 1100000000,\n",
       "   'valuation_currency_code': 'USD',\n",
       "   'pub_year': 2013,\n",
       "   'pub_month': 11,\n",
       "   'pub_day': 14,\n",
       "   'stock_symbol': 'NYSE:CHGG'}},\n",
       " {'_id': ObjectId('52cdef7d4bab8bd675299bd8'),\n",
       "  'name': 'Chegg',\n",
       "  'ipo': {'valuation_amount': 1100000000,\n",
       "   'valuation_currency_code': 'USD',\n",
       "   'pub_year': 2013,\n",
       "   'pub_month': 11,\n",
       "   'pub_day': 14,\n",
       "   'stock_symbol': 'NYSE:CHGG'}},\n",
       " {'_id': ObjectId('52cdef7d4bab8bd675299d5d'),\n",
       "  'name': 'Groupon',\n",
       "  'ipo': {'valuation_amount': 12800000000,\n",
       "   'valuation_currency_code': 'USD',\n",
       "   'pub_year': 2011,\n",
       "   'pub_month': 11,\n",
       "   'pub_day': 7,\n",
       "   'stock_symbol': 'NASDAQ:GRPN'}},\n",
       " {'_id': ObjectId('52cdef7e4bab8bd67529a7db'),\n",
       "  'name': 'SolarWinds',\n",
       "  'ipo': {'valuation_amount': 803000000,\n",
       "   'valuation_currency_code': 'USD',\n",
       "   'pub_year': 2009,\n",
       "   'pub_month': 5,\n",
       "   'pub_day': 20,\n",
       "   'stock_symbol': 'SWI'}},\n",
       " {'_id': ObjectId('52cdef7e4bab8bd67529a8b4'),\n",
       "  'name': 'GREE',\n",
       "  'ipo': {'valuation_amount': 108960000000,\n",
       "   'valuation_currency_code': 'JPY',\n",
       "   'pub_year': 2008,\n",
       "   'pub_month': 12,\n",
       "   'pub_day': 17,\n",
       "   'stock_symbol': '3632'}},\n",
       " {'_id': ObjectId('52cdef7e4bab8bd67529aae7'),\n",
       "  'name': 'Tudou',\n",
       "  'ipo': {'valuation_amount': 174000000,\n",
       "   'valuation_currency_code': 'USD',\n",
       "   'pub_year': None,\n",
       "   'pub_month': None,\n",
       "   'pub_day': None,\n",
       "   'stock_symbol': 'NASDAQ:TUDO'}},\n",
       " {'_id': ObjectId('52cdef7e4bab8bd67529ad05'),\n",
       "  'name': 'DemandTec',\n",
       "  'ipo': {'valuation_amount': 245000000,\n",
       "   'valuation_currency_code': 'USD',\n",
       "   'pub_year': 2011,\n",
       "   'pub_month': 2,\n",
       "   'pub_day': 14,\n",
       "   'stock_symbol': 'NASDAQ:DMAN'}},\n",
       " {'_id': ObjectId('52cdef7e4bab8bd67529b3bd'),\n",
       "  'name': 'Cornerstone OnDemand',\n",
       "  'ipo': {'valuation_amount': 900000000,\n",
       "   'valuation_currency_code': 'USD',\n",
       "   'pub_year': 2011,\n",
       "   'pub_month': 7,\n",
       "   'pub_day': 5,\n",
       "   'stock_symbol': 'CSOD'}},\n",
       " {'_id': ObjectId('52cdef7e4bab8bd67529b996'),\n",
       "  'name': 'Western Digital',\n",
       "  'ipo': {'valuation_amount': 9430000000,\n",
       "   'valuation_currency_code': 'USD',\n",
       "   'pub_year': None,\n",
       "   'pub_month': None,\n",
       "   'pub_day': None,\n",
       "   'stock_symbol': 'NYSE:WDC'}},\n",
       " {'_id': ObjectId('52cdef7e4bab8bd67529bb87'),\n",
       "  'name': 'Millennial Media',\n",
       "  'ipo': {'valuation_amount': 973500000,\n",
       "   'valuation_currency_code': 'USD',\n",
       "   'pub_year': 2012,\n",
       "   'pub_month': 3,\n",
       "   'pub_day': 28,\n",
       "   'stock_symbol': 'NYSE:MM'}}]"
      ]
     },
     "execution_count": 11,
     "metadata": {},
     "output_type": "execute_result"
    }
   ],
   "source": [
    "yearlist2"
   ]
  },
  {
   "cell_type": "markdown",
   "metadata": {},
   "source": [
    "### 5. All the companies that have less than 1000 employees and have been founded before 2005. Order them by the number of employees and limit the search to 10 companies."
   ]
  },
  {
   "cell_type": "code",
   "execution_count": 12,
   "metadata": {},
   "outputs": [],
   "source": [
    "medcomp=list(collection.find({'$and' : [{'number_of_employees' : {'$lt':1000}},\n",
    "                                {'founded_year' : {'$gt' : 2005}}]}).limit(10).sort('number_of_employees', 1))"
   ]
  },
  {
   "cell_type": "markdown",
   "metadata": {},
   "source": [
    "### 6. All the companies that don't include the `partners` field."
   ]
  },
  {
   "cell_type": "code",
   "execution_count": 13,
   "metadata": {},
   "outputs": [
    {
     "data": {
      "text/plain": [
       "18801"
      ]
     },
     "execution_count": 13,
     "metadata": {},
     "output_type": "execute_result"
    }
   ],
   "source": [
    "lista = [\"None\"]\n",
    "npcomp = list(collection.find({\"partners\": {\"$nin\": lista}}))\n",
    "len(npcomp )"
   ]
  },
  {
   "cell_type": "markdown",
   "metadata": {},
   "source": [
    "### 7. All the companies that have a null type of value on the `category_code` field."
   ]
  },
  {
   "cell_type": "code",
   "execution_count": 14,
   "metadata": {},
   "outputs": [],
   "source": [
    "nullist=list(collection.find({\"category_code\": None}))"
   ]
  },
  {
   "cell_type": "code",
   "execution_count": 15,
   "metadata": {},
   "outputs": [
    {
     "data": {
      "text/plain": [
       "2751"
      ]
     },
     "execution_count": 15,
     "metadata": {},
     "output_type": "execute_result"
    }
   ],
   "source": [
    "len(nullist)"
   ]
  },
  {
   "cell_type": "markdown",
   "metadata": {},
   "source": [
    "### 8. All the companies that have at least 100 employees but less than 1000. Retrieve only the `name` and `number of employees` fields."
   ]
  },
  {
   "cell_type": "code",
   "execution_count": 16,
   "metadata": {},
   "outputs": [],
   "source": [
    "proj3={\"_id\":0 , \"name\": 1, \"number_of_employees\": 1}\n",
    "hth=list(collection.find({\"number_of_employees\": {\"$gt\":99, \"$lt\":1001}},proj3))"
   ]
  },
  {
   "cell_type": "markdown",
   "metadata": {},
   "source": [
    "### 9. Order all the companies by their IPO price in a descending order."
   ]
  },
  {
   "cell_type": "code",
   "execution_count": 17,
   "metadata": {},
   "outputs": [],
   "source": [
    "ipop = list(collection.find().sort(\"ipo.valuation_amount\",-1).limit(5))"
   ]
  },
  {
   "cell_type": "markdown",
   "metadata": {},
   "source": [
    "### 10. Retrieve the 10 companies with more employees, order by the `number of employees`"
   ]
  },
  {
   "cell_type": "code",
   "execution_count": 18,
   "metadata": {},
   "outputs": [],
   "source": [
    "iemp = list(collection.find().sort(\"number_of_employees\",-1).limit(10))"
   ]
  },
  {
   "cell_type": "markdown",
   "metadata": {},
   "source": [
    "### 11. All the companies founded on the second semester of the year. Limit your search to 1000 companies."
   ]
  },
  {
   "cell_type": "code",
   "execution_count": 19,
   "metadata": {},
   "outputs": [],
   "source": [
    "secondsem=list(collection.find({\"founded_month\" : {\"$gt\":6}}).limit(1000))"
   ]
  },
  {
   "cell_type": "markdown",
   "metadata": {},
   "source": [
    "### 12. All the companies founded before 2000 that have an acquisition amount of more than 10.000.00"
   ]
  },
  {
   "cell_type": "code",
   "execution_count": 20,
   "metadata": {},
   "outputs": [],
   "source": [
    "twotho = list(collection.find({\"$and\": [{\"acquisition.price_amount\":{\"$gt\":1000000}},\n",
    "                                        {\"founded_year\":{\"$lt\":2000}}]}))"
   ]
  },
  {
   "cell_type": "markdown",
   "metadata": {},
   "source": [
    "### 13. All the companies that have been acquired after 2010, order by the acquisition amount, and retrieve only their `name` and `acquisition` field."
   ]
  },
  {
   "cell_type": "code",
   "execution_count": 21,
   "metadata": {},
   "outputs": [],
   "source": [
    "proj5={\"_id\": 0 , \"name\": 1, \"acquisition\": 1}\n",
    "sbra=list(collection.find({\"acquisition.acquired_year\": {\"$gt\": 2010}}, proj5).sort(\"acquisition.price_amount\",1))"
   ]
  },
  {
   "cell_type": "markdown",
   "metadata": {},
   "source": [
    "### 14. Order the companies by their `founded year`, retrieving only their `name` and `founded year`."
   ]
  },
  {
   "cell_type": "code",
   "execution_count": 22,
   "metadata": {},
   "outputs": [],
   "source": [
    "proj5={\"_id\": 0 , \"name\": 1, \"founded_year\": 1}\n",
    "founded=list(collection.find({\"founded_year\":{\"$nin\": [None]}},proj5).sort(\"founded_year\",1).limit(50))"
   ]
  },
  {
   "cell_type": "code",
   "execution_count": 23,
   "metadata": {},
   "outputs": [
    {
     "data": {
      "text/plain": [
       "[{'name': 'SmallWorlds', 'founded_year': 1800},\n",
       " {'name': 'Alstrasoft', 'founded_year': 1800},\n",
       " {'name': 'US Army', 'founded_year': 1800},\n",
       " {'name': 'DuPont', 'founded_year': 1802},\n",
       " {'name': 'Bachmann Industries', 'founded_year': 1833},\n",
       " {'name': 'McKesson', 'founded_year': 1833},\n",
       " {'name': 'Bertelsmann', 'founded_year': 1835},\n",
       " {'name': 'Accuity', 'founded_year': 1836},\n",
       " {'name': 'CENTRA', 'founded_year': 1839},\n",
       " {'name': 'VideoSurf', 'founded_year': 1840},\n",
       " {'name': 'WeGame', 'founded_year': 1840},\n",
       " {'name': 'VideoSurf', 'founded_year': 1840},\n",
       " {'name': 'The Economist Group', 'founded_year': 1843},\n",
       " {'name': 'Pearson', 'founded_year': 1844},\n",
       " {'name': 'Associated Press', 'founded_year': 1846},\n",
       " {'name': 'Beloit College', 'founded_year': 1846},\n",
       " {'name': 'Stiefel', 'founded_year': 1847},\n",
       " {'name': 'Siemens', 'founded_year': 1847},\n",
       " {'name': 'Pfizer', 'founded_year': 1848},\n",
       " {'name': 'Nykredit Realkredit', 'founded_year': 1851},\n",
       " {'name': 'Corning', 'founded_year': 1851},\n",
       " {'name': 'Louis Vuitton', 'founded_year': 1854},\n",
       " {'name': 'Leucadia National', 'founded_year': 1854},\n",
       " {'name': 'The McClatchy Company', 'founded_year': 1857},\n",
       " {'name': 'University of Washington', 'founded_year': 1861},\n",
       " {'name': 'Athenix', 'founded_year': 1863},\n",
       " {'name': 'Nokia', 'founded_year': 1865},\n",
       " {'name': 'Cornell University', 'founded_year': 1865},\n",
       " {'name': 'Millage, Inc', 'founded_year': 1867},\n",
       " {'name': 'Scotts Miracle-Gro', 'founded_year': 1868},\n",
       " {'name': 'La Nacion', 'founded_year': 1870},\n",
       " {'name': 'SingTel', 'founded_year': 1879},\n",
       " {'name': 'Chevron', 'founded_year': 1879},\n",
       " {'name': 'University of Southern California', 'founded_year': 1880},\n",
       " {'name': 'Elsevier', 'founded_year': 1880},\n",
       " {'name': 'Los Angeles Times Media Group', 'founded_year': 1881},\n",
       " {'name': 'Financial Models Co', 'founded_year': 1883},\n",
       " {'name': 'Telenor', 'founded_year': 1885},\n",
       " {'name': 'Bristol-Myers Squibb', 'founded_year': 1887},\n",
       " {'name': 'McGraw-Hill Companies', 'founded_year': 1888},\n",
       " {'name': 'Financial Times', 'founded_year': 1888},\n",
       " {'name': 'National Geographic', 'founded_year': 1888},\n",
       " {'name': 'Wall Street Journal', 'founded_year': 1889},\n",
       " {'name': 'Nintendo', 'founded_year': 1889},\n",
       " {'name': 'Harris', 'founded_year': 1890},\n",
       " {'name': 'General Electric', 'founded_year': 1890},\n",
       " {'name': 'Teliasonera', 'founded_year': 1890},\n",
       " {'name': 'Cision', 'founded_year': 1892},\n",
       " {'name': 'Waste Management', 'founded_year': 1894},\n",
       " {'name': 'IBM', 'founded_year': 1896}]"
      ]
     },
     "execution_count": 23,
     "metadata": {},
     "output_type": "execute_result"
    }
   ],
   "source": [
    "founded"
   ]
  },
  {
   "cell_type": "markdown",
   "metadata": {},
   "source": [
    "### 15. All the companies that have been founded on the first seven days of the month, including the seventh. Sort them by their `acquisition price` in a descending order. Limit the search to 10 documents."
   ]
  },
  {
   "cell_type": "code",
   "execution_count": 24,
   "metadata": {},
   "outputs": [],
   "source": [
    "firstsev=list(collection.find({\"founded_day\":{\"$lt\": 8}}).sort(\"acquisition.price_amount\",-1).limit(10))"
   ]
  },
  {
   "cell_type": "markdown",
   "metadata": {},
   "source": [
    "### 16. All the companies on the 'web' `category` that have more than 4000 employees. Sort them by the amount of employees in ascending order."
   ]
  },
  {
   "cell_type": "code",
   "execution_count": 25,
   "metadata": {},
   "outputs": [],
   "source": [
    "category = list(collection.find({\"$and\": [{\"category_code\": \"web\"}, {\"number_of_employees\":{\"$gt\":4000}}]}).sort(\"number_of_employees\",1))\n"
   ]
  },
  {
   "cell_type": "markdown",
   "metadata": {},
   "source": [
    "### 17. All the companies whose acquisition amount is more than 10.000.000, and currency is 'EUR'."
   ]
  },
  {
   "cell_type": "code",
   "execution_count": 26,
   "metadata": {},
   "outputs": [],
   "source": [
    "tenmill = list(collection.find({\"$and\": [{\"acquisition.price_currency_code\": \"EUR\"}, {\"acquisition.price_amount\":{\"$gt\":10000000}}]}))\n"
   ]
  },
  {
   "cell_type": "markdown",
   "metadata": {},
   "source": [
    "### 18. All the companies that have been acquired on the first trimester of the year. Limit the search to 10 companies, and retrieve only their `name` and `acquisition` fields."
   ]
  },
  {
   "cell_type": "code",
   "execution_count": 27,
   "metadata": {},
   "outputs": [],
   "source": [
    "proj6 = {\"_id\": 0, \"name\": 1, \"acquisition\":1}\n",
    "firsttrim=list(collection.find({\"acquisition.acquired_month\": {\"$lt\": 7}}, proj6).limit(10))"
   ]
  },
  {
   "cell_type": "markdown",
   "metadata": {},
   "source": [
    "# Bonus\n",
    "### 19. All the companies that have been founded between 2000 and 2010, but have not been acquired before 2011."
   ]
  },
  {
   "cell_type": "code",
   "execution_count": 28,
   "metadata": {},
   "outputs": [],
   "source": [
    "acquired=list(collection.find({\"$and\": [{\"founded_year\":{\"$gt\":1999, \"$lt\":2011}},{\"acquisition.acquired_year\":{\"$gt\":2010}}]}))"
   ]
  },
  {
   "cell_type": "markdown",
   "metadata": {},
   "source": [
    "### 20. All the companies that have been 'deadpooled' after the third year."
   ]
  },
  {
   "cell_type": "code",
   "execution_count": 29,
   "metadata": {},
   "outputs": [],
   "source": [
    "# Your Code"
   ]
  }
 ],
 "metadata": {
  "kernelspec": {
   "display_name": "ironhack",
   "language": "python",
   "name": "ironhack"
  },
  "language_info": {
   "codemirror_mode": {
    "name": "ipython",
    "version": 3
   },
   "file_extension": ".py",
   "mimetype": "text/x-python",
   "name": "python",
   "nbconvert_exporter": "python",
   "pygments_lexer": "ipython3",
   "version": "3.8.5"
  }
 },
 "nbformat": 4,
 "nbformat_minor": 2
}
