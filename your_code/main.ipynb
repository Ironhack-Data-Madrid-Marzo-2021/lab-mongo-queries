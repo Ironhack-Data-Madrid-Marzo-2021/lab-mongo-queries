{
 "cells": [
  {
   "cell_type": "markdown",
   "metadata": {},
   "source": [
    "# Advanced Querying Mongo"
   ]
  },
  {
   "cell_type": "markdown",
   "metadata": {},
   "source": [
    "Importing libraries and setting up connection"
   ]
  },
  {
   "cell_type": "code",
   "execution_count": null,
   "metadata": {},
   "outputs": [],
   "source": [
    "#$ mongoimport --db ironhack --collection companies --file companies.json"
   ]
  },
  {
   "cell_type": "code",
   "execution_count": 2,
   "metadata": {},
   "outputs": [],
   "source": [
    "from pymongo import MongoClient\n",
    "client = MongoClient(\"localhost:27017\")"
   ]
  },
  {
   "cell_type": "markdown",
   "metadata": {},
   "source": [
    "### 1. All the companies whose name match 'Babelgum'. Retrieve only their `name` field."
   ]
  },
  {
   "cell_type": "code",
   "execution_count": 5,
   "metadata": {},
   "outputs": [],
   "source": [
    "#Nos conectamos al database que queremos usar, y a la tabla indicada.\n",
    "db = client.get_database(\"ironhack\")\n",
    "db.list_collection_names()\n",
    "collection = db.get_collection(\"companies\")\n"
   ]
  },
  {
   "cell_type": "code",
   "execution_count": 7,
   "metadata": {},
   "outputs": [
    {
     "data": {
      "text/plain": [
       "[{'name': 'Babelgum'}]"
      ]
     },
     "execution_count": 7,
     "metadata": {},
     "output_type": "execute_result"
    }
   ],
   "source": [
    "# Your Code\n",
    "proj = {'_id':0, 'name':1}\n",
    "Babel = list(collection.find({'name': 'Babelgum'}, proj))\n",
    "Babel"
   ]
  },
  {
   "cell_type": "markdown",
   "metadata": {},
   "source": [
    "### 2. All the companies that have more than 5000 employees. Limit the search to 20 companies and sort them by **number of employees**."
   ]
  },
  {
   "cell_type": "code",
   "execution_count": 45,
   "metadata": {
    "scrolled": true
   },
   "outputs": [
    {
     "data": {
      "text/plain": [
       "{'_id': ObjectId('52cdef7c4bab8bd675297d8b'),\n",
       " 'name': 'AdventNet',\n",
       " 'permalink': 'abc3',\n",
       " 'crunchbase_url': 'http://www.crunchbase.com/company/adventnet',\n",
       " 'homepage_url': 'http://adventnet.com',\n",
       " 'blog_url': '',\n",
       " 'blog_feed_url': '',\n",
       " 'twitter_username': 'manageengine',\n",
       " 'category_code': 'enterprise',\n",
       " 'number_of_employees': 600,\n",
       " 'founded_year': 1996,\n",
       " 'deadpooled_year': 2,\n",
       " 'tag_list': '',\n",
       " 'alias_list': 'Zoho ManageEngine ',\n",
       " 'email_address': 'pr@adventnet.com',\n",
       " 'phone_number': '925-924-9500',\n",
       " 'description': 'Server Management Software',\n",
       " 'created_at': datetime.datetime(2007, 5, 25, 19, 24, 22),\n",
       " 'updated_at': 'Wed Oct 31 18:26:09 UTC 2012',\n",
       " 'overview': '<p>AdventNet is now <a href=\"/company/zoho-manageengine\" title=\"Zoho ManageEngine\" rel=\"nofollow\">Zoho ManageEngine</a>.</p>\\n\\n<p>Founded in 1996, AdventNet has served a diverse range of enterprise IT, networking and telecom customers.</p>\\n\\n<p>AdventNet supplies server and network management software.</p>',\n",
       " 'image': {'available_sizes': [[[150, 55],\n",
       "    'assets/images/resized/0001/9732/19732v1-max-150x150.png'],\n",
       "   [[150, 55], 'assets/images/resized/0001/9732/19732v1-max-250x250.png'],\n",
       "   [[150, 55], 'assets/images/resized/0001/9732/19732v1-max-450x450.png']]},\n",
       " 'products': [],\n",
       " 'relationships': [{'is_past': True,\n",
       "   'title': 'CEO and Co-Founder',\n",
       "   'person': {'first_name': 'Sridhar',\n",
       "    'last_name': 'Vembu',\n",
       "    'permalink': 'sridhar-vembu'}},\n",
       "  {'is_past': True,\n",
       "   'title': 'VP of Business Dev',\n",
       "   'person': {'first_name': 'Neil',\n",
       "    'last_name': 'Butani',\n",
       "    'permalink': 'neil-butani'}},\n",
       "  {'is_past': True,\n",
       "   'title': 'Usabiliy Engineer',\n",
       "   'person': {'first_name': 'Bharath',\n",
       "    'last_name': 'Balasubramanian',\n",
       "    'permalink': 'bharath-balasibramanian'}},\n",
       "  {'is_past': True,\n",
       "   'title': 'Director of Engineering',\n",
       "   'person': {'first_name': 'Rajendran',\n",
       "    'last_name': 'Dandapani',\n",
       "    'permalink': 'rajendran-dandapani'}},\n",
       "  {'is_past': True,\n",
       "   'title': 'Market Analyst',\n",
       "   'person': {'first_name': 'Aravind',\n",
       "    'last_name': 'Natarajan',\n",
       "    'permalink': 'aravind-natarajan'}},\n",
       "  {'is_past': True,\n",
       "   'title': 'Director of Product Management',\n",
       "   'person': {'first_name': 'Hyther',\n",
       "    'last_name': 'Nizam',\n",
       "    'permalink': 'hyther-nizam'}},\n",
       "  {'is_past': True,\n",
       "   'title': 'Western Regional OEM Sales Manager',\n",
       "   'person': {'first_name': 'Ian',\n",
       "    'last_name': 'Wenig',\n",
       "    'permalink': 'ian-wenig'}}],\n",
       " 'competitions': [],\n",
       " 'providerships': [{'title': 'DHFH',\n",
       "   'is_past': True,\n",
       "   'provider': {'name': 'A Small Orange', 'permalink': 'a-small-orange'}}],\n",
       " 'total_money_raised': '$0',\n",
       " 'funding_rounds': [],\n",
       " 'investments': [],\n",
       " 'acquisition': None,\n",
       " 'acquisitions': [],\n",
       " 'offices': [{'description': 'Headquarters',\n",
       "   'address1': '4900 Hopyard Rd.',\n",
       "   'address2': 'Suite 310',\n",
       "   'zip_code': '94588',\n",
       "   'city': 'Pleasanton',\n",
       "   'state_code': 'CA',\n",
       "   'country_code': 'USA',\n",
       "   'latitude': 37.692934,\n",
       "   'longitude': -121.904945}],\n",
       " 'milestones': [],\n",
       " 'video_embeds': [],\n",
       " 'screenshots': [{'available_sizes': [[[150, 94],\n",
       "     'assets/images/resized/0004/3400/43400v1-max-150x150.png'],\n",
       "    [[250, 156], 'assets/images/resized/0004/3400/43400v1-max-250x250.png'],\n",
       "    [[450, 282], 'assets/images/resized/0004/3400/43400v1-max-450x450.png']],\n",
       "   'attribution': None}],\n",
       " 'external_links': [],\n",
       " 'partners': []}"
      ]
     },
     "execution_count": 45,
     "metadata": {},
     "output_type": "execute_result"
    }
   ],
   "source": [
    "collection.find_one()"
   ]
  },
  {
   "cell_type": "code",
   "execution_count": 15,
   "metadata": {},
   "outputs": [
    {
     "data": {
      "text/plain": [
       "[{'name': 'Siemens', 'number_of_employees': 405000},\n",
       " {'name': 'IBM', 'number_of_employees': 388000},\n",
       " {'name': 'Toyota', 'number_of_employees': 320000},\n",
       " {'name': 'PayPal', 'number_of_employees': 300000},\n",
       " {'name': 'Nippon Telegraph and Telephone Corporation',\n",
       "  'number_of_employees': 227000},\n",
       " {'name': 'Samsung Electronics', 'number_of_employees': 221726},\n",
       " {'name': 'Accenture', 'number_of_employees': 205000},\n",
       " {'name': 'Tata Consultancy Services', 'number_of_employees': 200300},\n",
       " {'name': 'Flextronics International', 'number_of_employees': 200000},\n",
       " {'name': 'Safeway', 'number_of_employees': 186000},\n",
       " {'name': 'Sony', 'number_of_employees': 180500},\n",
       " {'name': 'LG', 'number_of_employees': 177000},\n",
       " {'name': 'Ford', 'number_of_employees': 171000},\n",
       " {'name': 'Boeing', 'number_of_employees': 160000},\n",
       " {'name': 'Digital Equipment Corporation', 'number_of_employees': 140000},\n",
       " {'name': 'Nokia', 'number_of_employees': 125000},\n",
       " {'name': 'MItsubishi Electric', 'number_of_employees': 107000},\n",
       " {'name': 'MItsubishi Electric', 'number_of_employees': 107000},\n",
       " {'name': 'Bertelsmann', 'number_of_employees': 100000},\n",
       " {'name': 'Comcast', 'number_of_employees': 100000}]"
      ]
     },
     "execution_count": 15,
     "metadata": {},
     "output_type": "execute_result"
    }
   ],
   "source": [
    "# Your Code\n",
    "proj2 = {'name': 1 , 'number_of_employees': 1, '_id':0}\n",
    "big_companies  = list(collection.find({\"number_of_employees\": {\"$gt\": 5000}},proj2).sort(\"number_of_employees\",-1).limit(20))\n",
    "                     \n",
    "big_companies"
   ]
  },
  {
   "cell_type": "markdown",
   "metadata": {},
   "source": [
    "### 3. All the companies founded between 2000 and 2005, both years included. Retrieve only the `name` and `founded_year` fields."
   ]
  },
  {
   "cell_type": "code",
   "execution_count": 33,
   "metadata": {},
   "outputs": [
    {
     "data": {
      "text/plain": [
       "[{'name': 'Digg', 'founded_year': 2004},\n",
       " {'name': 'Gizmoz', 'founded_year': 2003},\n",
       " {'name': 'StumbleUpon', 'founded_year': 2002},\n",
       " {'name': 'Facebook', 'founded_year': 2004},\n",
       " {'name': 'Plaxo', 'founded_year': 2002}]"
      ]
     },
     "execution_count": 33,
     "metadata": {},
     "output_type": "execute_result"
    }
   ],
   "source": [
    "# Your Code\n",
    "condition1 = {'founded_year':{'$gt':2000}}\n",
    "condition2 = {'founded_year':{'$lt':2005}}\n",
    "proj3 = {'name':1, 'founded_year':1, '_id':0}\n",
    "company_founded = list(collection.find({\"$and\":[condition1, condition2]},proj3).limit(5))\n",
    "company_founded"
   ]
  },
  {
   "cell_type": "markdown",
   "metadata": {},
   "source": [
    "### 4. All the companies that had a Valuation Amount of more than 100.000.000 and have been founded before 2010. Retrieve only the `name` and `ipo` fields."
   ]
  },
  {
   "cell_type": "code",
   "execution_count": 44,
   "metadata": {
    "scrolled": true
   },
   "outputs": [
    {
     "data": {
      "text/plain": [
       "[{'name': 'Twitter',\n",
       "  'ipo': {'valuation_amount': 18100000000,\n",
       "   'valuation_currency_code': 'USD',\n",
       "   'pub_year': 2013,\n",
       "   'pub_month': 11,\n",
       "   'pub_day': 7,\n",
       "   'stock_symbol': 'NYSE:TWTR'}},\n",
       " {'name': 'Facebook',\n",
       "  'ipo': {'valuation_amount': 104000000000,\n",
       "   'valuation_currency_code': 'USD',\n",
       "   'pub_year': 2012,\n",
       "   'pub_month': 5,\n",
       "   'pub_day': 18,\n",
       "   'stock_symbol': 'NASDAQ:FB'}},\n",
       " {'name': 'Yelp',\n",
       "  'ipo': {'valuation_amount': 1300000000,\n",
       "   'valuation_currency_code': 'USD',\n",
       "   'pub_year': 2012,\n",
       "   'pub_month': 3,\n",
       "   'pub_day': 2,\n",
       "   'stock_symbol': 'NYSE:YELP'}},\n",
       " {'name': 'LinkedIn',\n",
       "  'ipo': {'valuation_amount': 9310000000,\n",
       "   'valuation_currency_code': 'USD',\n",
       "   'pub_year': 2011,\n",
       "   'pub_month': 7,\n",
       "   'pub_day': 20,\n",
       "   'stock_symbol': 'NYSE:LNKD'}},\n",
       " {'name': 'Brightcove',\n",
       "  'ipo': {'valuation_amount': 290000000,\n",
       "   'valuation_currency_code': 'USD',\n",
       "   'pub_year': 2012,\n",
       "   'pub_month': 2,\n",
       "   'pub_day': 17,\n",
       "   'stock_symbol': 'NASDAQ:BCOV'}}]"
      ]
     },
     "execution_count": 44,
     "metadata": {},
     "output_type": "execute_result"
    }
   ],
   "source": [
    "# Your Code\n",
    "proj4 = {'name':1, 'ipo':1, '_id':0}\n",
    "condition3 = {'ipo.valuation_amount': {'$gte': 100000000}}\n",
    "condition2 = {'founded_year':{'$lte':2010}}\n",
    "ipo = list(collection.find({\"$and\":[condition3, condition2]},proj4).limit(5))\n",
    "ipo "
   ]
  },
  {
   "cell_type": "markdown",
   "metadata": {},
   "source": [
    "### 5. All the companies that have less than 1000 employees and have been founded before 2005. Order them by the number of employees and limit the search to 10 companies."
   ]
  },
  {
   "cell_type": "code",
   "execution_count": 52,
   "metadata": {},
   "outputs": [
    {
     "data": {
      "text/plain": [
       "[{'name': 'Infinera Corporation', 'number_of_employees': 974},\n",
       " {'name': 'NorthPoint Communications Group', 'number_of_employees': 948},\n",
       " {'name': '888 Holdings', 'number_of_employees': 931},\n",
       " {'name': 'Forrester Research', 'number_of_employees': 903},\n",
       " {'name': 'Webmetrics', 'number_of_employees': 900},\n",
       " {'name': 'SonicWALL', 'number_of_employees': 900},\n",
       " {'name': 'Cornerstone OnDemand', 'number_of_employees': 881},\n",
       " {'name': 'Mozilla', 'number_of_employees': 800},\n",
       " {'name': 'Cvent', 'number_of_employees': 800},\n",
       " {'name': 'MySpace', 'number_of_employees': 800}]"
      ]
     },
     "execution_count": 52,
     "metadata": {},
     "output_type": "execute_result"
    }
   ],
   "source": [
    "# Your Code\n",
    "proj5 = {'name':1, 'number_of_employees':1, '_id':0 }\n",
    "condition6 = {'number_of_employees': {'$lt': 1000}}\n",
    "condition7= {'founded_year': {'$lt': 2005}}\n",
    "less_than = list(collection.find({'$and':[condition6, condition7]},proj5).sort(\"number_of_employees\",-1).limit(10))\n",
    "less_than"
   ]
  },
  {
   "cell_type": "markdown",
   "metadata": {},
   "source": [
    "### 6. All the companies that don't include the `partners` field."
   ]
  },
  {
   "cell_type": "code",
   "execution_count": 56,
   "metadata": {},
   "outputs": [
    {
     "data": {
      "text/plain": [
       "[]"
      ]
     },
     "execution_count": 56,
     "metadata": {},
     "output_type": "execute_result"
    }
   ],
   "source": [
    "# Your Code\n",
    "partners = list(collection.find({'partners':{'$exists':False}}).limit(5))\n",
    "partners"
   ]
  },
  {
   "cell_type": "markdown",
   "metadata": {},
   "source": [
    "### 7. All the companies that have a null type of value on the `category_code` field."
   ]
  },
  {
   "cell_type": "code",
   "execution_count": 109,
   "metadata": {},
   "outputs": [
    {
     "data": {
      "text/plain": [
       "[{'_id': ObjectId('52cdef7c4bab8bd6752980f6'),\n",
       "  'name': 'Collective',\n",
       "  'permalink': 'collective',\n",
       "  'crunchbase_url': 'http://www.crunchbase.com/company/collective',\n",
       "  'homepage_url': None,\n",
       "  'blog_url': None,\n",
       "  'blog_feed_url': None,\n",
       "  'twitter_username': None,\n",
       "  'category_code': None,\n",
       "  'number_of_employees': None,\n",
       "  'founded_year': None,\n",
       "  'founded_month': None,\n",
       "  'founded_day': None,\n",
       "  'deadpooled_year': None,\n",
       "  'deadpooled_month': None,\n",
       "  'deadpooled_day': None,\n",
       "  'deadpooled_url': None,\n",
       "  'tag_list': None,\n",
       "  'alias_list': None,\n",
       "  'email_address': None,\n",
       "  'phone_number': None,\n",
       "  'description': None,\n",
       "  'created_at': 'Thu Sep 26 13:15:02 UTC 2013',\n",
       "  'updated_at': 'Thu Sep 26 13:15:02 UTC 2013',\n",
       "  'overview': None,\n",
       "  'image': None,\n",
       "  'products': [],\n",
       "  'relationships': [],\n",
       "  'competitions': [],\n",
       "  'providerships': [],\n",
       "  'total_money_raised': '$0',\n",
       "  'funding_rounds': [],\n",
       "  'investments': [],\n",
       "  'acquisition': None,\n",
       "  'acquisitions': [],\n",
       "  'offices': [],\n",
       "  'milestones': [],\n",
       "  'ipo': None,\n",
       "  'video_embeds': [],\n",
       "  'screenshots': [],\n",
       "  'external_links': [],\n",
       "  'partners': []}]"
      ]
     },
     "execution_count": 109,
     "metadata": {},
     "output_type": "execute_result"
    }
   ],
   "source": [
    "# Your Code\n",
    "condition = {'category_code' : {'$type': 10}}\n",
    "null = list(collection.find(condition).limit(1))\n",
    "null"
   ]
  },
  {
   "cell_type": "markdown",
   "metadata": {},
   "source": [
    "### 8. All the companies that have at least 100 employees but less than 1000. Retrieve only the `name` and `number of employees` fields."
   ]
  },
  {
   "cell_type": "code",
   "execution_count": 60,
   "metadata": {},
   "outputs": [
    {
     "data": {
      "text/plain": [
       "[{'name': 'AdventNet', 'number_of_employees': 600},\n",
       " {'name': 'AddThis', 'number_of_employees': 120},\n",
       " {'name': 'OpenX', 'number_of_employees': 305},\n",
       " {'name': 'LifeLock', 'number_of_employees': 644},\n",
       " {'name': 'Jajah', 'number_of_employees': 110}]"
      ]
     },
     "execution_count": 60,
     "metadata": {},
     "output_type": "execute_result"
    }
   ],
   "source": [
    "# Your Code\n",
    "proj60 = {'name':1, 'number_of_employees':1, '_id':0}\n",
    "condition420 =  {'number_of_employees': {'$gt':100}}\n",
    "condition69 = {'number_of_employees': {'$lt': 1000}}\n",
    "between = list(collection.find({'$and': [condition420, condition69]}, proj60).limit(5))\n",
    "between"
   ]
  },
  {
   "cell_type": "markdown",
   "metadata": {},
   "source": [
    "### 9. Order all the companies by their IPO price in a descending order."
   ]
  },
  {
   "cell_type": "code",
   "execution_count": 66,
   "metadata": {},
   "outputs": [
    {
     "data": {
      "text/plain": [
       "[{'_id': ObjectId('52cdef7e4bab8bd67529a8b4'),\n",
       "  'name': 'GREE',\n",
       "  'ipo': {'valuation_amount': 108960000000}},\n",
       " {'_id': ObjectId('52cdef7c4bab8bd675297d8e'),\n",
       "  'name': 'Facebook',\n",
       "  'ipo': {'valuation_amount': 104000000000}},\n",
       " {'_id': ObjectId('52cdef7c4bab8bd675297e7a'),\n",
       "  'name': 'Amazon',\n",
       "  'ipo': {'valuation_amount': 100000000000}},\n",
       " {'_id': ObjectId('52cdef7c4bab8bd675297d94'),\n",
       "  'name': 'Twitter',\n",
       "  'ipo': {'valuation_amount': 18100000000}},\n",
       " {'_id': ObjectId('52cdef7d4bab8bd675299d5d'),\n",
       "  'name': 'Groupon',\n",
       "  'ipo': {'valuation_amount': 12800000000}}]"
      ]
     },
     "execution_count": 66,
     "metadata": {},
     "output_type": "execute_result"
    }
   ],
   "source": [
    "# Your Code\n",
    "proj = {'name':1, 'ipo.valuation_amount':1}\n",
    "condition_usd = {'ipo.valuation_amount': {'$gt': 0}}\n",
    "IPO = list(collection.find({'ipo.valuation_amount': {'$gt' : 0 }},proj).sort('ipo.valuation_amount', -1).limit(5))\n",
    "IPO"
   ]
  },
  {
   "cell_type": "markdown",
   "metadata": {},
   "source": [
    "### 10. Retrieve the 10 companies with more employees, order by the `number of employees`"
   ]
  },
  {
   "cell_type": "code",
   "execution_count": 68,
   "metadata": {},
   "outputs": [
    {
     "data": {
      "text/plain": [
       "[{'name': 'Siemens', 'number_of_employees': 405000},\n",
       " {'name': 'IBM', 'number_of_employees': 388000},\n",
       " {'name': 'Toyota', 'number_of_employees': 320000},\n",
       " {'name': 'PayPal', 'number_of_employees': 300000},\n",
       " {'name': 'Nippon Telegraph and Telephone Corporation',\n",
       "  'number_of_employees': 227000},\n",
       " {'name': 'Samsung Electronics', 'number_of_employees': 221726},\n",
       " {'name': 'Accenture', 'number_of_employees': 205000},\n",
       " {'name': 'Tata Consultancy Services', 'number_of_employees': 200300},\n",
       " {'name': 'Flextronics International', 'number_of_employees': 200000},\n",
       " {'name': 'Safeway', 'number_of_employees': 186000}]"
      ]
     },
     "execution_count": 68,
     "metadata": {},
     "output_type": "execute_result"
    }
   ],
   "source": [
    "# Your Code\n",
    "proj = {'name':1, 'number_of_employees':1, '_id': 0}\n",
    "more_than = list(collection.find({'number_of_employees':{'$gt': 0}}, proj).sort('number_of_employees', -1).limit(10\n",
    "                                                                                                                ))\n",
    "more_than"
   ]
  },
  {
   "cell_type": "markdown",
   "metadata": {},
   "source": [
    "### 11. All the companies founded on the second semester of the year. Limit your search to 1000 companies."
   ]
  },
  {
   "cell_type": "code",
   "execution_count": 70,
   "metadata": {},
   "outputs": [
    {
     "data": {
      "text/plain": [
       "[{'_id': ObjectId('52cdef7c4bab8bd675297da8'),\n",
       "  'name': 'OpenX',\n",
       "  'founded_month': 5},\n",
       " {'_id': ObjectId('52cdef7c4bab8bd675297dbf'),\n",
       "  'name': 'blogTV',\n",
       "  'founded_month': 5},\n",
       " {'_id': ObjectId('52cdef7c4bab8bd675297dc0'),\n",
       "  'name': 'Livestream',\n",
       "  'founded_month': 5},\n",
       " {'_id': ObjectId('52cdef7c4bab8bd675297dc5'),\n",
       "  'name': 'GrandCentral',\n",
       "  'founded_month': 4},\n",
       " {'_id': ObjectId('52cdef7c4bab8bd675297dcb'),\n",
       "  'name': 'Revision3',\n",
       "  'founded_month': 4}]"
      ]
     },
     "execution_count": 70,
     "metadata": {},
     "output_type": "execute_result"
    }
   ],
   "source": [
    "# Your Code\n",
    "proj1 = {'name':1, 'founded_month':1}\n",
    "condition1 = {'founded_month' : {'$gt': 3}}\n",
    "condition2 = {'founded_month' : {'$lt': 6}}\n",
    "second = list(collection.find({'$and': [condition1, condition2]}, proj1).limit(5))\n",
    "second"
   ]
  },
  {
   "cell_type": "markdown",
   "metadata": {},
   "source": [
    "### 12. All the companies founded before 2000 that have an acquisition amount of more than 10.000.00"
   ]
  },
  {
   "cell_type": "code",
   "execution_count": 71,
   "metadata": {},
   "outputs": [
    {
     "data": {
      "text/plain": [
       "[{'_id': ObjectId('52cdef7c4bab8bd675297d90'),\n",
       "  'name': 'Postini',\n",
       "  'founded_year': 1999,\n",
       "  'acquisition': {'price_amount': 625000000}},\n",
       " {'_id': ObjectId('52cdef7c4bab8bd675297deb'),\n",
       "  'name': 'SideStep',\n",
       "  'founded_year': 1999,\n",
       "  'acquisition': {'price_amount': 180000000}},\n",
       " {'_id': ObjectId('52cdef7c4bab8bd675297e2c'),\n",
       "  'name': 'Recipezaar',\n",
       "  'founded_year': 1999,\n",
       "  'acquisition': {'price_amount': 25000000}},\n",
       " {'_id': ObjectId('52cdef7c4bab8bd675297e37'),\n",
       "  'name': 'Cyworld',\n",
       "  'founded_year': 1999,\n",
       "  'acquisition': {'price_amount': 7140000}},\n",
       " {'_id': ObjectId('52cdef7c4bab8bd675297e89'),\n",
       "  'name': 'PayPal',\n",
       "  'founded_year': 1998,\n",
       "  'acquisition': {'price_amount': 1500000000}}]"
      ]
     },
     "execution_count": 71,
     "metadata": {},
     "output_type": "execute_result"
    }
   ],
   "source": [
    "# Your Code\n",
    "proj1 = {'name':1, 'acquisition.price_amount':1, 'founded_year':1 }\n",
    "cond = {'founded_year' : {'$lt': 2000}}\n",
    "cond2 = {'acquisition.price_amount' : {'$gt':1000000}}\n",
    "mill = list(collection.find({'$and': [cond, cond2]}, proj1).limit(5))\n",
    "mill"
   ]
  },
  {
   "cell_type": "markdown",
   "metadata": {},
   "source": [
    "### 13. All the companies that have been acquired after 2010, order by the acquisition amount, and retrieve only their `name` and `acquisition` field."
   ]
  },
  {
   "cell_type": "code",
   "execution_count": 78,
   "metadata": {},
   "outputs": [
    {
     "data": {
      "text/plain": [
       "[{'_id': ObjectId('52cdef7c4bab8bd675298876'),\n",
       "  'name': 'T-Mobile',\n",
       "  'acquisition': {'price_amount': 39000000000,\n",
       "   'price_currency_code': 'USD',\n",
       "   'term_code': None,\n",
       "   'source_url': 'http://techcrunch.com/2011/03/20/in-the-race-for-more-spectrum-att-is-acquiring-t-mobile-for-39-billion/',\n",
       "   'source_description': 'In The Race For More Spectrum, AT&T Is Acquiring T-Mobile For $39 Billion',\n",
       "   'acquired_year': 2011,\n",
       "   'acquired_month': 3,\n",
       "   'acquired_day': 20,\n",
       "   'acquiring_company': {'name': 'AT&T', 'permalink': 'at-t'}}},\n",
       " {'_id': ObjectId('52cdef7f4bab8bd67529c228'),\n",
       "  'name': 'Goodrich Corporation',\n",
       "  'acquisition': {'price_amount': 18400000000,\n",
       "   'price_currency_code': 'USD',\n",
       "   'term_code': None,\n",
       "   'source_url': 'http://www.masshightech.com/stories/2011/09/19/daily37-UTC-shells-out-184-billion-for-Goodrich.html',\n",
       "   'source_description': 'UTC shells out $18.4 billion for Goodrich',\n",
       "   'acquired_year': 2011,\n",
       "   'acquired_month': 9,\n",
       "   'acquired_day': 22,\n",
       "   'acquiring_company': {'name': 'United Technologies',\n",
       "    'permalink': 'united-technologies'}}},\n",
       " {'_id': ObjectId('52cdef7d4bab8bd675298b89'),\n",
       "  'name': 'LSI',\n",
       "  'acquisition': {'price_amount': 6600000000,\n",
       "   'price_currency_code': 'USD',\n",
       "   'term_code': 'cash',\n",
       "   'source_url': 'http://dealbook.nytimes.com/2013/12/16/avago-to-buy-lsi-for-6-6-billion/?_r=0',\n",
       "   'source_description': 'Avago to Buy LSI for $6.6 Billion',\n",
       "   'acquired_year': 2013,\n",
       "   'acquired_month': 12,\n",
       "   'acquired_day': 16,\n",
       "   'acquiring_company': {'name': 'Avago Technologies',\n",
       "    'permalink': 'avago-technologies'}}},\n",
       " {'_id': ObjectId('52cdef7e4bab8bd67529a2b5'),\n",
       "  'name': 'National Semiconductor',\n",
       "  'acquisition': {'price_amount': 6500000000,\n",
       "   'price_currency_code': 'USD',\n",
       "   'term_code': 'cash',\n",
       "   'source_url': 'http://www.national.com/news/item/0,1735,1522,00.html',\n",
       "   'source_description': 'TI to acquire National Semiconductor Complementary portfolios are foundation for growth',\n",
       "   'acquired_year': 2011,\n",
       "   'acquired_month': 4,\n",
       "   'acquired_day': 4,\n",
       "   'acquiring_company': {'name': 'Texas Instruments',\n",
       "    'permalink': 'texas-instruments'}}},\n",
       " {'_id': ObjectId('52cdef7e4bab8bd67529a969'),\n",
       "  'name': 'Sybase',\n",
       "  'acquisition': {'price_amount': 5800000000,\n",
       "   'price_currency_code': 'USD',\n",
       "   'term_code': 'cash',\n",
       "   'source_url': 'http://techcrunch.com/2010/05/12/confirmed-sap-to-acquire-sybase-for-5-8-billion/',\n",
       "   'source_description': 'SAP To Acquire Sybase For $5.8 Billion To Compete With Oracle',\n",
       "   'acquired_year': 2010,\n",
       "   'acquired_month': 5,\n",
       "   'acquired_day': 12,\n",
       "   'acquiring_company': {'name': 'SAP', 'permalink': 'sap'}}}]"
      ]
     },
     "execution_count": 78,
     "metadata": {},
     "output_type": "execute_result"
    }
   ],
   "source": [
    "# Your Code\n",
    "proj = {'name':1, 'acquisition':1}\n",
    "cond = {'acquisition.acquired_year': {'$gt': 2010}}\n",
    "acq = list(collection.find({'acquisition.acquired_year': {'$gte': 2010}}, proj).sort('acquisition.price_amount', -1).limit(5))\n",
    "acq\n"
   ]
  },
  {
   "cell_type": "markdown",
   "metadata": {},
   "source": [
    "### 14. Order the companies by their `founded year`, retrieving only their `name` and `founded year`."
   ]
  },
  {
   "cell_type": "code",
   "execution_count": 81,
   "metadata": {},
   "outputs": [
    {
     "data": {
      "text/plain": [
       "[{'name': 'Alstrasoft', 'founded_year': 1800},\n",
       " {'name': 'SmallWorlds', 'founded_year': 1800},\n",
       " {'name': 'US Army', 'founded_year': 1800},\n",
       " {'name': 'DuPont', 'founded_year': 1802},\n",
       " {'name': 'Bachmann Industries', 'founded_year': 1833}]"
      ]
     },
     "execution_count": 81,
     "metadata": {},
     "output_type": "execute_result"
    }
   ],
   "source": [
    "# Your Code\n",
    "proj = {'founded_year':1, 'name':1, '_id':0}\n",
    "condition = {'founded_year': {'$gt':0}}\n",
    "founded = list(collection.find(condition, proj).sort('founded_year', 1).limit(5))\n",
    "founded"
   ]
  },
  {
   "cell_type": "markdown",
   "metadata": {},
   "source": [
    "### 15. All the companies that have been founded on the first seven days of the month, including the seventh. Sort them by their `acquisition price` in a descending order. Limit the search to 10 documents."
   ]
  },
  {
   "cell_type": "code",
   "execution_count": 83,
   "metadata": {},
   "outputs": [
    {
     "data": {
      "text/plain": [
       "[{'_id': ObjectId('52cdef7d4bab8bd6752989a1'),\n",
       "  'name': 'Netscape',\n",
       "  'founded_day': 4,\n",
       "  'acquisition': {'price_amount': 4200000000}},\n",
       " {'_id': ObjectId('52cdef7c4bab8bd675297e89'),\n",
       "  'name': 'PayPal',\n",
       "  'founded_day': 1,\n",
       "  'acquisition': {'price_amount': 1500000000}},\n",
       " {'_id': ObjectId('52cdef7c4bab8bd675297efe'),\n",
       "  'name': 'Zappos',\n",
       "  'founded_day': 1,\n",
       "  'acquisition': {'price_amount': 1200000000}},\n",
       " {'_id': ObjectId('52cdef7c4bab8bd675297f0c'),\n",
       "  'name': 'Alibaba',\n",
       "  'founded_day': 1,\n",
       "  'acquisition': {'price_amount': 1000000000}},\n",
       " {'_id': ObjectId('52cdef7c4bab8bd675297d90'),\n",
       "  'name': 'Postini',\n",
       "  'founded_day': 2,\n",
       "  'acquisition': {'price_amount': 625000000}},\n",
       " {'_id': ObjectId('52cdef7c4bab8bd67529831c'),\n",
       "  'name': 'Danger',\n",
       "  'founded_day': 1,\n",
       "  'acquisition': {'price_amount': 500000000}},\n",
       " {'_id': ObjectId('52cdef7c4bab8bd675298651'),\n",
       "  'name': 'Clearwell Systems',\n",
       "  'founded_day': 6,\n",
       "  'acquisition': {'price_amount': 410000000}},\n",
       " {'_id': ObjectId('52cdef7d4bab8bd6752989b8'),\n",
       "  'name': 'PrimeSense',\n",
       "  'founded_day': 1,\n",
       "  'acquisition': {'price_amount': 345000000}},\n",
       " {'_id': ObjectId('52cdef7c4bab8bd675298207'),\n",
       "  'name': 'Amobee',\n",
       "  'founded_day': 1,\n",
       "  'acquisition': {'price_amount': 321000000}},\n",
       " {'_id': ObjectId('52cdef7c4bab8bd675297ef1'),\n",
       "  'name': 'BlueLithium',\n",
       "  'founded_day': 1,\n",
       "  'acquisition': {'price_amount': 300000000}}]"
      ]
     },
     "execution_count": 83,
     "metadata": {},
     "output_type": "execute_result"
    }
   ],
   "source": [
    "# Your Code\n",
    "proj = {'founded_day':1, 'name':1, 'acquisition.price_amount':1}\n",
    "condition = {'founded_day' : {'$lte': 7}}\n",
    "found_day = list(collection.find(condition, proj).sort('acquisition.price_amount', -1).limit(10))\n",
    "\n",
    "found_day\n"
   ]
  },
  {
   "cell_type": "markdown",
   "metadata": {},
   "source": [
    "### 16. All the companies on the 'web' `category` that have more than 4000 employees. Sort them by the amount of employees in ascending order."
   ]
  },
  {
   "cell_type": "code",
   "execution_count": 84,
   "metadata": {},
   "outputs": [
    {
     "data": {
      "text/plain": [
       "[{'_id': ObjectId('52cdef7c4bab8bd67529822a'),\n",
       "  'name': 'Expedia',\n",
       "  'number_of_employees': 4400},\n",
       " {'_id': ObjectId('52cdef7c4bab8bd675297e96'),\n",
       "  'name': 'AOL',\n",
       "  'number_of_employees': 8000},\n",
       " {'_id': ObjectId('52cdef7c4bab8bd675297ea4'),\n",
       "  'name': 'Webkinz',\n",
       "  'number_of_employees': 8657},\n",
       " {'_id': ObjectId('52cdef7c4bab8bd675297fcb'),\n",
       "  'name': 'Rakuten',\n",
       "  'number_of_employees': 10000},\n",
       " {'_id': ObjectId('52cdef7c4bab8bd67529834c'),\n",
       "  'name': 'Los Angeles Times Media Group',\n",
       "  'number_of_employees': 10000},\n",
       " {'_id': ObjectId('52cdef7d4bab8bd675299d5d'),\n",
       "  'name': 'Groupon',\n",
       "  'number_of_employees': 10000},\n",
       " {'_id': ObjectId('52cdef7c4bab8bd675297da3'),\n",
       "  'name': 'Yahoo!',\n",
       "  'number_of_employees': 13600},\n",
       " {'_id': ObjectId('52cdef7c4bab8bd675297d9b'),\n",
       "  'name': 'eBay',\n",
       "  'number_of_employees': 15000},\n",
       " {'_id': ObjectId('52cdef7c4bab8bd6752982a8'),\n",
       "  'name': 'Experian',\n",
       "  'number_of_employees': 15500}]"
      ]
     },
     "execution_count": 84,
     "metadata": {},
     "output_type": "execute_result"
    }
   ],
   "source": [
    "# Your Code\n",
    "proj = {'name':1, 'number_of_employees':1}\n",
    "condition = {\"category_code\" : \"web\"}\n",
    "condition2 = {'number_of_employees':{\"$gt\":4000}}\n",
    "numb = list(collection.find({'$and':[condition, condition2]},proj).sort('number_of_employees', 1).limit(10))\n",
    "numb\n"
   ]
  },
  {
   "cell_type": "markdown",
   "metadata": {},
   "source": [
    "### 17. All the companies whose acquisition amount is more than 10.000.000, and currency is 'EUR'."
   ]
  },
  {
   "cell_type": "code",
   "execution_count": 97,
   "metadata": {},
   "outputs": [
    {
     "data": {
      "text/plain": [
       "[{'_id': ObjectId('52cdef7c4bab8bd675297f02'),\n",
       "  'name': 'ZYB',\n",
       "  'permalink': 'zyb',\n",
       "  'crunchbase_url': 'http://www.crunchbase.com/company/zyb',\n",
       "  'homepage_url': 'http://zyb.com',\n",
       "  'blog_url': 'http://blog.zyb.com/',\n",
       "  'blog_feed_url': 'http://blog.zyb.com/index.php/feed/',\n",
       "  'twitter_username': None,\n",
       "  'category_code': 'mobile',\n",
       "  'number_of_employees': 25,\n",
       "  'founded_year': None,\n",
       "  'founded_month': None,\n",
       "  'founded_day': None,\n",
       "  'deadpooled_year': None,\n",
       "  'deadpooled_month': None,\n",
       "  'deadpooled_day': None,\n",
       "  'deadpooled_url': None,\n",
       "  'tag_list': 'mobile, social-networking, socialnetwork',\n",
       "  'alias_list': '',\n",
       "  'email_address': 'contact@zyb.com',\n",
       "  'phone_number': '',\n",
       "  'description': 'Mobile Social Networking',\n",
       "  'created_at': 'Wed Aug 22 05:14:51 UTC 2007',\n",
       "  'updated_at': 'Tue Jul 02 03:00:50 UTC 2013',\n",
       "  'overview': '<p>ZYB is a mobile phone utility and social networking site. ZYB started in 2005 as a european service to provide easy back-up services for mobile phones. Using this information, they have built a social networking platform based upon this data set. Given the importance of mobile phones in Europe, ZYB has built in Twitter like location based functions into the service. </p>\\n\\n<p>For more information please see this <a href=\"http://mobilecrunch.com/2006/06/06/mobilecrunch-exclusive-first-look-at-zyb-the-free-data-backup-and-contact-and-calendar-synchronizer-for-your-mobile/\" title=\"MobileCrunch\" rel=\"nofollow\">MobileCrunch</a> article from when ZYB launched.</p>',\n",
       "  'image': {'available_sizes': [[[32, 32],\n",
       "     'assets/images/resized/0000/4450/4450v3-max-150x150.png'],\n",
       "    [[32, 32], 'assets/images/resized/0000/4450/4450v3-max-250x250.png'],\n",
       "    [[32, 32], 'assets/images/resized/0000/4450/4450v3-max-450x450.png']],\n",
       "   'attribution': None},\n",
       "  'products': [{'name': 'ZYB | Phone', 'permalink': 'zyb-phone'},\n",
       "   {'name': 'ZYB | Life', 'permalink': 'zyb-life'}],\n",
       "  'relationships': [{'is_past': None,\n",
       "    'title': 'CEO and Co-Founder',\n",
       "    'person': {'first_name': 'Tommy',\n",
       "     'last_name': 'Ahlers',\n",
       "     'permalink': 'tommy-ahlers'}},\n",
       "   {'is_past': None,\n",
       "    'title': 'CTO',\n",
       "    'person': {'first_name': 'Patrick',\n",
       "     'last_name': 'Verdon',\n",
       "     'permalink': 'patrick-verdon'}},\n",
       "   {'is_past': False,\n",
       "    'title': '',\n",
       "    'person': {'first_name': 'Claus',\n",
       "     'last_name': 'Dahl',\n",
       "     'permalink': 'claus-dahl'}},\n",
       "   {'is_past': False,\n",
       "    'title': 'Product Director',\n",
       "    'person': {'first_name': 'Runar',\n",
       "     'last_name': 'Reistrup',\n",
       "     'permalink': 'runar-reistrup'}},\n",
       "   {'is_past': False,\n",
       "    'title': '',\n",
       "    'person': {'first_name': 'Morten',\n",
       "     'last_name': 'Just',\n",
       "     'permalink': 'morten-just'}}],\n",
       "  'competitions': [{'competitor': {'name': 'Twitter', 'permalink': 'twitter'}},\n",
       "   {'competitor': {'name': 'fring Ltd', 'permalink': 'fring'}},\n",
       "   {'competitor': {'name': 'Loopt', 'permalink': 'loopt'}},\n",
       "   {'competitor': {'name': 'NewACT', 'permalink': 'newact'}},\n",
       "   {'competitor': {'name': 'imity', 'permalink': 'imity'}},\n",
       "   {'competitor': {'name': 'Soocial', 'permalink': 'soocial'}},\n",
       "   {'competitor': {'name': 'fruux', 'permalink': 'fruux'}},\n",
       "   {'competitor': {'name': 'Contails', 'permalink': 'contails'}},\n",
       "   {'competitor': {'name': 'Memotoo', 'permalink': 'memotoo'}}],\n",
       "  'providerships': [{'title': '',\n",
       "    'is_past': True,\n",
       "    'provider': {'name': 'Six Degrees', 'permalink': 'six-degrees'}}],\n",
       "  'total_money_raised': '€3M',\n",
       "  'funding_rounds': [{'id': 389,\n",
       "    'round_code': 'a',\n",
       "    'source_url': '',\n",
       "    'source_description': '',\n",
       "    'raised_amount': 3000000,\n",
       "    'raised_currency_code': 'EUR',\n",
       "    'funded_year': 2006,\n",
       "    'funded_month': 9,\n",
       "    'funded_day': 1,\n",
       "    'investments': [{'company': None,\n",
       "      'financial_org': {'name': 'Nordic Venture Partners',\n",
       "       'permalink': 'nordic-venture-partners'},\n",
       "      'person': None}]},\n",
       "   {'id': 2124,\n",
       "    'round_code': 'angel',\n",
       "    'source_url': '',\n",
       "    'source_description': '',\n",
       "    'raised_amount': None,\n",
       "    'raised_currency_code': None,\n",
       "    'funded_year': 2005,\n",
       "    'funded_month': 1,\n",
       "    'funded_day': 1,\n",
       "    'investments': [{'company': None,\n",
       "      'financial_org': None,\n",
       "      'person': {'first_name': 'Morten',\n",
       "       'last_name': 'Lund',\n",
       "       'permalink': 'morten-lund'}}]}],\n",
       "  'investments': [],\n",
       "  'acquisition': {'price_amount': 31500000,\n",
       "   'price_currency_code': 'EUR',\n",
       "   'term_code': 'cash',\n",
       "   'source_url': 'http://www.techcrunch.com/2008/05/16/danish-mobile-social-network-zyb-acquired-by-vodafone-for-e315-million/',\n",
       "   'source_description': 'Danish Network ZYB Acquired By Vodafone For â‚¬31.5 million',\n",
       "   'acquired_year': 2008,\n",
       "   'acquired_month': 5,\n",
       "   'acquired_day': 16,\n",
       "   'acquiring_company': {'name': 'Vodafone', 'permalink': 'vodafone'}},\n",
       "  'acquisitions': [{'price_amount': None,\n",
       "    'price_currency_code': 'USD',\n",
       "    'term_code': None,\n",
       "    'source_url': 'http://www.techcrunch.com/2008/04/22/confirmed-zyb-bought-imity/',\n",
       "    'source_description': 'Confirmed: Zyb Bought Imity',\n",
       "    'acquired_year': 2008,\n",
       "    'acquired_month': 4,\n",
       "    'acquired_day': 22,\n",
       "    'company': {'name': 'imity', 'permalink': 'imity'}}],\n",
       "  'offices': [{'description': None,\n",
       "    'address1': 'Esromgade 15, 1-1',\n",
       "    'address2': None,\n",
       "    'zip_code': '2200',\n",
       "    'city': 'Copenhagen',\n",
       "    'state_code': None,\n",
       "    'country_code': 'DNK',\n",
       "    'latitude': 55.699123,\n",
       "    'longitude': 12.541484}],\n",
       "  'milestones': [],\n",
       "  'ipo': None,\n",
       "  'video_embeds': [],\n",
       "  'screenshots': [],\n",
       "  'external_links': [],\n",
       "  'partners': []},\n",
       " {'_id': ObjectId('52cdef7d4bab8bd675298bf3'),\n",
       "  'name': 'Apertio',\n",
       "  'permalink': 'apertio',\n",
       "  'crunchbase_url': 'http://www.crunchbase.com/company/apertio',\n",
       "  'homepage_url': 'http://www.apertio.com',\n",
       "  'blog_url': '',\n",
       "  'blog_feed_url': '',\n",
       "  'twitter_username': None,\n",
       "  'category_code': 'mobile',\n",
       "  'number_of_employees': None,\n",
       "  'founded_year': None,\n",
       "  'founded_month': None,\n",
       "  'founded_day': None,\n",
       "  'deadpooled_year': None,\n",
       "  'deadpooled_month': None,\n",
       "  'deadpooled_day': None,\n",
       "  'deadpooled_url': None,\n",
       "  'tag_list': '',\n",
       "  'alias_list': None,\n",
       "  'email_address': '',\n",
       "  'phone_number': '',\n",
       "  'description': None,\n",
       "  'created_at': 'Tue May 27 07:08:56 UTC 2008',\n",
       "  'updated_at': 'Fri Aug 28 23:39:22 UTC 2009',\n",
       "  'overview': '<p>Apertio One provides a single, open, subscriber-centric architecture for current and new generation operators. It aims to eliminate complexity and cost, dramatically reduce new service deployment time, and lay the foundation for IMS in networks.</p>',\n",
       "  'image': {'available_sizes': [[[150, 41],\n",
       "     'assets/images/resized/0001/9431/19431v1-max-150x150.png'],\n",
       "    [[197, 54], 'assets/images/resized/0001/9431/19431v1-max-250x250.png'],\n",
       "    [[197, 54], 'assets/images/resized/0001/9431/19431v1-max-450x450.png']],\n",
       "   'attribution': None},\n",
       "  'products': [],\n",
       "  'relationships': [{'is_past': True,\n",
       "    'title': 'VP Business Development',\n",
       "    'person': {'first_name': 'Wolfgang',\n",
       "     'last_name': 'Krause',\n",
       "     'permalink': 'wolfgang-krause'}},\n",
       "   {'is_past': True,\n",
       "    'title': 'Non-Exec Board Director',\n",
       "    'person': {'first_name': 'Cyril',\n",
       "     'last_name': 'Bertrand',\n",
       "     'permalink': 'cyril-bertrand'}}],\n",
       "  'competitions': [],\n",
       "  'providerships': [],\n",
       "  'total_money_raised': '$30M',\n",
       "  'funding_rounds': [{'id': 2405,\n",
       "    'round_code': 'b',\n",
       "    'source_url': 'http://www.apertio.com/news-and-events/press-release/1212',\n",
       "    'source_description': '',\n",
       "    'raised_amount': 30000000,\n",
       "    'raised_currency_code': 'USD',\n",
       "    'funded_year': 2006,\n",
       "    'funded_month': 2,\n",
       "    'funded_day': 6,\n",
       "    'investments': [{'company': None,\n",
       "      'financial_org': {'name': 'Add Partners', 'permalink': 'add-partners'},\n",
       "      'person': None},\n",
       "     {'company': None,\n",
       "      'financial_org': {'name': 'Deutsche Venture Capital',\n",
       "       'permalink': 'deutsche-venture-capital'},\n",
       "      'person': None},\n",
       "     {'company': None,\n",
       "      'financial_org': {'name': 'Eden Ventures', 'permalink': 'eden-ventures'},\n",
       "      'person': None},\n",
       "     {'company': None,\n",
       "      'financial_org': {'name': 'Motorola Solutions Venture Capital',\n",
       "       'permalink': 'motorola-solutions-venture-capital'},\n",
       "      'person': None},\n",
       "     {'company': None,\n",
       "      'financial_org': {'name': 'The Tokarz Group',\n",
       "       'permalink': 'the-tokarz-group'},\n",
       "      'person': None},\n",
       "     {'company': None,\n",
       "      'financial_org': {'name': 'T-Venture', 'permalink': 't-venture'},\n",
       "      'person': None}]}],\n",
       "  'investments': [],\n",
       "  'acquisition': {'price_amount': 140000000,\n",
       "   'price_currency_code': 'EUR',\n",
       "   'term_code': None,\n",
       "   'source_url': 'http://www.techcrunch.com/2008/01/03/nokia-siemens-acquires-apertio-for-e140m/',\n",
       "   'source_description': 'Nokia Siemens Acquires Apertio For â‚¬140m',\n",
       "   'acquired_year': 2008,\n",
       "   'acquired_month': 1,\n",
       "   'acquired_day': 3,\n",
       "   'acquiring_company': {'name': 'Nokia Siemens Networks',\n",
       "    'permalink': 'nokia-siemens-networks'}},\n",
       "  'acquisitions': [],\n",
       "  'offices': [{'description': None,\n",
       "    'address1': '',\n",
       "    'address2': '',\n",
       "    'zip_code': 'BS16 7AR',\n",
       "    'city': 'Bristol',\n",
       "    'state_code': None,\n",
       "    'country_code': 'GBR',\n",
       "    'latitude': 51.499708,\n",
       "    'longitude': -2.533334}],\n",
       "  'milestones': [],\n",
       "  'ipo': None,\n",
       "  'video_embeds': [],\n",
       "  'screenshots': [],\n",
       "  'external_links': [],\n",
       "  'partners': []},\n",
       " {'_id': ObjectId('52cdef7d4bab8bd675298f47'),\n",
       "  'name': 'Greenfield Online',\n",
       "  'permalink': 'greenfield-online',\n",
       "  'crunchbase_url': 'http://www.crunchbase.com/company/greenfield-online',\n",
       "  'homepage_url': 'http://www.greenfield.com/content/index.html',\n",
       "  'blog_url': '',\n",
       "  'blog_feed_url': '',\n",
       "  'twitter_username': '',\n",
       "  'category_code': 'public_relations',\n",
       "  'number_of_employees': None,\n",
       "  'founded_year': None,\n",
       "  'founded_month': None,\n",
       "  'founded_day': None,\n",
       "  'deadpooled_year': None,\n",
       "  'deadpooled_month': None,\n",
       "  'deadpooled_day': None,\n",
       "  'deadpooled_url': None,\n",
       "  'tag_list': '',\n",
       "  'alias_list': '',\n",
       "  'email_address': '',\n",
       "  'phone_number': '1-866-296-3049',\n",
       "  'description': 'Consumer Research Provider',\n",
       "  'created_at': 'Tue Jun 24 22:04:13 UTC 2008',\n",
       "  'updated_at': 'Sun Sep 16 21:00:26 UTC 2012',\n",
       "  'overview': '<p>Greenfield Online provides consumer attitudinal and product information, to consumers to help them make informed decisions about the products and services they wish to purchase; and, to marketers to enable them to better understand their customer.</p>',\n",
       "  'image': {'available_sizes': [[[111, 150],\n",
       "     'assets/images/resized/0002/0929/20929v5-max-150x150.jpg'],\n",
       "    [[186, 250], 'assets/images/resized/0002/0929/20929v5-max-250x250.jpg'],\n",
       "    [[335, 450], 'assets/images/resized/0002/0929/20929v5-max-450x450.jpg']],\n",
       "   'attribution': None},\n",
       "  'products': [],\n",
       "  'relationships': [{'is_past': False,\n",
       "    'title': 'Board of Directors',\n",
       "    'person': {'first_name': 'Charles',\n",
       "     'last_name': 'Stryker',\n",
       "     'permalink': 'charles-stryker'}},\n",
       "   {'is_past': True,\n",
       "    'title': 'Chairman',\n",
       "    'person': {'first_name': 'Peter',\n",
       "     'last_name': 'Sobiloff',\n",
       "     'permalink': 'peter-sobiloff'}},\n",
       "   {'is_past': True,\n",
       "    'title': 'CEO and President',\n",
       "    'person': {'first_name': 'Dean',\n",
       "     'last_name': 'Wiltse',\n",
       "     'permalink': 'dean-wiltse'}},\n",
       "   {'is_past': True,\n",
       "    'title': 'Senior Vice President, Business Development',\n",
       "    'person': {'first_name': 'Leigh',\n",
       "     'last_name': 'Brindeland Moore',\n",
       "     'permalink': 'leigh-brindeland-moore'}},\n",
       "   {'is_past': True,\n",
       "    'title': 'Business Dev Manager',\n",
       "    'person': {'first_name': 'Gregory',\n",
       "     'last_name': 'Husadzic',\n",
       "     'permalink': 'gregory-husadzic'}},\n",
       "   {'is_past': True,\n",
       "    'title': 'Board Member',\n",
       "    'person': {'first_name': 'Jeff',\n",
       "     'last_name': 'Horing',\n",
       "     'permalink': 'jeff-horing'}},\n",
       "   {'is_past': True,\n",
       "    'title': 'Investor',\n",
       "    'person': {'first_name': 'Nikitas',\n",
       "     'last_name': 'Koutoupes',\n",
       "     'permalink': 'nikitas-koutoupes'}},\n",
       "   {'is_past': True,\n",
       "    'title': 'Board Member',\n",
       "    'person': {'first_name': 'Larry',\n",
       "     'last_name': 'Handen',\n",
       "     'permalink': 'larry-handen'}}],\n",
       "  'competitions': [],\n",
       "  'providerships': [],\n",
       "  'total_money_raised': '$0',\n",
       "  'funding_rounds': [],\n",
       "  'investments': [],\n",
       "  'acquisition': {'price_amount': 40000000,\n",
       "   'price_currency_code': 'EUR',\n",
       "   'term_code': None,\n",
       "   'source_url': 'http://www.research-live.com/news/m-and-a/toluna-buys-greenfield-online-survey-business-for-$40m/4000346.article',\n",
       "   'source_description': 'Toluna buys Greenfield Online survey business for $40m',\n",
       "   'acquired_year': 2009,\n",
       "   'acquired_month': 6,\n",
       "   'acquired_day': 26,\n",
       "   'acquiring_company': {'name': 'Toluna', 'permalink': 'toluna'}},\n",
       "  'acquisitions': [{'price_amount': 154000000,\n",
       "    'price_currency_code': 'USD',\n",
       "    'term_code': 'cash_and_stock',\n",
       "    'source_url': 'http://www.prnewswire.co.uk/cgi/news/release?id=143552',\n",
       "    'source_description': 'Greenfield Online Acquires CIAO AG for US$154 Million, Increases Share of European Survey Solutions Market',\n",
       "    'acquired_year': 2005,\n",
       "    'acquired_month': 4,\n",
       "    'acquired_day': 7,\n",
       "    'company': {'name': 'Ciao', 'permalink': 'ciao'}}],\n",
       "  'offices': [{'description': '',\n",
       "    'address1': '21 River Rd',\n",
       "    'address2': '',\n",
       "    'zip_code': '06897',\n",
       "    'city': 'Wilton',\n",
       "    'state_code': 'CT',\n",
       "    'country_code': 'USA',\n",
       "    'latitude': None,\n",
       "    'longitude': None}],\n",
       "  'milestones': [],\n",
       "  'ipo': None,\n",
       "  'video_embeds': [],\n",
       "  'screenshots': [{'available_sizes': [[[150, 87],\n",
       "      'assets/images/resized/0005/4274/54274v1-max-150x150.jpg'],\n",
       "     [[250, 146], 'assets/images/resized/0005/4274/54274v1-max-250x250.jpg'],\n",
       "     [[450, 263], 'assets/images/resized/0005/4274/54274v1-max-450x450.jpg']],\n",
       "    'attribution': None}],\n",
       "  'external_links': [{'external_url': 'http://www.pr-inside.com/greenfield-online-enters-into-definitive-agreement-r644915.htm',\n",
       "    'title': 'Greenfield Online Enters into Definitive Agreement to be Acquired by Quadrangle'}],\n",
       "  'partners': []},\n",
       " {'_id': ObjectId('52cdef7e4bab8bd67529a536'),\n",
       "  'name': 'Webedia',\n",
       "  'permalink': 'webedia',\n",
       "  'crunchbase_url': 'http://www.crunchbase.com/company/webedia',\n",
       "  'homepage_url': 'http://purepeople.com',\n",
       "  'blog_url': '',\n",
       "  'blog_feed_url': 'http://www.purepeople.com/rss',\n",
       "  'twitter_username': 'purepeople',\n",
       "  'category_code': 'web',\n",
       "  'number_of_employees': 50,\n",
       "  'founded_year': 2007,\n",
       "  'founded_month': 11,\n",
       "  'founded_day': 1,\n",
       "  'deadpooled_year': None,\n",
       "  'deadpooled_month': None,\n",
       "  'deadpooled_day': None,\n",
       "  'deadpooled_url': None,\n",
       "  'tag_list': 'web, news, people',\n",
       "  'alias_list': '',\n",
       "  'email_address': 'redaction@purepeople.fr',\n",
       "  'phone_number': '+33156799102',\n",
       "  'description': '',\n",
       "  'created_at': 'Sat Nov 29 18:18:06 UTC 2008',\n",
       "  'updated_at': 'Fri May 24 07:18:38 UTC 2013',\n",
       "  'overview': '<p>The reference site on the news of the stars to brands\\npositioning</p>\\n\\n<p>With 80 news per day Purepeople.com is the most comprehensive website on the French news stars.</p>\\n\\n<p>Disney Co is bound by a strict editorial policy regarding the respect for private life and the image of stars.</p>\\n\\n<p>The information provided by Purepeople.com intersects three worlds:</p>\\n\\n<pre><code> The Entertainment: with lots of information on the Cinema, the news of shootings, the cult TV series, the highlights of PAF, music news, coverage of major concerts. In short, the news of the stars where they exercise their talents.\\n Glamour: with significant resources deployed to cover major events (Cannes, galas, large-type &amp;amp;#8220;Oscar&amp;amp;#8221; and &amp;amp;#8220;Caesar&amp;amp;#8221; parties, premieres and movie theater &amp;amp;#8230;). The news of the &amp;amp;#8220;beautiful people&amp;amp;#8221; in representation.\\n The &amp;amp;#8220;slices of life&amp;amp;#8221; pink book, weddings, celebrity looks &amp;amp;#8230; The part of their private sphere that wish Stars show their public &amp;amp;#8230;\\n</code></pre>\\n\\n<p>audience</p>\\n\\n<p>Disney Co is a leading site on the target women, youth, CSP +.</p>\\n\\n<p>Purepeople.com: A powerful support for all brands and advertisers who seek to communicate with a target of CSP + young women by partnering with quality content using the prescription strength of stars.\\nthe Editors</p>',\n",
       "  'image': {'available_sizes': [[[150, 37],\n",
       "     'assets/images/resized/0004/0742/40742v1-max-150x150.png'],\n",
       "    [[250, 63], 'assets/images/resized/0004/0742/40742v1-max-250x250.png'],\n",
       "    [[324, 82], 'assets/images/resized/0004/0742/40742v1-max-450x450.png']],\n",
       "   'attribution': None},\n",
       "  'products': [],\n",
       "  'relationships': [{'is_past': False,\n",
       "    'title': 'Board',\n",
       "    'person': {'first_name': 'Alain',\n",
       "     'last_name': 'Caffi',\n",
       "     'permalink': 'alain-caffi'}},\n",
       "   {'is_past': True,\n",
       "    'title': 'Java Programmer',\n",
       "    'person': {'first_name': 'Siim',\n",
       "     'last_name': 'Raud',\n",
       "     'permalink': 'siim-raud'}},\n",
       "   {'is_past': True,\n",
       "    'title': 'Owner',\n",
       "    'person': {'first_name': 'Cristian',\n",
       "     'last_name': 'Parrino',\n",
       "     'permalink': 'cristian-parrino'}}],\n",
       "  'competitions': [],\n",
       "  'providerships': [],\n",
       "  'total_money_raised': '$0',\n",
       "  'funding_rounds': [],\n",
       "  'investments': [],\n",
       "  'acquisition': {'price_amount': 70000000,\n",
       "   'price_currency_code': 'EUR',\n",
       "   'term_code': None,\n",
       "   'source_url': 'http://www.clipperton.net/transactions/webedia/',\n",
       "   'source_description': 'Webedia, one of the leading digital media groups in France, is acquired by Fimalac Group in a €70m+ transaction.',\n",
       "   'acquired_year': 2013,\n",
       "   'acquired_month': 9,\n",
       "   'acquired_day': 12,\n",
       "   'acquiring_company': {'name': 'Fimalac Group',\n",
       "    'permalink': 'fimalac-group'}},\n",
       "  'acquisitions': [],\n",
       "  'offices': [{'description': '',\n",
       "    'address1': '',\n",
       "    'address2': '',\n",
       "    'zip_code': '',\n",
       "    'city': 'Paris',\n",
       "    'state_code': None,\n",
       "    'country_code': 'FRA',\n",
       "    'latitude': 48.856614,\n",
       "    'longitude': 2.3522219}],\n",
       "  'milestones': [],\n",
       "  'ipo': None,\n",
       "  'video_embeds': [],\n",
       "  'screenshots': [{'available_sizes': [[[150, 93],\n",
       "      'assets/images/resized/0004/0743/40743v1-max-150x150.png'],\n",
       "     [[250, 155], 'assets/images/resized/0004/0743/40743v1-max-250x250.png'],\n",
       "     [[450, 279], 'assets/images/resized/0004/0743/40743v1-max-450x450.png']],\n",
       "    'attribution': None}],\n",
       "  'external_links': [],\n",
       "  'partners': []},\n",
       " {'_id': ObjectId('52cdef7e4bab8bd67529a729'),\n",
       "  'name': 'Wayfinder',\n",
       "  'permalink': 'wayfinder',\n",
       "  'crunchbase_url': 'http://www.crunchbase.com/company/wayfinder',\n",
       "  'homepage_url': 'http://www.wayfinder.com',\n",
       "  'blog_url': 'http://www.wayfinder.com/?id=3848&lang=en-US',\n",
       "  'blog_feed_url': 'http://www.wayfinder.com/?tid=customrssfeeder&rid=5131',\n",
       "  'twitter_username': None,\n",
       "  'category_code': None,\n",
       "  'number_of_employees': None,\n",
       "  'founded_year': None,\n",
       "  'founded_month': None,\n",
       "  'founded_day': None,\n",
       "  'deadpooled_year': None,\n",
       "  'deadpooled_month': None,\n",
       "  'deadpooled_day': None,\n",
       "  'deadpooled_url': None,\n",
       "  'tag_list': '',\n",
       "  'alias_list': '',\n",
       "  'email_address': '',\n",
       "  'phone_number': '',\n",
       "  'description': None,\n",
       "  'created_at': 'Tue Dec 09 07:51:07 UTC 2008',\n",
       "  'updated_at': 'Sat Dec 13 14:30:41 UTC 2008',\n",
       "  'overview': '<p>Wayfinder is a supplier of innovative location and navigation services for mobile phones. User-friendliness, the core attribute of all Wayfinderâ€™s applications and services, makes it easy for consumers to take advantage of cutting edge innovation for both business and leisure use.</p>\\n\\n<p>Wayfinderâ€™s portfolio of location applications includes the flagship product, Wayfinder Navigator as well as successful products such as Wayfinder Earth, Wayfinder Access, the new Wayfinder Active. All of the above services are available in 19 languages to a steadily growing base of unique users that now exceeds 2 million global users.</p>\\n\\n<p>Clients and partners include the mobile phone manufacturers Sony Ericsson, Nokia and Blackberry (RIM), as well as the mobile phone operators Airtel, Telenor, Telefonica, Vodafone, O2, AT&amp;T, Orange, A1 Mobilkom Austria, 3, SFR and Tele2. The family of partners also includes strategic content providers such as Tele Atlas, Navteq, MapmyIndia, Dmapas and Wcities.</p>\\n\\n<p>Wayfinder has been listed on the NGM Equity Stock Exchange since October 21, 2005. The head office is located in Stockholm, Sweden.</p>\\n\\n<p>Source: wayfinder.com</p>',\n",
       "  'image': {'available_sizes': [[[150, 34],\n",
       "     'assets/images/resized/0003/1332/31332v1-max-150x150.png'],\n",
       "    [[250, 57], 'assets/images/resized/0003/1332/31332v1-max-250x250.png'],\n",
       "    [[263, 60], 'assets/images/resized/0003/1332/31332v1-max-450x450.png']],\n",
       "   'attribution': None},\n",
       "  'products': [],\n",
       "  'relationships': [{'is_past': False,\n",
       "    'title': 'Investor',\n",
       "    'person': {'first_name': 'Jeff',\n",
       "     'last_name': 'Wald',\n",
       "     'permalink': 'jeff-wald'}},\n",
       "   {'is_past': True,\n",
       "    'title': 'SVP Sales and Marketing',\n",
       "    'person': {'first_name': 'Bob',\n",
       "     'last_name': 'Ilievski',\n",
       "     'permalink': 'bob-ilievski'}}],\n",
       "  'competitions': [],\n",
       "  'providerships': [],\n",
       "  'total_money_raised': '$0',\n",
       "  'funding_rounds': [],\n",
       "  'investments': [],\n",
       "  'acquisition': {'price_amount': 24000000,\n",
       "   'price_currency_code': 'EUR',\n",
       "   'term_code': None,\n",
       "   'source_url': 'http://www.techcrunch.com/2008/12/08/vodafone-acquires-swedens-wayfinder-for-e24-million/',\n",
       "   'source_description': \"Vodafone Acquires Sweden's WayFinder For â‚¬24 Million\",\n",
       "   'acquired_year': 2008,\n",
       "   'acquired_month': 12,\n",
       "   'acquired_day': 8,\n",
       "   'acquiring_company': {'name': 'Vodafone', 'permalink': 'vodafone'}},\n",
       "  'acquisitions': [],\n",
       "  'offices': [{'description': '',\n",
       "    'address1': '',\n",
       "    'address2': '',\n",
       "    'zip_code': '',\n",
       "    'city': 'Stockholm',\n",
       "    'state_code': None,\n",
       "    'country_code': 'SWE',\n",
       "    'latitude': 59.3327881,\n",
       "    'longitude': 18.0644881}],\n",
       "  'milestones': [],\n",
       "  'ipo': None,\n",
       "  'video_embeds': [],\n",
       "  'screenshots': [],\n",
       "  'external_links': [],\n",
       "  'partners': []}]"
      ]
     },
     "execution_count": 97,
     "metadata": {},
     "output_type": "execute_result"
    }
   ],
   "source": [
    "# Your Code\n",
    "proj1 = {'name':1, 'acquisition.price_amount':1, 'acquistion.price_currency_code':1 }\n",
    "cond1 = {'acquisition.price_currency_code': \"EUR\"}\n",
    "cond2 = {'acquisition.price_amount' : {'$gt':10000000}}\n",
    "tenmill = list(collection.find({'$and':[cond1, cond2]}).limit(5))\n",
    "tenmill"
   ]
  },
  {
   "cell_type": "markdown",
   "metadata": {},
   "source": [
    "### 18. All the companies that have been acquired on the first trimester of the year. Limit the search to 10 companies, and retrieve only their `name` and `acquisition` fields."
   ]
  },
  {
   "cell_type": "code",
   "execution_count": 102,
   "metadata": {},
   "outputs": [
    {
     "data": {
      "text/plain": [
       "[{'name': 'Kyte',\n",
       "  'acquisition': {'price_amount': None,\n",
       "   'price_currency_code': 'USD',\n",
       "   'term_code': None,\n",
       "   'source_url': 'http://techcrunch.com/2011/01/31/exclusive-kit-digital-acquires-kickapps-kewego-and-kyte-for-77-2-million/',\n",
       "   'source_description': 'KIT digital Acquires KickApps, Kewego AND Kyte For $77.2 Million',\n",
       "   'acquired_year': 2011,\n",
       "   'acquired_month': 1,\n",
       "   'acquired_day': 31,\n",
       "   'acquiring_company': {'name': 'KIT digital', 'permalink': 'kit-digital'}}},\n",
       " {'name': 'NetRatings',\n",
       "  'acquisition': {'price_amount': 327000000,\n",
       "   'price_currency_code': 'USD',\n",
       "   'term_code': 'cash',\n",
       "   'source_url': 'http://login.vnuemedia.com/hr/login/login_subscribe.jsp?id=0oqDem1gYIfIclz9i2%2Ffqj5NxCp2AC5DPbVnyT2da8GyV2mXjasabE128n69OrmcAh52%2FGE3pSG%2F%0AEKRYD9vh9EhrJrxukmUzh532fSMTZXL42gwPB80UWVtF1NwJ5UZSM%2BCkLU1mpYBoHFgiH%2Fi0f6Ax%0A9yMIVxt47t%2BHamhEQ0nkOEK24L',\n",
       "   'source_description': 'Nielsen buys rest of NetRatings',\n",
       "   'acquired_year': 2007,\n",
       "   'acquired_month': 2,\n",
       "   'acquired_day': None,\n",
       "   'acquiring_company': {'name': 'Nielsen', 'permalink': 'nielsen'}}},\n",
       " {'name': 'blogTV',\n",
       "  'acquisition': {'price_amount': None,\n",
       "   'price_currency_code': 'USD',\n",
       "   'term_code': None,\n",
       "   'source_url': 'http://techcrunch.com/2013/03/13/younow-buys-blogtv/',\n",
       "   'source_description': 'Live Social Video Network YouNow Acquires Streaming Service BlogTV',\n",
       "   'acquired_year': 2013,\n",
       "   'acquired_month': 3,\n",
       "   'acquired_day': 13,\n",
       "   'acquiring_company': {'name': 'YouNow', 'permalink': 'younow'}}},\n",
       " {'name': 'Livestream',\n",
       "  'acquisition': {'price_amount': None,\n",
       "   'price_currency_code': 'USD',\n",
       "   'term_code': 'cash_and_stock',\n",
       "   'source_url': '',\n",
       "   'source_description': 'company',\n",
       "   'acquired_year': 2008,\n",
       "   'acquired_month': 1,\n",
       "   'acquired_day': 1,\n",
       "   'acquiring_company': {'name': 'Adviqo', 'permalink': 'adviqo'}}},\n",
       " {'name': 'iContact',\n",
       "  'acquisition': {'price_amount': 169000000,\n",
       "   'price_currency_code': 'USD',\n",
       "   'term_code': 'cash_and_stock',\n",
       "   'source_url': 'http://techcrunch.com/2012/02/28/vocus-buys-email-marketing-company-icontact-for-169-million/',\n",
       "   'source_description': 'Vocus Buys Email Marketing Company iContact For $169 Million',\n",
       "   'acquired_year': 2012,\n",
       "   'acquired_month': 2,\n",
       "   'acquired_day': 28,\n",
       "   'acquiring_company': {'name': 'Vocus', 'permalink': 'vocus'}}},\n",
       " {'name': 'Coghead',\n",
       "  'acquisition': {'price_amount': None,\n",
       "   'price_currency_code': 'USD',\n",
       "   'term_code': None,\n",
       "   'source_url': 'http://www.techcrunch.com/2009/02/19/sap-acquires-cogheads-technology-as-it-looks-towards-the-cloud/',\n",
       "   'source_description': 'SAP Acquires Cogheadâ€™s Technology As It Looks Towards The Cloud',\n",
       "   'acquired_year': 2009,\n",
       "   'acquired_month': 2,\n",
       "   'acquired_day': 19,\n",
       "   'acquiring_company': {'name': 'SAP', 'permalink': 'sap'}}},\n",
       " {'name': 'Dailymotion',\n",
       "  'acquisition': {'price_amount': 168000000,\n",
       "   'price_currency_code': 'USD',\n",
       "   'term_code': None,\n",
       "   'source_url': 'http://techcrunch.com/2013/02/22/orange-acquired-dailymotion-for-168-million-by-buying-out-the-remaining-51-stake/',\n",
       "   'source_description': 'Orange Acquired Dailymotion For $168 Million By Buying Out Remaining 51% Stake [Update: Orange Confirms]',\n",
       "   'acquired_year': 2013,\n",
       "   'acquired_month': 2,\n",
       "   'acquired_day': 22,\n",
       "   'acquiring_company': {'name': 'Orange', 'permalink': 'orange'}}},\n",
       " {'name': 'Netvibes',\n",
       "  'acquisition': {'price_amount': None,\n",
       "   'price_currency_code': 'USD',\n",
       "   'term_code': None,\n",
       "   'source_url': 'http://www.marketwatch.com/story/dassault-systemes-acquires-netvibes-2012-02-09',\n",
       "   'source_description': 'Dassault Systemes Acquires Netvibes',\n",
       "   'acquired_year': 2012,\n",
       "   'acquired_month': 2,\n",
       "   'acquired_day': 9,\n",
       "   'acquiring_company': {'name': 'Dassault Systemes',\n",
       "    'permalink': 'dassault'}}},\n",
       " {'name': 'Flickr',\n",
       "  'acquisition': {'price_amount': None,\n",
       "   'price_currency_code': 'USD',\n",
       "   'term_code': 'cash_and_stock',\n",
       "   'source_url': 'http://news.cnet.com/Yahoo-buys-photo-sharing-site-Flickr/2100-1038_3-5627640.html?tag=mncol;txt',\n",
       "   'source_description': 'CNET',\n",
       "   'acquired_year': 2005,\n",
       "   'acquired_month': 3,\n",
       "   'acquired_day': None,\n",
       "   'acquiring_company': {'name': 'Yahoo!', 'permalink': 'yahoo'}}},\n",
       " {'name': 'BabyCenter',\n",
       "  'acquisition': {'price_amount': None,\n",
       "   'price_currency_code': 'USD',\n",
       "   'term_code': None,\n",
       "   'source_url': 'http://www.investor.jnj.com/releasedetail.cfm?releaseid=63836',\n",
       "   'source_description': 'Johnson & Johnson Acquires BabyCenter From eToys, Inc. Leading Online Destination for Parents Plans for Continued Expansion of Operations',\n",
       "   'acquired_year': 2001,\n",
       "   'acquired_month': 3,\n",
       "   'acquired_day': 2,\n",
       "   'acquiring_company': {'name': 'Johnson & Johnson',\n",
       "    'permalink': 'johnson-johnson'}}}]"
      ]
     },
     "execution_count": 102,
     "metadata": {},
     "output_type": "execute_result"
    }
   ],
   "source": [
    "# Your Code\n",
    "proj1 = {'name':1, 'acquisition':1, '_id':0}\n",
    "condition2 = {'acquisition.acquired_month' : {'$lte': 3}}\n",
    "first = list(collection.find(condition2, proj1).limit(10))\n",
    "first"
   ]
  },
  {
   "cell_type": "markdown",
   "metadata": {},
   "source": [
    "# Bonus\n",
    "### 19. All the companies that have been founded between 2000 and 2010, but have not been acquired before 2011."
   ]
  },
  {
   "cell_type": "code",
   "execution_count": 105,
   "metadata": {},
   "outputs": [
    {
     "data": {
      "text/plain": [
       "[{'name': 'Wetpaint',\n",
       "  'acquisition': {'price_amount': 30000000,\n",
       "   'price_currency_code': 'USD',\n",
       "   'term_code': 'cash_and_stock',\n",
       "   'source_url': 'http://allthingsd.com/20131216/viggle-tries-to-bulk-up-its-social-tv-business-by-buying-wetpaint/?mod=atdtweet',\n",
       "   'source_description': ' Viggle Tries to Bulk Up Its Social TV Business by Buying Wetpaint',\n",
       "   'acquired_year': 2013,\n",
       "   'acquired_month': 12,\n",
       "   'acquired_day': 16,\n",
       "   'acquiring_company': {'name': 'Viggle', 'permalink': 'viggle'}}},\n",
       " {'name': 'Digg',\n",
       "  'acquisition': {'price_amount': 500000,\n",
       "   'price_currency_code': 'USD',\n",
       "   'term_code': None,\n",
       "   'source_url': 'http://techcrunch.com/2012/07/12/betaworks-acquires-digg/',\n",
       "   'source_description': 'Betaworks Acquires Digg (TechCrunch)',\n",
       "   'acquired_year': 2012,\n",
       "   'acquired_month': 7,\n",
       "   'acquired_day': 12,\n",
       "   'acquiring_company': {'name': 'betaworks', 'permalink': 'betaworks'}}},\n",
       " {'name': 'Geni',\n",
       "  'acquisition': {'price_amount': None,\n",
       "   'price_currency_code': 'USD',\n",
       "   'term_code': None,\n",
       "   'source_url': 'http://techcrunch.com/2012/11/28/all-in-the-family-myheritage-buys-former-yammer-stablemate-geni-com-raises-25m/',\n",
       "   'source_description': 'MyHeritage acquires Geni and $25M to build family tree of the whole world',\n",
       "   'acquired_year': 2012,\n",
       "   'acquired_month': 11,\n",
       "   'acquired_day': 28,\n",
       "   'acquiring_company': {'name': 'MyHeritage', 'permalink': 'myheritage'}}},\n",
       " {'name': 'blogTV',\n",
       "  'acquisition': {'price_amount': None,\n",
       "   'price_currency_code': 'USD',\n",
       "   'term_code': None,\n",
       "   'source_url': 'http://techcrunch.com/2013/03/13/younow-buys-blogtv/',\n",
       "   'source_description': 'Live Social Video Network YouNow Acquires Streaming Service BlogTV',\n",
       "   'acquired_year': 2013,\n",
       "   'acquired_month': 3,\n",
       "   'acquired_day': 13,\n",
       "   'acquiring_company': {'name': 'YouNow', 'permalink': 'younow'}}},\n",
       " {'name': 'Revision3',\n",
       "  'acquisition': {'price_amount': 30000000,\n",
       "   'price_currency_code': 'USD',\n",
       "   'term_code': None,\n",
       "   'source_url': 'http://allthingsd.com/20120503/discovery-gets-a-web-video-arm-courtesy-of-revision-3/',\n",
       "   'source_description': 'Discovery Gets a Web Video Arm, Courtesy of Revision3',\n",
       "   'acquired_year': 2012,\n",
       "   'acquired_month': 5,\n",
       "   'acquired_day': 3,\n",
       "   'acquiring_company': {'name': 'Discovery Communications',\n",
       "    'permalink': 'discoverycommunications'}}},\n",
       " {'name': 'iContact',\n",
       "  'acquisition': {'price_amount': 169000000,\n",
       "   'price_currency_code': 'USD',\n",
       "   'term_code': 'cash_and_stock',\n",
       "   'source_url': 'http://techcrunch.com/2012/02/28/vocus-buys-email-marketing-company-icontact-for-169-million/',\n",
       "   'source_description': 'Vocus Buys Email Marketing Company iContact For $169 Million',\n",
       "   'acquired_year': 2012,\n",
       "   'acquired_month': 2,\n",
       "   'acquired_day': 28,\n",
       "   'acquiring_company': {'name': 'Vocus', 'permalink': 'vocus'}}},\n",
       " {'name': 'Mashery',\n",
       "  'acquisition': {'price_amount': None,\n",
       "   'price_currency_code': 'USD',\n",
       "   'term_code': None,\n",
       "   'source_url': 'http://allthingsd.com/20130417/intel-acquires-api-manager-mashery/',\n",
       "   'source_description': 'Intel Acquires API Manager Mashery',\n",
       "   'acquired_year': 2013,\n",
       "   'acquired_month': 4,\n",
       "   'acquired_day': 17,\n",
       "   'acquiring_company': {'name': 'Intel', 'permalink': 'intel'}}},\n",
       " {'name': 'Dailymotion',\n",
       "  'acquisition': {'price_amount': 168000000,\n",
       "   'price_currency_code': 'USD',\n",
       "   'term_code': None,\n",
       "   'source_url': 'http://techcrunch.com/2013/02/22/orange-acquired-dailymotion-for-168-million-by-buying-out-the-remaining-51-stake/',\n",
       "   'source_description': 'Orange Acquired Dailymotion For $168 Million By Buying Out Remaining 51% Stake [Update: Orange Confirms]',\n",
       "   'acquired_year': 2013,\n",
       "   'acquired_month': 2,\n",
       "   'acquired_day': 22,\n",
       "   'acquiring_company': {'name': 'Orange', 'permalink': 'orange'}}},\n",
       " {'name': 'KickApps',\n",
       "  'acquisition': {'price_amount': None,\n",
       "   'price_currency_code': 'USD',\n",
       "   'term_code': None,\n",
       "   'source_url': 'http://thenextweb.com/insider/2012/12/12/social-software-firm-kickapps-gets-acquired-again-this-time-by-perfect-sense-digital/',\n",
       "   'source_description': 'Social software platform KickApps gets acquired (again), this time by Perfect Sense Digital',\n",
       "   'acquired_year': 2012,\n",
       "   'acquired_month': 12,\n",
       "   'acquired_day': 12,\n",
       "   'acquiring_company': {'name': 'Perfect Sense Digital',\n",
       "    'permalink': 'perfect-sense-digital'}}},\n",
       " {'name': 'Netvibes',\n",
       "  'acquisition': {'price_amount': None,\n",
       "   'price_currency_code': 'USD',\n",
       "   'term_code': None,\n",
       "   'source_url': 'http://www.marketwatch.com/story/dassault-systemes-acquires-netvibes-2012-02-09',\n",
       "   'source_description': 'Dassault Systemes Acquires Netvibes',\n",
       "   'acquired_year': 2012,\n",
       "   'acquired_month': 2,\n",
       "   'acquired_day': 9,\n",
       "   'acquiring_company': {'name': 'Dassault Systemes',\n",
       "    'permalink': 'dassault'}}}]"
      ]
     },
     "execution_count": 105,
     "metadata": {},
     "output_type": "execute_result"
    }
   ],
   "source": [
    "# Your Code\n",
    "cond1 = {'founded_year': {'$gt':2000}}\n",
    "cond = {'founded_year': {'$lt':2010}}\n",
    "cond3 = {'acquisition.acquired_year': {'$gt': 2011}}\n",
    "first = list(collection.find({'$and': [cond1, cond, cond3]}, proj1).limit(10))\n",
    "first"
   ]
  },
  {
   "cell_type": "markdown",
   "metadata": {},
   "source": [
    "### 20. All the companies that have been 'deadpooled' after the third year."
   ]
  },
  {
   "cell_type": "code",
   "execution_count": 112,
   "metadata": {},
   "outputs": [
    {
     "data": {
      "text/plain": [
       "[{'_id': ObjectId('52cdef7c4bab8bd675297d8f'),\n",
       "  'name': 'Omnidrive',\n",
       "  'deadpooled_year': 2008},\n",
       " {'_id': ObjectId('52cdef7c4bab8bd675297da0'),\n",
       "  'name': 'Babelgum',\n",
       "  'deadpooled_year': 2013},\n",
       " {'_id': ObjectId('52cdef7c4bab8bd675297daa'),\n",
       "  'name': 'Sparter',\n",
       "  'deadpooled_year': 2008},\n",
       " {'_id': ObjectId('52cdef7c4bab8bd675297dae'),\n",
       "  'name': 'Thoof',\n",
       "  'deadpooled_year': 2013},\n",
       " {'_id': ObjectId('52cdef7c4bab8bd675297db3'),\n",
       "  'name': 'Mercora',\n",
       "  'deadpooled_year': 2008},\n",
       " {'_id': ObjectId('52cdef7c4bab8bd675297db6'),\n",
       "  'name': 'Wesabe',\n",
       "  'deadpooled_year': 2010},\n",
       " {'_id': ObjectId('52cdef7c4bab8bd675297db7'),\n",
       "  'name': 'Jangl SMS',\n",
       "  'deadpooled_year': 2008},\n",
       " {'_id': ObjectId('52cdef7c4bab8bd675297dbe'),\n",
       "  'name': 'Stickam',\n",
       "  'deadpooled_year': 2013},\n",
       " {'_id': ObjectId('52cdef7c4bab8bd675297dcc'),\n",
       "  'name': 'AllPeers',\n",
       "  'deadpooled_year': 2008},\n",
       " {'_id': ObjectId('52cdef7c4bab8bd675297dd4'),\n",
       "  'name': 'EQO',\n",
       "  'deadpooled_year': 2012}]"
      ]
     },
     "execution_count": 112,
     "metadata": {},
     "output_type": "execute_result"
    }
   ],
   "source": [
    "# Your Code\n",
    "proj = {'name': 1, 'deadpooled_year':1}\n",
    "cond = {'deadpooled_year': {'$gt':3}}\n",
    "list(collection.find(cond, proj).limit(10))\n",
    "\n"
   ]
  },
  {
   "cell_type": "code",
   "execution_count": null,
   "metadata": {},
   "outputs": [],
   "source": []
  }
 ],
 "metadata": {
  "kernelspec": {
   "display_name": "Python 3",
   "language": "python",
   "name": "python3"
  },
  "language_info": {
   "codemirror_mode": {
    "name": "ipython",
    "version": 3
   },
   "file_extension": ".py",
   "mimetype": "text/x-python",
   "name": "python",
   "nbconvert_exporter": "python",
   "pygments_lexer": "ipython3",
   "version": "3.8.5"
  }
 },
 "nbformat": 4,
 "nbformat_minor": 2
}
